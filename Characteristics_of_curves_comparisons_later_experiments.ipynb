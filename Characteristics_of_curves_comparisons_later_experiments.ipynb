{
  "cells": [
    {
      "cell_type": "code",
      "execution_count": 1,
      "id": "6507a9fc",
      "metadata": {
        "colab": {
          "base_uri": "https://localhost:8080/"
        },
        "id": "6507a9fc",
        "outputId": "b02d46fe-3fd6-4680-e3df-ac93e0f278d3"
      },
      "outputs": [
        {
          "output_type": "stream",
          "name": "stdout",
          "text": [
            "Collecting FlowCal\n",
            "  Downloading FlowCal-1.3.0.tar.gz (82 kB)\n",
            "\u001b[2K     \u001b[90m━━━━━━━━━━━━━━━━━━━━━━━━━━━━━━━━━━━━━━━━\u001b[0m \u001b[32m82.3/82.3 kB\u001b[0m \u001b[31m654.4 kB/s\u001b[0m eta \u001b[36m0:00:00\u001b[0m\n",
            "\u001b[?25h  Preparing metadata (setup.py) ... \u001b[?25l\u001b[?25hdone\n",
            "Requirement already satisfied: packaging>=16.8 in /usr/local/lib/python3.10/dist-packages (from FlowCal) (23.2)\n",
            "Requirement already satisfied: six>=1.10.0 in /usr/local/lib/python3.10/dist-packages (from FlowCal) (1.16.0)\n",
            "Requirement already satisfied: numpy>=1.9.0 in /usr/local/lib/python3.10/dist-packages (from FlowCal) (1.23.5)\n",
            "Requirement already satisfied: scipy>=0.19.0 in /usr/local/lib/python3.10/dist-packages (from FlowCal) (1.11.4)\n",
            "Requirement already satisfied: matplotlib>=2.0.0 in /usr/local/lib/python3.10/dist-packages (from FlowCal) (3.7.1)\n",
            "Requirement already satisfied: scikit-image>=0.10.0 in /usr/local/lib/python3.10/dist-packages (from FlowCal) (0.19.3)\n",
            "Requirement already satisfied: scikit-learn>=0.16.0 in /usr/local/lib/python3.10/dist-packages (from FlowCal) (1.2.2)\n",
            "Requirement already satisfied: pandas>=0.23.0 in /usr/local/lib/python3.10/dist-packages (from FlowCal) (1.5.3)\n",
            "Collecting xlrd<2.0.0,>=0.9.2 (from FlowCal)\n",
            "  Downloading xlrd-1.2.0-py2.py3-none-any.whl (103 kB)\n",
            "\u001b[2K     \u001b[90m━━━━━━━━━━━━━━━━━━━━━━━━━━━━━━━━━━━━━━━━\u001b[0m \u001b[32m103.3/103.3 kB\u001b[0m \u001b[31m2.1 MB/s\u001b[0m eta \u001b[36m0:00:00\u001b[0m\n",
            "\u001b[?25hRequirement already satisfied: openpyxl>=2.2.0 in /usr/local/lib/python3.10/dist-packages (from FlowCal) (3.1.2)\n",
            "Requirement already satisfied: contourpy>=1.0.1 in /usr/local/lib/python3.10/dist-packages (from matplotlib>=2.0.0->FlowCal) (1.2.0)\n",
            "Requirement already satisfied: cycler>=0.10 in /usr/local/lib/python3.10/dist-packages (from matplotlib>=2.0.0->FlowCal) (0.12.1)\n",
            "Requirement already satisfied: fonttools>=4.22.0 in /usr/local/lib/python3.10/dist-packages (from matplotlib>=2.0.0->FlowCal) (4.46.0)\n",
            "Requirement already satisfied: kiwisolver>=1.0.1 in /usr/local/lib/python3.10/dist-packages (from matplotlib>=2.0.0->FlowCal) (1.4.5)\n",
            "Requirement already satisfied: pillow>=6.2.0 in /usr/local/lib/python3.10/dist-packages (from matplotlib>=2.0.0->FlowCal) (9.4.0)\n",
            "Requirement already satisfied: pyparsing>=2.3.1 in /usr/local/lib/python3.10/dist-packages (from matplotlib>=2.0.0->FlowCal) (3.1.1)\n",
            "Requirement already satisfied: python-dateutil>=2.7 in /usr/local/lib/python3.10/dist-packages (from matplotlib>=2.0.0->FlowCal) (2.8.2)\n",
            "Requirement already satisfied: et-xmlfile in /usr/local/lib/python3.10/dist-packages (from openpyxl>=2.2.0->FlowCal) (1.1.0)\n",
            "Requirement already satisfied: pytz>=2020.1 in /usr/local/lib/python3.10/dist-packages (from pandas>=0.23.0->FlowCal) (2023.3.post1)\n",
            "Requirement already satisfied: networkx>=2.2 in /usr/local/lib/python3.10/dist-packages (from scikit-image>=0.10.0->FlowCal) (3.2.1)\n",
            "Requirement already satisfied: imageio>=2.4.1 in /usr/local/lib/python3.10/dist-packages (from scikit-image>=0.10.0->FlowCal) (2.31.6)\n",
            "Requirement already satisfied: tifffile>=2019.7.26 in /usr/local/lib/python3.10/dist-packages (from scikit-image>=0.10.0->FlowCal) (2023.9.26)\n",
            "Requirement already satisfied: PyWavelets>=1.1.1 in /usr/local/lib/python3.10/dist-packages (from scikit-image>=0.10.0->FlowCal) (1.5.0)\n",
            "Requirement already satisfied: joblib>=1.1.1 in /usr/local/lib/python3.10/dist-packages (from scikit-learn>=0.16.0->FlowCal) (1.3.2)\n",
            "Requirement already satisfied: threadpoolctl>=2.0.0 in /usr/local/lib/python3.10/dist-packages (from scikit-learn>=0.16.0->FlowCal) (3.2.0)\n",
            "Building wheels for collected packages: FlowCal\n",
            "  Building wheel for FlowCal (setup.py) ... \u001b[?25l\u001b[?25hdone\n",
            "  Created wheel for FlowCal: filename=FlowCal-1.3.0-py3-none-any.whl size=84525 sha256=42bc1c13c6d604d2b44f98c98ed255834d3489c19c29307e82c88651e5f69454\n",
            "  Stored in directory: /root/.cache/pip/wheels/b1/9c/f3/4c59694424e6a6d70b11b66f076d8a2359b57dfdb9b723ed3f\n",
            "Successfully built FlowCal\n",
            "Installing collected packages: xlrd, FlowCal\n",
            "  Attempting uninstall: xlrd\n",
            "    Found existing installation: xlrd 2.0.1\n",
            "    Uninstalling xlrd-2.0.1:\n",
            "      Successfully uninstalled xlrd-2.0.1\n",
            "Successfully installed FlowCal-1.3.0 xlrd-1.2.0\n"
          ]
        }
      ],
      "source": [
        "!pip install FlowCal"
      ]
    },
    {
      "cell_type": "code",
      "source": [
        "import FlowCal\n",
        "import numpy as np\n",
        "\n",
        "s = FlowCal.io.FCSData('02-blank-A2-1.fcs')\n",
        "s\n",
        "\n",
        "s_fl1 = s[:, ['FL1-H']]\n",
        "s_fl1\n",
        "\n",
        "s_fl1 = s_fl1.tolist()\n",
        "s_fl1[0][0]\n",
        "\n",
        "proper_s_fl1 = []\n",
        "for i in range(len(s_fl1)):\n",
        "    proper_s_fl1.append(s_fl1[i][0])\n",
        "\n",
        "proper_s_fl1[:100]\n",
        "type(proper_s_fl1[:100])\n",
        "\n",
        "import statistics\n",
        "from statistics import stdev\n",
        "from fractions import Fraction as fr\n",
        "\n",
        "print(np.mean(proper_s_fl1))\n",
        "print(statistics.median(proper_s_fl1))\n",
        "print(np.std(proper_s_fl1))\n",
        "print(statistics.variance(proper_s_fl1))\n",
        "\n",
        "ordered= sorted(proper_s_fl1)\n",
        "i= round(len(ordered)*0.05)\n",
        "lower = ordered[i]\n",
        "i= round(len(ordered)*0.95)\n",
        "upper= ordered[i]\n",
        "\n",
        "print(lower)\n",
        "print(upper)\n"
      ],
      "metadata": {
        "colab": {
          "base_uri": "https://localhost:8080/",
          "height": 391
        },
        "id": "bo1obDnINTRu",
        "outputId": "76b67c88-aaf6-45e2-d4b5-7fe58b6e9dd1"
      },
      "id": "bo1obDnINTRu",
      "execution_count": null,
      "outputs": [
        {
          "output_type": "error",
          "ename": "FileNotFoundError",
          "evalue": "ignored",
          "traceback": [
            "\u001b[0;31m---------------------------------------------------------------------------\u001b[0m",
            "\u001b[0;31mFileNotFoundError\u001b[0m                         Traceback (most recent call last)",
            "\u001b[0;32m<ipython-input-2-4b81147ef5b1>\u001b[0m in \u001b[0;36m<cell line: 4>\u001b[0;34m()\u001b[0m\n\u001b[1;32m      2\u001b[0m \u001b[0;32mimport\u001b[0m \u001b[0mnumpy\u001b[0m \u001b[0;32mas\u001b[0m \u001b[0mnp\u001b[0m\u001b[0;34m\u001b[0m\u001b[0;34m\u001b[0m\u001b[0m\n\u001b[1;32m      3\u001b[0m \u001b[0;34m\u001b[0m\u001b[0m\n\u001b[0;32m----> 4\u001b[0;31m \u001b[0ms\u001b[0m \u001b[0;34m=\u001b[0m \u001b[0mFlowCal\u001b[0m\u001b[0;34m.\u001b[0m\u001b[0mio\u001b[0m\u001b[0;34m.\u001b[0m\u001b[0mFCSData\u001b[0m\u001b[0;34m(\u001b[0m\u001b[0;34m'02-blank-A2-1.fcs'\u001b[0m\u001b[0;34m)\u001b[0m\u001b[0;34m\u001b[0m\u001b[0;34m\u001b[0m\u001b[0m\n\u001b[0m\u001b[1;32m      5\u001b[0m \u001b[0ms\u001b[0m\u001b[0;34m\u001b[0m\u001b[0;34m\u001b[0m\u001b[0m\n\u001b[1;32m      6\u001b[0m \u001b[0;34m\u001b[0m\u001b[0m\n",
            "\u001b[0;32m/usr/local/lib/python3.10/dist-packages/FlowCal/io.py\u001b[0m in \u001b[0;36m__new__\u001b[0;34m(cls, infile)\u001b[0m\n\u001b[1;32m   1612\u001b[0m \u001b[0;34m\u001b[0m\u001b[0m\n\u001b[1;32m   1613\u001b[0m         \u001b[0;31m# Load FCS file\u001b[0m\u001b[0;34m\u001b[0m\u001b[0;34m\u001b[0m\u001b[0m\n\u001b[0;32m-> 1614\u001b[0;31m         \u001b[0mfcs_file\u001b[0m \u001b[0;34m=\u001b[0m \u001b[0mFCSFile\u001b[0m\u001b[0;34m(\u001b[0m\u001b[0minfile\u001b[0m\u001b[0;34m)\u001b[0m\u001b[0;34m\u001b[0m\u001b[0;34m\u001b[0m\u001b[0m\n\u001b[0m\u001b[1;32m   1615\u001b[0m \u001b[0;34m\u001b[0m\u001b[0m\n\u001b[1;32m   1616\u001b[0m         \u001b[0;31m###\u001b[0m\u001b[0;34m\u001b[0m\u001b[0;34m\u001b[0m\u001b[0m\n",
            "\u001b[0;32m/usr/local/lib/python3.10/dist-packages/FlowCal/io.py\u001b[0m in \u001b[0;36m__init__\u001b[0;34m(self, infile)\u001b[0m\n\u001b[1;32m    735\u001b[0m \u001b[0;34m\u001b[0m\u001b[0m\n\u001b[1;32m    736\u001b[0m         \u001b[0;32mif\u001b[0m \u001b[0misinstance\u001b[0m\u001b[0;34m(\u001b[0m\u001b[0minfile\u001b[0m\u001b[0;34m,\u001b[0m \u001b[0msix\u001b[0m\u001b[0;34m.\u001b[0m\u001b[0mstring_types\u001b[0m\u001b[0;34m)\u001b[0m\u001b[0;34m:\u001b[0m\u001b[0;34m\u001b[0m\u001b[0;34m\u001b[0m\u001b[0m\n\u001b[0;32m--> 737\u001b[0;31m             \u001b[0mf\u001b[0m \u001b[0;34m=\u001b[0m \u001b[0mopen\u001b[0m\u001b[0;34m(\u001b[0m\u001b[0minfile\u001b[0m\u001b[0;34m,\u001b[0m \u001b[0;34m'rb'\u001b[0m\u001b[0;34m)\u001b[0m\u001b[0;34m\u001b[0m\u001b[0;34m\u001b[0m\u001b[0m\n\u001b[0m\u001b[1;32m    738\u001b[0m         \u001b[0;32melse\u001b[0m\u001b[0;34m:\u001b[0m\u001b[0;34m\u001b[0m\u001b[0;34m\u001b[0m\u001b[0m\n\u001b[1;32m    739\u001b[0m             \u001b[0mf\u001b[0m \u001b[0;34m=\u001b[0m \u001b[0minfile\u001b[0m\u001b[0;34m\u001b[0m\u001b[0;34m\u001b[0m\u001b[0m\n",
            "\u001b[0;31mFileNotFoundError\u001b[0m: [Errno 2] No such file or directory: '02-blank-A2-1.fcs'"
          ]
        }
      ]
    },
    {
      "cell_type": "code",
      "execution_count": null,
      "id": "862fa2ce",
      "metadata": {
        "scrolled": true,
        "colab": {
          "base_uri": "https://localhost:8080/"
        },
        "id": "862fa2ce",
        "outputId": "a94f66c0-b477-409d-cad3-d68ef37955da"
      },
      "outputs": [
        {
          "output_type": "stream",
          "name": "stdout",
          "text": [
            "108713.62903467349\n",
            "110635.703125\n",
            "74716.87992731106\n",
            "5582652660.849173\n",
            "632.5999755859375\n",
            "228085.90625\n"
          ]
        }
      ],
      "source": [
        "s = FlowCal.io.FCSData('04-blank-A2-1.fcs')\n",
        "s\n",
        "\n",
        "s_fl1 = s[:, ['FL1-H']]\n",
        "s_fl1\n",
        "\n",
        "s_fl1 = s_fl1.tolist()\n",
        "s_fl1[0][0]\n",
        "\n",
        "proper_s_fl1 = []\n",
        "for i in range(len(s_fl1)):\n",
        "    proper_s_fl1.append(s_fl1[i][0])\n",
        "\n",
        "proper_s_fl1[:100]\n",
        "type(proper_s_fl1[:100])\n",
        "\n",
        "import statistics\n",
        "from statistics import stdev\n",
        "from fractions import Fraction as fr\n",
        "\n",
        "print(np.mean(proper_s_fl1))\n",
        "print(statistics.median(proper_s_fl1))\n",
        "print(np.std(proper_s_fl1))\n",
        "print(statistics.variance(proper_s_fl1))\n",
        "\n",
        "ordered= sorted(proper_s_fl1)\n",
        "i= round(len(ordered)*0.05)\n",
        "lower = ordered[i]\n",
        "i= round(len(ordered)*0.95)\n",
        "upper= ordered[i]\n",
        "\n",
        "print(lower)\n",
        "print(upper)\n"
      ]
    },
    {
      "cell_type": "code",
      "execution_count": null,
      "id": "865179ff",
      "metadata": {
        "scrolled": true,
        "colab": {
          "base_uri": "https://localhost:8080/"
        },
        "id": "865179ff",
        "outputId": "6fc255a0-942e-40ff-da98-59de917477a1"
      },
      "outputs": [
        {
          "output_type": "stream",
          "name": "stdout",
          "text": [
            "73117.90285567634\n",
            "71513.796875\n",
            "45730.571150537355\n",
            "2091327890.3330197\n",
            "790.9000244140625\n",
            "149170.09375\n"
          ]
        }
      ],
      "source": [
        "s = FlowCal.io.FCSData('02-blank-A2-2.fcs')\n",
        "s\n",
        "\n",
        "s_fl1 = s[:, ['FL1-H']]\n",
        "s_fl1\n",
        "\n",
        "s_fl1 = s_fl1.tolist()\n",
        "s_fl1[0][0]\n",
        "\n",
        "proper_s_fl1 = []\n",
        "for i in range(len(s_fl1)):\n",
        "    proper_s_fl1.append(s_fl1[i][0])\n",
        "\n",
        "proper_s_fl1[:100]\n",
        "type(proper_s_fl1[:100])\n",
        "\n",
        "import statistics\n",
        "from statistics import stdev\n",
        "from fractions import Fraction as fr\n",
        "\n",
        "print(np.mean(proper_s_fl1))\n",
        "print(statistics.median(proper_s_fl1))\n",
        "print(np.std(proper_s_fl1))\n",
        "print(statistics.variance(proper_s_fl1))\n",
        "\n",
        "ordered= sorted(proper_s_fl1)\n",
        "i= round(len(ordered)*0.05)\n",
        "lower = ordered[i]\n",
        "i= round(len(ordered)*0.95)\n",
        "upper= ordered[i]\n",
        "\n",
        "print(lower)\n",
        "print(upper)\n"
      ]
    },
    {
      "cell_type": "code",
      "execution_count": null,
      "id": "e9ca0c75",
      "metadata": {
        "scrolled": true,
        "colab": {
          "base_uri": "https://localhost:8080/"
        },
        "id": "e9ca0c75",
        "outputId": "cb069630-f907-45de-e3d4-02e13fd880c3"
      },
      "outputs": [
        {
          "output_type": "stream",
          "name": "stdout",
          "text": [
            "108409.72978062925\n",
            "109287.796875\n",
            "70774.27669762923\n",
            "5009064014.936733\n",
            "860.0\n",
            "216110.59375\n"
          ]
        }
      ],
      "source": [
        "s = FlowCal.io.FCSData('04-blank-A2-2.fcs')\n",
        "s\n",
        "\n",
        "s_fl1 = s[:, ['FL1-H']]\n",
        "s_fl1\n",
        "\n",
        "s_fl1 = s_fl1.tolist()\n",
        "s_fl1[0][0]\n",
        "\n",
        "proper_s_fl1 = []\n",
        "for i in range(len(s_fl1)):\n",
        "    proper_s_fl1.append(s_fl1[i][0])\n",
        "\n",
        "proper_s_fl1[:100]\n",
        "type(proper_s_fl1[:100])\n",
        "\n",
        "import statistics\n",
        "from statistics import stdev\n",
        "from fractions import Fraction as fr\n",
        "\n",
        "print(np.mean(proper_s_fl1))\n",
        "print(statistics.median(proper_s_fl1))\n",
        "print(np.std(proper_s_fl1))\n",
        "print(statistics.variance(proper_s_fl1))\n",
        "\n",
        "ordered= sorted(proper_s_fl1)\n",
        "i= round(len(ordered)*0.05)\n",
        "lower = ordered[i]\n",
        "i= round(len(ordered)*0.95)\n",
        "upper= ordered[i]\n",
        "\n",
        "print(lower)\n",
        "print(upper)"
      ]
    },
    {
      "cell_type": "code",
      "execution_count": null,
      "id": "d4625ad9",
      "metadata": {
        "scrolled": true,
        "colab": {
          "base_uri": "https://localhost:8080/"
        },
        "id": "d4625ad9",
        "outputId": "8ed8e1ea-e48d-42c5-aa26-7859975baf9e"
      },
      "outputs": [
        {
          "output_type": "stream",
          "name": "stdout",
          "text": [
            "90994.64712157931\n",
            "92494.6015625\n",
            "58774.63550072952\n",
            "3454495053.6151133\n",
            "842.9000244140625\n",
            "185379.203125\n"
          ]
        }
      ],
      "source": [
        "s = FlowCal.io.FCSData('02-blank-A2-3.fcs')\n",
        "s\n",
        "\n",
        "s_fl1 = s[:, ['FL1-H']]\n",
        "s_fl1\n",
        "\n",
        "s_fl1 = s_fl1.tolist()\n",
        "s_fl1[0][0]\n",
        "\n",
        "proper_s_fl1 = []\n",
        "for i in range(len(s_fl1)):\n",
        "    proper_s_fl1.append(s_fl1[i][0])\n",
        "\n",
        "proper_s_fl1[:100]\n",
        "type(proper_s_fl1[:100])\n",
        "\n",
        "import statistics\n",
        "from statistics import stdev\n",
        "from fractions import Fraction as fr\n",
        "\n",
        "print(np.mean(proper_s_fl1))\n",
        "print(statistics.median(proper_s_fl1))\n",
        "print(np.std(proper_s_fl1))\n",
        "print(statistics.variance(proper_s_fl1))\n",
        "\n",
        "ordered= sorted(proper_s_fl1)\n",
        "i= round(len(ordered)*0.05)\n",
        "lower = ordered[i]\n",
        "i= round(len(ordered)*0.95)\n",
        "upper= ordered[i]\n",
        "\n",
        "print(lower)\n",
        "print(upper)\n"
      ]
    },
    {
      "cell_type": "code",
      "execution_count": null,
      "id": "e4fd7b69",
      "metadata": {
        "scrolled": true,
        "colab": {
          "base_uri": "https://localhost:8080/"
        },
        "id": "e4fd7b69",
        "outputId": "059de67e-b290-4d0f-f40c-987baae51feb"
      },
      "outputs": [
        {
          "output_type": "stream",
          "name": "stdout",
          "text": [
            "128318.60468840264\n",
            "130133.55078125\n",
            "84988.87873609675\n",
            "7223149197.760342\n",
            "704.2999877929688\n",
            "258520.5\n"
          ]
        }
      ],
      "source": [
        "s = FlowCal.io.FCSData('04-blank-A2-3.fcs')\n",
        "s\n",
        "\n",
        "s_fl1 = s[:, ['FL1-H']]\n",
        "s_fl1\n",
        "\n",
        "s_fl1 = s_fl1.tolist()\n",
        "s_fl1[0][0]\n",
        "\n",
        "proper_s_fl1 = []\n",
        "for i in range(len(s_fl1)):\n",
        "    proper_s_fl1.append(s_fl1[i][0])\n",
        "\n",
        "proper_s_fl1[:100]\n",
        "type(proper_s_fl1[:100])\n",
        "\n",
        "import statistics\n",
        "from statistics import stdev\n",
        "from fractions import Fraction as fr\n",
        "\n",
        "print(np.mean(proper_s_fl1))\n",
        "print(statistics.median(proper_s_fl1))\n",
        "print(np.std(proper_s_fl1))\n",
        "print(statistics.variance(proper_s_fl1))\n",
        "\n",
        "ordered= sorted(proper_s_fl1)\n",
        "i= round(len(ordered)*0.05)\n",
        "lower = ordered[i]\n",
        "i= round(len(ordered)*0.95)\n",
        "upper= ordered[i]\n",
        "\n",
        "print(lower)\n",
        "print(upper)\n"
      ]
    },
    {
      "cell_type": "code",
      "execution_count": null,
      "id": "2bc13ad3",
      "metadata": {
        "scrolled": true,
        "colab": {
          "base_uri": "https://localhost:8080/"
        },
        "id": "2bc13ad3",
        "outputId": "ab717687-d1c7-49d3-8b97-28c200c73719"
      },
      "outputs": [
        {
          "output_type": "stream",
          "name": "stdout",
          "text": [
            "70562.22499383568\n",
            "63148.69921875\n",
            "49129.16154157194\n",
            "2413686657.8077464\n",
            "1218.5999755859375\n",
            "155077.203125\n"
          ]
        }
      ],
      "source": [
        "s = FlowCal.io.FCSData('02-blank-A2-4.fcs')\n",
        "s\n",
        "\n",
        "s_fl1 = s[:, ['FL1-H']]\n",
        "s_fl1\n",
        "\n",
        "s_fl1 = s_fl1.tolist()\n",
        "s_fl1[0][0]\n",
        "\n",
        "proper_s_fl1 = []\n",
        "for i in range(len(s_fl1)):\n",
        "    proper_s_fl1.append(s_fl1[i][0])\n",
        "\n",
        "proper_s_fl1[:100]\n",
        "type(proper_s_fl1[:100])\n",
        "\n",
        "import statistics\n",
        "from statistics import stdev\n",
        "from fractions import Fraction as fr\n",
        "\n",
        "print(np.mean(proper_s_fl1))\n",
        "print(statistics.median(proper_s_fl1))\n",
        "print(np.std(proper_s_fl1))\n",
        "print(statistics.variance(proper_s_fl1))\n",
        "\n",
        "ordered= sorted(proper_s_fl1)\n",
        "i= round(len(ordered)*0.05)\n",
        "lower = ordered[i]\n",
        "i= round(len(ordered)*0.95)\n",
        "upper= ordered[i]\n",
        "\n",
        "print(lower)\n",
        "print(upper)\n"
      ]
    },
    {
      "cell_type": "code",
      "execution_count": null,
      "id": "0372fbb0",
      "metadata": {
        "scrolled": true,
        "colab": {
          "base_uri": "https://localhost:8080/"
        },
        "id": "0372fbb0",
        "outputId": "e722628e-4d2c-4df4-e00c-18b5733fd594"
      },
      "outputs": [
        {
          "output_type": "stream",
          "name": "stdout",
          "text": [
            "136033.32371514017\n",
            "136591.09375\n",
            "77465.87207042538\n",
            "6001004324.308212\n",
            "1233.5\n",
            "259035.09375\n"
          ]
        }
      ],
      "source": [
        "s = FlowCal.io.FCSData('04-blank-A2-4.fcs')\n",
        "s\n",
        "\n",
        "s_fl1 = s[:, ['FL1-H']]\n",
        "s_fl1\n",
        "\n",
        "s_fl1 = s_fl1.tolist()\n",
        "s_fl1[0][0]\n",
        "\n",
        "proper_s_fl1 = []\n",
        "for i in range(len(s_fl1)):\n",
        "    proper_s_fl1.append(s_fl1[i][0])\n",
        "\n",
        "proper_s_fl1[:100]\n",
        "type(proper_s_fl1[:100])\n",
        "\n",
        "import statistics\n",
        "from statistics import stdev\n",
        "from fractions import Fraction as fr\n",
        "\n",
        "print(np.mean(proper_s_fl1))\n",
        "print(statistics.median(proper_s_fl1))\n",
        "print(np.std(proper_s_fl1))\n",
        "print(statistics.variance(proper_s_fl1))\n",
        "\n",
        "ordered= sorted(proper_s_fl1)\n",
        "i= round(len(ordered)*0.05)\n",
        "lower = ordered[i]\n",
        "i= round(len(ordered)*0.95)\n",
        "upper= ordered[i]\n",
        "\n",
        "print(lower)\n",
        "print(upper)\n"
      ]
    },
    {
      "cell_type": "code",
      "execution_count": null,
      "id": "604821c1",
      "metadata": {
        "scrolled": true,
        "colab": {
          "base_uri": "https://localhost:8080/"
        },
        "id": "604821c1",
        "outputId": "85d9c28b-7828-44ee-c94e-a9158b72775c"
      },
      "outputs": [
        {
          "output_type": "stream",
          "name": "stdout",
          "text": [
            "165988.18097598825\n",
            "161970.6484375\n",
            "120517.79880060925\n",
            "14524693736.676195\n",
            "778.4000244140625\n",
            "360541.90625\n"
          ]
        }
      ],
      "source": [
        "s = FlowCal.io.FCSData('02-blank-A3-1.fcs')\n",
        "s\n",
        "\n",
        "s_fl1 = s[:, ['FL1-H']]\n",
        "s_fl1\n",
        "\n",
        "s_fl1 = s_fl1.tolist()\n",
        "s_fl1[0][0]\n",
        "\n",
        "proper_s_fl1 = []\n",
        "for i in range(len(s_fl1)):\n",
        "    proper_s_fl1.append(s_fl1[i][0])\n",
        "\n",
        "proper_s_fl1[:100]\n",
        "type(proper_s_fl1[:100])\n",
        "\n",
        "import statistics\n",
        "from statistics import stdev\n",
        "from fractions import Fraction as fr\n",
        "\n",
        "print(np.mean(proper_s_fl1))\n",
        "print(statistics.median(proper_s_fl1))\n",
        "print(np.std(proper_s_fl1))\n",
        "print(statistics.variance(proper_s_fl1))\n",
        "\n",
        "ordered= sorted(proper_s_fl1)\n",
        "i= round(len(ordered)*0.05)\n",
        "lower = ordered[i]\n",
        "i= round(len(ordered)*0.95)\n",
        "upper= ordered[i]\n",
        "\n",
        "print(lower)\n",
        "print(upper)\n"
      ]
    },
    {
      "cell_type": "code",
      "execution_count": null,
      "id": "a52d46b7",
      "metadata": {
        "colab": {
          "base_uri": "https://localhost:8080/"
        },
        "id": "a52d46b7",
        "outputId": "96882d7b-cc72-4727-8c63-2fec26005eb7"
      },
      "outputs": [
        {
          "output_type": "stream",
          "name": "stdout",
          "text": [
            "266420.9008339847\n",
            "234302.703125\n",
            "232071.97280945975\n",
            "53857853124.054474\n",
            "645.7000122070312\n",
            "722429.6875\n"
          ]
        }
      ],
      "source": [
        "s = FlowCal.io.FCSData('04-blank-A3-1.fcs')\n",
        "s\n",
        "\n",
        "s_fl1 = s[:, ['FL1-H']]\n",
        "s_fl1\n",
        "\n",
        "s_fl1 = s_fl1.tolist()\n",
        "s_fl1[0][0]\n",
        "\n",
        "proper_s_fl1 = []\n",
        "for i in range(len(s_fl1)):\n",
        "    proper_s_fl1.append(s_fl1[i][0])\n",
        "\n",
        "proper_s_fl1[:100]\n",
        "type(proper_s_fl1[:100])\n",
        "\n",
        "import statistics\n",
        "from statistics import stdev\n",
        "from fractions import Fraction as fr\n",
        "\n",
        "print(np.mean(proper_s_fl1))\n",
        "print(statistics.median(proper_s_fl1))\n",
        "print(np.std(proper_s_fl1))\n",
        "print(statistics.variance(proper_s_fl1))\n",
        "\n",
        "ordered= sorted(proper_s_fl1)\n",
        "i= round(len(ordered)*0.05)\n",
        "lower = ordered[i]\n",
        "i= round(len(ordered)*0.95)\n",
        "upper= ordered[i]\n",
        "\n",
        "print(lower)\n",
        "print(upper)\n"
      ]
    },
    {
      "cell_type": "code",
      "execution_count": null,
      "id": "b3d79cad",
      "metadata": {
        "colab": {
          "base_uri": "https://localhost:8080/"
        },
        "id": "b3d79cad",
        "outputId": "76eae6b9-dbc5-4d4d-d791-a8ea3c54b6d0"
      },
      "outputs": [
        {
          "output_type": "stream",
          "name": "stdout",
          "text": [
            "158400.15866868215\n",
            "156670.203125\n",
            "105868.2447038401\n",
            "11208380302.757114\n",
            "472.70001220703125\n",
            "328494.0\n"
          ]
        }
      ],
      "source": [
        "s = FlowCal.io.FCSData('02-blank-A3-2.fcs')\n",
        "s\n",
        "\n",
        "s_fl1 = s[:, ['FL1-H']]\n",
        "s_fl1\n",
        "\n",
        "s_fl1 = s_fl1.tolist()\n",
        "s_fl1[0][0]\n",
        "\n",
        "proper_s_fl1 = []\n",
        "for i in range(len(s_fl1)):\n",
        "    proper_s_fl1.append(s_fl1[i][0])\n",
        "\n",
        "proper_s_fl1[:100]\n",
        "type(proper_s_fl1[:100])\n",
        "\n",
        "import statistics\n",
        "from statistics import stdev\n",
        "from fractions import Fraction as fr\n",
        "\n",
        "print(np.mean(proper_s_fl1))\n",
        "print(statistics.median(proper_s_fl1))\n",
        "print(np.std(proper_s_fl1))\n",
        "print(statistics.variance(proper_s_fl1))\n",
        "\n",
        "ordered= sorted(proper_s_fl1)\n",
        "i= round(len(ordered)*0.05)\n",
        "lower = ordered[i]\n",
        "i= round(len(ordered)*0.95)\n",
        "upper= ordered[i]\n",
        "\n",
        "print(lower)\n",
        "print(upper)\n"
      ]
    },
    {
      "cell_type": "code",
      "execution_count": null,
      "id": "9a4f3381",
      "metadata": {
        "colab": {
          "base_uri": "https://localhost:8080/"
        },
        "id": "9a4f3381",
        "outputId": "4b2126ca-8b6b-4c26-d4f4-e99826df3d72"
      },
      "outputs": [
        {
          "output_type": "stream",
          "name": "stdout",
          "text": [
            "211339.05927501977\n",
            "208638.296875\n",
            "149664.9966913315\n",
            "22399887479.72929\n",
            "1133.0999755859375\n",
            "454209.0\n"
          ]
        }
      ],
      "source": [
        "s = FlowCal.io.FCSData('04-blank-A3-2.fcs')\n",
        "s\n",
        "\n",
        "s_fl1 = s[:, ['FL1-H']]\n",
        "s_fl1\n",
        "\n",
        "s_fl1 = s_fl1.tolist()\n",
        "s_fl1[0][0]\n",
        "\n",
        "proper_s_fl1 = []\n",
        "for i in range(len(s_fl1)):\n",
        "    proper_s_fl1.append(s_fl1[i][0])\n",
        "\n",
        "proper_s_fl1[:100]\n",
        "type(proper_s_fl1[:100])\n",
        "\n",
        "import statistics\n",
        "from statistics import stdev\n",
        "from fractions import Fraction as fr\n",
        "\n",
        "print(np.mean(proper_s_fl1))\n",
        "print(statistics.median(proper_s_fl1))\n",
        "print(np.std(proper_s_fl1))\n",
        "print(statistics.variance(proper_s_fl1))\n",
        "\n",
        "ordered= sorted(proper_s_fl1)\n",
        "i= round(len(ordered)*0.05)\n",
        "lower = ordered[i]\n",
        "i= round(len(ordered)*0.95)\n",
        "upper= ordered[i]\n",
        "\n",
        "print(lower)\n",
        "print(upper)\n"
      ]
    },
    {
      "cell_type": "code",
      "execution_count": null,
      "id": "d8414cd4",
      "metadata": {
        "id": "d8414cd4",
        "outputId": "3fd520f4-c0ef-42f5-f83f-5733dfc11515",
        "colab": {
          "base_uri": "https://localhost:8080/"
        }
      },
      "outputs": [
        {
          "output_type": "stream",
          "name": "stdout",
          "text": [
            "255002.1618551352\n",
            "229163.3984375\n",
            "205596.1474798548\n",
            "42270199926.05481\n",
            "1347.0999755859375\n",
            "642223.8125\n"
          ]
        }
      ],
      "source": [
        "s = FlowCal.io.FCSData('02-blank-A3-3.fcs')\n",
        "s\n",
        "\n",
        "s_fl1 = s[:, ['FL1-H']]\n",
        "s_fl1\n",
        "\n",
        "s_fl1 = s_fl1.tolist()\n",
        "s_fl1[0][0]\n",
        "\n",
        "proper_s_fl1 = []\n",
        "for i in range(len(s_fl1)):\n",
        "    proper_s_fl1.append(s_fl1[i][0])\n",
        "\n",
        "proper_s_fl1[:100]\n",
        "type(proper_s_fl1[:100])\n",
        "\n",
        "import statistics\n",
        "from statistics import stdev\n",
        "from fractions import Fraction as fr\n",
        "\n",
        "print(np.mean(proper_s_fl1))\n",
        "print(statistics.median(proper_s_fl1))\n",
        "print(np.std(proper_s_fl1))\n",
        "print(statistics.variance(proper_s_fl1))\n",
        "\n",
        "ordered= sorted(proper_s_fl1)\n",
        "i= round(len(ordered)*0.05)\n",
        "lower = ordered[i]\n",
        "i= round(len(ordered)*0.95)\n",
        "upper= ordered[i]\n",
        "\n",
        "print(lower)\n",
        "print(upper)"
      ]
    },
    {
      "cell_type": "code",
      "execution_count": null,
      "id": "58351d63",
      "metadata": {
        "id": "58351d63",
        "outputId": "36d25021-a2b3-407d-ca4d-6e2c4ecbbb2b",
        "colab": {
          "base_uri": "https://localhost:8080/"
        }
      },
      "outputs": [
        {
          "output_type": "stream",
          "name": "stdout",
          "text": [
            "429518.24969074427\n",
            "396371.0\n",
            "321314.2591181845\n",
            "103243429791.73338\n",
            "979.7000122070312\n",
            "1013334.8125\n"
          ]
        }
      ],
      "source": [
        "s = FlowCal.io.FCSData('04-blank-A3-3.fcs')\n",
        "s\n",
        "\n",
        "s_fl1 = s[:, ['FL1-H']]\n",
        "s_fl1\n",
        "\n",
        "s_fl1 = s_fl1.tolist()\n",
        "s_fl1[0][0]\n",
        "\n",
        "proper_s_fl1 = []\n",
        "for i in range(len(s_fl1)):\n",
        "    proper_s_fl1.append(s_fl1[i][0])\n",
        "\n",
        "proper_s_fl1[:100]\n",
        "type(proper_s_fl1[:100])\n",
        "\n",
        "import statistics\n",
        "from statistics import stdev\n",
        "from fractions import Fraction as fr\n",
        "\n",
        "print(np.mean(proper_s_fl1))\n",
        "print(statistics.median(proper_s_fl1))\n",
        "print(np.std(proper_s_fl1))\n",
        "print(statistics.variance(proper_s_fl1))\n",
        "\n",
        "ordered= sorted(proper_s_fl1)\n",
        "i= round(len(ordered)*0.05)\n",
        "lower = ordered[i]\n",
        "i= round(len(ordered)*0.95)\n",
        "upper= ordered[i]\n",
        "\n",
        "print(lower)\n",
        "print(upper)\n"
      ]
    },
    {
      "cell_type": "code",
      "execution_count": null,
      "id": "ba55e193",
      "metadata": {
        "id": "ba55e193",
        "outputId": "843f9c32-250d-45f3-dc11-43e821c75d69",
        "colab": {
          "base_uri": "https://localhost:8080/"
        }
      },
      "outputs": [
        {
          "output_type": "stream",
          "name": "stdout",
          "text": [
            "191216.02833634062\n",
            "178542.5\n",
            "139833.81207382222\n",
            "19553601336.286095\n",
            "1720.800048828125\n",
            "405627.8125\n"
          ]
        }
      ],
      "source": [
        "s = FlowCal.io.FCSData('02-blank-A3-4.fcs')\n",
        "s\n",
        "\n",
        "s_fl1 = s[:, ['FL1-H']]\n",
        "s_fl1\n",
        "\n",
        "s_fl1 = s_fl1.tolist()\n",
        "s_fl1[0][0]\n",
        "\n",
        "proper_s_fl1 = []\n",
        "for i in range(len(s_fl1)):\n",
        "    proper_s_fl1.append(s_fl1[i][0])\n",
        "\n",
        "proper_s_fl1[:100]\n",
        "type(proper_s_fl1[:100])\n",
        "\n",
        "import statistics\n",
        "from statistics import stdev\n",
        "from fractions import Fraction as fr\n",
        "\n",
        "print(np.mean(proper_s_fl1))\n",
        "print(statistics.median(proper_s_fl1))\n",
        "print(np.std(proper_s_fl1))\n",
        "print(statistics.variance(proper_s_fl1))\n",
        "\n",
        "ordered= sorted(proper_s_fl1)\n",
        "i= round(len(ordered)*0.05)\n",
        "lower = ordered[i]\n",
        "i= round(len(ordered)*0.95)\n",
        "upper= ordered[i]\n",
        "\n",
        "print(lower)\n",
        "print(upper)\n"
      ]
    },
    {
      "cell_type": "code",
      "execution_count": null,
      "id": "7342d397",
      "metadata": {
        "id": "7342d397",
        "outputId": "8e9278e5-41c6-4ed8-bda7-fd5c3bce1952",
        "colab": {
          "base_uri": "https://localhost:8080/"
        }
      },
      "outputs": [
        {
          "output_type": "stream",
          "name": "stdout",
          "text": [
            "248214.26444816464\n",
            "242969.1015625\n",
            "151678.23118691152\n",
            "23006462167.476234\n",
            "7006.10009765625\n",
            "501208.8125\n"
          ]
        }
      ],
      "source": [
        "s = FlowCal.io.FCSData('04-blank-A3-4.fcs')\n",
        "s\n",
        "\n",
        "s_fl1 = s[:, ['FL1-H']]\n",
        "s_fl1\n",
        "\n",
        "s_fl1 = s_fl1.tolist()\n",
        "s_fl1[0][0]\n",
        "\n",
        "proper_s_fl1 = []\n",
        "for i in range(len(s_fl1)):\n",
        "    proper_s_fl1.append(s_fl1[i][0])\n",
        "\n",
        "proper_s_fl1[:100]\n",
        "type(proper_s_fl1[:100])\n",
        "\n",
        "import statistics\n",
        "from statistics import stdev\n",
        "from fractions import Fraction as fr\n",
        "\n",
        "print(np.mean(proper_s_fl1))\n",
        "print(statistics.median(proper_s_fl1))\n",
        "print(np.std(proper_s_fl1))\n",
        "print(statistics.variance(proper_s_fl1))\n",
        "\n",
        "ordered= sorted(proper_s_fl1)\n",
        "i= round(len(ordered)*0.05)\n",
        "lower = ordered[i]\n",
        "i= round(len(ordered)*0.95)\n",
        "upper= ordered[i]\n",
        "\n",
        "print(lower)\n",
        "print(upper)\n"
      ]
    },
    {
      "cell_type": "code",
      "execution_count": null,
      "id": "9b6d9d69",
      "metadata": {
        "id": "9b6d9d69",
        "outputId": "369d10f0-d8d2-4315-9162-deb0e2e47f22",
        "colab": {
          "base_uri": "https://localhost:8080/"
        }
      },
      "outputs": [
        {
          "output_type": "stream",
          "name": "stdout",
          "text": [
            "157805.69339301033\n",
            "155123.203125\n",
            "108149.47332946894\n",
            "11696412717.09725\n",
            "765.7000122070312\n",
            "335135.40625\n"
          ]
        }
      ],
      "source": [
        "s = FlowCal.io.FCSData('02-blank-A4-1.fcs')\n",
        "s\n",
        "\n",
        "s_fl1 = s[:, ['FL1-H']]\n",
        "s_fl1\n",
        "\n",
        "s_fl1 = s_fl1.tolist()\n",
        "s_fl1[0][0]\n",
        "\n",
        "proper_s_fl1 = []\n",
        "for i in range(len(s_fl1)):\n",
        "    proper_s_fl1.append(s_fl1[i][0])\n",
        "\n",
        "proper_s_fl1[:100]\n",
        "type(proper_s_fl1[:100])\n",
        "\n",
        "import statistics\n",
        "from statistics import stdev\n",
        "from fractions import Fraction as fr\n",
        "\n",
        "print(np.mean(proper_s_fl1))\n",
        "print(statistics.median(proper_s_fl1))\n",
        "print(np.std(proper_s_fl1))\n",
        "print(statistics.variance(proper_s_fl1))\n",
        "\n",
        "ordered= sorted(proper_s_fl1)\n",
        "i= round(len(ordered)*0.05)\n",
        "lower = ordered[i]\n",
        "i= round(len(ordered)*0.95)\n",
        "upper= ordered[i]\n",
        "\n",
        "print(lower)\n",
        "print(upper)\n"
      ]
    },
    {
      "cell_type": "code",
      "execution_count": null,
      "id": "d0d98279",
      "metadata": {
        "id": "d0d98279",
        "outputId": "fee15350-cb37-4c0f-d901-fc96ace76425",
        "colab": {
          "base_uri": "https://localhost:8080/"
        }
      },
      "outputs": [
        {
          "output_type": "stream",
          "name": "stdout",
          "text": [
            "292229.2292469503\n",
            "270956.90625\n",
            "219944.1126530253\n",
            "48375724121.09042\n",
            "747.4000244140625\n",
            "702052.8125\n"
          ]
        }
      ],
      "source": [
        "s = FlowCal.io.FCSData('04-blank-A4-1.fcs')\n",
        "s\n",
        "\n",
        "s_fl1 = s[:, ['FL1-H']]\n",
        "s_fl1\n",
        "\n",
        "s_fl1 = s_fl1.tolist()\n",
        "s_fl1[0][0]\n",
        "\n",
        "proper_s_fl1 = []\n",
        "for i in range(len(s_fl1)):\n",
        "    proper_s_fl1.append(s_fl1[i][0])\n",
        "\n",
        "proper_s_fl1[:100]\n",
        "type(proper_s_fl1[:100])\n",
        "\n",
        "import statistics\n",
        "from statistics import stdev\n",
        "from fractions import Fraction as fr\n",
        "\n",
        "print(np.mean(proper_s_fl1))\n",
        "print(statistics.median(proper_s_fl1))\n",
        "print(np.std(proper_s_fl1))\n",
        "print(statistics.variance(proper_s_fl1))\n",
        "\n",
        "ordered= sorted(proper_s_fl1)\n",
        "i= round(len(ordered)*0.05)\n",
        "lower = ordered[i]\n",
        "i= round(len(ordered)*0.95)\n",
        "upper= ordered[i]\n",
        "\n",
        "print(lower)\n",
        "print(upper)\n"
      ]
    },
    {
      "cell_type": "code",
      "execution_count": null,
      "id": "9f765c6b",
      "metadata": {
        "id": "9f765c6b",
        "outputId": "50a2cbae-53d0-4d27-f1f7-af60f815dc40",
        "colab": {
          "base_uri": "https://localhost:8080/"
        }
      },
      "outputs": [
        {
          "output_type": "stream",
          "name": "stdout",
          "text": [
            "122258.22305915657\n",
            "123207.8984375\n",
            "75374.0076456929\n",
            "5681375010.6268015\n",
            "528.5999755859375\n",
            "243395.296875\n"
          ]
        }
      ],
      "source": [
        "s = FlowCal.io.FCSData('02-blank-A4-2.fcs')\n",
        "s\n",
        "\n",
        "s_fl1 = s[:, ['FL1-H']]\n",
        "s_fl1\n",
        "\n",
        "s_fl1 = s_fl1.tolist()\n",
        "s_fl1[0][0]\n",
        "\n",
        "proper_s_fl1 = []\n",
        "for i in range(len(s_fl1)):\n",
        "    proper_s_fl1.append(s_fl1[i][0])\n",
        "\n",
        "proper_s_fl1[:100]\n",
        "type(proper_s_fl1[:100])\n",
        "\n",
        "import statistics\n",
        "from statistics import stdev\n",
        "from fractions import Fraction as fr\n",
        "\n",
        "print(np.mean(proper_s_fl1))\n",
        "print(statistics.median(proper_s_fl1))\n",
        "print(np.std(proper_s_fl1))\n",
        "print(statistics.variance(proper_s_fl1))\n",
        "\n",
        "ordered= sorted(proper_s_fl1)\n",
        "i= round(len(ordered)*0.05)\n",
        "lower = ordered[i]\n",
        "i= round(len(ordered)*0.95)\n",
        "upper= ordered[i]\n",
        "\n",
        "print(lower)\n",
        "print(upper)\n"
      ]
    },
    {
      "cell_type": "code",
      "execution_count": null,
      "id": "7e27cbe1",
      "metadata": {
        "id": "7e27cbe1",
        "outputId": "d6dd5253-c3c0-4fbf-f280-22e1d198cc82",
        "colab": {
          "base_uri": "https://localhost:8080/"
        }
      },
      "outputs": [
        {
          "output_type": "stream",
          "name": "stdout",
          "text": [
            "229809.16755992392\n",
            "232098.8515625\n",
            "144721.31440281228\n",
            "20944508967.978836\n",
            "1354.800048828125\n",
            "461269.1875\n"
          ]
        }
      ],
      "source": [
        "s = FlowCal.io.FCSData('04-blank-A4-2.fcs')\n",
        "s\n",
        "\n",
        "s_fl1 = s[:, ['FL1-H']]\n",
        "s_fl1\n",
        "\n",
        "s_fl1 = s_fl1.tolist()\n",
        "s_fl1[0][0]\n",
        "\n",
        "proper_s_fl1 = []\n",
        "for i in range(len(s_fl1)):\n",
        "    proper_s_fl1.append(s_fl1[i][0])\n",
        "\n",
        "proper_s_fl1[:100]\n",
        "type(proper_s_fl1[:100])\n",
        "\n",
        "import statistics\n",
        "from statistics import stdev\n",
        "from fractions import Fraction as fr\n",
        "\n",
        "print(np.mean(proper_s_fl1))\n",
        "print(statistics.median(proper_s_fl1))\n",
        "print(np.std(proper_s_fl1))\n",
        "print(statistics.variance(proper_s_fl1))\n",
        "\n",
        "ordered= sorted(proper_s_fl1)\n",
        "i= round(len(ordered)*0.05)\n",
        "lower = ordered[i]\n",
        "i= round(len(ordered)*0.95)\n",
        "upper= ordered[i]\n",
        "\n",
        "print(lower)\n",
        "print(upper)\n"
      ]
    },
    {
      "cell_type": "code",
      "execution_count": null,
      "id": "27d348cf",
      "metadata": {
        "id": "27d348cf",
        "outputId": "d34fc971-1845-44eb-8bed-83b79c3bd904",
        "colab": {
          "base_uri": "https://localhost:8080/"
        }
      },
      "outputs": [
        {
          "output_type": "stream",
          "name": "stdout",
          "text": [
            "230144.88926500676\n",
            "227028.3046875\n",
            "152644.4533806389\n",
            "23300666428.089836\n",
            "1200.0999755859375\n",
            "491768.3125\n"
          ]
        }
      ],
      "source": [
        "s = FlowCal.io.FCSData('02-blank-A4-3.fcs')\n",
        "s\n",
        "\n",
        "s_fl1 = s[:, ['FL1-H']]\n",
        "s_fl1\n",
        "\n",
        "s_fl1 = s_fl1.tolist()\n",
        "s_fl1[0][0]\n",
        "\n",
        "proper_s_fl1 = []\n",
        "for i in range(len(s_fl1)):\n",
        "    proper_s_fl1.append(s_fl1[i][0])\n",
        "\n",
        "proper_s_fl1[:100]\n",
        "type(proper_s_fl1[:100])\n",
        "\n",
        "import statistics\n",
        "from statistics import stdev\n",
        "from fractions import Fraction as fr\n",
        "\n",
        "print(np.mean(proper_s_fl1))\n",
        "print(statistics.median(proper_s_fl1))\n",
        "print(np.std(proper_s_fl1))\n",
        "print(statistics.variance(proper_s_fl1))\n",
        "\n",
        "ordered= sorted(proper_s_fl1)\n",
        "i= round(len(ordered)*0.05)\n",
        "lower = ordered[i]\n",
        "i= round(len(ordered)*0.95)\n",
        "upper= ordered[i]\n",
        "\n",
        "print(lower)\n",
        "print(upper)\n"
      ]
    },
    {
      "cell_type": "code",
      "execution_count": null,
      "id": "19bd1c88",
      "metadata": {
        "id": "19bd1c88",
        "outputId": "9208d120-b107-42a3-f892-994cf1595327",
        "colab": {
          "base_uri": "https://localhost:8080/"
        }
      },
      "outputs": [
        {
          "output_type": "stream",
          "name": "stdout",
          "text": [
            "356867.5619006661\n",
            "341189.65625\n",
            "243039.14200686963\n",
            "59068296804.26295\n",
            "1022.5\n",
            "786959.3125\n"
          ]
        }
      ],
      "source": [
        "s = FlowCal.io.FCSData('04-blank-A4-3.fcs')\n",
        "s\n",
        "\n",
        "s_fl1 = s[:, ['FL1-H']]\n",
        "s_fl1\n",
        "\n",
        "s_fl1 = s_fl1.tolist()\n",
        "s_fl1[0][0]\n",
        "\n",
        "proper_s_fl1 = []\n",
        "for i in range(len(s_fl1)):\n",
        "    proper_s_fl1.append(s_fl1[i][0])\n",
        "\n",
        "proper_s_fl1[:100]\n",
        "type(proper_s_fl1[:100])\n",
        "\n",
        "import statistics\n",
        "from statistics import stdev\n",
        "from fractions import Fraction as fr\n",
        "\n",
        "print(np.mean(proper_s_fl1))\n",
        "print(statistics.median(proper_s_fl1))\n",
        "print(np.std(proper_s_fl1))\n",
        "print(statistics.variance(proper_s_fl1))\n",
        "\n",
        "ordered= sorted(proper_s_fl1)\n",
        "i= round(len(ordered)*0.05)\n",
        "lower = ordered[i]\n",
        "i= round(len(ordered)*0.95)\n",
        "upper= ordered[i]\n",
        "\n",
        "print(lower)\n",
        "print(upper)\n"
      ]
    },
    {
      "cell_type": "code",
      "execution_count": null,
      "id": "2e0c5707",
      "metadata": {
        "id": "2e0c5707",
        "outputId": "3e723f83-8fde-40c5-bf9b-9a9726599a04",
        "colab": {
          "base_uri": "https://localhost:8080/"
        }
      },
      "outputs": [
        {
          "output_type": "stream",
          "name": "stdout",
          "text": [
            "193918.118803499\n",
            "189968.296875\n",
            "114408.19544326898\n",
            "13089293256.241518\n",
            "1554.300048828125\n",
            "380837.3125\n"
          ]
        }
      ],
      "source": [
        "s = FlowCal.io.FCSData('02-blank-A4-4.fcs')\n",
        "s\n",
        "\n",
        "s_fl1 = s[:, ['FL1-H']]\n",
        "s_fl1\n",
        "\n",
        "s_fl1 = s_fl1.tolist()\n",
        "s_fl1[0][0]\n",
        "\n",
        "proper_s_fl1 = []\n",
        "for i in range(len(s_fl1)):\n",
        "    proper_s_fl1.append(s_fl1[i][0])\n",
        "\n",
        "proper_s_fl1[:100]\n",
        "type(proper_s_fl1[:100])\n",
        "\n",
        "import statistics\n",
        "from statistics import stdev\n",
        "from fractions import Fraction as fr\n",
        "\n",
        "print(np.mean(proper_s_fl1))\n",
        "print(statistics.median(proper_s_fl1))\n",
        "print(np.std(proper_s_fl1))\n",
        "print(statistics.variance(proper_s_fl1))\n",
        "\n",
        "ordered= sorted(proper_s_fl1)\n",
        "i= round(len(ordered)*0.05)\n",
        "lower = ordered[i]\n",
        "i= round(len(ordered)*0.95)\n",
        "upper= ordered[i]\n",
        "\n",
        "print(lower)\n",
        "print(upper)\n"
      ]
    },
    {
      "cell_type": "code",
      "execution_count": null,
      "id": "adfbbac6",
      "metadata": {
        "id": "adfbbac6",
        "outputId": "bbab1a42-1c49-4084-a255-ad78abaec7ad",
        "colab": {
          "base_uri": "https://localhost:8080/"
        }
      },
      "outputs": [
        {
          "output_type": "stream",
          "name": "stdout",
          "text": [
            "229007.28764145303\n",
            "228836.25\n",
            "134035.93792054453\n",
            "17965783480.18688\n",
            "6977.10009765625\n",
            "450413.3125\n"
          ]
        }
      ],
      "source": [
        "s = FlowCal.io.FCSData('04-blank-A4-4.fcs')\n",
        "s\n",
        "\n",
        "s_fl1 = s[:, ['FL1-H']]\n",
        "s_fl1\n",
        "\n",
        "s_fl1 = s_fl1.tolist()\n",
        "s_fl1[0][0]\n",
        "\n",
        "proper_s_fl1 = []\n",
        "for i in range(len(s_fl1)):\n",
        "    proper_s_fl1.append(s_fl1[i][0])\n",
        "\n",
        "proper_s_fl1[:100]\n",
        "type(proper_s_fl1[:100])\n",
        "\n",
        "import statistics\n",
        "from statistics import stdev\n",
        "from fractions import Fraction as fr\n",
        "\n",
        "print(np.mean(proper_s_fl1))\n",
        "print(statistics.median(proper_s_fl1))\n",
        "print(np.std(proper_s_fl1))\n",
        "print(statistics.variance(proper_s_fl1))\n",
        "\n",
        "ordered= sorted(proper_s_fl1)\n",
        "i= round(len(ordered)*0.05)\n",
        "lower = ordered[i]\n",
        "i= round(len(ordered)*0.95)\n",
        "upper= ordered[i]\n",
        "\n",
        "print(lower)\n",
        "print(upper)\n"
      ]
    },
    {
      "cell_type": "code",
      "execution_count": null,
      "id": "3c97606d",
      "metadata": {
        "id": "3c97606d",
        "outputId": "9212c3f4-a134-4250-850d-3b6bfa848381",
        "colab": {
          "base_uri": "https://localhost:8080/"
        }
      },
      "outputs": [
        {
          "output_type": "stream",
          "name": "stdout",
          "text": [
            "150413.95179023207\n",
            "150606.0546875\n",
            "102694.4799965484\n",
            "10546308155.206535\n",
            "760.7000122070312\n",
            "313991.59375\n"
          ]
        }
      ],
      "source": [
        "s = FlowCal.io.FCSData('02-blank-A5-1.fcs')\n",
        "s\n",
        "\n",
        "s_fl1 = s[:, ['FL1-H']]\n",
        "s_fl1\n",
        "\n",
        "s_fl1 = s_fl1.tolist()\n",
        "s_fl1[0][0]\n",
        "\n",
        "proper_s_fl1 = []\n",
        "for i in range(len(s_fl1)):\n",
        "    proper_s_fl1.append(s_fl1[i][0])\n",
        "\n",
        "proper_s_fl1[:100]\n",
        "type(proper_s_fl1[:100])\n",
        "\n",
        "import statistics\n",
        "from statistics import stdev\n",
        "from fractions import Fraction as fr\n",
        "\n",
        "print(np.mean(proper_s_fl1))\n",
        "print(statistics.median(proper_s_fl1))\n",
        "print(np.std(proper_s_fl1))\n",
        "print(statistics.variance(proper_s_fl1))\n",
        "\n",
        "ordered= sorted(proper_s_fl1)\n",
        "i= round(len(ordered)*0.05)\n",
        "lower = ordered[i]\n",
        "i= round(len(ordered)*0.95)\n",
        "upper= ordered[i]\n",
        "\n",
        "print(lower)\n",
        "print(upper)\n"
      ]
    },
    {
      "cell_type": "code",
      "execution_count": null,
      "id": "f89bf2d3",
      "metadata": {
        "id": "f89bf2d3",
        "outputId": "a184dcc3-0d13-4366-b986-73f79238eb5a",
        "colab": {
          "base_uri": "https://localhost:8080/"
        }
      },
      "outputs": [
        {
          "output_type": "stream",
          "name": "stdout",
          "text": [
            "258593.13789295618\n",
            "235806.3515625\n",
            "208676.4692392887\n",
            "43546122588.33217\n",
            "756.2999877929688\n",
            "664887.125\n"
          ]
        }
      ],
      "source": [
        "s = FlowCal.io.FCSData('04-blank-A5-1.fcs')\n",
        "s\n",
        "\n",
        "s_fl1 = s[:, ['FL1-H']]\n",
        "s_fl1\n",
        "\n",
        "s_fl1 = s_fl1.tolist()\n",
        "s_fl1[0][0]\n",
        "\n",
        "proper_s_fl1 = []\n",
        "for i in range(len(s_fl1)):\n",
        "    proper_s_fl1.append(s_fl1[i][0])\n",
        "\n",
        "proper_s_fl1[:100]\n",
        "type(proper_s_fl1[:100])\n",
        "\n",
        "import statistics\n",
        "from statistics import stdev\n",
        "from fractions import Fraction as fr\n",
        "\n",
        "print(np.mean(proper_s_fl1))\n",
        "print(statistics.median(proper_s_fl1))\n",
        "print(np.std(proper_s_fl1))\n",
        "print(statistics.variance(proper_s_fl1))\n",
        "\n",
        "ordered= sorted(proper_s_fl1)\n",
        "i= round(len(ordered)*0.05)\n",
        "lower = ordered[i]\n",
        "i= round(len(ordered)*0.95)\n",
        "upper= ordered[i]\n",
        "\n",
        "print(lower)\n",
        "print(upper)\n"
      ]
    },
    {
      "cell_type": "code",
      "execution_count": null,
      "id": "530645b5",
      "metadata": {
        "id": "530645b5",
        "outputId": "3531401e-a728-4442-ed0e-5dd295e6c8f5",
        "colab": {
          "base_uri": "https://localhost:8080/"
        }
      },
      "outputs": [
        {
          "output_type": "stream",
          "name": "stdout",
          "text": [
            "233996.09171260387\n",
            "221377.203125\n",
            "144184.38635529112\n",
            "20789271392.11811\n",
            "3276.0\n",
            "484570.90625\n"
          ]
        }
      ],
      "source": [
        "s = FlowCal.io.FCSData('02-blank-A5-2.fcs')\n",
        "s\n",
        "\n",
        "s_fl1 = s[:, ['FL1-H']]\n",
        "s_fl1\n",
        "\n",
        "s_fl1 = s_fl1.tolist()\n",
        "s_fl1[0][0]\n",
        "\n",
        "proper_s_fl1 = []\n",
        "for i in range(len(s_fl1)):\n",
        "    proper_s_fl1.append(s_fl1[i][0])\n",
        "\n",
        "proper_s_fl1[:100]\n",
        "type(proper_s_fl1[:100])\n",
        "\n",
        "import statistics\n",
        "from statistics import stdev\n",
        "from fractions import Fraction as fr\n",
        "\n",
        "print(np.mean(proper_s_fl1))\n",
        "print(statistics.median(proper_s_fl1))\n",
        "print(np.std(proper_s_fl1))\n",
        "print(statistics.variance(proper_s_fl1))\n",
        "\n",
        "ordered= sorted(proper_s_fl1)\n",
        "i= round(len(ordered)*0.05)\n",
        "lower = ordered[i]\n",
        "i= round(len(ordered)*0.95)\n",
        "upper= ordered[i]\n",
        "\n",
        "print(lower)\n",
        "print(upper)\n"
      ]
    },
    {
      "cell_type": "code",
      "execution_count": null,
      "id": "ad9ae9cb",
      "metadata": {
        "id": "ad9ae9cb",
        "outputId": "4cb50a4a-1889-465e-eb21-8c572289bdce",
        "colab": {
          "base_uri": "https://localhost:8080/"
        }
      },
      "outputs": [
        {
          "output_type": "stream",
          "name": "stdout",
          "text": [
            "288855.75983637304\n",
            "285663.6875\n",
            "166341.19756531497\n",
            "27669562693.451645\n",
            "4932.5\n",
            "568952.625\n"
          ]
        }
      ],
      "source": [
        "s = FlowCal.io.FCSData('04-blank-A5-2.fcs')\n",
        "s\n",
        "\n",
        "s_fl1 = s[:, ['FL1-H']]\n",
        "s_fl1\n",
        "\n",
        "s_fl1 = s_fl1.tolist()\n",
        "s_fl1[0][0]\n",
        "\n",
        "proper_s_fl1 = []\n",
        "for i in range(len(s_fl1)):\n",
        "    proper_s_fl1.append(s_fl1[i][0])\n",
        "\n",
        "proper_s_fl1[:100]\n",
        "type(proper_s_fl1[:100])\n",
        "\n",
        "import statistics\n",
        "from statistics import stdev\n",
        "from fractions import Fraction as fr\n",
        "\n",
        "print(np.mean(proper_s_fl1))\n",
        "print(statistics.median(proper_s_fl1))\n",
        "print(np.std(proper_s_fl1))\n",
        "print(statistics.variance(proper_s_fl1))\n",
        "\n",
        "ordered= sorted(proper_s_fl1)\n",
        "i= round(len(ordered)*0.05)\n",
        "lower = ordered[i]\n",
        "i= round(len(ordered)*0.95)\n",
        "upper= ordered[i]\n",
        "\n",
        "print(lower)\n",
        "print(upper)\n"
      ]
    },
    {
      "cell_type": "code",
      "execution_count": null,
      "id": "b0548f13",
      "metadata": {
        "id": "b0548f13",
        "outputId": "f89b98fc-d2ba-4ff0-ea1a-7cf9f2c240d3",
        "colab": {
          "base_uri": "https://localhost:8080/"
        }
      },
      "outputs": [
        {
          "output_type": "stream",
          "name": "stdout",
          "text": [
            "225924.05014475316\n",
            "221412.90625\n",
            "154506.17453559855\n",
            "23872416794.101654\n",
            "1620.5\n",
            "491698.40625\n"
          ]
        }
      ],
      "source": [
        "s = FlowCal.io.FCSData('02-blank-A5-3.fcs')\n",
        "s\n",
        "\n",
        "s_fl1 = s[:, ['FL1-H']]\n",
        "s_fl1\n",
        "\n",
        "s_fl1 = s_fl1.tolist()\n",
        "s_fl1[0][0]\n",
        "\n",
        "proper_s_fl1 = []\n",
        "for i in range(len(s_fl1)):\n",
        "    proper_s_fl1.append(s_fl1[i][0])\n",
        "\n",
        "proper_s_fl1[:100]\n",
        "type(proper_s_fl1[:100])\n",
        "\n",
        "import statistics\n",
        "from statistics import stdev\n",
        "from fractions import Fraction as fr\n",
        "\n",
        "print(np.mean(proper_s_fl1))\n",
        "print(statistics.median(proper_s_fl1))\n",
        "print(np.std(proper_s_fl1))\n",
        "print(statistics.variance(proper_s_fl1))\n",
        "\n",
        "ordered= sorted(proper_s_fl1)\n",
        "i= round(len(ordered)*0.05)\n",
        "lower = ordered[i]\n",
        "i= round(len(ordered)*0.95)\n",
        "upper= ordered[i]\n",
        "\n",
        "print(lower)\n",
        "print(upper)\n"
      ]
    },
    {
      "cell_type": "code",
      "execution_count": null,
      "id": "791dcd04",
      "metadata": {
        "id": "791dcd04",
        "outputId": "629cdac8-8c99-4144-991a-320404e83b4c",
        "colab": {
          "base_uri": "https://localhost:8080/"
        }
      },
      "outputs": [
        {
          "output_type": "stream",
          "name": "stdout",
          "text": [
            "338607.6256082188\n",
            "326141.40625\n",
            "243865.588012745\n",
            "59470692964.36175\n",
            "1066.800048828125\n",
            "773765.6875\n"
          ]
        }
      ],
      "source": [
        "s = FlowCal.io.FCSData('04-blank-A5-3.fcs')\n",
        "s\n",
        "\n",
        "s_fl1 = s[:, ['FL1-H']]\n",
        "s_fl1\n",
        "\n",
        "s_fl1 = s_fl1.tolist()\n",
        "s_fl1[0][0]\n",
        "\n",
        "proper_s_fl1 = []\n",
        "for i in range(len(s_fl1)):\n",
        "    proper_s_fl1.append(s_fl1[i][0])\n",
        "\n",
        "proper_s_fl1[:100]\n",
        "type(proper_s_fl1[:100])\n",
        "\n",
        "import statistics\n",
        "from statistics import stdev\n",
        "from fractions import Fraction as fr\n",
        "\n",
        "print(np.mean(proper_s_fl1))\n",
        "print(statistics.median(proper_s_fl1))\n",
        "print(np.std(proper_s_fl1))\n",
        "print(statistics.variance(proper_s_fl1))\n",
        "\n",
        "ordered= sorted(proper_s_fl1)\n",
        "i= round(len(ordered)*0.05)\n",
        "lower = ordered[i]\n",
        "i= round(len(ordered)*0.95)\n",
        "upper= ordered[i]\n",
        "\n",
        "print(lower)\n",
        "print(upper)\n"
      ]
    },
    {
      "cell_type": "code",
      "execution_count": null,
      "id": "41d25b98",
      "metadata": {
        "id": "41d25b98",
        "outputId": "c5ce1be8-29fb-4231-d2d6-65185a0b0a96",
        "colab": {
          "base_uri": "https://localhost:8080/"
        }
      },
      "outputs": [
        {
          "output_type": "stream",
          "name": "stdout",
          "text": [
            "200052.61833650692\n",
            "199312.3515625\n",
            "120997.30376868995\n",
            "14640401716.105013\n",
            "1049.5\n",
            "397858.8125\n"
          ]
        }
      ],
      "source": [
        "s = FlowCal.io.FCSData('02-blank-A5-4.fcs')\n",
        "s\n",
        "\n",
        "s_fl1 = s[:, ['FL1-H']]\n",
        "s_fl1\n",
        "\n",
        "s_fl1 = s_fl1.tolist()\n",
        "s_fl1[0][0]\n",
        "\n",
        "proper_s_fl1 = []\n",
        "for i in range(len(s_fl1)):\n",
        "    proper_s_fl1.append(s_fl1[i][0])\n",
        "\n",
        "proper_s_fl1[:100]\n",
        "type(proper_s_fl1[:100])\n",
        "\n",
        "import statistics\n",
        "from statistics import stdev\n",
        "from fractions import Fraction as fr\n",
        "\n",
        "print(np.mean(proper_s_fl1))\n",
        "print(statistics.median(proper_s_fl1))\n",
        "print(np.std(proper_s_fl1))\n",
        "print(statistics.variance(proper_s_fl1))\n",
        "\n",
        "ordered= sorted(proper_s_fl1)\n",
        "i= round(len(ordered)*0.05)\n",
        "lower = ordered[i]\n",
        "i= round(len(ordered)*0.95)\n",
        "upper= ordered[i]\n",
        "\n",
        "print(lower)\n",
        "print(upper)\n"
      ]
    },
    {
      "cell_type": "code",
      "execution_count": null,
      "id": "5fbcbf61",
      "metadata": {
        "id": "5fbcbf61",
        "outputId": "2f233864-0cb3-47d7-fe06-ce6da2a9d9ac",
        "colab": {
          "base_uri": "https://localhost:8080/"
        }
      },
      "outputs": [
        {
          "output_type": "stream",
          "name": "stdout",
          "text": [
            "243045.68353720117\n",
            "243061.90625\n",
            "143351.42889517633\n",
            "20549829796.91166\n",
            "9602.2998046875\n",
            "472336.90625\n"
          ]
        }
      ],
      "source": [
        "s = FlowCal.io.FCSData('04-blank-A5-4.fcs')\n",
        "s\n",
        "\n",
        "s_fl1 = s[:, ['FL1-H']]\n",
        "s_fl1\n",
        "\n",
        "s_fl1 = s_fl1.tolist()\n",
        "s_fl1[0][0]\n",
        "\n",
        "proper_s_fl1 = []\n",
        "for i in range(len(s_fl1)):\n",
        "    proper_s_fl1.append(s_fl1[i][0])\n",
        "\n",
        "proper_s_fl1[:100]\n",
        "type(proper_s_fl1[:100])\n",
        "\n",
        "import statistics\n",
        "from statistics import stdev\n",
        "from fractions import Fraction as fr\n",
        "\n",
        "print(np.mean(proper_s_fl1))\n",
        "print(statistics.median(proper_s_fl1))\n",
        "print(np.std(proper_s_fl1))\n",
        "print(statistics.variance(proper_s_fl1))\n",
        "\n",
        "ordered= sorted(proper_s_fl1)\n",
        "i= round(len(ordered)*0.05)\n",
        "lower = ordered[i]\n",
        "i= round(len(ordered)*0.95)\n",
        "upper= ordered[i]\n",
        "\n",
        "print(lower)\n",
        "print(upper)\n"
      ]
    },
    {
      "cell_type": "code",
      "execution_count": null,
      "id": "161a3f47",
      "metadata": {
        "id": "161a3f47",
        "outputId": "7ab2c32b-1953-49fb-a684-66feaeb68eab",
        "colab": {
          "base_uri": "https://localhost:8080/"
        }
      },
      "outputs": [
        {
          "output_type": "stream",
          "name": "stdout",
          "text": [
            "73338.35702244345\n",
            "72594.44921875\n",
            "49978.32279459925\n",
            "2497852467.484807\n",
            "533.5\n",
            "154616.796875\n"
          ]
        }
      ],
      "source": [
        "s = FlowCal.io.FCSData('02-blank-A6-1.fcs')\n",
        "s\n",
        "\n",
        "s_fl1 = s[:, ['FL1-H']]\n",
        "s_fl1\n",
        "\n",
        "s_fl1 = s_fl1.tolist()\n",
        "s_fl1[0][0]\n",
        "\n",
        "proper_s_fl1 = []\n",
        "for i in range(len(s_fl1)):\n",
        "    proper_s_fl1.append(s_fl1[i][0])\n",
        "\n",
        "proper_s_fl1[:100]\n",
        "type(proper_s_fl1[:100])\n",
        "\n",
        "import statistics\n",
        "from statistics import stdev\n",
        "from fractions import Fraction as fr\n",
        "\n",
        "print(np.mean(proper_s_fl1))\n",
        "print(statistics.median(proper_s_fl1))\n",
        "print(np.std(proper_s_fl1))\n",
        "print(statistics.variance(proper_s_fl1))\n",
        "\n",
        "ordered= sorted(proper_s_fl1)\n",
        "i= round(len(ordered)*0.05)\n",
        "lower = ordered[i]\n",
        "i= round(len(ordered)*0.95)\n",
        "upper= ordered[i]\n",
        "\n",
        "print(lower)\n",
        "print(upper)\n"
      ]
    },
    {
      "cell_type": "code",
      "execution_count": null,
      "id": "2f45aa47",
      "metadata": {
        "id": "2f45aa47",
        "outputId": "7869d64f-37c9-49d7-c970-079f339078d9",
        "colab": {
          "base_uri": "https://localhost:8080/"
        }
      },
      "outputs": [
        {
          "output_type": "stream",
          "name": "stdout",
          "text": [
            "130024.26011497178\n",
            "114557.0\n",
            "104018.45961228397\n",
            "10819882226.255188\n",
            "483.6000061035156\n",
            "319266.3125\n"
          ]
        }
      ],
      "source": [
        "s = FlowCal.io.FCSData('04-blank-A6-1.fcs')\n",
        "s\n",
        "\n",
        "s_fl1 = s[:, ['FL1-H']]\n",
        "s_fl1\n",
        "\n",
        "s_fl1 = s_fl1.tolist()\n",
        "s_fl1[0][0]\n",
        "\n",
        "proper_s_fl1 = []\n",
        "for i in range(len(s_fl1)):\n",
        "    proper_s_fl1.append(s_fl1[i][0])\n",
        "\n",
        "proper_s_fl1[:100]\n",
        "type(proper_s_fl1[:100])\n",
        "\n",
        "import statistics\n",
        "from statistics import stdev\n",
        "from fractions import Fraction as fr\n",
        "\n",
        "print(np.mean(proper_s_fl1))\n",
        "print(statistics.median(proper_s_fl1))\n",
        "print(np.std(proper_s_fl1))\n",
        "print(statistics.variance(proper_s_fl1))\n",
        "\n",
        "ordered= sorted(proper_s_fl1)\n",
        "i= round(len(ordered)*0.05)\n",
        "lower = ordered[i]\n",
        "i= round(len(ordered)*0.95)\n",
        "upper= ordered[i]\n",
        "\n",
        "print(lower)\n",
        "print(upper)\n"
      ]
    },
    {
      "cell_type": "code",
      "execution_count": null,
      "id": "4b6ab901",
      "metadata": {
        "id": "4b6ab901",
        "outputId": "b6ec409d-b90e-48ed-a664-df0e871af95e",
        "colab": {
          "base_uri": "https://localhost:8080/"
        }
      },
      "outputs": [
        {
          "output_type": "stream",
          "name": "stdout",
          "text": [
            "157622.14947032704\n",
            "153292.0\n",
            "112463.772937778\n",
            "12648182657.42812\n",
            "731.5999755859375\n",
            "345733.1875\n"
          ]
        }
      ],
      "source": [
        "s = FlowCal.io.FCSData('02-blank-A6-2.fcs')\n",
        "s\n",
        "\n",
        "s_fl1 = s[:, ['FL1-H']]\n",
        "s_fl1 = s[:, ['FL1-H']]\n",
        "s_fl1\n",
        "\n",
        "s_fl1 = s_fl1.tolist()\n",
        "s_fl1[0][0]\n",
        "\n",
        "proper_s_fl1 = []\n",
        "for i in range(len(s_fl1)):\n",
        "    proper_s_fl1.append(s_fl1[i][0])\n",
        "\n",
        "proper_s_fl1[:100]\n",
        "type(proper_s_fl1[:100])\n",
        "\n",
        "import statistics\n",
        "from statistics import stdev\n",
        "from fractions import Fraction as fr\n",
        "\n",
        "print(np.mean(proper_s_fl1))\n",
        "print(statistics.median(proper_s_fl1))\n",
        "print(np.std(proper_s_fl1))\n",
        "print(statistics.variance(proper_s_fl1))\n",
        "\n",
        "ordered= sorted(proper_s_fl1)\n",
        "i= round(len(ordered)*0.05)\n",
        "lower = ordered[i]\n",
        "i= round(len(ordered)*0.95)\n",
        "upper= ordered[i]\n",
        "\n",
        "print(lower)\n",
        "print(upper)\n"
      ]
    },
    {
      "cell_type": "code",
      "execution_count": null,
      "id": "449b0a63",
      "metadata": {
        "id": "449b0a63",
        "outputId": "70143e8b-0021-4240-d87e-6877064046a8",
        "colab": {
          "base_uri": "https://localhost:8080/"
        }
      },
      "outputs": [
        {
          "output_type": "stream",
          "name": "stdout",
          "text": [
            "268976.96408209146\n",
            "241273.8984375\n",
            "206465.34530119543\n",
            "42628184769.61099\n",
            "956.2999877929688\n",
            "646744.625\n"
          ]
        }
      ],
      "source": [
        "s = FlowCal.io.FCSData('04-blank-A6-2.fcs')\n",
        "s\n",
        "\n",
        "s_fl1 = s[:, ['FL1-H']]\n",
        "s_fl1\n",
        "\n",
        "s_fl1 = s_fl1.tolist()\n",
        "s_fl1[0][0]\n",
        "\n",
        "proper_s_fl1 = []\n",
        "for i in range(len(s_fl1)):\n",
        "    proper_s_fl1.append(s_fl1[i][0])\n",
        "\n",
        "proper_s_fl1[:100]\n",
        "type(proper_s_fl1[:100])\n",
        "\n",
        "import statistics\n",
        "from statistics import stdev\n",
        "from fractions import Fraction as fr\n",
        "\n",
        "print(np.mean(proper_s_fl1))\n",
        "print(statistics.median(proper_s_fl1))\n",
        "print(np.std(proper_s_fl1))\n",
        "print(statistics.variance(proper_s_fl1))\n",
        "\n",
        "ordered= sorted(proper_s_fl1)\n",
        "i= round(len(ordered)*0.05)\n",
        "lower = ordered[i]\n",
        "i= round(len(ordered)*0.95)\n",
        "upper= ordered[i]\n",
        "\n",
        "print(lower)\n",
        "print(upper)\n"
      ]
    },
    {
      "cell_type": "code",
      "execution_count": null,
      "id": "5f24b4cf",
      "metadata": {
        "id": "5f24b4cf",
        "outputId": "cb6febda-61a7-46df-b29c-908f7452aa81",
        "colab": {
          "base_uri": "https://localhost:8080/"
        }
      },
      "outputs": [
        {
          "output_type": "stream",
          "name": "stdout",
          "text": [
            "104480.05670282713\n",
            "101627.75\n",
            "64485.458592838164\n",
            "4158401261.127841\n",
            "1182.4000244140625\n",
            "212159.296875\n"
          ]
        }
      ],
      "source": [
        "s = FlowCal.io.FCSData('02-blank-A6-3.fcs')\n",
        "s\n",
        "\n",
        "s_fl1 = s[:, ['FL1-H']]\n",
        "s_fl1\n",
        "\n",
        "s_fl1 = s_fl1.tolist()\n",
        "s_fl1[0][0]\n",
        "\n",
        "proper_s_fl1 = []\n",
        "for i in range(len(s_fl1)):\n",
        "    proper_s_fl1.append(s_fl1[i][0])\n",
        "\n",
        "proper_s_fl1[:100]\n",
        "type(proper_s_fl1[:100])\n",
        "\n",
        "import statistics\n",
        "from statistics import stdev\n",
        "from fractions import Fraction as fr\n",
        "\n",
        "print(np.mean(proper_s_fl1))\n",
        "print(statistics.median(proper_s_fl1))\n",
        "print(np.std(proper_s_fl1))\n",
        "print(statistics.variance(proper_s_fl1))\n",
        "\n",
        "ordered= sorted(proper_s_fl1)\n",
        "i= round(len(ordered)*0.05)\n",
        "lower = ordered[i]\n",
        "i= round(len(ordered)*0.95)\n",
        "upper= ordered[i]\n",
        "\n",
        "print(lower)\n",
        "print(upper)\n"
      ]
    },
    {
      "cell_type": "code",
      "execution_count": null,
      "id": "71309532",
      "metadata": {
        "id": "71309532",
        "outputId": "2d3e5a96-80b9-464a-f226-948b288245ca",
        "colab": {
          "base_uri": "https://localhost:8080/"
        }
      },
      "outputs": [
        {
          "output_type": "stream",
          "name": "stdout",
          "text": [
            "141777.5591972398\n",
            "133495.296875\n",
            "91348.61781799157\n",
            "8344601501.88906\n",
            "1217.300048828125\n",
            "298837.09375\n"
          ]
        }
      ],
      "source": [
        "s = FlowCal.io.FCSData('04-blank-A6-3.fcs')\n",
        "s\n",
        "\n",
        "s_fl1 = s[:, ['FL1-H']]\n",
        "s_fl1\n",
        "\n",
        "s_fl1 = s_fl1.tolist()\n",
        "s_fl1[0][0]\n",
        "\n",
        "proper_s_fl1 = []\n",
        "for i in range(len(s_fl1)):\n",
        "    proper_s_fl1.append(s_fl1[i][0])\n",
        "\n",
        "proper_s_fl1[:100]\n",
        "type(proper_s_fl1[:100])\n",
        "\n",
        "import statistics\n",
        "from statistics import stdev\n",
        "from fractions import Fraction as fr\n",
        "\n",
        "print(np.mean(proper_s_fl1))\n",
        "print(statistics.median(proper_s_fl1))\n",
        "print(np.std(proper_s_fl1))\n",
        "print(statistics.variance(proper_s_fl1))\n",
        "\n",
        "ordered= sorted(proper_s_fl1)\n",
        "i= round(len(ordered)*0.05)\n",
        "lower = ordered[i]\n",
        "i= round(len(ordered)*0.95)\n",
        "upper= ordered[i]\n",
        "\n",
        "print(lower)\n",
        "print(upper)\n"
      ]
    },
    {
      "cell_type": "code",
      "execution_count": null,
      "id": "8509cdfd",
      "metadata": {
        "id": "8509cdfd",
        "outputId": "76137656-c369-4f26-b406-0efac9643dc7",
        "colab": {
          "base_uri": "https://localhost:8080/"
        }
      },
      "outputs": [
        {
          "output_type": "stream",
          "name": "stdout",
          "text": [
            "200299.8826907068\n",
            "183032.1953125\n",
            "134378.370078992\n",
            "18057602455.614887\n",
            "1404.0999755859375\n",
            "447280.09375\n"
          ]
        }
      ],
      "source": [
        "s = FlowCal.io.FCSData('02-blank-A6-4.fcs')\n",
        "s\n",
        "\n",
        "s_fl1 = s[:, ['FL1-H']]\n",
        "s_fl1\n",
        "\n",
        "s_fl1 = s_fl1.tolist()\n",
        "s_fl1[0][0]\n",
        "\n",
        "proper_s_fl1 = []\n",
        "for i in range(len(s_fl1)):\n",
        "    proper_s_fl1.append(s_fl1[i][0])\n",
        "\n",
        "proper_s_fl1[:100]\n",
        "type(proper_s_fl1[:100])\n",
        "\n",
        "import statistics\n",
        "from statistics import stdev\n",
        "from fractions import Fraction as fr\n",
        "\n",
        "print(np.mean(proper_s_fl1))\n",
        "print(statistics.median(proper_s_fl1))\n",
        "print(np.std(proper_s_fl1))\n",
        "print(statistics.variance(proper_s_fl1))\n",
        "\n",
        "ordered= sorted(proper_s_fl1)\n",
        "i= round(len(ordered)*0.05)\n",
        "lower = ordered[i]\n",
        "i= round(len(ordered)*0.95)\n",
        "upper= ordered[i]\n",
        "\n",
        "print(lower)\n",
        "print(upper)\n"
      ]
    },
    {
      "cell_type": "code",
      "execution_count": null,
      "id": "530f73f4",
      "metadata": {
        "id": "530f73f4",
        "outputId": "b1842a7d-3e99-4b8d-f3e4-c346302630c0",
        "colab": {
          "base_uri": "https://localhost:8080/"
        }
      },
      "outputs": [
        {
          "output_type": "stream",
          "name": "stdout",
          "text": [
            "171696.1013560271\n",
            "173352.703125\n",
            "102425.42798335924\n",
            "10491064016.341282\n",
            "5960.89990234375\n",
            "337293.5\n"
          ]
        }
      ],
      "source": [
        "s = FlowCal.io.FCSData('04-blank-A6-4.fcs')\n",
        "s\n",
        "\n",
        "s_fl1 = s[:, ['FL1-H']]\n",
        "s_fl1\n",
        "\n",
        "s_fl1 = s_fl1.tolist()\n",
        "s_fl1[0][0]\n",
        "\n",
        "proper_s_fl1 = []\n",
        "for i in range(len(s_fl1)):\n",
        "    proper_s_fl1.append(s_fl1[i][0])\n",
        "\n",
        "proper_s_fl1[:100]\n",
        "type(proper_s_fl1[:100])\n",
        "\n",
        "import statistics\n",
        "from statistics import stdev\n",
        "from fractions import Fraction as fr\n",
        "\n",
        "print(np.mean(proper_s_fl1))\n",
        "print(statistics.median(proper_s_fl1))\n",
        "print(np.std(proper_s_fl1))\n",
        "print(statistics.variance(proper_s_fl1))\n",
        "\n",
        "ordered= sorted(proper_s_fl1)\n",
        "i= round(len(ordered)*0.05)\n",
        "lower = ordered[i]\n",
        "i= round(len(ordered)*0.95)\n",
        "upper= ordered[i]\n",
        "\n",
        "print(lower)\n",
        "print(upper)\n"
      ]
    },
    {
      "cell_type": "code",
      "execution_count": null,
      "id": "8e8da5c7",
      "metadata": {
        "id": "8e8da5c7",
        "outputId": "cebce9c3-ff2e-4d1b-c971-268f608e6bea",
        "colab": {
          "base_uri": "https://localhost:8080/"
        }
      },
      "outputs": [
        {
          "output_type": "stream",
          "name": "stdout",
          "text": [
            "72984.66066640147\n",
            "72525.3984375\n",
            "52053.836746786634\n",
            "2709638733.8040333\n",
            "546.9000244140625\n",
            "157920.5\n"
          ]
        }
      ],
      "source": [
        "s = FlowCal.io.FCSData('02-blank-A7-1.fcs')\n",
        "s\n",
        "\n",
        "s_fl1 = s[:, ['FL1-H']]\n",
        "s_fl1\n",
        "\n",
        "s_fl1 = s_fl1.tolist()\n",
        "s_fl1[0][0]\n",
        "\n",
        "proper_s_fl1 = []\n",
        "for i in range(len(s_fl1)):\n",
        "    proper_s_fl1.append(s_fl1[i][0])\n",
        "\n",
        "proper_s_fl1[:100]\n",
        "type(proper_s_fl1[:100])\n",
        "\n",
        "import statistics\n",
        "from statistics import stdev\n",
        "from fractions import Fraction as fr\n",
        "\n",
        "print(np.mean(proper_s_fl1))\n",
        "print(statistics.median(proper_s_fl1))\n",
        "print(np.std(proper_s_fl1))\n",
        "print(statistics.variance(proper_s_fl1))\n",
        "\n",
        "ordered= sorted(proper_s_fl1)\n",
        "i= round(len(ordered)*0.05)\n",
        "lower = ordered[i]\n",
        "i= round(len(ordered)*0.95)\n",
        "upper= ordered[i]\n",
        "\n",
        "print(lower)\n",
        "print(upper)\n"
      ]
    },
    {
      "cell_type": "code",
      "execution_count": null,
      "id": "d7790f0e",
      "metadata": {
        "id": "d7790f0e",
        "outputId": "f6570c29-5a7c-407b-98e2-123998a50ce6",
        "colab": {
          "base_uri": "https://localhost:8080/"
        }
      },
      "outputs": [
        {
          "output_type": "stream",
          "name": "stdout",
          "text": [
            "111676.46655638504\n",
            "115085.75\n",
            "78720.06167957744\n",
            "6196906815.902939\n",
            "580.2999877929688\n",
            "238505.796875\n"
          ]
        }
      ],
      "source": [
        "s = FlowCal.io.FCSData('04-blank-A7-1.fcs')\n",
        "s\n",
        "\n",
        "s_fl1 = s[:, ['FL1-H']]\n",
        "s_fl1\n",
        "\n",
        "s_fl1 = s_fl1.tolist()\n",
        "s_fl1[0][0]\n",
        "\n",
        "proper_s_fl1 = []\n",
        "for i in range(len(s_fl1)):\n",
        "    proper_s_fl1.append(s_fl1[i][0])\n",
        "\n",
        "proper_s_fl1[:100]\n",
        "type(proper_s_fl1[:100])\n",
        "\n",
        "import statistics\n",
        "from statistics import stdev\n",
        "from fractions import Fraction as fr\n",
        "\n",
        "print(np.mean(proper_s_fl1))\n",
        "print(statistics.median(proper_s_fl1))\n",
        "print(np.std(proper_s_fl1))\n",
        "print(statistics.variance(proper_s_fl1))\n",
        "\n",
        "ordered= sorted(proper_s_fl1)\n",
        "i= round(len(ordered)*0.05)\n",
        "lower = ordered[i]\n",
        "i= round(len(ordered)*0.95)\n",
        "upper= ordered[i]\n",
        "\n",
        "print(lower)\n",
        "print(upper)\n"
      ]
    },
    {
      "cell_type": "code",
      "execution_count": null,
      "id": "c30ae5bc",
      "metadata": {
        "id": "c30ae5bc",
        "outputId": "ed1e9cd6-04d9-4eb7-c096-cb19b1195b0d",
        "colab": {
          "base_uri": "https://localhost:8080/"
        }
      },
      "outputs": [
        {
          "output_type": "stream",
          "name": "stdout",
          "text": [
            "82108.08127356411\n",
            "80308.3984375\n",
            "57879.81703729325\n",
            "3350090159.1665564\n",
            "583.4000244140625\n",
            "175749.59375\n"
          ]
        }
      ],
      "source": [
        "s = FlowCal.io.FCSData('02-blank-A7-2.fcs')\n",
        "s\n",
        "\n",
        "s_fl1 = s[:, ['FL1-H']]\n",
        "s_fl1\n",
        "\n",
        "s_fl1 = s_fl1.tolist()\n",
        "s_fl1[0][0]\n",
        "\n",
        "proper_s_fl1 = []\n",
        "for i in range(len(s_fl1)):\n",
        "    proper_s_fl1.append(s_fl1[i][0])\n",
        "\n",
        "proper_s_fl1[:100]\n",
        "type(proper_s_fl1[:100])\n",
        "\n",
        "import statistics\n",
        "from statistics import stdev\n",
        "from fractions import Fraction as fr\n",
        "\n",
        "print(np.mean(proper_s_fl1))\n",
        "print(statistics.median(proper_s_fl1))\n",
        "print(np.std(proper_s_fl1))\n",
        "print(statistics.variance(proper_s_fl1))\n",
        "\n",
        "ordered= sorted(proper_s_fl1)\n",
        "i= round(len(ordered)*0.05)\n",
        "lower = ordered[i]\n",
        "i= round(len(ordered)*0.95)\n",
        "upper= ordered[i]\n",
        "\n",
        "print(lower)\n",
        "print(upper)\n"
      ]
    },
    {
      "cell_type": "code",
      "execution_count": null,
      "id": "00a520d6",
      "metadata": {
        "id": "00a520d6",
        "outputId": "6f024153-08be-467b-df73-ed4cbddd2a32",
        "colab": {
          "base_uri": "https://localhost:8080/"
        }
      },
      "outputs": [
        {
          "output_type": "stream",
          "name": "stdout",
          "text": [
            "132672.00590286218\n",
            "128211.8984375\n",
            "96847.70330190125\n",
            "9379516924.079096\n",
            "567.7000122070312\n",
            "300362.5\n"
          ]
        }
      ],
      "source": [
        "s = FlowCal.io.FCSData('04-blank-A7-2.fcs')\n",
        "s\n",
        "\n",
        "s_fl1 = s[:, ['FL1-H']]\n",
        "s_fl1\n",
        "\n",
        "s_fl1 = s_fl1.tolist()\n",
        "s_fl1[0][0]\n",
        "\n",
        "proper_s_fl1 = []\n",
        "for i in range(len(s_fl1)):\n",
        "    proper_s_fl1.append(s_fl1[i][0])\n",
        "\n",
        "proper_s_fl1[:100]\n",
        "type(proper_s_fl1[:100])\n",
        "\n",
        "import statistics\n",
        "from statistics import stdev\n",
        "from fractions import Fraction as fr\n",
        "\n",
        "print(np.mean(proper_s_fl1))\n",
        "print(statistics.median(proper_s_fl1))\n",
        "print(np.std(proper_s_fl1))\n",
        "print(statistics.variance(proper_s_fl1))\n",
        "\n",
        "ordered= sorted(proper_s_fl1)\n",
        "i= round(len(ordered)*0.05)\n",
        "lower = ordered[i]\n",
        "i= round(len(ordered)*0.95)\n",
        "upper= ordered[i]\n",
        "\n",
        "print(lower)\n",
        "print(upper)"
      ]
    },
    {
      "cell_type": "code",
      "execution_count": null,
      "id": "9180bd1f",
      "metadata": {
        "id": "9180bd1f",
        "outputId": "a91d29b8-ea97-4bfd-a4da-8fbf6fccefad",
        "colab": {
          "base_uri": "https://localhost:8080/"
        }
      },
      "outputs": [
        {
          "output_type": "stream",
          "name": "stdout",
          "text": [
            "109882.97384435704\n",
            "110096.55078125\n",
            "71969.23072492237\n",
            "5179601250.360732\n",
            "1036.699951171875\n",
            "224834.09375\n"
          ]
        }
      ],
      "source": [
        "s = FlowCal.io.FCSData('02-blank-A7-3.fcs')\n",
        "s\n",
        "\n",
        "s_fl1 = s[:, ['FL1-H']]\n",
        "s_fl1\n",
        "\n",
        "s_fl1 = s_fl1.tolist()\n",
        "s_fl1[0][0]\n",
        "\n",
        "proper_s_fl1 = []\n",
        "for i in range(len(s_fl1)):\n",
        "    proper_s_fl1.append(s_fl1[i][0])\n",
        "\n",
        "proper_s_fl1[:100]\n",
        "type(proper_s_fl1[:100])\n",
        "\n",
        "import statistics\n",
        "from statistics import stdev\n",
        "from fractions import Fraction as fr\n",
        "\n",
        "print(np.mean(proper_s_fl1))\n",
        "print(statistics.median(proper_s_fl1))\n",
        "print(np.std(proper_s_fl1))\n",
        "print(statistics.variance(proper_s_fl1))\n",
        "\n",
        "ordered= sorted(proper_s_fl1)\n",
        "i= round(len(ordered)*0.05)\n",
        "lower = ordered[i]\n",
        "i= round(len(ordered)*0.95)\n",
        "upper= ordered[i]\n",
        "\n",
        "print(lower)\n",
        "print(upper)\n"
      ]
    },
    {
      "cell_type": "code",
      "execution_count": null,
      "id": "3c5fbbb5",
      "metadata": {
        "id": "3c5fbbb5",
        "outputId": "045886f6-d72b-4eaa-8f7f-a0f8e9532ab9",
        "colab": {
          "base_uri": "https://localhost:8080/"
        }
      },
      "outputs": [
        {
          "output_type": "stream",
          "name": "stdout",
          "text": [
            "172387.92306595112\n",
            "176372.703125\n",
            "106689.79818167587\n",
            "11382770536.69351\n",
            "973.2999877929688\n",
            "339343.8125\n"
          ]
        }
      ],
      "source": [
        "s = FlowCal.io.FCSData('04-blank-A7-3.fcs')\n",
        "s\n",
        "\n",
        "s_fl1 = s[:, ['FL1-H']]\n",
        "s_fl1\n",
        "\n",
        "s_fl1 = s_fl1.tolist()\n",
        "s_fl1[0][0]\n",
        "\n",
        "proper_s_fl1 = []\n",
        "for i in range(len(s_fl1)):\n",
        "    proper_s_fl1.append(s_fl1[i][0])\n",
        "\n",
        "proper_s_fl1[:100]\n",
        "type(proper_s_fl1[:100])\n",
        "\n",
        "import statistics\n",
        "from statistics import stdev\n",
        "from fractions import Fraction as fr\n",
        "\n",
        "print(np.mean(proper_s_fl1))\n",
        "print(statistics.median(proper_s_fl1))\n",
        "print(np.std(proper_s_fl1))\n",
        "print(statistics.variance(proper_s_fl1))\n",
        "\n",
        "ordered= sorted(proper_s_fl1)\n",
        "i= round(len(ordered)*0.05)\n",
        "lower = ordered[i]\n",
        "i= round(len(ordered)*0.95)\n",
        "upper= ordered[i]\n",
        "\n",
        "print(lower)\n",
        "print(upper)\n"
      ]
    },
    {
      "cell_type": "code",
      "execution_count": null,
      "id": "590161e6",
      "metadata": {
        "id": "590161e6",
        "outputId": "aa8f359e-4c01-4a13-c486-ed98d9d72700",
        "colab": {
          "base_uri": "https://localhost:8080/"
        }
      },
      "outputs": [
        {
          "output_type": "stream",
          "name": "stdout",
          "text": [
            "100237.46980254706\n",
            "96035.8984375\n",
            "65414.14168097151\n",
            "4279025784.2704573\n",
            "976.2000122070312\n",
            "204124.203125\n"
          ]
        }
      ],
      "source": [
        "s = FlowCal.io.FCSData('02-blank-A7-4.fcs')\n",
        "s\n",
        "\n",
        "s_fl1 = s[:, ['FL1-H']]\n",
        "s_fl1\n",
        "\n",
        "s_fl1 = s_fl1.tolist()\n",
        "s_fl1[0][0]\n",
        "\n",
        "proper_s_fl1 = []\n",
        "for i in range(len(s_fl1)):\n",
        "    proper_s_fl1.append(s_fl1[i][0])\n",
        "\n",
        "proper_s_fl1[:100]\n",
        "type(proper_s_fl1[:100])\n",
        "\n",
        "import statistics\n",
        "from statistics import stdev\n",
        "from fractions import Fraction as fr\n",
        "\n",
        "print(np.mean(proper_s_fl1))\n",
        "print(statistics.median(proper_s_fl1))\n",
        "print(np.std(proper_s_fl1))\n",
        "print(statistics.variance(proper_s_fl1))\n",
        "\n",
        "ordered= sorted(proper_s_fl1)\n",
        "i= round(len(ordered)*0.05)\n",
        "lower = ordered[i]\n",
        "i= round(len(ordered)*0.95)\n",
        "upper= ordered[i]\n",
        "\n",
        "print(lower)\n",
        "print(upper)"
      ]
    },
    {
      "cell_type": "code",
      "execution_count": null,
      "id": "9f8d04d0",
      "metadata": {
        "id": "9f8d04d0",
        "outputId": "879c24b0-9b75-4378-966a-7a8d2591e289",
        "colab": {
          "base_uri": "https://localhost:8080/"
        }
      },
      "outputs": [
        {
          "output_type": "stream",
          "name": "stdout",
          "text": [
            "113319.26572377363\n",
            "114060.69921875\n",
            "66492.251940774\n",
            "4421252947.690505\n",
            "3645.0\n",
            "222021.90625\n"
          ]
        }
      ],
      "source": [
        "s = FlowCal.io.FCSData('04-blank-A7-4.fcs')\n",
        "s\n",
        "\n",
        "s_fl1 = s[:, ['FL1-H']]\n",
        "s_fl1\n",
        "\n",
        "s_fl1 = s_fl1.tolist()\n",
        "s_fl1[0][0]\n",
        "\n",
        "proper_s_fl1 = []\n",
        "for i in range(len(s_fl1)):\n",
        "    proper_s_fl1.append(s_fl1[i][0])\n",
        "\n",
        "proper_s_fl1[:100]\n",
        "type(proper_s_fl1[:100])\n",
        "\n",
        "import statistics\n",
        "from statistics import stdev\n",
        "from fractions import Fraction as fr\n",
        "\n",
        "print(np.mean(proper_s_fl1))\n",
        "print(statistics.median(proper_s_fl1))\n",
        "print(np.std(proper_s_fl1))\n",
        "print(statistics.variance(proper_s_fl1))\n",
        "\n",
        "ordered= sorted(proper_s_fl1)\n",
        "i= round(len(ordered)*0.05)\n",
        "lower = ordered[i]\n",
        "i= round(len(ordered)*0.95)\n",
        "upper= ordered[i]\n",
        "\n",
        "print(lower)\n",
        "print(upper)\n"
      ]
    },
    {
      "cell_type": "code",
      "execution_count": null,
      "id": "21684748",
      "metadata": {
        "id": "21684748",
        "outputId": "1db31fee-3593-4559-eb1c-abcd25b998d6",
        "colab": {
          "base_uri": "https://localhost:8080/"
        }
      },
      "outputs": [
        {
          "output_type": "stream",
          "name": "stdout",
          "text": [
            "46777.76126927593\n",
            "43324.3984375\n",
            "32127.654980052146\n",
            "1032193026.6383774\n",
            "532.2000122070312\n",
            "103467.796875\n"
          ]
        }
      ],
      "source": [
        "s = FlowCal.io.FCSData('02-blank-A8-1.fcs')\n",
        "s\n",
        "\n",
        "s_fl1 = s[:, ['FL1-H']]\n",
        "s_fl1\n",
        "\n",
        "s_fl1 = s_fl1.tolist()\n",
        "s_fl1[0][0]\n",
        "\n",
        "proper_s_fl1 = []\n",
        "for i in range(len(s_fl1)):\n",
        "    proper_s_fl1.append(s_fl1[i][0])\n",
        "\n",
        "proper_s_fl1[:100]\n",
        "type(proper_s_fl1[:100])\n",
        "\n",
        "import statistics\n",
        "from statistics import stdev\n",
        "from fractions import Fraction as fr\n",
        "\n",
        "print(np.mean(proper_s_fl1))\n",
        "print(statistics.median(proper_s_fl1))\n",
        "print(np.std(proper_s_fl1))\n",
        "print(statistics.variance(proper_s_fl1))\n",
        "\n",
        "ordered= sorted(proper_s_fl1)\n",
        "i= round(len(ordered)*0.05)\n",
        "lower = ordered[i]\n",
        "i= round(len(ordered)*0.95)\n",
        "upper= ordered[i]\n",
        "\n",
        "print(lower)\n",
        "print(upper)"
      ]
    },
    {
      "cell_type": "code",
      "execution_count": null,
      "id": "65dcd22d",
      "metadata": {
        "id": "65dcd22d",
        "outputId": "6757256d-c5fa-43e5-fdad-9ebc810d1fe3",
        "colab": {
          "base_uri": "https://localhost:8080/"
        }
      },
      "outputs": [
        {
          "output_type": "stream",
          "name": "stdout",
          "text": [
            "76649.21587275318\n",
            "59040.80078125\n",
            "68804.5166790257\n",
            "4734082601.628774\n",
            "547.5\n",
            "208240.90625\n"
          ]
        }
      ],
      "source": [
        "s = FlowCal.io.FCSData('04-blank-A8-1.fcs')\n",
        "s\n",
        "\n",
        "s_fl1 = s[:, ['FL1-H']]\n",
        "s_fl1\n",
        "\n",
        "s_fl1 = s_fl1.tolist()\n",
        "s_fl1[0][0]\n",
        "\n",
        "proper_s_fl1 = []\n",
        "for i in range(len(s_fl1)):\n",
        "    proper_s_fl1.append(s_fl1[i][0])\n",
        "\n",
        "proper_s_fl1[:100]\n",
        "type(proper_s_fl1[:100])\n",
        "\n",
        "import statistics\n",
        "from statistics import stdev\n",
        "from fractions import Fraction as fr\n",
        "\n",
        "print(np.mean(proper_s_fl1))\n",
        "print(statistics.median(proper_s_fl1))\n",
        "print(np.std(proper_s_fl1))\n",
        "print(statistics.variance(proper_s_fl1))\n",
        "\n",
        "ordered= sorted(proper_s_fl1)\n",
        "i= round(len(ordered)*0.05)\n",
        "lower = ordered[i]\n",
        "i= round(len(ordered)*0.95)\n",
        "upper= ordered[i]\n",
        "\n",
        "print(lower)\n",
        "print(upper)\n"
      ]
    },
    {
      "cell_type": "code",
      "execution_count": null,
      "id": "783fc7b6",
      "metadata": {
        "id": "783fc7b6",
        "outputId": "fb1952bd-c0f2-4bc8-f909-b6de699111e0",
        "colab": {
          "base_uri": "https://localhost:8080/"
        }
      },
      "outputs": [
        {
          "output_type": "stream",
          "name": "stdout",
          "text": [
            "192577.12578207377\n",
            "184514.796875\n",
            "133065.39597178018\n",
            "17706543996.290215\n",
            "1183.5999755859375\n",
            "415008.40625\n"
          ]
        }
      ],
      "source": [
        "s = FlowCal.io.FCSData('02-blank-A8-2.fcs')\n",
        "s\n",
        "\n",
        "s_fl1 = s[:, ['FL1-H']]\n",
        "s_fl1\n",
        "\n",
        "s_fl1 = s[:, ['FL1-H']]\n",
        "s_fl1\n",
        "\n",
        "s_fl1 = s_fl1.tolist()\n",
        "s_fl1[0][0]\n",
        "\n",
        "proper_s_fl1 = []\n",
        "for i in range(len(s_fl1)):\n",
        "    proper_s_fl1.append(s_fl1[i][0])\n",
        "\n",
        "proper_s_fl1[:100]\n",
        "type(proper_s_fl1[:100])\n",
        "\n",
        "import statistics\n",
        "from statistics import stdev\n",
        "from fractions import Fraction as fr\n",
        "\n",
        "print(np.mean(proper_s_fl1))\n",
        "print(statistics.median(proper_s_fl1))\n",
        "print(np.std(proper_s_fl1))\n",
        "print(statistics.variance(proper_s_fl1))\n",
        "\n",
        "ordered= sorted(proper_s_fl1)\n",
        "i= round(len(ordered)*0.05)\n",
        "lower = ordered[i]\n",
        "i= round(len(ordered)*0.95)\n",
        "upper= ordered[i]\n",
        "\n",
        "print(lower)\n",
        "print(upper)\n"
      ]
    },
    {
      "cell_type": "code",
      "execution_count": null,
      "id": "64f09d39",
      "metadata": {
        "id": "64f09d39",
        "outputId": "eb4cf01b-b9c1-45fb-d9f8-6ca1e16669a2",
        "colab": {
          "base_uri": "https://localhost:8080/"
        }
      },
      "outputs": [
        {
          "output_type": "stream",
          "name": "stdout",
          "text": [
            "393250.44517858094\n",
            "341453.953125\n",
            "311948.20005401585\n",
            "97312064661.10272\n",
            "866.7000122070312\n",
            "962530.6875\n"
          ]
        }
      ],
      "source": [
        "s = FlowCal.io.FCSData('04-blank-A8-2.fcs')\n",
        "s\n",
        "\n",
        "s_fl1 = s[:, ['FL1-H']]\n",
        "s_fl1\n",
        "\n",
        "s_fl1 = s_fl1.tolist()\n",
        "s_fl1[0][0]\n",
        "\n",
        "proper_s_fl1 = []\n",
        "for i in range(len(s_fl1)):\n",
        "    proper_s_fl1.append(s_fl1[i][0])\n",
        "\n",
        "proper_s_fl1[:100]\n",
        "type(proper_s_fl1[:100])\n",
        "\n",
        "import statistics\n",
        "from statistics import stdev\n",
        "from fractions import Fraction as fr\n",
        "\n",
        "print(np.mean(proper_s_fl1))\n",
        "print(statistics.median(proper_s_fl1))\n",
        "print(np.std(proper_s_fl1))\n",
        "print(statistics.variance(proper_s_fl1))\n",
        "\n",
        "ordered= sorted(proper_s_fl1)\n",
        "i= round(len(ordered)*0.05)\n",
        "lower = ordered[i]\n",
        "i= round(len(ordered)*0.95)\n",
        "upper= ordered[i]\n",
        "\n",
        "print(lower)\n",
        "print(upper)\n"
      ]
    },
    {
      "cell_type": "code",
      "execution_count": null,
      "id": "3f0c6d0d",
      "metadata": {
        "id": "3f0c6d0d",
        "outputId": "d03f8adf-9fa6-4a7b-8e2a-2150e217e099",
        "colab": {
          "base_uri": "https://localhost:8080/"
        }
      },
      "outputs": [
        {
          "output_type": "stream",
          "name": "stdout",
          "text": [
            "278800.74487241753\n",
            "276519.3125\n",
            "200414.92577905185\n",
            "40166359022.770775\n",
            "1295.0\n",
            "616562.5\n"
          ]
        }
      ],
      "source": [
        "s = FlowCal.io.FCSData('02-blank-A8-3.fcs')\n",
        "s\n",
        "\n",
        "s_fl1 = s[:, ['FL1-H']]\n",
        "s_fl1\n",
        "\n",
        "s_fl1 = s_fl1.tolist()\n",
        "s_fl1[0][0]\n",
        "\n",
        "proper_s_fl1 = []\n",
        "for i in range(len(s_fl1)):\n",
        "    proper_s_fl1.append(s_fl1[i][0])\n",
        "\n",
        "proper_s_fl1[:100]\n",
        "type(proper_s_fl1[:100])\n",
        "\n",
        "import statistics\n",
        "from statistics import stdev\n",
        "from fractions import Fraction as fr\n",
        "\n",
        "print(np.mean(proper_s_fl1))\n",
        "print(statistics.median(proper_s_fl1))\n",
        "print(np.std(proper_s_fl1))\n",
        "print(statistics.variance(proper_s_fl1))\n",
        "\n",
        "ordered= sorted(proper_s_fl1)\n",
        "i= round(len(ordered)*0.05)\n",
        "lower = ordered[i]\n",
        "i= round(len(ordered)*0.95)\n",
        "upper= ordered[i]\n",
        "\n",
        "print(lower)\n",
        "print(upper)\n"
      ]
    },
    {
      "cell_type": "code",
      "execution_count": null,
      "id": "83060887",
      "metadata": {
        "id": "83060887",
        "outputId": "2a605265-f62e-45db-c686-77b6d5363666",
        "colab": {
          "base_uri": "https://localhost:8080/"
        }
      },
      "outputs": [
        {
          "output_type": "stream",
          "name": "stdout",
          "text": [
            "372169.1963469172\n",
            "350588.1875\n",
            "283366.1974313911\n",
            "80296864596.85204\n",
            "1232.199951171875\n",
            "889807.375\n"
          ]
        }
      ],
      "source": [
        "s = FlowCal.io.FCSData('04-blank-A8-3.fcs')\n",
        "s\n",
        "\n",
        "s_fl1 = s[:, ['FL1-H']]\n",
        "s_fl1\n",
        "\n",
        "s_fl1 = s_fl1.tolist()\n",
        "s_fl1[0][0]\n",
        "\n",
        "proper_s_fl1 = []\n",
        "for i in range(len(s_fl1)):\n",
        "    proper_s_fl1.append(s_fl1[i][0])\n",
        "\n",
        "proper_s_fl1[:100]\n",
        "type(proper_s_fl1[:100])\n",
        "\n",
        "import statistics\n",
        "from statistics import stdev\n",
        "from fractions import Fraction as fr\n",
        "\n",
        "print(np.mean(proper_s_fl1))\n",
        "print(statistics.median(proper_s_fl1))\n",
        "print(np.std(proper_s_fl1))\n",
        "print(statistics.variance(proper_s_fl1))\n",
        "\n",
        "ordered= sorted(proper_s_fl1)\n",
        "i= round(len(ordered)*0.05)\n",
        "lower = ordered[i]\n",
        "i= round(len(ordered)*0.95)\n",
        "upper= ordered[i]\n",
        "\n",
        "print(lower)\n",
        "print(upper)\n"
      ]
    },
    {
      "cell_type": "code",
      "execution_count": null,
      "id": "4750e5bf",
      "metadata": {
        "id": "4750e5bf",
        "outputId": "6fec5599-19dd-4e34-c07d-7306480a58f1",
        "colab": {
          "base_uri": "https://localhost:8080/"
        }
      },
      "outputs": [
        {
          "output_type": "stream",
          "name": "stdout",
          "text": [
            "279767.83363452804\n",
            "273105.796875\n",
            "176424.53099552382\n",
            "31125714114.686848\n",
            "1196.300048828125\n",
            "578111.0\n"
          ]
        }
      ],
      "source": [
        "s = FlowCal.io.FCSData('02-blank-A8-4.fcs')\n",
        "s\n",
        "\n",
        "s_fl1 = s[:, ['FL1-H']]\n",
        "s_fl1\n",
        "\n",
        "s_fl1 = s_fl1.tolist()\n",
        "s_fl1[0][0]\n",
        "\n",
        "proper_s_fl1 = []\n",
        "for i in range(len(s_fl1)):\n",
        "    proper_s_fl1.append(s_fl1[i][0])\n",
        "\n",
        "proper_s_fl1[:100]\n",
        "type(proper_s_fl1[:100])\n",
        "\n",
        "import statistics\n",
        "from statistics import stdev\n",
        "from fractions import Fraction as fr\n",
        "\n",
        "print(np.mean(proper_s_fl1))\n",
        "print(statistics.median(proper_s_fl1))\n",
        "print(np.std(proper_s_fl1))\n",
        "print(statistics.variance(proper_s_fl1))\n",
        "\n",
        "ordered= sorted(proper_s_fl1)\n",
        "i= round(len(ordered)*0.05)\n",
        "lower = ordered[i]\n",
        "i= round(len(ordered)*0.95)\n",
        "upper= ordered[i]\n",
        "\n",
        "print(lower)\n",
        "print(upper)\n"
      ]
    },
    {
      "cell_type": "code",
      "execution_count": null,
      "id": "40573fff",
      "metadata": {
        "id": "40573fff",
        "outputId": "e8b0bffc-a354-4b81-9f3d-ff495be01946",
        "colab": {
          "base_uri": "https://localhost:8080/"
        }
      },
      "outputs": [
        {
          "output_type": "stream",
          "name": "stdout",
          "text": [
            "234435.0277307743\n",
            "222458.3515625\n",
            "157848.0437089343\n",
            "24916159738.430763\n",
            "6026.89990234375\n",
            "517872.90625\n"
          ]
        }
      ],
      "source": [
        "s = FlowCal.io.FCSData('04-blank-A8-4.fcs')\n",
        "s\n",
        "\n",
        "s_fl1 = s[:, ['FL1-H']]\n",
        "s_fl1\n",
        "\n",
        "s_fl1 = s_fl1.tolist()\n",
        "s_fl1[0][0]\n",
        "\n",
        "proper_s_fl1 = []\n",
        "for i in range(len(s_fl1)):\n",
        "    proper_s_fl1.append(s_fl1[i][0])\n",
        "\n",
        "proper_s_fl1[:100]\n",
        "type(proper_s_fl1[:100])\n",
        "\n",
        "import statistics\n",
        "from statistics import stdev\n",
        "from fractions import Fraction as fr\n",
        "\n",
        "print(np.mean(proper_s_fl1))\n",
        "print(statistics.median(proper_s_fl1))\n",
        "print(np.std(proper_s_fl1))\n",
        "print(statistics.variance(proper_s_fl1))\n",
        "\n",
        "ordered= sorted(proper_s_fl1)\n",
        "i= round(len(ordered)*0.05)\n",
        "lower = ordered[i]\n",
        "i= round(len(ordered)*0.95)\n",
        "upper= ordered[i]\n",
        "\n",
        "print(lower)\n",
        "print(upper)\n"
      ]
    },
    {
      "cell_type": "code",
      "execution_count": null,
      "id": "43746c34",
      "metadata": {
        "id": "43746c34",
        "outputId": "d31f75a0-0f32-462c-9f44-27624b96cf39",
        "colab": {
          "base_uri": "https://localhost:8080/"
        }
      },
      "outputs": [
        {
          "output_type": "stream",
          "name": "stdout",
          "text": [
            "67862.85747016681\n",
            "68222.3984375\n",
            "47159.458475625746\n",
            "2224051314.690675\n",
            "515.7000122070312\n",
            "144458.59375\n"
          ]
        }
      ],
      "source": [
        "s = FlowCal.io.FCSData('02-blank-A9-1.fcs')\n",
        "s\n",
        "\n",
        "s_fl1 = s[:, ['FL1-H']]\n",
        "s_fl1\n",
        "\n",
        "s_fl1 = s_fl1.tolist()\n",
        "s_fl1[0][0]\n",
        "\n",
        "proper_s_fl1 = []\n",
        "for i in range(len(s_fl1)):\n",
        "    proper_s_fl1.append(s_fl1[i][0])\n",
        "\n",
        "proper_s_fl1[:100]\n",
        "type(proper_s_fl1[:100])\n",
        "\n",
        "import statistics\n",
        "from statistics import stdev\n",
        "from fractions import Fraction as fr\n",
        "\n",
        "print(np.mean(proper_s_fl1))\n",
        "print(statistics.median(proper_s_fl1))\n",
        "print(np.std(proper_s_fl1))\n",
        "print(statistics.variance(proper_s_fl1))\n",
        "\n",
        "ordered= sorted(proper_s_fl1)\n",
        "i= round(len(ordered)*0.05)\n",
        "lower = ordered[i]\n",
        "i= round(len(ordered)*0.95)\n",
        "upper= ordered[i]\n",
        "\n",
        "print(lower)\n",
        "print(upper)\n"
      ]
    },
    {
      "cell_type": "code",
      "execution_count": null,
      "id": "34bb9bbe",
      "metadata": {
        "id": "34bb9bbe",
        "outputId": "f9598700-cd62-494b-dfcc-f8e69b232c3e",
        "colab": {
          "base_uri": "https://localhost:8080/"
        }
      },
      "outputs": [
        {
          "output_type": "stream",
          "name": "stdout",
          "text": [
            "100348.23963863663\n",
            "103485.796875\n",
            "67818.7913737324\n",
            "4599430196.344239\n",
            "635.2999877929688\n",
            "208211.703125\n"
          ]
        }
      ],
      "source": [
        "s = FlowCal.io.FCSData('04-blank-A9-1.fcs')\n",
        "s\n",
        "\n",
        "s_fl1 = s[:, ['FL1-H']]\n",
        "s_fl1\n",
        "\n",
        "s_fl1 = s_fl1.tolist()\n",
        "s_fl1[0][0]\n",
        "\n",
        "proper_s_fl1 = []\n",
        "for i in range(len(s_fl1)):\n",
        "    proper_s_fl1.append(s_fl1[i][0])\n",
        "\n",
        "proper_s_fl1[:100]\n",
        "type(proper_s_fl1[:100])\n",
        "\n",
        "import statistics\n",
        "from statistics import stdev\n",
        "from fractions import Fraction as fr\n",
        "\n",
        "print(np.mean(proper_s_fl1))\n",
        "print(statistics.median(proper_s_fl1))\n",
        "print(np.std(proper_s_fl1))\n",
        "print(statistics.variance(proper_s_fl1))\n",
        "\n",
        "ordered= sorted(proper_s_fl1)\n",
        "i= round(len(ordered)*0.05)\n",
        "lower = ordered[i]\n",
        "i= round(len(ordered)*0.95)\n",
        "upper= ordered[i]\n",
        "\n",
        "print(lower)\n",
        "print(upper)\n"
      ]
    },
    {
      "cell_type": "code",
      "execution_count": null,
      "id": "8d2447a4",
      "metadata": {
        "id": "8d2447a4",
        "outputId": "7948dad1-d419-4e06-e725-f32171b4db73",
        "colab": {
          "base_uri": "https://localhost:8080/"
        }
      },
      "outputs": [
        {
          "output_type": "stream",
          "name": "stdout",
          "text": [
            "77339.26114958499\n",
            "68996.1015625\n",
            "65240.99364379795\n",
            "4256436551.8901353\n",
            "726.0\n",
            "180635.59375\n"
          ]
        }
      ],
      "source": [
        "s = FlowCal.io.FCSData('02-blank-A9-2.fcs')\n",
        "s\n",
        "\n",
        "s_fl1 = s[:, ['FL1-H']]\n",
        "s_fl1\n",
        "\n",
        "s_fl1 = s_fl1.tolist()\n",
        "s_fl1[0][0]\n",
        "\n",
        "proper_s_fl1 = []\n",
        "for i in range(len(s_fl1)):\n",
        "    proper_s_fl1.append(s_fl1[i][0])\n",
        "\n",
        "proper_s_fl1[:100]\n",
        "type(proper_s_fl1[:100])\n",
        "\n",
        "import statistics\n",
        "from statistics import stdev\n",
        "from fractions import Fraction as fr\n",
        "\n",
        "print(np.mean(proper_s_fl1))\n",
        "print(statistics.median(proper_s_fl1))\n",
        "print(np.std(proper_s_fl1))\n",
        "print(statistics.variance(proper_s_fl1))\n",
        "\n",
        "ordered= sorted(proper_s_fl1)\n",
        "i= round(len(ordered)*0.05)\n",
        "lower = ordered[i]\n",
        "i= round(len(ordered)*0.95)\n",
        "upper= ordered[i]\n",
        "\n",
        "print(lower)\n",
        "print(upper)\n"
      ]
    },
    {
      "cell_type": "code",
      "execution_count": null,
      "id": "8bfe8351",
      "metadata": {
        "id": "8bfe8351",
        "outputId": "1f0e5647-af93-4d26-89e2-2218fa196c15",
        "colab": {
          "base_uri": "https://localhost:8080/"
        }
      },
      "outputs": [
        {
          "output_type": "stream",
          "name": "stdout",
          "text": [
            "106658.9944816535\n",
            "106400.55078125\n",
            "73498.61289112919\n",
            "5402078831.633571\n",
            "830.5999755859375\n",
            "209899.59375\n"
          ]
        }
      ],
      "source": [
        "s = FlowCal.io.FCSData('04-blank-A9-2.fcs')\n",
        "s\n",
        "\n",
        "s_fl1 = s[:, ['FL1-H']]\n",
        "s_fl1\n",
        "\n",
        "s_fl1 = s_fl1.tolist()\n",
        "s_fl1[0][0]\n",
        "\n",
        "proper_s_fl1 = []\n",
        "for i in range(len(s_fl1)):\n",
        "    proper_s_fl1.append(s_fl1[i][0])\n",
        "\n",
        "proper_s_fl1[:100]\n",
        "type(proper_s_fl1[:100])\n",
        "\n",
        "import statistics\n",
        "from statistics import stdev\n",
        "from fractions import Fraction as fr\n",
        "\n",
        "print(np.mean(proper_s_fl1))\n",
        "print(statistics.median(proper_s_fl1))\n",
        "print(np.std(proper_s_fl1))\n",
        "print(statistics.variance(proper_s_fl1))\n",
        "\n",
        "ordered= sorted(proper_s_fl1)\n",
        "i= round(len(ordered)*0.05)\n",
        "lower = ordered[i]\n",
        "i= round(len(ordered)*0.95)\n",
        "upper= ordered[i]\n",
        "\n",
        "print(lower)\n",
        "print(upper)\n"
      ]
    },
    {
      "cell_type": "code",
      "execution_count": null,
      "id": "06edd419",
      "metadata": {
        "id": "06edd419",
        "outputId": "1e38e331-0cc4-4780-85fb-700a0ccdfc9f",
        "colab": {
          "base_uri": "https://localhost:8080/"
        }
      },
      "outputs": [
        {
          "output_type": "stream",
          "name": "stdout",
          "text": [
            "86184.98082345609\n",
            "85731.1015625\n",
            "64199.31001802199\n",
            "4121579734.772055\n",
            "1069.5999755859375\n",
            "175403.90625\n"
          ]
        }
      ],
      "source": [
        "s = FlowCal.io.FCSData('02-blank-A9-3.fcs')\n",
        "s\n",
        "\n",
        "s_fl1 = s[:, ['FL1-H']]\n",
        "s_fl1\n",
        "\n",
        "s_fl1 = s_fl1.tolist()\n",
        "s_fl1[0][0]\n",
        "\n",
        "proper_s_fl1 = []\n",
        "for i in range(len(s_fl1)):\n",
        "    proper_s_fl1.append(s_fl1[i][0])\n",
        "\n",
        "proper_s_fl1[:100]\n",
        "type(proper_s_fl1[:100])\n",
        "\n",
        "import statistics\n",
        "from statistics import stdev\n",
        "from fractions import Fraction as fr\n",
        "\n",
        "print(np.mean(proper_s_fl1))\n",
        "print(statistics.median(proper_s_fl1))\n",
        "print(np.std(proper_s_fl1))\n",
        "print(statistics.variance(proper_s_fl1))\n",
        "\n",
        "ordered= sorted(proper_s_fl1)\n",
        "i= round(len(ordered)*0.05)\n",
        "lower = ordered[i]\n",
        "i= round(len(ordered)*0.95)\n",
        "upper= ordered[i]\n",
        "\n",
        "print(lower)\n",
        "print(upper)\n"
      ]
    },
    {
      "cell_type": "code",
      "execution_count": null,
      "id": "6f6b6061",
      "metadata": {
        "id": "6f6b6061",
        "outputId": "e34afb32-4987-4679-e652-d0171577c806",
        "colab": {
          "base_uri": "https://localhost:8080/"
        }
      },
      "outputs": [
        {
          "output_type": "stream",
          "name": "stdout",
          "text": [
            "104914.4437608595\n",
            "107714.296875\n",
            "72423.006855639\n",
            "5245123094.553963\n",
            "660.7999877929688\n",
            "218053.296875\n"
          ]
        }
      ],
      "source": [
        "s = FlowCal.io.FCSData('04-blank-A9-3.fcs')\n",
        "s\n",
        "\n",
        "s_fl1 = s[:, ['FL1-H']]\n",
        "s_fl1\n",
        "\n",
        "s_fl1 = s_fl1.tolist()\n",
        "s_fl1[0][0]\n",
        "\n",
        "proper_s_fl1 = []\n",
        "for i in range(len(s_fl1)):\n",
        "    proper_s_fl1.append(s_fl1[i][0])\n",
        "\n",
        "proper_s_fl1[:100]\n",
        "type(proper_s_fl1[:100])\n",
        "\n",
        "import statistics\n",
        "from statistics import stdev\n",
        "from fractions import Fraction as fr\n",
        "\n",
        "print(np.mean(proper_s_fl1))\n",
        "print(statistics.median(proper_s_fl1))\n",
        "print(np.std(proper_s_fl1))\n",
        "print(statistics.variance(proper_s_fl1))\n",
        "\n",
        "ordered= sorted(proper_s_fl1)\n",
        "i= round(len(ordered)*0.05)\n",
        "lower = ordered[i]\n",
        "i= round(len(ordered)*0.95)\n",
        "upper= ordered[i]\n",
        "\n",
        "print(lower)\n",
        "print(upper)\n"
      ]
    },
    {
      "cell_type": "code",
      "execution_count": null,
      "id": "38a5c84f",
      "metadata": {
        "id": "38a5c84f",
        "outputId": "1cb9283a-1bc8-4407-aa49-505f924e128b",
        "colab": {
          "base_uri": "https://localhost:8080/"
        }
      },
      "outputs": [
        {
          "output_type": "stream",
          "name": "stdout",
          "text": [
            "84265.10154432143\n",
            "78023.203125\n",
            "60158.89161958218\n",
            "3619113490.425393\n",
            "1130.199951171875\n",
            "170515.296875\n"
          ]
        }
      ],
      "source": [
        "s = FlowCal.io.FCSData('02-blank-A9-4.fcs')\n",
        "s\n",
        "\n",
        "s_fl1 = s[:, ['FL1-H']]\n",
        "s_fl1\n",
        "\n",
        "s_fl1 = s_fl1.tolist()\n",
        "s_fl1[0][0]\n",
        "\n",
        "proper_s_fl1 = []\n",
        "for i in range(len(s_fl1)):\n",
        "    proper_s_fl1.append(s_fl1[i][0])\n",
        "\n",
        "proper_s_fl1[:100]\n",
        "type(proper_s_fl1[:100])\n",
        "\n",
        "import statistics\n",
        "from statistics import stdev\n",
        "from fractions import Fraction as fr\n",
        "\n",
        "print(np.mean(proper_s_fl1))\n",
        "print(statistics.median(proper_s_fl1))\n",
        "print(np.std(proper_s_fl1))\n",
        "print(statistics.variance(proper_s_fl1))\n",
        "\n",
        "ordered= sorted(proper_s_fl1)\n",
        "i= round(len(ordered)*0.05)\n",
        "lower = ordered[i]\n",
        "i= round(len(ordered)*0.95)\n",
        "upper= ordered[i]\n",
        "\n",
        "print(lower)\n",
        "print(upper)\n"
      ]
    },
    {
      "cell_type": "code",
      "execution_count": null,
      "id": "f281f499",
      "metadata": {
        "id": "f281f499",
        "outputId": "ed8b89a2-6352-418a-b439-3eac294a1feb",
        "colab": {
          "base_uri": "https://localhost:8080/"
        }
      },
      "outputs": [
        {
          "output_type": "stream",
          "name": "stdout",
          "text": [
            "95128.97422753621\n",
            "94807.1015625\n",
            "56016.424405521095\n",
            "3137858452.8228703\n",
            "3781.800048828125\n",
            "184236.59375\n"
          ]
        }
      ],
      "source": [
        "s = FlowCal.io.FCSData('04-blank-A9-4.fcs')\n",
        "s\n",
        "\n",
        "s_fl1 = s[:, ['FL1-H']]\n",
        "s_fl1\n",
        "\n",
        "s_fl1 = s_fl1.tolist()\n",
        "s_fl1[0][0]\n",
        "\n",
        "proper_s_fl1 = []\n",
        "for i in range(len(s_fl1)):\n",
        "    proper_s_fl1.append(s_fl1[i][0])\n",
        "\n",
        "proper_s_fl1[:100]\n",
        "type(proper_s_fl1[:100])\n",
        "\n",
        "import statistics\n",
        "from statistics import stdev\n",
        "from fractions import Fraction as fr\n",
        "\n",
        "print(np.mean(proper_s_fl1))\n",
        "print(statistics.median(proper_s_fl1))\n",
        "print(np.std(proper_s_fl1))\n",
        "print(statistics.variance(proper_s_fl1))\n",
        "\n",
        "ordered= sorted(proper_s_fl1)\n",
        "i= round(len(ordered)*0.05)\n",
        "lower = ordered[i]\n",
        "i= round(len(ordered)*0.95)\n",
        "upper= ordered[i]\n",
        "\n",
        "print(lower)\n",
        "print(upper)\n"
      ]
    },
    {
      "cell_type": "code",
      "execution_count": null,
      "id": "56b66a2d",
      "metadata": {
        "id": "56b66a2d",
        "outputId": "4b8b4c3f-29a7-4db0-ed96-94c848325bbc",
        "colab": {
          "base_uri": "https://localhost:8080/"
        }
      },
      "outputs": [
        {
          "output_type": "stream",
          "name": "stdout",
          "text": [
            "182110.38912349544\n",
            "175339.5\n",
            "135624.47894614955\n",
            "18394232349.05788\n",
            "741.9000244140625\n",
            "418251.5\n"
          ]
        }
      ],
      "source": [
        "s = FlowCal.io.FCSData('02-blank-A10-1.fcs')\n",
        "s\n",
        "\n",
        "s_fl1 = s[:, ['FL1-H']]\n",
        "s_fl1\n",
        "\n",
        "s_fl1 = s_fl1.tolist()\n",
        "s_fl1[0][0]\n",
        "\n",
        "proper_s_fl1 = []\n",
        "for i in range(len(s_fl1)):\n",
        "    proper_s_fl1.append(s_fl1[i][0])\n",
        "\n",
        "proper_s_fl1[:100]\n",
        "type(proper_s_fl1[:100])\n",
        "\n",
        "import statistics\n",
        "from statistics import stdev\n",
        "from fractions import Fraction as fr\n",
        "\n",
        "print(np.mean(proper_s_fl1))\n",
        "print(statistics.median(proper_s_fl1))\n",
        "print(np.std(proper_s_fl1))\n",
        "print(statistics.variance(proper_s_fl1))\n",
        "\n",
        "ordered= sorted(proper_s_fl1)\n",
        "i= round(len(ordered)*0.05)\n",
        "lower = ordered[i]\n",
        "i= round(len(ordered)*0.95)\n",
        "upper= ordered[i]\n",
        "\n",
        "print(lower)\n",
        "print(upper)\n"
      ]
    },
    {
      "cell_type": "code",
      "execution_count": null,
      "id": "5d9d24eb",
      "metadata": {
        "id": "5d9d24eb",
        "outputId": "248f5de4-cbc7-4c0a-bb91-c6f2d45325b3",
        "colab": {
          "base_uri": "https://localhost:8080/"
        }
      },
      "outputs": [
        {
          "output_type": "stream",
          "name": "stdout",
          "text": [
            "228147.0017900858\n",
            "235502.5\n",
            "151206.33753393817\n",
            "22863567670.49661\n",
            "911.2000122070312\n",
            "468336.1875\n"
          ]
        }
      ],
      "source": [
        "s = FlowCal.io.FCSData('04-blank-A10-1.fcs')\n",
        "s\n",
        "\n",
        "s_fl1 = s[:, ['FL1-H']]\n",
        "s_fl1\n",
        "\n",
        "s_fl1 = s_fl1.tolist()\n",
        "s_fl1[0][0]\n",
        "\n",
        "proper_s_fl1 = []\n",
        "for i in range(len(s_fl1)):\n",
        "    proper_s_fl1.append(s_fl1[i][0])\n",
        "\n",
        "proper_s_fl1[:100]\n",
        "type(proper_s_fl1[:100])\n",
        "\n",
        "import statistics\n",
        "from statistics import stdev\n",
        "from fractions import Fraction as fr\n",
        "\n",
        "print(np.mean(proper_s_fl1))\n",
        "print(statistics.median(proper_s_fl1))\n",
        "print(np.std(proper_s_fl1))\n",
        "print(statistics.variance(proper_s_fl1))\n",
        "\n",
        "ordered= sorted(proper_s_fl1)\n",
        "i= round(len(ordered)*0.05)\n",
        "lower = ordered[i]\n",
        "i= round(len(ordered)*0.95)\n",
        "upper= ordered[i]\n",
        "\n",
        "print(lower)\n",
        "print(upper)\n"
      ]
    },
    {
      "cell_type": "code",
      "execution_count": null,
      "id": "5bba5fe6",
      "metadata": {
        "id": "5bba5fe6",
        "outputId": "7e1245f1-55bc-4aab-c47a-f6dd5c935e75",
        "colab": {
          "base_uri": "https://localhost:8080/"
        }
      },
      "outputs": [
        {
          "output_type": "stream",
          "name": "stdout",
          "text": [
            "184513.41813938445\n",
            "178510.8515625\n",
            "125801.68434186083\n",
            "15826211689.005056\n",
            "1109.0\n",
            "397288.6875\n"
          ]
        }
      ],
      "source": [
        "s = FlowCal.io.FCSData('02-blank-A10-2.fcs')\n",
        "s\n",
        "\n",
        "s_fl1 = s[:, ['FL1-H']]\n",
        "s_fl1\n",
        "\n",
        "s_fl1 = s_fl1.tolist()\n",
        "s_fl1[0][0]\n",
        "\n",
        "proper_s_fl1 = []\n",
        "for i in range(len(s_fl1)):\n",
        "    proper_s_fl1.append(s_fl1[i][0])\n",
        "\n",
        "proper_s_fl1[:100]\n",
        "type(proper_s_fl1[:100])\n",
        "\n",
        "import statistics\n",
        "from statistics import stdev\n",
        "from fractions import Fraction as fr\n",
        "\n",
        "print(np.mean(proper_s_fl1))\n",
        "print(statistics.median(proper_s_fl1))\n",
        "print(np.std(proper_s_fl1))\n",
        "print(statistics.variance(proper_s_fl1))\n",
        "\n",
        "ordered= sorted(proper_s_fl1)\n",
        "i= round(len(ordered)*0.05)\n",
        "lower = ordered[i]\n",
        "i= round(len(ordered)*0.95)\n",
        "upper= ordered[i]\n",
        "\n",
        "print(lower)\n",
        "print(upper)\n"
      ]
    },
    {
      "cell_type": "code",
      "execution_count": null,
      "id": "b921f3b4",
      "metadata": {
        "id": "b921f3b4",
        "outputId": "2b145642-0300-4505-af1b-79efc09a119e",
        "colab": {
          "base_uri": "https://localhost:8080/"
        }
      },
      "outputs": [
        {
          "output_type": "stream",
          "name": "stdout",
          "text": [
            "361133.4002442334\n",
            "325136.5\n",
            "280444.2560675727\n",
            "78649459301.14024\n",
            "970.9000244140625\n",
            "889685.3125\n"
          ]
        }
      ],
      "source": [
        "s = FlowCal.io.FCSData('04-blank-A10-2.fcs')\n",
        "s\n",
        "\n",
        "s_fl1 = s[:, ['FL1-H']]\n",
        "s_fl1\n",
        "\n",
        "s_fl1 = s_fl1.tolist()\n",
        "s_fl1[0][0]\n",
        "\n",
        "proper_s_fl1 = []\n",
        "for i in range(len(s_fl1)):\n",
        "    proper_s_fl1.append(s_fl1[i][0])\n",
        "\n",
        "proper_s_fl1[:100]\n",
        "type(proper_s_fl1[:100])\n",
        "\n",
        "import statistics\n",
        "from statistics import stdev\n",
        "from fractions import Fraction as fr\n",
        "\n",
        "print(np.mean(proper_s_fl1))\n",
        "print(statistics.median(proper_s_fl1))\n",
        "print(np.std(proper_s_fl1))\n",
        "print(statistics.variance(proper_s_fl1))\n",
        "\n",
        "ordered= sorted(proper_s_fl1)\n",
        "i= round(len(ordered)*0.05)\n",
        "lower = ordered[i]\n",
        "i= round(len(ordered)*0.95)\n",
        "upper= ordered[i]\n",
        "\n",
        "print(lower)\n",
        "print(upper)\n"
      ]
    },
    {
      "cell_type": "code",
      "execution_count": null,
      "id": "5de02439",
      "metadata": {
        "id": "5de02439",
        "outputId": "1630a651-ddf1-4d5f-966e-0d637adc3f2c",
        "colab": {
          "base_uri": "https://localhost:8080/"
        }
      },
      "outputs": [
        {
          "output_type": "stream",
          "name": "stdout",
          "text": [
            "336748.1032298124\n",
            "311865.0\n",
            "290102.8495099284\n",
            "84160255412.8749\n",
            "912.5\n",
            "869829.3125\n"
          ]
        }
      ],
      "source": [
        "s = FlowCal.io.FCSData('02-blank-A10-3.fcs')\n",
        "s\n",
        "\n",
        "s_fl1 = s[:, ['FL1-H']]\n",
        "s_fl1\n",
        "\n",
        "s_fl1 = s_fl1.tolist()\n",
        "s_fl1[0][0]\n",
        "\n",
        "proper_s_fl1 = []\n",
        "for i in range(len(s_fl1)):\n",
        "    proper_s_fl1.append(s_fl1[i][0])\n",
        "\n",
        "proper_s_fl1[:100]\n",
        "type(proper_s_fl1[:100])\n",
        "\n",
        "import statistics\n",
        "from statistics import stdev\n",
        "from fractions import Fraction as fr\n",
        "\n",
        "print(np.mean(proper_s_fl1))\n",
        "print(statistics.median(proper_s_fl1))\n",
        "print(np.std(proper_s_fl1))\n",
        "print(statistics.variance(proper_s_fl1))\n",
        "\n",
        "ordered= sorted(proper_s_fl1)\n",
        "i= round(len(ordered)*0.05)\n",
        "lower = ordered[i]\n",
        "i= round(len(ordered)*0.95)\n",
        "upper= ordered[i]\n",
        "\n",
        "print(lower)\n",
        "print(upper)\n"
      ]
    },
    {
      "cell_type": "code",
      "execution_count": null,
      "id": "1b31cabe",
      "metadata": {
        "id": "1b31cabe",
        "outputId": "590479bd-ae2c-44e7-c769-1dc471b92984",
        "colab": {
          "base_uri": "https://localhost:8080/"
        }
      },
      "outputs": [
        {
          "output_type": "stream",
          "name": "stdout",
          "text": [
            "447321.6270252298\n",
            "472100.296875\n",
            "317700.9104586019\n",
            "100934727598.29707\n",
            "1326.9000244140625\n",
            "951196.8125\n"
          ]
        }
      ],
      "source": [
        "s = FlowCal.io.FCSData('04-blank-A10-3.fcs')\n",
        "s\n",
        "\n",
        "s_fl1 = s[:, ['FL1-H']]\n",
        "s_fl1\n",
        "\n",
        "s_fl1 = s_fl1.tolist()\n",
        "s_fl1[0][0]\n",
        "\n",
        "proper_s_fl1 = []\n",
        "for i in range(len(s_fl1)):\n",
        "    proper_s_fl1.append(s_fl1[i][0])\n",
        "\n",
        "proper_s_fl1[:100]\n",
        "type(proper_s_fl1[:100])\n",
        "\n",
        "import statistics\n",
        "from statistics import stdev\n",
        "from fractions import Fraction as fr\n",
        "\n",
        "print(np.mean(proper_s_fl1))\n",
        "print(statistics.median(proper_s_fl1))\n",
        "print(np.std(proper_s_fl1))\n",
        "print(statistics.variance(proper_s_fl1))\n",
        "\n",
        "ordered= sorted(proper_s_fl1)\n",
        "i= round(len(ordered)*0.05)\n",
        "lower = ordered[i]\n",
        "i= round(len(ordered)*0.95)\n",
        "upper= ordered[i]\n",
        "\n",
        "print(lower)\n",
        "print(upper)\n"
      ]
    },
    {
      "cell_type": "code",
      "execution_count": null,
      "id": "909a524e",
      "metadata": {
        "id": "909a524e",
        "outputId": "cc349148-f812-4af0-cb80-eace38ca0499",
        "colab": {
          "base_uri": "https://localhost:8080/"
        }
      },
      "outputs": [
        {
          "output_type": "stream",
          "name": "stdout",
          "text": [
            "383532.8640841712\n",
            "391555.5\n",
            "262405.9486048153\n",
            "68857255150.13092\n",
            "1314.0999755859375\n",
            "815160.375\n"
          ]
        }
      ],
      "source": [
        "s = FlowCal.io.FCSData('02-blank-A10-4.fcs')\n",
        "s\n",
        "\n",
        "s_fl1 = s[:, ['FL1-H']]\n",
        "s_fl1\n",
        "\n",
        "s_fl1 = s_fl1.tolist()\n",
        "s_fl1[0][0]\n",
        "\n",
        "proper_s_fl1 = []\n",
        "for i in range(len(s_fl1)):\n",
        "    proper_s_fl1.append(s_fl1[i][0])\n",
        "\n",
        "proper_s_fl1[:100]\n",
        "type(proper_s_fl1[:100])\n",
        "\n",
        "import statistics\n",
        "from statistics import stdev\n",
        "from fractions import Fraction as fr\n",
        "\n",
        "print(np.mean(proper_s_fl1))\n",
        "print(statistics.median(proper_s_fl1))\n",
        "print(np.std(proper_s_fl1))\n",
        "print(statistics.variance(proper_s_fl1))\n",
        "\n",
        "ordered= sorted(proper_s_fl1)\n",
        "i= round(len(ordered)*0.05)\n",
        "lower = ordered[i]\n",
        "i= round(len(ordered)*0.95)\n",
        "upper= ordered[i]\n",
        "\n",
        "print(lower)\n",
        "print(upper)\n"
      ]
    },
    {
      "cell_type": "code",
      "execution_count": null,
      "id": "cdd956fd",
      "metadata": {
        "id": "cdd956fd",
        "outputId": "47ed9dd0-35a6-4100-c79d-2a23a202a853",
        "colab": {
          "base_uri": "https://localhost:8080/"
        }
      },
      "outputs": [
        {
          "output_type": "stream",
          "name": "stdout",
          "text": [
            "340033.810411476\n",
            "334486.40625\n",
            "235127.64494208267\n",
            "55285309392.1868\n",
            "2718.199951171875\n",
            "749314.6875\n"
          ]
        }
      ],
      "source": [
        "s = FlowCal.io.FCSData('04-blank-A10-4.fcs')\n",
        "s\n",
        "\n",
        "s_fl1 = s[:, ['FL1-H']]\n",
        "s_fl1\n",
        "\n",
        "s_fl1 = s_fl1.tolist()\n",
        "s_fl1[0][0]\n",
        "\n",
        "proper_s_fl1 = []\n",
        "for i in range(len(s_fl1)):\n",
        "    proper_s_fl1.append(s_fl1[i][0])\n",
        "\n",
        "proper_s_fl1[:100]\n",
        "type(proper_s_fl1[:100])\n",
        "\n",
        "import statistics\n",
        "from statistics import stdev\n",
        "from fractions import Fraction as fr\n",
        "\n",
        "print(np.mean(proper_s_fl1))\n",
        "print(statistics.median(proper_s_fl1))\n",
        "print(np.std(proper_s_fl1))\n",
        "print(statistics.variance(proper_s_fl1))\n",
        "\n",
        "ordered= sorted(proper_s_fl1)\n",
        "i= round(len(ordered)*0.05)\n",
        "lower = ordered[i]\n",
        "i= round(len(ordered)*0.95)\n",
        "upper= ordered[i]\n",
        "\n",
        "print(lower)\n",
        "print(upper)\n"
      ]
    },
    {
      "cell_type": "code",
      "execution_count": null,
      "id": "622d03bf",
      "metadata": {
        "id": "622d03bf",
        "outputId": "0ffb802d-4705-433c-8b02-125c35fddafa",
        "colab": {
          "base_uri": "https://localhost:8080/"
        }
      },
      "outputs": [
        {
          "output_type": "stream",
          "name": "stdout",
          "text": [
            "105765.2653410299\n",
            "100841.44921875\n",
            "69278.00290689898\n",
            "4799485073.905112\n",
            "749.4000244140625\n",
            "226663.296875\n"
          ]
        }
      ],
      "source": [
        "s = FlowCal.io.FCSData('02-blank-A11-1.fcs')\n",
        "s\n",
        "\n",
        "s_fl1 = s[:, ['FL1-H']]\n",
        "s_fl1\n",
        "\n",
        "s_fl1 = s_fl1.tolist()\n",
        "s_fl1[0][0]\n",
        "\n",
        "proper_s_fl1 = []\n",
        "for i in range(len(s_fl1)):\n",
        "    proper_s_fl1.append(s_fl1[i][0])\n",
        "\n",
        "proper_s_fl1[:100]\n",
        "type(proper_s_fl1[:100])\n",
        "\n",
        "import statistics\n",
        "from statistics import stdev\n",
        "from fractions import Fraction as fr\n",
        "\n",
        "print(np.mean(proper_s_fl1))\n",
        "print(statistics.median(proper_s_fl1))\n",
        "print(np.std(proper_s_fl1))\n",
        "print(statistics.variance(proper_s_fl1))\n",
        "\n",
        "ordered= sorted(proper_s_fl1)\n",
        "i= round(len(ordered)*0.05)\n",
        "lower = ordered[i]\n",
        "i= round(len(ordered)*0.95)\n",
        "upper= ordered[i]\n",
        "\n",
        "print(lower)\n",
        "print(upper)\n"
      ]
    },
    {
      "cell_type": "code",
      "execution_count": null,
      "id": "909dbc60",
      "metadata": {
        "id": "909dbc60",
        "outputId": "b9e2847b-c520-4b5e-c3e8-ebb21a905804",
        "colab": {
          "base_uri": "https://localhost:8080/"
        }
      },
      "outputs": [
        {
          "output_type": "stream",
          "name": "stdout",
          "text": [
            "115154.56391274127\n",
            "104435.05078125\n",
            "89160.13622923067\n",
            "7949558037.82343\n",
            "548.5999755859375\n",
            "276115.8125\n"
          ]
        }
      ],
      "source": [
        "s = FlowCal.io.FCSData('04-blank-A11-1.fcs')\n",
        "s\n",
        "\n",
        "s_fl1 = s[:, ['FL1-H']]\n",
        "s_fl1\n",
        "\n",
        "s_fl1 = s_fl1.tolist()\n",
        "s_fl1[0][0]\n",
        "\n",
        "proper_s_fl1 = []\n",
        "for i in range(len(s_fl1)):\n",
        "    proper_s_fl1.append(s_fl1[i][0])\n",
        "\n",
        "proper_s_fl1[:100]\n",
        "type(proper_s_fl1[:100])\n",
        "\n",
        "import statistics\n",
        "from statistics import stdev\n",
        "from fractions import Fraction as fr\n",
        "\n",
        "print(np.mean(proper_s_fl1))\n",
        "print(statistics.median(proper_s_fl1))\n",
        "print(np.std(proper_s_fl1))\n",
        "print(statistics.variance(proper_s_fl1))\n",
        "\n",
        "ordered= sorted(proper_s_fl1)\n",
        "i= round(len(ordered)*0.05)\n",
        "lower = ordered[i]\n",
        "i= round(len(ordered)*0.95)\n",
        "upper= ordered[i]\n",
        "\n",
        "print(lower)\n",
        "print(upper)\n"
      ]
    },
    {
      "cell_type": "code",
      "execution_count": null,
      "id": "48ca531d",
      "metadata": {
        "id": "48ca531d",
        "outputId": "aced2d44-0223-46be-e3fd-e0d4bb554165",
        "colab": {
          "base_uri": "https://localhost:8080/"
        }
      },
      "outputs": [
        {
          "output_type": "stream",
          "name": "stdout",
          "text": [
            "101875.34897957237\n",
            "94513.65234375\n",
            "69206.55495609774\n",
            "4789570280.322147\n",
            "825.2000122070312\n",
            "223220.796875\n"
          ]
        }
      ],
      "source": [
        "s = FlowCal.io.FCSData('02-blank-A11-2.fcs')\n",
        "s\n",
        "\n",
        "s_fl1 = s[:, ['FL1-H']]\n",
        "s_fl1\n",
        "\n",
        "s_fl1 = s_fl1.tolist()\n",
        "s_fl1[0][0]\n",
        "\n",
        "proper_s_fl1 = []\n",
        "for i in range(len(s_fl1)):\n",
        "    proper_s_fl1.append(s_fl1[i][0])\n",
        "\n",
        "proper_s_fl1[:100]\n",
        "type(proper_s_fl1[:100])\n",
        "\n",
        "import statistics\n",
        "from statistics import stdev\n",
        "from fractions import Fraction as fr\n",
        "\n",
        "print(np.mean(proper_s_fl1))\n",
        "print(statistics.median(proper_s_fl1))\n",
        "print(np.std(proper_s_fl1))\n",
        "print(statistics.variance(proper_s_fl1))\n",
        "\n",
        "ordered= sorted(proper_s_fl1)\n",
        "i= round(len(ordered)*0.05)\n",
        "lower = ordered[i]\n",
        "i= round(len(ordered)*0.95)\n",
        "upper= ordered[i]\n",
        "\n",
        "print(lower)\n",
        "print(upper)\n"
      ]
    },
    {
      "cell_type": "code",
      "execution_count": null,
      "id": "7066018a",
      "metadata": {
        "id": "7066018a",
        "outputId": "666e331e-0d62-4ae3-f63b-4199ae1bbfcb",
        "colab": {
          "base_uri": "https://localhost:8080/"
        }
      },
      "outputs": [
        {
          "output_type": "stream",
          "name": "stdout",
          "text": [
            "147008.42617705255\n",
            "138201.5\n",
            "104431.37256636067\n",
            "10905951872.394234\n",
            "743.2000122070312\n",
            "328585.3125\n"
          ]
        }
      ],
      "source": [
        "s = FlowCal.io.FCSData('04-blank-A11-2.fcs')\n",
        "s\n",
        "\n",
        "s_fl1 = s[:, ['FL1-H']]\n",
        "s_fl1\n",
        "\n",
        "s_fl1 = s_fl1.tolist()\n",
        "s_fl1[0][0]\n",
        "\n",
        "proper_s_fl1 = []\n",
        "for i in range(len(s_fl1)):\n",
        "    proper_s_fl1.append(s_fl1[i][0])\n",
        "\n",
        "proper_s_fl1[:100]\n",
        "type(proper_s_fl1[:100])\n",
        "\n",
        "import statistics\n",
        "from statistics import stdev\n",
        "from fractions import Fraction as fr\n",
        "\n",
        "print(np.mean(proper_s_fl1))\n",
        "print(statistics.median(proper_s_fl1))\n",
        "print(np.std(proper_s_fl1))\n",
        "print(statistics.variance(proper_s_fl1))\n",
        "\n",
        "ordered= sorted(proper_s_fl1)\n",
        "i= round(len(ordered)*0.05)\n",
        "lower = ordered[i]\n",
        "i= round(len(ordered)*0.95)\n",
        "upper= ordered[i]\n",
        "\n",
        "print(lower)\n",
        "print(upper)\n"
      ]
    },
    {
      "cell_type": "code",
      "execution_count": null,
      "id": "d3adcf3b",
      "metadata": {
        "id": "d3adcf3b",
        "outputId": "8352abd5-2584-49ff-e855-ae1ef92e6fd9",
        "colab": {
          "base_uri": "https://localhost:8080/"
        }
      },
      "outputs": [
        {
          "output_type": "stream",
          "name": "stdout",
          "text": [
            "115067.54631853587\n",
            "101655.0\n",
            "91509.1695844958\n",
            "8373944635.286509\n",
            "913.5999755859375\n",
            "280905.6875\n"
          ]
        }
      ],
      "source": [
        "s = FlowCal.io.FCSData('02-blank-A11-3.fcs')\n",
        "s\n",
        "\n",
        "s_fl1 = s[:, ['FL1-H']]\n",
        "s_fl1\n",
        "\n",
        "s_fl1 = s_fl1.tolist()\n",
        "s_fl1[0][0]\n",
        "\n",
        "proper_s_fl1 = []\n",
        "for i in range(len(s_fl1)):\n",
        "    proper_s_fl1.append(s_fl1[i][0])\n",
        "\n",
        "proper_s_fl1[:100]\n",
        "type(proper_s_fl1[:100])\n",
        "\n",
        "import statistics\n",
        "from statistics import stdev\n",
        "from fractions import Fraction as fr\n",
        "\n",
        "print(np.mean(proper_s_fl1))\n",
        "print(statistics.median(proper_s_fl1))\n",
        "print(np.std(proper_s_fl1))\n",
        "print(statistics.variance(proper_s_fl1))\n",
        "\n",
        "ordered= sorted(proper_s_fl1)\n",
        "i= round(len(ordered)*0.05)\n",
        "lower = ordered[i]\n",
        "i= round(len(ordered)*0.95)\n",
        "upper= ordered[i]\n",
        "\n",
        "print(lower)\n",
        "print(upper)\n"
      ]
    },
    {
      "cell_type": "code",
      "execution_count": null,
      "id": "c14784f8",
      "metadata": {
        "id": "c14784f8",
        "outputId": "1fbc2d92-5c07-459c-9fab-1921e63dfc77",
        "colab": {
          "base_uri": "https://localhost:8080/"
        }
      },
      "outputs": [
        {
          "output_type": "stream",
          "name": "stdout",
          "text": [
            "155196.40752888037\n",
            "148895.09375\n",
            "96381.73375265037\n",
            "9289469178.64737\n",
            "1119.0999755859375\n",
            "319457.09375\n"
          ]
        }
      ],
      "source": [
        "s = FlowCal.io.FCSData('04-blank-A11-3.fcs')\n",
        "s\n",
        "\n",
        "s_fl1 = s[:, ['FL1-H']]\n",
        "s_fl1\n",
        "\n",
        "s_fl1 = s_fl1.tolist()\n",
        "s_fl1[0][0]\n",
        "\n",
        "proper_s_fl1 = []\n",
        "for i in range(len(s_fl1)):\n",
        "    proper_s_fl1.append(s_fl1[i][0])\n",
        "\n",
        "proper_s_fl1[:100]\n",
        "type(proper_s_fl1[:100])\n",
        "\n",
        "import statistics\n",
        "from statistics import stdev\n",
        "from fractions import Fraction as fr\n",
        "\n",
        "print(np.mean(proper_s_fl1))\n",
        "print(statistics.median(proper_s_fl1))\n",
        "print(np.std(proper_s_fl1))\n",
        "print(statistics.variance(proper_s_fl1))\n",
        "\n",
        "ordered= sorted(proper_s_fl1)\n",
        "i= round(len(ordered)*0.05)\n",
        "lower = ordered[i]\n",
        "i= round(len(ordered)*0.95)\n",
        "upper= ordered[i]\n",
        "\n",
        "print(lower)\n",
        "print(upper)\n"
      ]
    },
    {
      "cell_type": "code",
      "execution_count": null,
      "id": "045993d1",
      "metadata": {
        "id": "045993d1",
        "outputId": "d19f74bb-b6b0-472e-f30e-ed0d0935b473",
        "colab": {
          "base_uri": "https://localhost:8080/"
        }
      },
      "outputs": [
        {
          "output_type": "stream",
          "name": "stdout",
          "text": [
            "128139.13498619173\n",
            "121223.19921875\n",
            "77445.94717076812\n",
            "5997893245.650696\n",
            "1327.5999755859375\n",
            "255965.59375\n"
          ]
        }
      ],
      "source": [
        "s = FlowCal.io.FCSData('02-blank-A11-4.fcs')\n",
        "s\n",
        "\n",
        "s_fl1 = s[:, ['FL1-H']]\n",
        "s_fl1\n",
        "\n",
        "s_fl1 = s_fl1.tolist()\n",
        "s_fl1[0][0]\n",
        "\n",
        "proper_s_fl1 = []\n",
        "for i in range(len(s_fl1)):\n",
        "    proper_s_fl1.append(s_fl1[i][0])\n",
        "\n",
        "proper_s_fl1[:100]\n",
        "type(proper_s_fl1[:100])\n",
        "\n",
        "import statistics\n",
        "from statistics import stdev\n",
        "from fractions import Fraction as fr\n",
        "\n",
        "print(np.mean(proper_s_fl1))\n",
        "print(statistics.median(proper_s_fl1))\n",
        "print(np.std(proper_s_fl1))\n",
        "print(statistics.variance(proper_s_fl1))\n",
        "\n",
        "ordered= sorted(proper_s_fl1)\n",
        "i= round(len(ordered)*0.05)\n",
        "lower = ordered[i]\n",
        "i= round(len(ordered)*0.95)\n",
        "upper= ordered[i]\n",
        "\n",
        "print(lower)\n",
        "print(upper)\n"
      ]
    },
    {
      "cell_type": "code",
      "execution_count": null,
      "id": "bd843aea",
      "metadata": {
        "id": "bd843aea",
        "outputId": "8d76f319-a428-475b-ade3-2c7af446c886",
        "colab": {
          "base_uri": "https://localhost:8080/"
        }
      },
      "outputs": [
        {
          "output_type": "stream",
          "name": "stdout",
          "text": [
            "147430.8655900803\n",
            "136320.296875\n",
            "96417.7406139529\n",
            "9296401857.27403\n",
            "1344.300048828125\n",
            "318286.6875\n"
          ]
        }
      ],
      "source": [
        "s = FlowCal.io.FCSData('04-blank-A11-4.fcs')\n",
        "s\n",
        "\n",
        "s_fl1 = s[:, ['FL1-H']]\n",
        "s_fl1\n",
        "\n",
        "s_fl1 = s_fl1.tolist()\n",
        "s_fl1[0][0]\n",
        "\n",
        "proper_s_fl1 = []\n",
        "for i in range(len(s_fl1)):\n",
        "    proper_s_fl1.append(s_fl1[i][0])\n",
        "\n",
        "proper_s_fl1[:100]\n",
        "type(proper_s_fl1[:100])\n",
        "\n",
        "import statistics\n",
        "from statistics import stdev\n",
        "from fractions import Fraction as fr\n",
        "\n",
        "print(np.mean(proper_s_fl1))\n",
        "print(statistics.median(proper_s_fl1))\n",
        "print(np.std(proper_s_fl1))\n",
        "print(statistics.variance(proper_s_fl1))\n",
        "\n",
        "ordered= sorted(proper_s_fl1)\n",
        "i= round(len(ordered)*0.05)\n",
        "lower = ordered[i]\n",
        "i= round(len(ordered)*0.95)\n",
        "upper= ordered[i]\n",
        "\n",
        "print(lower)\n",
        "print(upper)\n"
      ]
    },
    {
      "cell_type": "code",
      "execution_count": null,
      "id": "893671e9",
      "metadata": {
        "id": "893671e9",
        "outputId": "020421e0-c5b2-4e24-cd7d-8f0a5cb4eabc",
        "colab": {
          "base_uri": "https://localhost:8080/"
        }
      },
      "outputs": [
        {
          "output_type": "stream",
          "name": "stdout",
          "text": [
            "188750.99655053136\n",
            "180891.59375\n",
            "145313.94629417825\n",
            "21116458691.06769\n",
            "835.0\n",
            "445930.90625\n"
          ]
        }
      ],
      "source": [
        "s = FlowCal.io.FCSData('02-blank-C2-1.fcs')\n",
        "s\n",
        "\n",
        "s_fl1 = s[:, ['FL1-H']]\n",
        "s_fl1\n",
        "\n",
        "s_fl1 = s_fl1.tolist()\n",
        "s_fl1[0][0]\n",
        "\n",
        "proper_s_fl1 = []\n",
        "for i in range(len(s_fl1)):\n",
        "    proper_s_fl1.append(s_fl1[i][0])\n",
        "\n",
        "proper_s_fl1[:100]\n",
        "type(proper_s_fl1[:100])\n",
        "\n",
        "import statistics\n",
        "from statistics import stdev\n",
        "from fractions import Fraction as fr\n",
        "\n",
        "print(np.mean(proper_s_fl1))\n",
        "print(statistics.median(proper_s_fl1))\n",
        "print(np.std(proper_s_fl1))\n",
        "print(statistics.variance(proper_s_fl1))\n",
        "\n",
        "ordered= sorted(proper_s_fl1)\n",
        "i= round(len(ordered)*0.05)\n",
        "lower = ordered[i]\n",
        "i= round(len(ordered)*0.95)\n",
        "upper= ordered[i]\n",
        "\n",
        "print(lower)\n",
        "print(upper)\n"
      ]
    },
    {
      "cell_type": "code",
      "execution_count": null,
      "id": "602ae13d",
      "metadata": {
        "id": "602ae13d",
        "outputId": "6ea952d8-3087-4ea6-dfe4-cd353066f2ff",
        "colab": {
          "base_uri": "https://localhost:8080/"
        }
      },
      "outputs": [
        {
          "output_type": "stream",
          "name": "stdout",
          "text": [
            "209122.44103610425\n",
            "185499.0\n",
            "175248.1879657998\n",
            "30712151586.132782\n",
            "1000.9000244140625\n",
            "547436.1875\n"
          ]
        }
      ],
      "source": [
        "s = FlowCal.io.FCSData('04-blank-C2-1.fcs')\n",
        "s\n",
        "\n",
        "s_fl1 = s[:, ['FL1-H']]\n",
        "s_fl1\n",
        "\n",
        "s_fl1 = s_fl1.tolist()\n",
        "s_fl1[0][0]\n",
        "\n",
        "proper_s_fl1 = []\n",
        "for i in range(len(s_fl1)):\n",
        "    proper_s_fl1.append(s_fl1[i][0])\n",
        "\n",
        "proper_s_fl1[:100]\n",
        "type(proper_s_fl1[:100])\n",
        "\n",
        "import statistics\n",
        "from statistics import stdev\n",
        "from fractions import Fraction as fr\n",
        "\n",
        "print(np.mean(proper_s_fl1))\n",
        "print(statistics.median(proper_s_fl1))\n",
        "print(np.std(proper_s_fl1))\n",
        "print(statistics.variance(proper_s_fl1))\n",
        "\n",
        "ordered= sorted(proper_s_fl1)\n",
        "i= round(len(ordered)*0.05)\n",
        "lower = ordered[i]\n",
        "i= round(len(ordered)*0.95)\n",
        "upper= ordered[i]\n",
        "\n",
        "print(lower)\n",
        "print(upper)\n"
      ]
    },
    {
      "cell_type": "code",
      "execution_count": null,
      "id": "b61e7ae5",
      "metadata": {
        "id": "b61e7ae5",
        "outputId": "fea3bd62-0237-44bb-ec6f-55fe57ca5138",
        "colab": {
          "base_uri": "https://localhost:8080/"
        }
      },
      "outputs": [
        {
          "output_type": "stream",
          "name": "stdout",
          "text": [
            "147555.99681811978\n",
            "144995.5\n",
            "96175.72786668688\n",
            "9249958978.69415\n",
            "911.9000244140625\n",
            "303073.5\n"
          ]
        }
      ],
      "source": [
        "s = FlowCal.io.FCSData('02-blank-C2-2.fcs')\n",
        "s\n",
        "\n",
        "s_fl1 = s[:, ['FL1-H']]\n",
        "s_fl1\n",
        "\n",
        "s_fl1 = s_fl1.tolist()\n",
        "s_fl1[0][0]\n",
        "\n",
        "proper_s_fl1 = []\n",
        "for i in range(len(s_fl1)):\n",
        "    proper_s_fl1.append(s_fl1[i][0])\n",
        "\n",
        "proper_s_fl1[:100]\n",
        "type(proper_s_fl1[:100])\n",
        "\n",
        "import statistics\n",
        "from statistics import stdev\n",
        "from fractions import Fraction as fr\n",
        "\n",
        "print(np.mean(proper_s_fl1))\n",
        "print(statistics.median(proper_s_fl1))\n",
        "print(np.std(proper_s_fl1))\n",
        "print(statistics.variance(proper_s_fl1))\n",
        "\n",
        "ordered= sorted(proper_s_fl1)\n",
        "i= round(len(ordered)*0.05)\n",
        "lower = ordered[i]\n",
        "i= round(len(ordered)*0.95)\n",
        "upper= ordered[i]\n",
        "\n",
        "print(lower)\n",
        "print(upper)\n"
      ]
    },
    {
      "cell_type": "code",
      "execution_count": null,
      "id": "7c81640f",
      "metadata": {
        "id": "7c81640f",
        "outputId": "861cd869-4eeb-4b7f-8ae6-1db37829cf2e",
        "colab": {
          "base_uri": "https://localhost:8080/"
        }
      },
      "outputs": [
        {
          "output_type": "stream",
          "name": "stdout",
          "text": [
            "303450.0586105297\n",
            "236587.90625\n",
            "257100.23971373762\n",
            "66100901371.55686\n",
            "938.2999877929688\n",
            "803639.1875\n"
          ]
        }
      ],
      "source": [
        "s = FlowCal.io.FCSData('04-blank-C2-2.fcs')\n",
        "s\n",
        "\n",
        "s_fl1 = s[:, ['FL1-H']]\n",
        "s_fl1\n",
        "\n",
        "s_fl1 = s_fl1.tolist()\n",
        "s_fl1[0][0]\n",
        "\n",
        "proper_s_fl1 = []\n",
        "for i in range(len(s_fl1)):\n",
        "    proper_s_fl1.append(s_fl1[i][0])\n",
        "\n",
        "proper_s_fl1[:100]\n",
        "type(proper_s_fl1[:100])\n",
        "\n",
        "import statistics\n",
        "from statistics import stdev\n",
        "from fractions import Fraction as fr\n",
        "\n",
        "print(np.mean(proper_s_fl1))\n",
        "print(statistics.median(proper_s_fl1))\n",
        "print(np.std(proper_s_fl1))\n",
        "print(statistics.variance(proper_s_fl1))\n",
        "\n",
        "ordered= sorted(proper_s_fl1)\n",
        "i= round(len(ordered)*0.05)\n",
        "lower = ordered[i]\n",
        "i= round(len(ordered)*0.95)\n",
        "upper= ordered[i]\n",
        "\n",
        "print(lower)\n",
        "print(upper)\n"
      ]
    },
    {
      "cell_type": "code",
      "execution_count": null,
      "id": "a2046c1e",
      "metadata": {
        "id": "a2046c1e",
        "outputId": "c34ff96e-39ef-486c-eb36-968088204c78",
        "colab": {
          "base_uri": "https://localhost:8080/"
        }
      },
      "outputs": [
        {
          "output_type": "stream",
          "name": "stdout",
          "text": [
            "259205.70629581896\n",
            "208439.5\n",
            "254143.74539067427\n",
            "64589665081.1302\n",
            "1186.0\n",
            "766294.8125\n"
          ]
        }
      ],
      "source": [
        "s = FlowCal.io.FCSData('02-blank-C2-3.fcs')\n",
        "s\n",
        "\n",
        "s_fl1 = s[:, ['FL1-H']]\n",
        "s_fl1\n",
        "\n",
        "s_fl1 = s_fl1.tolist()\n",
        "s_fl1[0][0]\n",
        "\n",
        "proper_s_fl1 = []\n",
        "for i in range(len(s_fl1)):\n",
        "    proper_s_fl1.append(s_fl1[i][0])\n",
        "\n",
        "proper_s_fl1[:100]\n",
        "type(proper_s_fl1[:100])\n",
        "\n",
        "import statistics\n",
        "from statistics import stdev\n",
        "from fractions import Fraction as fr\n",
        "\n",
        "print(np.mean(proper_s_fl1))\n",
        "print(statistics.median(proper_s_fl1))\n",
        "print(np.std(proper_s_fl1))\n",
        "print(statistics.variance(proper_s_fl1))\n",
        "\n",
        "ordered= sorted(proper_s_fl1)\n",
        "i= round(len(ordered)*0.05)\n",
        "lower = ordered[i]\n",
        "i= round(len(ordered)*0.95)\n",
        "upper= ordered[i]\n",
        "\n",
        "print(lower)\n",
        "print(upper)\n"
      ]
    },
    {
      "cell_type": "code",
      "execution_count": null,
      "id": "3d27eeb5",
      "metadata": {
        "id": "3d27eeb5",
        "outputId": "5825acb2-0d07-483c-cf15-697140acebb7",
        "colab": {
          "base_uri": "https://localhost:8080/"
        }
      },
      "outputs": [
        {
          "output_type": "stream",
          "name": "stdout",
          "text": [
            "644747.7655952594\n",
            "562201.90625\n",
            "590569.8251369993\n",
            "348774419999.8041\n",
            "672.7000122070312\n",
            "1723471.125\n"
          ]
        }
      ],
      "source": [
        "s = FlowCal.io.FCSData('04-blank-C2-3.fcs')\n",
        "s\n",
        "\n",
        "s_fl1 = s[:, ['FL1-H']]\n",
        "s_fl1\n",
        "\n",
        "s_fl1 = s_fl1.tolist()\n",
        "s_fl1[0][0]\n",
        "\n",
        "proper_s_fl1 = []\n",
        "for i in range(len(s_fl1)):\n",
        "    proper_s_fl1.append(s_fl1[i][0])\n",
        "\n",
        "proper_s_fl1[:100]\n",
        "type(proper_s_fl1[:100])\n",
        "\n",
        "import statistics\n",
        "from statistics import stdev\n",
        "from fractions import Fraction as fr\n",
        "\n",
        "print(np.mean(proper_s_fl1))\n",
        "print(statistics.median(proper_s_fl1))\n",
        "print(np.std(proper_s_fl1))\n",
        "print(statistics.variance(proper_s_fl1))\n",
        "\n",
        "ordered= sorted(proper_s_fl1)\n",
        "i= round(len(ordered)*0.05)\n",
        "lower = ordered[i]\n",
        "i= round(len(ordered)*0.95)\n",
        "upper= ordered[i]\n",
        "\n",
        "print(lower)\n",
        "print(upper)\n"
      ]
    },
    {
      "cell_type": "code",
      "execution_count": null,
      "id": "b35d5bd8",
      "metadata": {
        "id": "b35d5bd8",
        "outputId": "224b3f4b-c8df-4a32-f65d-4ca268a64973",
        "colab": {
          "base_uri": "https://localhost:8080/"
        }
      },
      "outputs": [
        {
          "output_type": "stream",
          "name": "stdout",
          "text": [
            "348080.41169562255\n",
            "333041.0625\n",
            "260363.6374371102\n",
            "67789588430.24253\n",
            "920.7999877929688\n",
            "800380.0\n"
          ]
        }
      ],
      "source": [
        "s = FlowCal.io.FCSData('02-blank-C2-4.fcs')\n",
        "s\n",
        "\n",
        "s_fl1 = s[:, ['FL1-H']]\n",
        "s_fl1\n",
        "\n",
        "s_fl1 = s_fl1.tolist()\n",
        "s_fl1[0][0]\n",
        "\n",
        "proper_s_fl1 = []\n",
        "for i in range(len(s_fl1)):\n",
        "    proper_s_fl1.append(s_fl1[i][0])\n",
        "\n",
        "proper_s_fl1[:100]\n",
        "type(proper_s_fl1[:100])\n",
        "\n",
        "import statistics\n",
        "from statistics import stdev\n",
        "from fractions import Fraction as fr\n",
        "\n",
        "print(np.mean(proper_s_fl1))\n",
        "print(statistics.median(proper_s_fl1))\n",
        "print(np.std(proper_s_fl1))\n",
        "print(statistics.variance(proper_s_fl1))\n",
        "\n",
        "ordered= sorted(proper_s_fl1)\n",
        "i= round(len(ordered)*0.05)\n",
        "lower = ordered[i]\n",
        "i= round(len(ordered)*0.95)\n",
        "upper= ordered[i]\n",
        "\n",
        "print(lower)\n",
        "print(upper)\n"
      ]
    },
    {
      "cell_type": "code",
      "execution_count": null,
      "id": "32bd377b",
      "metadata": {
        "id": "32bd377b",
        "outputId": "663eca1c-ab2b-41de-a041-5ac1f8061904",
        "colab": {
          "base_uri": "https://localhost:8080/"
        }
      },
      "outputs": [
        {
          "output_type": "stream",
          "name": "stdout",
          "text": [
            "577813.1046371914\n",
            "573942.875\n",
            "372163.7143077555\n",
            "138506596387.21457\n",
            "1795.4000244140625\n",
            "1195977.125\n"
          ]
        }
      ],
      "source": [
        "s = FlowCal.io.FCSData('04-blank-C2-4.fcs')\n",
        "s\n",
        "\n",
        "s_fl1 = s[:, ['FL1-H']]\n",
        "s_fl1\n",
        "\n",
        "s_fl1 = s_fl1.tolist()\n",
        "s_fl1[0][0]\n",
        "\n",
        "proper_s_fl1 = []\n",
        "for i in range(len(s_fl1)):\n",
        "    proper_s_fl1.append(s_fl1[i][0])\n",
        "\n",
        "proper_s_fl1[:100]\n",
        "type(proper_s_fl1[:100])\n",
        "\n",
        "import statistics\n",
        "from statistics import stdev\n",
        "from fractions import Fraction as fr\n",
        "\n",
        "print(np.mean(proper_s_fl1))\n",
        "print(statistics.median(proper_s_fl1))\n",
        "print(np.std(proper_s_fl1))\n",
        "print(statistics.variance(proper_s_fl1))\n",
        "\n",
        "ordered= sorted(proper_s_fl1)\n",
        "i= round(len(ordered)*0.05)\n",
        "lower = ordered[i]\n",
        "i= round(len(ordered)*0.95)\n",
        "upper= ordered[i]\n",
        "\n",
        "print(lower)\n",
        "print(upper)\n"
      ]
    },
    {
      "cell_type": "code",
      "execution_count": null,
      "id": "9bdb6e72",
      "metadata": {
        "id": "9bdb6e72",
        "outputId": "73a2b475-c753-427b-ee30-396707903970",
        "colab": {
          "base_uri": "https://localhost:8080/"
        }
      },
      "outputs": [
        {
          "output_type": "stream",
          "name": "stdout",
          "text": [
            "102981.32842008444\n",
            "99714.703125\n",
            "69468.17860025732\n",
            "4825909217.933338\n",
            "792.9000244140625\n",
            "221535.40625\n"
          ]
        }
      ],
      "source": [
        "s = FlowCal.io.FCSData('02-blank-C3-1.fcs')\n",
        "s\n",
        "\n",
        "s_fl1 = s[:, ['FL1-H']]\n",
        "s_fl1\n",
        "\n",
        "s_fl1 = s_fl1.tolist()\n",
        "s_fl1[0][0]\n",
        "\n",
        "proper_s_fl1 = []\n",
        "for i in range(len(s_fl1)):\n",
        "    proper_s_fl1.append(s_fl1[i][0])\n",
        "\n",
        "proper_s_fl1[:100]\n",
        "type(proper_s_fl1[:100])\n",
        "\n",
        "import statistics\n",
        "from statistics import stdev\n",
        "from fractions import Fraction as fr\n",
        "\n",
        "print(np.mean(proper_s_fl1))\n",
        "print(statistics.median(proper_s_fl1))\n",
        "print(np.std(proper_s_fl1))\n",
        "print(statistics.variance(proper_s_fl1))\n",
        "\n",
        "ordered= sorted(proper_s_fl1)\n",
        "i= round(len(ordered)*0.05)\n",
        "lower = ordered[i]\n",
        "i= round(len(ordered)*0.95)\n",
        "upper= ordered[i]\n",
        "\n",
        "print(lower)\n",
        "print(upper)\n"
      ]
    },
    {
      "cell_type": "code",
      "execution_count": null,
      "id": "ffac1daf",
      "metadata": {
        "id": "ffac1daf",
        "outputId": "e7a3caf0-2ee8-42cd-fa59-dcc1ce631a38",
        "colab": {
          "base_uri": "https://localhost:8080/"
        }
      },
      "outputs": [
        {
          "output_type": "stream",
          "name": "stdout",
          "text": [
            "111485.60223718145\n",
            "100207.1015625\n",
            "83663.72271300953\n",
            "6999665963.537577\n",
            "3015.300048828125\n",
            "268946.59375\n"
          ]
        }
      ],
      "source": [
        "s = FlowCal.io.FCSData('04-blank-C3-1.fcs')\n",
        "s\n",
        "\n",
        "s_fl1 = s[:, ['FL1-H']]\n",
        "s_fl1\n",
        "\n",
        "s_fl1 = s_fl1.tolist()\n",
        "s_fl1[0][0]\n",
        "\n",
        "proper_s_fl1 = []\n",
        "for i in range(len(s_fl1)):\n",
        "    proper_s_fl1.append(s_fl1[i][0])\n",
        "\n",
        "proper_s_fl1[:100]\n",
        "type(proper_s_fl1[:100])\n",
        "\n",
        "import statistics\n",
        "from statistics import stdev\n",
        "from fractions import Fraction as fr\n",
        "\n",
        "print(np.mean(proper_s_fl1))\n",
        "print(statistics.median(proper_s_fl1))\n",
        "print(np.std(proper_s_fl1))\n",
        "print(statistics.variance(proper_s_fl1))\n",
        "\n",
        "ordered= sorted(proper_s_fl1)\n",
        "i= round(len(ordered)*0.05)\n",
        "lower = ordered[i]\n",
        "i= round(len(ordered)*0.95)\n",
        "upper= ordered[i]\n",
        "\n",
        "print(lower)\n",
        "print(upper)\n"
      ]
    },
    {
      "cell_type": "code",
      "execution_count": null,
      "id": "4dd337c6",
      "metadata": {
        "id": "4dd337c6",
        "outputId": "870dd511-7b24-4477-acd4-ce5f4f112187",
        "colab": {
          "base_uri": "https://localhost:8080/"
        }
      },
      "outputs": [
        {
          "output_type": "stream",
          "name": "stdout",
          "text": [
            "90230.28969535891\n",
            "89077.0\n",
            "57061.28154852665\n",
            "3256062152.663074\n",
            "932.0999755859375\n",
            "178954.203125\n"
          ]
        }
      ],
      "source": [
        "s = FlowCal.io.FCSData('02-blank-C3-2.fcs')\n",
        "s\n",
        "\n",
        "s_fl1 = s[:, ['FL1-H']]\n",
        "s_fl1\n",
        "\n",
        "s_fl1 = s_fl1.tolist()\n",
        "s_fl1[0][0]\n",
        "\n",
        "proper_s_fl1 = []\n",
        "for i in range(len(s_fl1)):\n",
        "    proper_s_fl1.append(s_fl1[i][0])\n",
        "\n",
        "proper_s_fl1[:100]\n",
        "type(proper_s_fl1[:100])\n",
        "\n",
        "import statistics\n",
        "from statistics import stdev\n",
        "from fractions import Fraction as fr\n",
        "\n",
        "print(np.mean(proper_s_fl1))\n",
        "print(statistics.median(proper_s_fl1))\n",
        "print(np.std(proper_s_fl1))\n",
        "print(statistics.variance(proper_s_fl1))\n",
        "\n",
        "ordered= sorted(proper_s_fl1)\n",
        "i= round(len(ordered)*0.05)\n",
        "lower = ordered[i]\n",
        "i= round(len(ordered)*0.95)\n",
        "upper= ordered[i]\n",
        "\n",
        "print(lower)\n",
        "print(upper)\n"
      ]
    },
    {
      "cell_type": "code",
      "execution_count": null,
      "id": "65503b5e",
      "metadata": {
        "id": "65503b5e",
        "outputId": "eaa3fd49-b64b-4977-b7c4-f2f53c2f3766",
        "colab": {
          "base_uri": "https://localhost:8080/"
        }
      },
      "outputs": [
        {
          "output_type": "stream",
          "name": "stdout",
          "text": [
            "260262.25087017563\n",
            "237725.1015625\n",
            "184079.84860579742\n",
            "33885526898.005962\n",
            "822.7000122070312\n",
            "584284.0\n"
          ]
        }
      ],
      "source": [
        "s = FlowCal.io.FCSData('04-blank-C3-2.fcs')\n",
        "s\n",
        "\n",
        "s_fl1 = s[:, ['FL1-H']]\n",
        "s_fl1\n",
        "\n",
        "s_fl1 = s_fl1.tolist()\n",
        "s_fl1[0][0]\n",
        "\n",
        "proper_s_fl1 = []\n",
        "for i in range(len(s_fl1)):\n",
        "    proper_s_fl1.append(s_fl1[i][0])\n",
        "\n",
        "proper_s_fl1[:100]\n",
        "type(proper_s_fl1[:100])\n",
        "\n",
        "import statistics\n",
        "from statistics import stdev\n",
        "from fractions import Fraction as fr\n",
        "\n",
        "print(np.mean(proper_s_fl1))\n",
        "print(statistics.median(proper_s_fl1))\n",
        "print(np.std(proper_s_fl1))\n",
        "print(statistics.variance(proper_s_fl1))\n",
        "\n",
        "ordered= sorted(proper_s_fl1)\n",
        "i= round(len(ordered)*0.05)\n",
        "lower = ordered[i]\n",
        "i= round(len(ordered)*0.95)\n",
        "upper= ordered[i]\n",
        "\n",
        "print(lower)\n",
        "print(upper)\n"
      ]
    },
    {
      "cell_type": "code",
      "source": [
        "import FlowCal\n",
        "import numpy as np"
      ],
      "metadata": {
        "id": "RzWa6-lnFhwT"
      },
      "id": "RzWa6-lnFhwT",
      "execution_count": null,
      "outputs": []
    },
    {
      "cell_type": "code",
      "execution_count": null,
      "id": "7d011616",
      "metadata": {
        "id": "7d011616",
        "outputId": "6ae32069-76e7-454e-b5bd-f2ff850eb812",
        "colab": {
          "base_uri": "https://localhost:8080/"
        }
      },
      "outputs": [
        {
          "output_type": "stream",
          "name": "stdout",
          "text": [
            "223050.53720396015\n",
            "202060.8046875\n",
            "148983.41080089647\n",
            "22196212406.497627\n",
            "7019.2998046875\n",
            "502961.90625\n"
          ]
        }
      ],
      "source": [
        "s = FlowCal.io.FCSData('02-blank-C3-3.fcs')\n",
        "s\n",
        "\n",
        "s_fl1 = s[:, ['FL1-H']]\n",
        "s_fl1\n",
        "\n",
        "s_fl1 = s_fl1.tolist()\n",
        "s_fl1[0][0]\n",
        "\n",
        "proper_s_fl1 = []\n",
        "for i in range(len(s_fl1)):\n",
        "    proper_s_fl1.append(s_fl1[i][0])\n",
        "\n",
        "proper_s_fl1[:100]\n",
        "type(proper_s_fl1[:100])\n",
        "\n",
        "import statistics\n",
        "from statistics import stdev\n",
        "from fractions import Fraction as fr\n",
        "\n",
        "print(np.mean(proper_s_fl1))\n",
        "print(statistics.median(proper_s_fl1))\n",
        "print(np.std(proper_s_fl1))\n",
        "print(statistics.variance(proper_s_fl1))\n",
        "\n",
        "ordered= sorted(proper_s_fl1)\n",
        "i= round(len(ordered)*0.05)\n",
        "lower = ordered[i]\n",
        "i= round(len(ordered)*0.95)\n",
        "upper= ordered[i]\n",
        "\n",
        "print(lower)\n",
        "print(upper)\n"
      ]
    },
    {
      "cell_type": "code",
      "execution_count": null,
      "id": "282c11b5",
      "metadata": {
        "id": "282c11b5",
        "outputId": "e556cede-5c11-4f96-b42c-b99b61f64784",
        "colab": {
          "base_uri": "https://localhost:8080/"
        }
      },
      "outputs": [
        {
          "output_type": "stream",
          "name": "stdout",
          "text": [
            "340510.4543226119\n",
            "308446.0\n",
            "272457.8699321034\n",
            "74233771944.5634\n",
            "762.7000122070312\n",
            "852195.3125\n"
          ]
        }
      ],
      "source": [
        "s = FlowCal.io.FCSData('04-blank-C3-3.fcs')\n",
        "s\n",
        "\n",
        "s_fl1 = s[:, ['FL1-H']]\n",
        "s_fl1\n",
        "\n",
        "s_fl1 = s_fl1.tolist()\n",
        "s_fl1[0][0]\n",
        "\n",
        "proper_s_fl1 = []\n",
        "for i in range(len(s_fl1)):\n",
        "    proper_s_fl1.append(s_fl1[i][0])\n",
        "\n",
        "proper_s_fl1[:100]\n",
        "type(proper_s_fl1[:100])\n",
        "\n",
        "import statistics\n",
        "from statistics import stdev\n",
        "from fractions import Fraction as fr\n",
        "\n",
        "print(np.mean(proper_s_fl1))\n",
        "print(statistics.median(proper_s_fl1))\n",
        "print(np.std(proper_s_fl1))\n",
        "print(statistics.variance(proper_s_fl1))\n",
        "\n",
        "ordered= sorted(proper_s_fl1)\n",
        "i= round(len(ordered)*0.05)\n",
        "lower = ordered[i]\n",
        "i= round(len(ordered)*0.95)\n",
        "upper= ordered[i]\n",
        "\n",
        "print(lower)\n",
        "print(upper)\n"
      ]
    },
    {
      "cell_type": "code",
      "execution_count": null,
      "id": "9c6b6042",
      "metadata": {
        "id": "9c6b6042",
        "outputId": "1ada8604-dc39-46a1-9792-cedaeee29d07",
        "colab": {
          "base_uri": "https://localhost:8080/"
        }
      },
      "outputs": [
        {
          "output_type": "stream",
          "name": "stdout",
          "text": [
            "158020.0734494554\n",
            "159209.5\n",
            "97617.6580127717\n",
            "9529303972.836792\n",
            "4337.7998046875\n",
            "309130.3125\n"
          ]
        }
      ],
      "source": [
        "s = FlowCal.io.FCSData('02-blank-C3-4.fcs')\n",
        "s\n",
        "\n",
        "s_fl1 = s[:, ['FL1-H']]\n",
        "s_fl1\n",
        "\n",
        "s_fl1 = s_fl1.tolist()\n",
        "s_fl1[0][0]\n",
        "\n",
        "proper_s_fl1 = []\n",
        "for i in range(len(s_fl1)):\n",
        "    proper_s_fl1.append(s_fl1[i][0])\n",
        "\n",
        "proper_s_fl1[:100]\n",
        "type(proper_s_fl1[:100])\n",
        "\n",
        "import statistics\n",
        "from statistics import stdev\n",
        "from fractions import Fraction as fr\n",
        "\n",
        "print(np.mean(proper_s_fl1))\n",
        "print(statistics.median(proper_s_fl1))\n",
        "print(np.std(proper_s_fl1))\n",
        "print(statistics.variance(proper_s_fl1))\n",
        "\n",
        "ordered= sorted(proper_s_fl1)\n",
        "i= round(len(ordered)*0.05)\n",
        "lower = ordered[i]\n",
        "i= round(len(ordered)*0.95)\n",
        "upper= ordered[i]\n",
        "\n",
        "print(lower)\n",
        "print(upper)\n"
      ]
    },
    {
      "cell_type": "code",
      "execution_count": null,
      "id": "f2da8c92",
      "metadata": {
        "id": "f2da8c92",
        "outputId": "479dda8c-8e2e-422f-a6f5-cacdb54573b6",
        "colab": {
          "base_uri": "https://localhost:8080/"
        }
      },
      "outputs": [
        {
          "output_type": "stream",
          "name": "stdout",
          "text": [
            "345399.39792813786\n",
            "327037.3125\n",
            "210788.83593984085\n",
            "44432114937.010765\n",
            "5811.0\n",
            "712730.5\n"
          ]
        }
      ],
      "source": [
        "s = FlowCal.io.FCSData('04-blank-C3-4.fcs')\n",
        "s\n",
        "\n",
        "s_fl1 = s[:, ['FL1-H']]\n",
        "s_fl1\n",
        "\n",
        "s_fl1 = s_fl1.tolist()\n",
        "s_fl1[0][0]\n",
        "\n",
        "proper_s_fl1 = []\n",
        "for i in range(len(s_fl1)):\n",
        "    proper_s_fl1.append(s_fl1[i][0])\n",
        "\n",
        "proper_s_fl1[:100]\n",
        "type(proper_s_fl1[:100])\n",
        "\n",
        "import statistics\n",
        "from statistics import stdev\n",
        "from fractions import Fraction as fr\n",
        "\n",
        "print(np.mean(proper_s_fl1))\n",
        "print(statistics.median(proper_s_fl1))\n",
        "print(np.std(proper_s_fl1))\n",
        "print(statistics.variance(proper_s_fl1))\n",
        "\n",
        "ordered= sorted(proper_s_fl1)\n",
        "i= round(len(ordered)*0.05)\n",
        "lower = ordered[i]\n",
        "i= round(len(ordered)*0.95)\n",
        "upper= ordered[i]\n",
        "\n",
        "print(lower)\n",
        "print(upper)\n"
      ]
    },
    {
      "cell_type": "code",
      "execution_count": null,
      "id": "5500311f",
      "metadata": {
        "id": "5500311f",
        "outputId": "b21fd9c5-d97d-4566-94f0-a966833087f8",
        "colab": {
          "base_uri": "https://localhost:8080/"
        }
      },
      "outputs": [
        {
          "output_type": "stream",
          "name": "stdout",
          "text": [
            "121744.97313023805\n",
            "118430.75\n",
            "89050.43881107183\n",
            "7930085417.4907875\n",
            "704.2999877929688\n",
            "270545.1875\n"
          ]
        }
      ],
      "source": [
        "s = FlowCal.io.FCSData('02-blank-C4-1.fcs')\n",
        "s\n",
        "\n",
        "s_fl1 = s[:, ['FL1-H']]\n",
        "s_fl1\n",
        "\n",
        "s_fl1 = s_fl1.tolist()\n",
        "s_fl1[0][0]\n",
        "\n",
        "proper_s_fl1 = []\n",
        "for i in range(len(s_fl1)):\n",
        "    proper_s_fl1.append(s_fl1[i][0])\n",
        "\n",
        "proper_s_fl1[:100]\n",
        "type(proper_s_fl1[:100])\n",
        "\n",
        "import statistics\n",
        "from statistics import stdev\n",
        "from fractions import Fraction as fr\n",
        "\n",
        "print(np.mean(proper_s_fl1))\n",
        "print(statistics.median(proper_s_fl1))\n",
        "print(np.std(proper_s_fl1))\n",
        "print(statistics.variance(proper_s_fl1))\n",
        "\n",
        "ordered= sorted(proper_s_fl1)\n",
        "i= round(len(ordered)*0.05)\n",
        "lower = ordered[i]\n",
        "i= round(len(ordered)*0.95)\n",
        "upper= ordered[i]\n",
        "\n",
        "print(lower)\n",
        "print(upper)\n"
      ]
    },
    {
      "cell_type": "code",
      "execution_count": null,
      "id": "c7b39282",
      "metadata": {
        "id": "c7b39282",
        "outputId": "3dd69d59-c293-47b9-db09-67ddf5c3ad48",
        "colab": {
          "base_uri": "https://localhost:8080/"
        }
      },
      "outputs": [
        {
          "output_type": "stream",
          "name": "stdout",
          "text": [
            "121767.20767490251\n",
            "112457.3984375\n",
            "94333.5618300308\n",
            "8898875109.960148\n",
            "2507.199951171875\n",
            "298676.8125\n"
          ]
        }
      ],
      "source": [
        "s = FlowCal.io.FCSData('04-blank-C4-1.fcs')\n",
        "s\n",
        "\n",
        "s_fl1 = s[:, ['FL1-H']]\n",
        "s_fl1\n",
        "\n",
        "s_fl1 = s_fl1.tolist()\n",
        "s_fl1[0][0]\n",
        "\n",
        "proper_s_fl1 = []\n",
        "for i in range(len(s_fl1)):\n",
        "    proper_s_fl1.append(s_fl1[i][0])\n",
        "\n",
        "proper_s_fl1[:100]\n",
        "type(proper_s_fl1[:100])\n",
        "\n",
        "import statistics\n",
        "from statistics import stdev\n",
        "from fractions import Fraction as fr\n",
        "\n",
        "print(np.mean(proper_s_fl1))\n",
        "print(statistics.median(proper_s_fl1))\n",
        "print(np.std(proper_s_fl1))\n",
        "print(statistics.variance(proper_s_fl1))\n",
        "\n",
        "ordered= sorted(proper_s_fl1)\n",
        "i= round(len(ordered)*0.05)\n",
        "lower = ordered[i]\n",
        "i= round(len(ordered)*0.95)\n",
        "upper= ordered[i]\n",
        "\n",
        "print(lower)\n",
        "print(upper)\n"
      ]
    },
    {
      "cell_type": "code",
      "execution_count": null,
      "id": "dd2c95d6",
      "metadata": {
        "id": "dd2c95d6",
        "outputId": "5a65e492-80bd-4e4c-8205-7efc8407ab38",
        "colab": {
          "base_uri": "https://localhost:8080/"
        }
      },
      "outputs": [
        {
          "output_type": "stream",
          "name": "stdout",
          "text": [
            "63873.82118010859\n",
            "56794.900390625\n",
            "45799.1697856764\n",
            "2097571667.2702525\n",
            "670.2000122070312\n",
            "144755.40625\n"
          ]
        }
      ],
      "source": [
        "s = FlowCal.io.FCSData('02-blank-C4-2.fcs')\n",
        "s\n",
        "\n",
        "s_fl1 = s[:, ['FL1-H']]\n",
        "s_fl1\n",
        "\n",
        "s_fl1 = s_fl1.tolist()\n",
        "s_fl1[0][0]\n",
        "\n",
        "proper_s_fl1 = []\n",
        "for i in range(len(s_fl1)):\n",
        "    proper_s_fl1.append(s_fl1[i][0])\n",
        "\n",
        "proper_s_fl1[:100]\n",
        "type(proper_s_fl1[:100])\n",
        "\n",
        "import statistics\n",
        "from statistics import stdev\n",
        "from fractions import Fraction as fr\n",
        "\n",
        "print(np.mean(proper_s_fl1))\n",
        "print(statistics.median(proper_s_fl1))\n",
        "print(np.std(proper_s_fl1))\n",
        "print(statistics.variance(proper_s_fl1))\n",
        "\n",
        "ordered= sorted(proper_s_fl1)\n",
        "i= round(len(ordered)*0.05)\n",
        "lower = ordered[i]\n",
        "i= round(len(ordered)*0.95)\n",
        "upper= ordered[i]\n",
        "\n",
        "print(lower)\n",
        "print(upper)\n"
      ]
    },
    {
      "cell_type": "code",
      "execution_count": null,
      "id": "dc5fa843",
      "metadata": {
        "id": "dc5fa843",
        "outputId": "3d9d25b1-6fd0-456a-8e57-616de71b9b44",
        "colab": {
          "base_uri": "https://localhost:8080/"
        }
      },
      "outputs": [
        {
          "output_type": "stream",
          "name": "stdout",
          "text": [
            "85308.3805715954\n",
            "72475.90234375\n",
            "67324.56423744686\n",
            "4532611248.220307\n",
            "735.7999877929688\n",
            "202336.703125\n"
          ]
        }
      ],
      "source": [
        "s = FlowCal.io.FCSData('04-blank-C4-2.fcs')\n",
        "s\n",
        "\n",
        "s_fl1 = s[:, ['FL1-H']]\n",
        "s_fl1\n",
        "\n",
        "s_fl1 = s_fl1.tolist()\n",
        "s_fl1[0][0]\n",
        "\n",
        "proper_s_fl1 = []\n",
        "for i in range(len(s_fl1)):\n",
        "    proper_s_fl1.append(s_fl1[i][0])\n",
        "\n",
        "proper_s_fl1[:100]\n",
        "type(proper_s_fl1[:100])\n",
        "\n",
        "import statistics\n",
        "from statistics import stdev\n",
        "from fractions import Fraction as fr\n",
        "\n",
        "print(np.mean(proper_s_fl1))\n",
        "print(statistics.median(proper_s_fl1))\n",
        "print(np.std(proper_s_fl1))\n",
        "print(statistics.variance(proper_s_fl1))\n",
        "\n",
        "ordered= sorted(proper_s_fl1)\n",
        "i= round(len(ordered)*0.05)\n",
        "lower = ordered[i]\n",
        "i= round(len(ordered)*0.95)\n",
        "upper= ordered[i]\n",
        "\n",
        "print(lower)\n",
        "print(upper)\n"
      ]
    },
    {
      "cell_type": "code",
      "execution_count": null,
      "id": "08b9efdb",
      "metadata": {
        "id": "08b9efdb",
        "outputId": "574844c9-8b91-48ae-aba0-ed0a8bccecbf",
        "colab": {
          "base_uri": "https://localhost:8080/"
        }
      },
      "outputs": [
        {
          "output_type": "stream",
          "name": "stdout",
          "text": [
            "82782.1034779396\n",
            "72789.0\n",
            "66456.54691454409\n",
            "4416496225.367634\n",
            "672.7000122070312\n",
            "194856.796875\n"
          ]
        }
      ],
      "source": [
        "s = FlowCal.io.FCSData('02-blank-C4-3.fcs')\n",
        "s\n",
        "\n",
        "s_fl1 = s[:, ['FL1-H']]\n",
        "s_fl1\n",
        "\n",
        "s_fl1 = s_fl1.tolist()\n",
        "s_fl1[0][0]\n",
        "\n",
        "proper_s_fl1 = []\n",
        "for i in range(len(s_fl1)):\n",
        "    proper_s_fl1.append(s_fl1[i][0])\n",
        "\n",
        "proper_s_fl1[:100]\n",
        "type(proper_s_fl1[:100])\n",
        "\n",
        "import statistics\n",
        "from statistics import stdev\n",
        "from fractions import Fraction as fr\n",
        "\n",
        "print(np.mean(proper_s_fl1))\n",
        "print(statistics.median(proper_s_fl1))\n",
        "print(np.std(proper_s_fl1))\n",
        "print(statistics.variance(proper_s_fl1))\n",
        "\n",
        "ordered= sorted(proper_s_fl1)\n",
        "i= round(len(ordered)*0.05)\n",
        "lower = ordered[i]\n",
        "i= round(len(ordered)*0.95)\n",
        "upper= ordered[i]\n",
        "\n",
        "print(lower)\n",
        "print(upper)\n"
      ]
    },
    {
      "cell_type": "code",
      "execution_count": null,
      "id": "db86da07",
      "metadata": {
        "id": "db86da07",
        "outputId": "6838a390-3277-4201-d6c3-377998f891f7",
        "colab": {
          "base_uri": "https://localhost:8080/"
        }
      },
      "outputs": [
        {
          "output_type": "stream",
          "name": "stdout",
          "text": [
            "97263.24221376606\n",
            "73382.203125\n",
            "97987.93039547994\n",
            "9601651927.252502\n",
            "638.4000244140625\n",
            "264673.6875\n"
          ]
        }
      ],
      "source": [
        "s = FlowCal.io.FCSData('04-blank-C4-3.fcs')\n",
        "s\n",
        "\n",
        "s_fl1 = s[:, ['FL1-H']]\n",
        "s_fl1\n",
        "\n",
        "s_fl1 = s_fl1.tolist()\n",
        "s_fl1[0][0]\n",
        "\n",
        "proper_s_fl1 = []\n",
        "for i in range(len(s_fl1)):\n",
        "    proper_s_fl1.append(s_fl1[i][0])\n",
        "\n",
        "proper_s_fl1[:100]\n",
        "type(proper_s_fl1[:100])\n",
        "\n",
        "import statistics\n",
        "from statistics import stdev\n",
        "from fractions import Fraction as fr\n",
        "\n",
        "print(np.mean(proper_s_fl1))\n",
        "print(statistics.median(proper_s_fl1))\n",
        "print(np.std(proper_s_fl1))\n",
        "print(statistics.variance(proper_s_fl1))\n",
        "\n",
        "ordered= sorted(proper_s_fl1)\n",
        "i= round(len(ordered)*0.05)\n",
        "lower = ordered[i]\n",
        "i= round(len(ordered)*0.95)\n",
        "upper= ordered[i]\n",
        "\n",
        "print(lower)\n",
        "print(upper)\n"
      ]
    },
    {
      "cell_type": "code",
      "execution_count": null,
      "id": "d767f7bc",
      "metadata": {
        "id": "d767f7bc",
        "outputId": "41bd9db9-d3b8-43e3-baa1-c64ace3b9bcb",
        "colab": {
          "base_uri": "https://localhost:8080/"
        }
      },
      "outputs": [
        {
          "output_type": "stream",
          "name": "stdout",
          "text": [
            "36031.04429792974\n",
            "29515.099609375\n",
            "39727.23813999496\n",
            "1578272044.1697853\n",
            "2063.699951171875\n",
            "76007.3984375\n"
          ]
        }
      ],
      "source": [
        "s = FlowCal.io.FCSData('02-blank-C4-4.fcs')\n",
        "s\n",
        "\n",
        "s_fl1 = s[:, ['FL1-H']]\n",
        "s_fl1\n",
        "\n",
        "s_fl1 = s_fl1.tolist()\n",
        "s_fl1[0][0]\n",
        "\n",
        "proper_s_fl1 = []\n",
        "for i in range(len(s_fl1)):\n",
        "    proper_s_fl1.append(s_fl1[i][0])\n",
        "\n",
        "proper_s_fl1[:100]\n",
        "type(proper_s_fl1[:100])\n",
        "\n",
        "import statistics\n",
        "from statistics import stdev\n",
        "from fractions import Fraction as fr\n",
        "\n",
        "print(np.mean(proper_s_fl1))\n",
        "print(statistics.median(proper_s_fl1))\n",
        "print(np.std(proper_s_fl1))\n",
        "print(statistics.variance(proper_s_fl1))\n",
        "\n",
        "ordered= sorted(proper_s_fl1)\n",
        "i= round(len(ordered)*0.05)\n",
        "lower = ordered[i]\n",
        "i= round(len(ordered)*0.95)\n",
        "upper= ordered[i]\n",
        "\n",
        "print(lower)\n",
        "print(upper)\n"
      ]
    },
    {
      "cell_type": "code",
      "execution_count": null,
      "id": "abbfef5b",
      "metadata": {
        "id": "abbfef5b",
        "outputId": "4bee1425-b811-43ff-82e0-9e972127956b",
        "colab": {
          "base_uri": "https://localhost:8080/"
        }
      },
      "outputs": [
        {
          "output_type": "stream",
          "name": "stdout",
          "text": [
            "68004.74909851937\n",
            "52060.3984375\n",
            "68840.01110178417\n",
            "4738988474.790345\n",
            "2727.39990234375\n",
            "175512.0\n"
          ]
        }
      ],
      "source": [
        "s = FlowCal.io.FCSData('04-blank-C4-4.fcs')\n",
        "s\n",
        "\n",
        "s_fl1 = s[:, ['FL1-H']]\n",
        "s_fl1\n",
        "\n",
        "s_fl1 = s_fl1.tolist()\n",
        "s_fl1[0][0]\n",
        "\n",
        "proper_s_fl1 = []\n",
        "for i in range(len(s_fl1)):\n",
        "    proper_s_fl1.append(s_fl1[i][0])\n",
        "\n",
        "proper_s_fl1[:100]\n",
        "type(proper_s_fl1[:100])\n",
        "\n",
        "import statistics\n",
        "from statistics import stdev\n",
        "from fractions import Fraction as fr\n",
        "\n",
        "print(np.mean(proper_s_fl1))\n",
        "print(statistics.median(proper_s_fl1))\n",
        "print(np.std(proper_s_fl1))\n",
        "print(statistics.variance(proper_s_fl1))\n",
        "\n",
        "ordered= sorted(proper_s_fl1)\n",
        "i= round(len(ordered)*0.05)\n",
        "lower = ordered[i]\n",
        "i= round(len(ordered)*0.95)\n",
        "upper= ordered[i]\n",
        "\n",
        "print(lower)\n",
        "print(upper)\n"
      ]
    },
    {
      "cell_type": "code",
      "execution_count": null,
      "id": "b3295683",
      "metadata": {
        "id": "b3295683",
        "outputId": "ab86aed0-92d0-4577-bac6-0d37eb2d9927",
        "colab": {
          "base_uri": "https://localhost:8080/"
        }
      },
      "outputs": [
        {
          "output_type": "stream",
          "name": "stdout",
          "text": [
            "3841.039673940257\n",
            "2787.2999267578125\n",
            "13885.82029837994\n",
            "192819136.3529305\n",
            "400.3999938964844\n",
            "6239.7001953125\n"
          ]
        }
      ],
      "source": [
        "s = FlowCal.io.FCSData('02-blank-C5-1.fcs')\n",
        "s\n",
        "\n",
        "s_fl1 = s[:, ['FL1-H']]\n",
        "s_fl1\n",
        "\n",
        "s_fl1 = s_fl1.tolist()\n",
        "s_fl1[0][0]\n",
        "\n",
        "proper_s_fl1 = []\n",
        "for i in range(len(s_fl1)):\n",
        "    proper_s_fl1.append(s_fl1[i][0])\n",
        "\n",
        "proper_s_fl1[:100]\n",
        "type(proper_s_fl1[:100])\n",
        "\n",
        "import statistics\n",
        "from statistics import stdev\n",
        "from fractions import Fraction as fr\n",
        "\n",
        "print(np.mean(proper_s_fl1))\n",
        "print(statistics.median(proper_s_fl1))\n",
        "print(np.std(proper_s_fl1))\n",
        "print(statistics.variance(proper_s_fl1))\n",
        "\n",
        "ordered= sorted(proper_s_fl1)\n",
        "i= round(len(ordered)*0.05)\n",
        "lower = ordered[i]\n",
        "i= round(len(ordered)*0.95)\n",
        "upper= ordered[i]\n",
        "\n",
        "print(lower)\n",
        "print(upper)\n"
      ]
    },
    {
      "cell_type": "code",
      "execution_count": null,
      "id": "7ec26bbf",
      "metadata": {
        "id": "7ec26bbf",
        "outputId": "28feab37-4b86-476e-e50a-2e7dda7a2010",
        "colab": {
          "base_uri": "https://localhost:8080/"
        }
      },
      "outputs": [
        {
          "output_type": "stream",
          "name": "stdout",
          "text": [
            "3876.283643136439\n",
            "2693.5\n",
            "13148.702494291767\n",
            "172889650.31868908\n",
            "406.1000061035156\n",
            "6554.60009765625\n"
          ]
        }
      ],
      "source": [
        "s = FlowCal.io.FCSData('04-blank-C5-1.fcs')\n",
        "s\n",
        "\n",
        "s_fl1 = s[:, ['FL1-H']]\n",
        "s_fl1\n",
        "\n",
        "s_fl1 = s_fl1.tolist()\n",
        "s_fl1[0][0]\n",
        "\n",
        "proper_s_fl1 = []\n",
        "for i in range(len(s_fl1)):\n",
        "    proper_s_fl1.append(s_fl1[i][0])\n",
        "\n",
        "proper_s_fl1[:100]\n",
        "type(proper_s_fl1[:100])\n",
        "\n",
        "import statistics\n",
        "from statistics import stdev\n",
        "from fractions import Fraction as fr\n",
        "\n",
        "print(np.mean(proper_s_fl1))\n",
        "print(statistics.median(proper_s_fl1))\n",
        "print(np.std(proper_s_fl1))\n",
        "print(statistics.variance(proper_s_fl1))\n",
        "\n",
        "ordered= sorted(proper_s_fl1)\n",
        "i= round(len(ordered)*0.05)\n",
        "lower = ordered[i]\n",
        "i= round(len(ordered)*0.95)\n",
        "upper= ordered[i]\n",
        "\n",
        "print(lower)\n",
        "print(upper)\n"
      ]
    },
    {
      "cell_type": "code",
      "execution_count": null,
      "id": "7f21764f",
      "metadata": {
        "id": "7f21764f",
        "outputId": "21c7e9a8-1657-47ed-c0b0-0c2ea3478305",
        "colab": {
          "base_uri": "https://localhost:8080/"
        }
      },
      "outputs": [
        {
          "output_type": "stream",
          "name": "stdout",
          "text": [
            "148559.53835713633\n",
            "143667.796875\n",
            "107722.33352524825\n",
            "11604277470.12741\n",
            "1297.5999755859375\n",
            "326444.59375\n"
          ]
        }
      ],
      "source": [
        "s = FlowCal.io.FCSData('02-blank-C5-2.fcs')\n",
        "s\n",
        "\n",
        "s_fl1 = s[:, ['FL1-H']]\n",
        "s_fl1\n",
        "\n",
        "s_fl1 = s_fl1.tolist()\n",
        "s_fl1[0][0]\n",
        "\n",
        "proper_s_fl1 = []\n",
        "for i in range(len(s_fl1)):\n",
        "    proper_s_fl1.append(s_fl1[i][0])\n",
        "\n",
        "proper_s_fl1[:100]\n",
        "type(proper_s_fl1[:100])\n",
        "\n",
        "import statistics\n",
        "from statistics import stdev\n",
        "from fractions import Fraction as fr\n",
        "\n",
        "print(np.mean(proper_s_fl1))\n",
        "print(statistics.median(proper_s_fl1))\n",
        "print(np.std(proper_s_fl1))\n",
        "print(statistics.variance(proper_s_fl1))\n",
        "\n",
        "ordered= sorted(proper_s_fl1)\n",
        "i= round(len(ordered)*0.05)\n",
        "lower = ordered[i]\n",
        "i= round(len(ordered)*0.95)\n",
        "upper= ordered[i]\n",
        "\n",
        "print(lower)\n",
        "print(upper)\n"
      ]
    },
    {
      "cell_type": "code",
      "execution_count": null,
      "id": "52feb0d4",
      "metadata": {
        "id": "52feb0d4",
        "outputId": "5eb2f125-d8ef-4b03-cc02-81afabd59270",
        "colab": {
          "base_uri": "https://localhost:8080/"
        }
      },
      "outputs": [
        {
          "output_type": "stream",
          "name": "stdout",
          "text": [
            "404679.1223270802\n",
            "356290.40625\n",
            "346595.6637894865\n",
            "120129081370.27466\n",
            "790.0\n",
            "1042484.1875\n"
          ]
        }
      ],
      "source": [
        "s = FlowCal.io.FCSData('04-blank-C5-2.fcs')\n",
        "s\n",
        "\n",
        "s_fl1 = s[:, ['FL1-H']]\n",
        "s_fl1\n",
        "\n",
        "s_fl1 = s_fl1.tolist()\n",
        "s_fl1[0][0]\n",
        "\n",
        "proper_s_fl1 = []\n",
        "for i in range(len(s_fl1)):\n",
        "    proper_s_fl1.append(s_fl1[i][0])\n",
        "\n",
        "proper_s_fl1[:100]\n",
        "type(proper_s_fl1[:100])\n",
        "\n",
        "import statistics\n",
        "from statistics import stdev\n",
        "from fractions import Fraction as fr\n",
        "\n",
        "print(np.mean(proper_s_fl1))\n",
        "print(statistics.median(proper_s_fl1))\n",
        "print(np.std(proper_s_fl1))\n",
        "print(statistics.variance(proper_s_fl1))\n",
        "\n",
        "ordered= sorted(proper_s_fl1)\n",
        "i= round(len(ordered)*0.05)\n",
        "lower = ordered[i]\n",
        "i= round(len(ordered)*0.95)\n",
        "upper= ordered[i]\n",
        "\n",
        "print(lower)\n",
        "print(upper)\n"
      ]
    },
    {
      "cell_type": "code",
      "execution_count": null,
      "id": "8b4f7de9",
      "metadata": {
        "id": "8b4f7de9",
        "outputId": "b94de911-7730-4c9c-a832-69b067625a2a",
        "colab": {
          "base_uri": "https://localhost:8080/"
        }
      },
      "outputs": [
        {
          "output_type": "stream",
          "name": "stdout",
          "text": [
            "192225.298314975\n",
            "197790.1484375\n",
            "133850.2710131589\n",
            "17916163071.764412\n",
            "1606.199951171875\n",
            "407580.40625\n"
          ]
        }
      ],
      "source": [
        "s = FlowCal.io.FCSData('02-blank-C5-3.fcs')\n",
        "s\n",
        "\n",
        "s_fl1 = s[:, ['FL1-H']]\n",
        "s_fl1\n",
        "\n",
        "s_fl1 = s_fl1.tolist()\n",
        "s_fl1[0][0]\n",
        "\n",
        "proper_s_fl1 = []\n",
        "for i in range(len(s_fl1)):\n",
        "    proper_s_fl1.append(s_fl1[i][0])\n",
        "\n",
        "proper_s_fl1[:100]\n",
        "type(proper_s_fl1[:100])\n",
        "\n",
        "import statistics\n",
        "from statistics import stdev\n",
        "from fractions import Fraction as fr\n",
        "\n",
        "print(np.mean(proper_s_fl1))\n",
        "print(statistics.median(proper_s_fl1))\n",
        "print(np.std(proper_s_fl1))\n",
        "print(statistics.variance(proper_s_fl1))\n",
        "\n",
        "ordered= sorted(proper_s_fl1)\n",
        "i= round(len(ordered)*0.05)\n",
        "lower = ordered[i]\n",
        "i= round(len(ordered)*0.95)\n",
        "upper= ordered[i]\n",
        "\n",
        "print(lower)\n",
        "print(upper)\n"
      ]
    },
    {
      "cell_type": "code",
      "execution_count": null,
      "id": "2fb8858b",
      "metadata": {
        "id": "2fb8858b",
        "outputId": "58a885c9-a1c6-4b81-84fa-d8649c0ba684",
        "colab": {
          "base_uri": "https://localhost:8080/"
        }
      },
      "outputs": [
        {
          "output_type": "stream",
          "name": "stdout",
          "text": [
            "470755.0008891789\n",
            "456843.0\n",
            "362994.55500463094\n",
            "131765674308.0697\n",
            "880.0\n",
            "1118225.875\n"
          ]
        }
      ],
      "source": [
        "s = FlowCal.io.FCSData('04-blank-C5-3.fcs')\n",
        "s\n",
        "\n",
        "s_fl1 = s[:, ['FL1-H']]\n",
        "s_fl1\n",
        "\n",
        "s_fl1 = s_fl1.tolist()\n",
        "s_fl1[0][0]\n",
        "\n",
        "proper_s_fl1 = []\n",
        "for i in range(len(s_fl1)):\n",
        "    proper_s_fl1.append(s_fl1[i][0])\n",
        "\n",
        "proper_s_fl1[:100]\n",
        "type(proper_s_fl1[:100])\n",
        "\n",
        "import statistics\n",
        "from statistics import stdev\n",
        "from fractions import Fraction as fr\n",
        "\n",
        "print(np.mean(proper_s_fl1))\n",
        "print(statistics.median(proper_s_fl1))\n",
        "print(np.std(proper_s_fl1))\n",
        "print(statistics.variance(proper_s_fl1))\n",
        "\n",
        "ordered= sorted(proper_s_fl1)\n",
        "i= round(len(ordered)*0.05)\n",
        "lower = ordered[i]\n",
        "i= round(len(ordered)*0.95)\n",
        "upper= ordered[i]\n",
        "\n",
        "print(lower)\n",
        "print(upper)\n"
      ]
    },
    {
      "cell_type": "code",
      "execution_count": null,
      "id": "b8f2059c",
      "metadata": {
        "id": "b8f2059c",
        "outputId": "a9d3b8b3-5b57-4fe1-a392-039ec162c61b",
        "colab": {
          "base_uri": "https://localhost:8080/"
        }
      },
      "outputs": [
        {
          "output_type": "stream",
          "name": "stdout",
          "text": [
            "190168.52912416396\n",
            "193481.90625\n",
            "108292.25482057313\n",
            "11727359007.641241\n",
            "6848.89990234375\n",
            "361083.0\n"
          ]
        }
      ],
      "source": [
        "s = FlowCal.io.FCSData('02-blank-C5-4.fcs')\n",
        "s\n",
        "\n",
        "s_fl1 = s[:, ['FL1-H']]\n",
        "s_fl1\n",
        "\n",
        "s_fl1 = s_fl1.tolist()\n",
        "s_fl1[0][0]\n",
        "\n",
        "proper_s_fl1 = []\n",
        "for i in range(len(s_fl1)):\n",
        "    proper_s_fl1.append(s_fl1[i][0])\n",
        "\n",
        "proper_s_fl1[:100]\n",
        "type(proper_s_fl1[:100])\n",
        "\n",
        "import statistics\n",
        "from statistics import stdev\n",
        "from fractions import Fraction as fr\n",
        "\n",
        "print(np.mean(proper_s_fl1))\n",
        "print(statistics.median(proper_s_fl1))\n",
        "print(np.std(proper_s_fl1))\n",
        "print(statistics.variance(proper_s_fl1))\n",
        "\n",
        "ordered= sorted(proper_s_fl1)\n",
        "i= round(len(ordered)*0.05)\n",
        "lower = ordered[i]\n",
        "i= round(len(ordered)*0.95)\n",
        "upper= ordered[i]\n",
        "\n",
        "print(lower)\n",
        "print(upper)\n"
      ]
    },
    {
      "cell_type": "code",
      "execution_count": null,
      "id": "a6c8f645",
      "metadata": {
        "id": "a6c8f645",
        "outputId": "b5f40100-06a4-4930-8146-7be0c5a5fd71",
        "colab": {
          "base_uri": "https://localhost:8080/"
        }
      },
      "outputs": [
        {
          "output_type": "stream",
          "name": "stdout",
          "text": [
            "294865.55593315215\n",
            "283954.09375\n",
            "189483.91158553996\n",
            "35904431307.57406\n",
            "7528.2998046875\n",
            "635392.875\n"
          ]
        }
      ],
      "source": [
        "s = FlowCal.io.FCSData('04-blank-C5-4.fcs')\n",
        "s\n",
        "\n",
        "s_fl1 = s[:, ['FL1-H']]\n",
        "s_fl1\n",
        "\n",
        "s_fl1 = s_fl1.tolist()\n",
        "s_fl1[0][0]\n",
        "\n",
        "proper_s_fl1 = []\n",
        "for i in range(len(s_fl1)):\n",
        "    proper_s_fl1.append(s_fl1[i][0])\n",
        "\n",
        "proper_s_fl1[:100]\n",
        "type(proper_s_fl1[:100])\n",
        "\n",
        "import statistics\n",
        "from statistics import stdev\n",
        "from fractions import Fraction as fr\n",
        "\n",
        "print(np.mean(proper_s_fl1))\n",
        "print(statistics.median(proper_s_fl1))\n",
        "print(np.std(proper_s_fl1))\n",
        "print(statistics.variance(proper_s_fl1))\n",
        "\n",
        "ordered= sorted(proper_s_fl1)\n",
        "i= round(len(ordered)*0.05)\n",
        "lower = ordered[i]\n",
        "i= round(len(ordered)*0.95)\n",
        "upper= ordered[i]\n",
        "\n",
        "print(lower)\n",
        "print(upper)\n"
      ]
    },
    {
      "cell_type": "code",
      "execution_count": null,
      "id": "6e32bc4e",
      "metadata": {
        "id": "6e32bc4e",
        "outputId": "ef7269a8-44a3-4728-87e0-023553531b3a",
        "colab": {
          "base_uri": "https://localhost:8080/"
        }
      },
      "outputs": [
        {
          "output_type": "stream",
          "name": "stdout",
          "text": [
            "185353.70636265588\n",
            "175752.296875\n",
            "148445.2728526753\n",
            "22036328863.15437\n",
            "814.5999755859375\n",
            "451653.1875\n"
          ]
        }
      ],
      "source": [
        "s = FlowCal.io.FCSData('02-blank-C6-1.fcs')\n",
        "s\n",
        "\n",
        "s_fl1 = s[:, ['FL1-H']]\n",
        "s_fl1\n",
        "\n",
        "s_fl1 = s_fl1.tolist()\n",
        "s_fl1[0][0]\n",
        "\n",
        "proper_s_fl1 = []\n",
        "for i in range(len(s_fl1)):\n",
        "    proper_s_fl1.append(s_fl1[i][0])\n",
        "\n",
        "proper_s_fl1[:100]\n",
        "type(proper_s_fl1[:100])\n",
        "\n",
        "import statistics\n",
        "from statistics import stdev\n",
        "from fractions import Fraction as fr\n",
        "\n",
        "print(np.mean(proper_s_fl1))\n",
        "print(statistics.median(proper_s_fl1))\n",
        "print(np.std(proper_s_fl1))\n",
        "print(statistics.variance(proper_s_fl1))\n",
        "\n",
        "ordered= sorted(proper_s_fl1)\n",
        "i= round(len(ordered)*0.05)\n",
        "lower = ordered[i]\n",
        "i= round(len(ordered)*0.95)\n",
        "upper= ordered[i]\n",
        "\n",
        "print(lower)\n",
        "print(upper)\n"
      ]
    },
    {
      "cell_type": "code",
      "execution_count": null,
      "id": "76879069",
      "metadata": {
        "id": "76879069",
        "outputId": "bdb3e1e0-ab63-4676-86b0-35d921b8bf08",
        "colab": {
          "base_uri": "https://localhost:8080/"
        }
      },
      "outputs": [
        {
          "output_type": "stream",
          "name": "stdout",
          "text": [
            "254857.70966871246\n",
            "219234.5\n",
            "250371.78273066084\n",
            "62686470926.75306\n",
            "558.2999877929688\n",
            "760961.125\n"
          ]
        }
      ],
      "source": [
        "s = FlowCal.io.FCSData('04-blank-C6-1.fcs')\n",
        "s\n",
        "\n",
        "s_fl1 = s[:, ['FL1-H']]\n",
        "s_fl1\n",
        "\n",
        "s_fl1 = s_fl1.tolist()\n",
        "s_fl1[0][0]\n",
        "\n",
        "proper_s_fl1 = []\n",
        "for i in range(len(s_fl1)):\n",
        "    proper_s_fl1.append(s_fl1[i][0])\n",
        "\n",
        "proper_s_fl1[:100]\n",
        "type(proper_s_fl1[:100])\n",
        "\n",
        "import statistics\n",
        "from statistics import stdev\n",
        "from fractions import Fraction as fr\n",
        "\n",
        "print(np.mean(proper_s_fl1))\n",
        "print(statistics.median(proper_s_fl1))\n",
        "print(np.std(proper_s_fl1))\n",
        "print(statistics.variance(proper_s_fl1))\n",
        "\n",
        "ordered= sorted(proper_s_fl1)\n",
        "i= round(len(ordered)*0.05)\n",
        "lower = ordered[i]\n",
        "i= round(len(ordered)*0.95)\n",
        "upper= ordered[i]\n",
        "\n",
        "print(lower)\n",
        "print(upper)\n"
      ]
    },
    {
      "cell_type": "code",
      "execution_count": null,
      "id": "608835c1",
      "metadata": {
        "id": "608835c1",
        "outputId": "4abb31fa-036c-49a7-e2cc-139fcaebff17",
        "colab": {
          "base_uri": "https://localhost:8080/"
        }
      },
      "outputs": [
        {
          "output_type": "stream",
          "name": "stdout",
          "text": [
            "204246.57192749993\n",
            "194774.3515625\n",
            "144924.99967850727\n",
            "21003490045.225544\n",
            "1459.800048828125\n",
            "456700.5\n"
          ]
        }
      ],
      "source": [
        "s = FlowCal.io.FCSData('02-blank-C6-2.fcs')\n",
        "s\n",
        "\n",
        "s_fl1 = s[:, ['FL1-H']]\n",
        "s_fl1\n",
        "\n",
        "s_fl1 = s_fl1.tolist()\n",
        "s_fl1[0][0]\n",
        "\n",
        "proper_s_fl1 = []\n",
        "for i in range(len(s_fl1)):\n",
        "    proper_s_fl1.append(s_fl1[i][0])\n",
        "\n",
        "proper_s_fl1[:100]\n",
        "type(proper_s_fl1[:100])\n",
        "\n",
        "import statistics\n",
        "from statistics import stdev\n",
        "from fractions import Fraction as fr\n",
        "\n",
        "print(np.mean(proper_s_fl1))\n",
        "print(statistics.median(proper_s_fl1))\n",
        "print(np.std(proper_s_fl1))\n",
        "print(statistics.variance(proper_s_fl1))\n",
        "\n",
        "ordered= sorted(proper_s_fl1)\n",
        "i= round(len(ordered)*0.05)\n",
        "lower = ordered[i]\n",
        "i= round(len(ordered)*0.95)\n",
        "upper= ordered[i]\n",
        "\n",
        "print(lower)\n",
        "print(upper)\n"
      ]
    },
    {
      "cell_type": "code",
      "execution_count": null,
      "id": "24398f59",
      "metadata": {
        "id": "24398f59",
        "outputId": "daee4701-6a4e-4a29-bb6e-5f38ef36dd80",
        "colab": {
          "base_uri": "https://localhost:8080/"
        }
      },
      "outputs": [
        {
          "output_type": "stream",
          "name": "stdout",
          "text": [
            "303722.88884150074\n",
            "274213.296875\n",
            "246926.5947118295\n",
            "60973148114.071106\n",
            "929.2000122070312\n",
            "776513.625\n"
          ]
        }
      ],
      "source": [
        "s = FlowCal.io.FCSData('04-blank-C6-2.fcs')\n",
        "s\n",
        "\n",
        "s_fl1 = s[:, ['FL1-H']]\n",
        "s_fl1\n",
        "\n",
        "s_fl1 = s_fl1.tolist()\n",
        "s_fl1[0][0]\n",
        "\n",
        "proper_s_fl1 = []\n",
        "for i in range(len(s_fl1)):\n",
        "    proper_s_fl1.append(s_fl1[i][0])\n",
        "\n",
        "proper_s_fl1[:100]\n",
        "type(proper_s_fl1[:100])\n",
        "\n",
        "import statistics\n",
        "from statistics import stdev\n",
        "from fractions import Fraction as fr\n",
        "\n",
        "print(np.mean(proper_s_fl1))\n",
        "print(statistics.median(proper_s_fl1))\n",
        "print(np.std(proper_s_fl1))\n",
        "print(statistics.variance(proper_s_fl1))\n",
        "\n",
        "ordered= sorted(proper_s_fl1)\n",
        "i= round(len(ordered)*0.05)\n",
        "lower = ordered[i]\n",
        "i= round(len(ordered)*0.95)\n",
        "upper= ordered[i]\n",
        "\n",
        "print(lower)\n",
        "print(upper)\n"
      ]
    },
    {
      "cell_type": "code",
      "execution_count": null,
      "id": "b787f5d6",
      "metadata": {
        "id": "b787f5d6",
        "outputId": "910ecfe5-3373-4530-925b-c76e669680ed",
        "colab": {
          "base_uri": "https://localhost:8080/"
        }
      },
      "outputs": [
        {
          "output_type": "stream",
          "name": "stdout",
          "text": [
            "288564.6317125699\n",
            "303831.0\n",
            "222631.3009612524\n",
            "49565260878.833015\n",
            "1320.5\n",
            "645362.375\n"
          ]
        }
      ],
      "source": [
        "s = FlowCal.io.FCSData('02-blank-C6-3.fcs')\n",
        "s\n",
        "\n",
        "s_fl1 = s[:, ['FL1-H']]\n",
        "s_fl1\n",
        "\n",
        "s_fl1 = s_fl1.tolist()\n",
        "s_fl1[0][0]\n",
        "\n",
        "proper_s_fl1 = []\n",
        "for i in range(len(s_fl1)):\n",
        "    proper_s_fl1.append(s_fl1[i][0])\n",
        "\n",
        "proper_s_fl1[:100]\n",
        "type(proper_s_fl1[:100])\n",
        "\n",
        "import statistics\n",
        "from statistics import stdev\n",
        "from fractions import Fraction as fr\n",
        "\n",
        "print(np.mean(proper_s_fl1))\n",
        "print(statistics.median(proper_s_fl1))\n",
        "print(np.std(proper_s_fl1))\n",
        "print(statistics.variance(proper_s_fl1))\n",
        "\n",
        "ordered= sorted(proper_s_fl1)\n",
        "i= round(len(ordered)*0.05)\n",
        "lower = ordered[i]\n",
        "i= round(len(ordered)*0.95)\n",
        "upper= ordered[i]\n",
        "\n",
        "print(lower)\n",
        "print(upper)\n"
      ]
    },
    {
      "cell_type": "code",
      "execution_count": null,
      "id": "3315e257",
      "metadata": {
        "id": "3315e257",
        "outputId": "ab357efb-4284-42cf-c47f-4fb653f19835",
        "colab": {
          "base_uri": "https://localhost:8080/"
        }
      },
      "outputs": [
        {
          "output_type": "stream",
          "name": "stdout",
          "text": [
            "501811.2573726894\n",
            "495142.90625\n",
            "428730.0115055719\n",
            "183810541658.07178\n",
            "964.0999755859375\n",
            "1269022.0\n"
          ]
        }
      ],
      "source": [
        "s = FlowCal.io.FCSData('04-blank-C6-3.fcs')\n",
        "s\n",
        "\n",
        "s_fl1 = s[:, ['FL1-H']]\n",
        "s_fl1\n",
        "\n",
        "s_fl1 = s_fl1.tolist()\n",
        "s_fl1[0][0]\n",
        "\n",
        "proper_s_fl1 = []\n",
        "for i in range(len(s_fl1)):\n",
        "    proper_s_fl1.append(s_fl1[i][0])\n",
        "\n",
        "proper_s_fl1[:100]\n",
        "type(proper_s_fl1[:100])\n",
        "\n",
        "import statistics\n",
        "from statistics import stdev\n",
        "from fractions import Fraction as fr\n",
        "\n",
        "print(np.mean(proper_s_fl1))\n",
        "print(statistics.median(proper_s_fl1))\n",
        "print(np.std(proper_s_fl1))\n",
        "print(statistics.variance(proper_s_fl1))\n",
        "\n",
        "ordered= sorted(proper_s_fl1)\n",
        "i= round(len(ordered)*0.05)\n",
        "lower = ordered[i]\n",
        "i= round(len(ordered)*0.95)\n",
        "upper= ordered[i]\n",
        "\n",
        "print(lower)\n",
        "print(upper)\n"
      ]
    },
    {
      "cell_type": "code",
      "execution_count": null,
      "id": "ead99687",
      "metadata": {
        "id": "ead99687",
        "outputId": "3963a847-d0a2-43c4-cc2b-b9d060950f57",
        "colab": {
          "base_uri": "https://localhost:8080/"
        }
      },
      "outputs": [
        {
          "output_type": "stream",
          "name": "stdout",
          "text": [
            "230999.8556222692\n",
            "237068.3515625\n",
            "151949.75846869376\n",
            "23089018471.027637\n",
            "4984.60009765625\n",
            "475837.5\n"
          ]
        }
      ],
      "source": [
        "s = FlowCal.io.FCSData('02-blank-C6-4.fcs')\n",
        "s\n",
        "\n",
        "s_fl1 = s[:, ['FL1-H']]\n",
        "s_fl1\n",
        "\n",
        "s_fl1 = s_fl1.tolist()\n",
        "s_fl1[0][0]\n",
        "\n",
        "proper_s_fl1 = []\n",
        "for i in range(len(s_fl1)):\n",
        "    proper_s_fl1.append(s_fl1[i][0])\n",
        "\n",
        "proper_s_fl1[:100]\n",
        "type(proper_s_fl1[:100])\n",
        "\n",
        "import statistics\n",
        "from statistics import stdev\n",
        "from fractions import Fraction as fr\n",
        "\n",
        "print(np.mean(proper_s_fl1))\n",
        "print(statistics.median(proper_s_fl1))\n",
        "print(np.std(proper_s_fl1))\n",
        "print(statistics.variance(proper_s_fl1))\n",
        "\n",
        "ordered= sorted(proper_s_fl1)\n",
        "i= round(len(ordered)*0.05)\n",
        "lower = ordered[i]\n",
        "i= round(len(ordered)*0.95)\n",
        "upper= ordered[i]\n",
        "\n",
        "print(lower)\n",
        "print(upper)\n"
      ]
    },
    {
      "cell_type": "code",
      "execution_count": null,
      "id": "e2f5eac8",
      "metadata": {
        "id": "e2f5eac8",
        "outputId": "f913695f-8d30-459c-e173-d4a42a4d9ffe",
        "colab": {
          "base_uri": "https://localhost:8080/"
        }
      },
      "outputs": [
        {
          "output_type": "stream",
          "name": "stdout",
          "text": [
            "271939.907445532\n",
            "283125.8125\n",
            "178292.93097402103\n",
            "31788684765.146774\n",
            "5796.2001953125\n",
            "550314.1875\n"
          ]
        }
      ],
      "source": [
        "s = FlowCal.io.FCSData('04-blank-C6-4.fcs')\n",
        "s\n",
        "\n",
        "s_fl1 = s[:, ['FL1-H']]\n",
        "s_fl1\n",
        "\n",
        "s_fl1 = s_fl1.tolist()\n",
        "s_fl1[0][0]\n",
        "\n",
        "proper_s_fl1 = []\n",
        "for i in range(len(s_fl1)):\n",
        "    proper_s_fl1.append(s_fl1[i][0])\n",
        "\n",
        "proper_s_fl1[:100]\n",
        "type(proper_s_fl1[:100])\n",
        "\n",
        "import statistics\n",
        "from statistics import stdev\n",
        "from fractions import Fraction as fr\n",
        "\n",
        "print(np.mean(proper_s_fl1))\n",
        "print(statistics.median(proper_s_fl1))\n",
        "print(np.std(proper_s_fl1))\n",
        "print(statistics.variance(proper_s_fl1))\n",
        "\n",
        "ordered= sorted(proper_s_fl1)\n",
        "i= round(len(ordered)*0.05)\n",
        "lower = ordered[i]\n",
        "i= round(len(ordered)*0.95)\n",
        "upper= ordered[i]\n",
        "\n",
        "print(lower)\n",
        "print(upper)\n"
      ]
    },
    {
      "cell_type": "code",
      "execution_count": null,
      "id": "565a09ad",
      "metadata": {
        "id": "565a09ad",
        "outputId": "c53b9028-b748-4dcf-d1b2-9ca2cf0e3ebf",
        "colab": {
          "base_uri": "https://localhost:8080/"
        }
      },
      "outputs": [
        {
          "output_type": "stream",
          "name": "stdout",
          "text": [
            "56560.79470700695\n",
            "51609.19921875\n",
            "45054.51340599639\n",
            "2029940064.5476034\n",
            "817.0999755859375\n",
            "132674.09375\n"
          ]
        }
      ],
      "source": [
        "s = FlowCal.io.FCSData('02-blank-C7-1.fcs')\n",
        "s\n",
        "\n",
        "s_fl1 = s[:, ['FL1-H']]\n",
        "s_fl1\n",
        "\n",
        "s_fl1 = s_fl1.tolist()\n",
        "s_fl1[0][0]\n",
        "\n",
        "proper_s_fl1 = []\n",
        "for i in range(len(s_fl1)):\n",
        "    proper_s_fl1.append(s_fl1[i][0])\n",
        "\n",
        "proper_s_fl1[:100]\n",
        "type(proper_s_fl1[:100])\n",
        "\n",
        "import statistics\n",
        "from statistics import stdev\n",
        "from fractions import Fraction as fr\n",
        "\n",
        "print(np.mean(proper_s_fl1))\n",
        "print(statistics.median(proper_s_fl1))\n",
        "print(np.std(proper_s_fl1))\n",
        "print(statistics.variance(proper_s_fl1))\n",
        "\n",
        "ordered= sorted(proper_s_fl1)\n",
        "i= round(len(ordered)*0.05)\n",
        "lower = ordered[i]\n",
        "i= round(len(ordered)*0.95)\n",
        "upper= ordered[i]\n",
        "\n",
        "print(lower)\n",
        "print(upper)\n"
      ]
    },
    {
      "cell_type": "code",
      "execution_count": null,
      "id": "ebe4bf2a",
      "metadata": {
        "id": "ebe4bf2a",
        "outputId": "2695be0a-920d-4e00-94f9-cede1c317c82",
        "colab": {
          "base_uri": "https://localhost:8080/"
        }
      },
      "outputs": [
        {
          "output_type": "stream",
          "name": "stdout",
          "text": [
            "60207.53672803245\n",
            "57941.1015625\n",
            "51606.81715575801\n",
            "2663286651.489313\n",
            "587.5999755859375\n",
            "131561.59375\n"
          ]
        }
      ],
      "source": [
        "s = FlowCal.io.FCSData('04-blank-C7-1.fcs')\n",
        "s\n",
        "\n",
        "s_fl1 = s[:, ['FL1-H']]\n",
        "s_fl1\n",
        "\n",
        "s_fl1 = s_fl1.tolist()\n",
        "s_fl1[0][0]\n",
        "\n",
        "proper_s_fl1 = []\n",
        "for i in range(len(s_fl1)):\n",
        "    proper_s_fl1.append(s_fl1[i][0])\n",
        "\n",
        "proper_s_fl1[:100]\n",
        "type(proper_s_fl1[:100])\n",
        "\n",
        "import statistics\n",
        "from statistics import stdev\n",
        "from fractions import Fraction as fr\n",
        "\n",
        "print(np.mean(proper_s_fl1))\n",
        "print(statistics.median(proper_s_fl1))\n",
        "print(np.std(proper_s_fl1))\n",
        "print(statistics.variance(proper_s_fl1))\n",
        "\n",
        "ordered= sorted(proper_s_fl1)\n",
        "i= round(len(ordered)*0.05)\n",
        "lower = ordered[i]\n",
        "i= round(len(ordered)*0.95)\n",
        "upper= ordered[i]\n",
        "\n",
        "print(lower)\n",
        "print(upper)\n"
      ]
    },
    {
      "cell_type": "code",
      "execution_count": null,
      "id": "5a230c05",
      "metadata": {
        "id": "5a230c05",
        "outputId": "b5bb1733-5186-4a58-c042-cf41b1acdf81",
        "colab": {
          "base_uri": "https://localhost:8080/"
        }
      },
      "outputs": [
        {
          "output_type": "stream",
          "name": "stdout",
          "text": [
            "262673.09505938535\n",
            "241780.6484375\n",
            "192648.4153757268\n",
            "37113830555.28922\n",
            "1686.4000244140625\n",
            "614146.5\n"
          ]
        }
      ],
      "source": [
        "s = FlowCal.io.FCSData('02-blank-C7-2.fcs')\n",
        "s\n",
        "\n",
        "s_fl1 = s[:, ['FL1-H']]\n",
        "s_fl1\n",
        "\n",
        "s_fl1 = s_fl1.tolist()\n",
        "s_fl1[0][0]\n",
        "\n",
        "proper_s_fl1 = []\n",
        "for i in range(len(s_fl1)):\n",
        "    proper_s_fl1.append(s_fl1[i][0])\n",
        "\n",
        "proper_s_fl1[:100]\n",
        "type(proper_s_fl1[:100])\n",
        "\n",
        "import statistics\n",
        "from statistics import stdev\n",
        "from fractions import Fraction as fr\n",
        "\n",
        "print(np.mean(proper_s_fl1))\n",
        "print(statistics.median(proper_s_fl1))\n",
        "print(np.std(proper_s_fl1))\n",
        "print(statistics.variance(proper_s_fl1))\n",
        "\n",
        "ordered= sorted(proper_s_fl1)\n",
        "i= round(len(ordered)*0.05)\n",
        "lower = ordered[i]\n",
        "i= round(len(ordered)*0.95)\n",
        "upper= ordered[i]\n",
        "\n",
        "print(lower)\n",
        "print(upper)\n"
      ]
    },
    {
      "cell_type": "code",
      "execution_count": null,
      "id": "7aac9538",
      "metadata": {
        "id": "7aac9538",
        "outputId": "8ae3503a-8d46-4b6a-b9ec-23469cd0c651",
        "colab": {
          "base_uri": "https://localhost:8080/"
        }
      },
      "outputs": [
        {
          "output_type": "stream",
          "name": "stdout",
          "text": [
            "565633.137450884\n",
            "447232.90625\n",
            "484737.56489662535\n",
            "234971315300.3238\n",
            "813.0999755859375\n",
            "1446215.25\n"
          ]
        }
      ],
      "source": [
        "s = FlowCal.io.FCSData('04-blank-C7-2.fcs')\n",
        "s\n",
        "\n",
        "s_fl1 = s[:, ['FL1-H']]\n",
        "s_fl1\n",
        "\n",
        "s_fl1 = s_fl1.tolist()\n",
        "s_fl1[0][0]\n",
        "\n",
        "proper_s_fl1 = []\n",
        "for i in range(len(s_fl1)):\n",
        "    proper_s_fl1.append(s_fl1[i][0])\n",
        "\n",
        "proper_s_fl1[:100]\n",
        "type(proper_s_fl1[:100])\n",
        "\n",
        "import statistics\n",
        "from statistics import stdev\n",
        "from fractions import Fraction as fr\n",
        "\n",
        "print(np.mean(proper_s_fl1))\n",
        "print(statistics.median(proper_s_fl1))\n",
        "print(np.std(proper_s_fl1))\n",
        "print(statistics.variance(proper_s_fl1))\n",
        "\n",
        "ordered= sorted(proper_s_fl1)\n",
        "i= round(len(ordered)*0.05)\n",
        "lower = ordered[i]\n",
        "i= round(len(ordered)*0.95)\n",
        "upper= ordered[i]\n",
        "\n",
        "print(lower)\n",
        "print(upper)\n"
      ]
    },
    {
      "cell_type": "code",
      "execution_count": null,
      "id": "765d1228",
      "metadata": {
        "id": "765d1228",
        "outputId": "956d2368-3e3d-4686-9b3f-90676d0b239d",
        "colab": {
          "base_uri": "https://localhost:8080/"
        }
      },
      "outputs": [
        {
          "output_type": "stream",
          "name": "stdout",
          "text": [
            "88506.16471393603\n",
            "84521.0\n",
            "73720.89210309497\n",
            "5434840588.230049\n",
            "1208.199951171875\n",
            "187922.5\n"
          ]
        }
      ],
      "source": [
        "s = FlowCal.io.FCSData('02-blank-C7-3.fcs')\n",
        "s\n",
        "\n",
        "s_fl1 = s[:, ['FL1-H']]\n",
        "s_fl1\n",
        "\n",
        "s_fl1 = s_fl1.tolist()\n",
        "s_fl1[0][0]\n",
        "\n",
        "proper_s_fl1 = []\n",
        "for i in range(len(s_fl1)):\n",
        "    proper_s_fl1.append(s_fl1[i][0])\n",
        "\n",
        "proper_s_fl1[:100]\n",
        "type(proper_s_fl1[:100])\n",
        "\n",
        "import statistics\n",
        "from statistics import stdev\n",
        "from fractions import Fraction as fr\n",
        "\n",
        "print(np.mean(proper_s_fl1))\n",
        "print(statistics.median(proper_s_fl1))\n",
        "print(np.std(proper_s_fl1))\n",
        "print(statistics.variance(proper_s_fl1))\n",
        "\n",
        "ordered= sorted(proper_s_fl1)\n",
        "i= round(len(ordered)*0.05)\n",
        "lower = ordered[i]\n",
        "i= round(len(ordered)*0.95)\n",
        "upper= ordered[i]\n",
        "\n",
        "print(lower)\n",
        "print(upper)\n"
      ]
    },
    {
      "cell_type": "code",
      "execution_count": null,
      "id": "d20f6a76",
      "metadata": {
        "id": "d20f6a76",
        "outputId": "2bd9fc83-31c0-4499-c666-d8106a49c973",
        "colab": {
          "base_uri": "https://localhost:8080/"
        }
      },
      "outputs": [
        {
          "output_type": "stream",
          "name": "stdout",
          "text": [
            "210711.12973819245\n",
            "191040.25\n",
            "165454.06394574628\n",
            "27375112315.63166\n",
            "771.0999755859375\n",
            "502800.90625\n"
          ]
        }
      ],
      "source": [
        "s = FlowCal.io.FCSData('04-blank-C7-3.fcs')\n",
        "s\n",
        "\n",
        "s_fl1 = s[:, ['FL1-H']]\n",
        "s_fl1\n",
        "\n",
        "s_fl1 = s_fl1.tolist()\n",
        "s_fl1[0][0]\n",
        "\n",
        "proper_s_fl1 = []\n",
        "for i in range(len(s_fl1)):\n",
        "    proper_s_fl1.append(s_fl1[i][0])\n",
        "\n",
        "proper_s_fl1[:100]\n",
        "type(proper_s_fl1[:100])\n",
        "\n",
        "import statistics\n",
        "from statistics import stdev\n",
        "from fractions import Fraction as fr\n",
        "\n",
        "print(np.mean(proper_s_fl1))\n",
        "print(statistics.median(proper_s_fl1))\n",
        "print(np.std(proper_s_fl1))\n",
        "print(statistics.variance(proper_s_fl1))\n",
        "\n",
        "ordered= sorted(proper_s_fl1)\n",
        "i= round(len(ordered)*0.05)\n",
        "lower = ordered[i]\n",
        "i= round(len(ordered)*0.95)\n",
        "upper= ordered[i]\n",
        "\n",
        "print(lower)\n",
        "print(upper)\n"
      ]
    },
    {
      "cell_type": "code",
      "execution_count": null,
      "id": "17c917cb",
      "metadata": {
        "id": "17c917cb",
        "outputId": "ffdb1d50-a596-4c22-9892-75f5a31e86a9",
        "colab": {
          "base_uri": "https://localhost:8080/"
        }
      },
      "outputs": [
        {
          "output_type": "stream",
          "name": "stdout",
          "text": [
            "227292.8297361737\n",
            "229777.8984375\n",
            "130876.30557540794\n",
            "17128800118.377974\n",
            "8840.5\n",
            "431840.90625\n"
          ]
        }
      ],
      "source": [
        "s = FlowCal.io.FCSData('02-blank-C7-4.fcs')\n",
        "s\n",
        "\n",
        "s_fl1 = s[:, ['FL1-H']]\n",
        "s_fl1\n",
        "\n",
        "s_fl1 = s_fl1.tolist()\n",
        "s_fl1[0][0]\n",
        "\n",
        "proper_s_fl1 = []\n",
        "for i in range(len(s_fl1)):\n",
        "    proper_s_fl1.append(s_fl1[i][0])\n",
        "\n",
        "proper_s_fl1[:100]\n",
        "type(proper_s_fl1[:100])\n",
        "\n",
        "import statistics\n",
        "from statistics import stdev\n",
        "from fractions import Fraction as fr\n",
        "\n",
        "print(np.mean(proper_s_fl1))\n",
        "print(statistics.median(proper_s_fl1))\n",
        "print(np.std(proper_s_fl1))\n",
        "print(statistics.variance(proper_s_fl1))\n",
        "\n",
        "ordered= sorted(proper_s_fl1)\n",
        "i= round(len(ordered)*0.05)\n",
        "lower = ordered[i]\n",
        "i= round(len(ordered)*0.95)\n",
        "upper= ordered[i]\n",
        "\n",
        "print(lower)\n",
        "print(upper)\n"
      ]
    },
    {
      "cell_type": "code",
      "execution_count": null,
      "id": "cf6af2ce",
      "metadata": {
        "id": "cf6af2ce",
        "outputId": "65e2f5ce-d7a1-4f6a-886c-65e53732a598",
        "colab": {
          "base_uri": "https://localhost:8080/"
        }
      },
      "outputs": [
        {
          "output_type": "stream",
          "name": "stdout",
          "text": [
            "306943.66810574674\n",
            "312422.59375\n",
            "170722.3721288308\n",
            "29146348846.94306\n",
            "10548.5\n",
            "574172.6875\n"
          ]
        }
      ],
      "source": [
        "s = FlowCal.io.FCSData('04-blank-C7-4.fcs')\n",
        "s\n",
        "\n",
        "s_fl1 = s[:, ['FL1-H']]\n",
        "s_fl1\n",
        "\n",
        "s_fl1 = s_fl1.tolist()\n",
        "s_fl1[0][0]\n",
        "\n",
        "proper_s_fl1 = []\n",
        "for i in range(len(s_fl1)):\n",
        "    proper_s_fl1.append(s_fl1[i][0])\n",
        "\n",
        "proper_s_fl1[:100]\n",
        "type(proper_s_fl1[:100])\n",
        "\n",
        "import statistics\n",
        "from statistics import stdev\n",
        "from fractions import Fraction as fr\n",
        "\n",
        "print(np.mean(proper_s_fl1))\n",
        "print(statistics.median(proper_s_fl1))\n",
        "print(np.std(proper_s_fl1))\n",
        "print(statistics.variance(proper_s_fl1))\n",
        "\n",
        "ordered= sorted(proper_s_fl1)\n",
        "i= round(len(ordered)*0.05)\n",
        "lower = ordered[i]\n",
        "i= round(len(ordered)*0.95)\n",
        "upper= ordered[i]\n",
        "\n",
        "print(lower)\n",
        "print(upper)\n"
      ]
    },
    {
      "cell_type": "code",
      "execution_count": null,
      "id": "c30b6447",
      "metadata": {
        "id": "c30b6447",
        "outputId": "a0371d22-5c58-4bd0-f119-f9fbd967ae36",
        "colab": {
          "base_uri": "https://localhost:8080/"
        }
      },
      "outputs": [
        {
          "output_type": "stream",
          "name": "stdout",
          "text": [
            "59398.57969830656\n",
            "57412.150390625\n",
            "42349.88730710791\n",
            "1793533524.3850741\n",
            "724.7000122070312\n",
            "130832.0\n"
          ]
        }
      ],
      "source": [
        "s = FlowCal.io.FCSData('02-blank-C8-1.fcs')\n",
        "s\n",
        "\n",
        "s_fl1 = s[:, ['FL1-H']]\n",
        "s_fl1\n",
        "\n",
        "s_fl1 = s_fl1.tolist()\n",
        "s_fl1[0][0]\n",
        "\n",
        "proper_s_fl1 = []\n",
        "for i in range(len(s_fl1)):\n",
        "    proper_s_fl1.append(s_fl1[i][0])\n",
        "\n",
        "proper_s_fl1[:100]\n",
        "type(proper_s_fl1[:100])\n",
        "\n",
        "import statistics\n",
        "from statistics import stdev\n",
        "from fractions import Fraction as fr\n",
        "\n",
        "print(np.mean(proper_s_fl1))\n",
        "print(statistics.median(proper_s_fl1))\n",
        "print(np.std(proper_s_fl1))\n",
        "print(statistics.variance(proper_s_fl1))\n",
        "\n",
        "ordered= sorted(proper_s_fl1)\n",
        "i= round(len(ordered)*0.05)\n",
        "lower = ordered[i]\n",
        "i= round(len(ordered)*0.95)\n",
        "upper= ordered[i]\n",
        "\n",
        "print(lower)\n",
        "print(upper)\n"
      ]
    },
    {
      "cell_type": "code",
      "execution_count": null,
      "id": "7d2c1646",
      "metadata": {
        "id": "7d2c1646",
        "outputId": "68ac056d-594f-4739-d211-b2ccfd346130",
        "colab": {
          "base_uri": "https://localhost:8080/"
        }
      },
      "outputs": [
        {
          "output_type": "stream",
          "name": "stdout",
          "text": [
            "94366.43264981307\n",
            "90675.3984375\n",
            "70468.0110336308\n",
            "4965771904.67671\n",
            "558.9000244140625\n",
            "216252.796875\n"
          ]
        }
      ],
      "source": [
        "s = FlowCal.io.FCSData('04-blank-C8-1.fcs')\n",
        "s\n",
        "\n",
        "s_fl1 = s[:, ['FL1-H']]\n",
        "s_fl1\n",
        "\n",
        "s_fl1 = s_fl1.tolist()\n",
        "s_fl1[0][0]\n",
        "\n",
        "proper_s_fl1 = []\n",
        "for i in range(len(s_fl1)):\n",
        "    proper_s_fl1.append(s_fl1[i][0])\n",
        "\n",
        "proper_s_fl1[:100]\n",
        "type(proper_s_fl1[:100])\n",
        "\n",
        "import statistics\n",
        "from statistics import stdev\n",
        "from fractions import Fraction as fr\n",
        "\n",
        "print(np.mean(proper_s_fl1))\n",
        "print(statistics.median(proper_s_fl1))\n",
        "print(np.std(proper_s_fl1))\n",
        "print(statistics.variance(proper_s_fl1))\n",
        "\n",
        "ordered= sorted(proper_s_fl1)\n",
        "i= round(len(ordered)*0.05)\n",
        "lower = ordered[i]\n",
        "i= round(len(ordered)*0.95)\n",
        "upper= ordered[i]\n",
        "\n",
        "print(lower)\n",
        "print(upper)\n"
      ]
    },
    {
      "cell_type": "code",
      "execution_count": null,
      "id": "9a72620f",
      "metadata": {
        "id": "9a72620f",
        "outputId": "c969b1a4-8282-4704-a3c0-17c11b4ca876",
        "colab": {
          "base_uri": "https://localhost:8080/"
        }
      },
      "outputs": [
        {
          "output_type": "stream",
          "name": "stdout",
          "text": [
            "144838.45997216032\n",
            "140112.0\n",
            "102130.2380288556\n",
            "10430684091.756952\n",
            "667.9000244140625\n",
            "314904.1875\n"
          ]
        }
      ],
      "source": [
        "s = FlowCal.io.FCSData('02-blank-C8-2.fcs')\n",
        "s\n",
        "\n",
        "s_fl1 = s[:, ['FL1-H']]\n",
        "s_fl1\n",
        "\n",
        "s_fl1 = s_fl1.tolist()\n",
        "s_fl1[0][0]\n",
        "\n",
        "proper_s_fl1 = []\n",
        "for i in range(len(s_fl1)):\n",
        "    proper_s_fl1.append(s_fl1[i][0])\n",
        "\n",
        "proper_s_fl1[:100]\n",
        "type(proper_s_fl1[:100])\n",
        "\n",
        "import statistics\n",
        "from statistics import stdev\n",
        "from fractions import Fraction as fr\n",
        "\n",
        "print(np.mean(proper_s_fl1))\n",
        "print(statistics.median(proper_s_fl1))\n",
        "print(np.std(proper_s_fl1))\n",
        "print(statistics.variance(proper_s_fl1))\n",
        "\n",
        "ordered= sorted(proper_s_fl1)\n",
        "i= round(len(ordered)*0.05)\n",
        "lower = ordered[i]\n",
        "i= round(len(ordered)*0.95)\n",
        "upper= ordered[i]\n",
        "\n",
        "print(lower)\n",
        "print(upper)\n"
      ]
    },
    {
      "cell_type": "code",
      "execution_count": null,
      "id": "ade895a6",
      "metadata": {
        "id": "ade895a6",
        "outputId": "0c8a16d7-0ad2-4c5a-e425-6f54d419f590",
        "colab": {
          "base_uri": "https://localhost:8080/"
        }
      },
      "outputs": [
        {
          "output_type": "stream",
          "name": "stdout",
          "text": [
            "199772.91297544504\n",
            "189953.0\n",
            "144791.66480132594\n",
            "20964709937.20654\n",
            "716.0999755859375\n",
            "443895.40625\n"
          ]
        }
      ],
      "source": [
        "s = FlowCal.io.FCSData('04-blank-C8-2.fcs')\n",
        "s\n",
        "\n",
        "s_fl1 = s[:, ['FL1-H']]\n",
        "s_fl1\n",
        "\n",
        "s_fl1 = s_fl1.tolist()\n",
        "s_fl1[0][0]\n",
        "\n",
        "proper_s_fl1 = []\n",
        "for i in range(len(s_fl1)):\n",
        "    proper_s_fl1.append(s_fl1[i][0])\n",
        "\n",
        "proper_s_fl1[:100]\n",
        "type(proper_s_fl1[:100])\n",
        "\n",
        "import statistics\n",
        "from statistics import stdev\n",
        "from fractions import Fraction as fr\n",
        "\n",
        "print(np.mean(proper_s_fl1))\n",
        "print(statistics.median(proper_s_fl1))\n",
        "print(np.std(proper_s_fl1))\n",
        "print(statistics.variance(proper_s_fl1))\n",
        "\n",
        "ordered= sorted(proper_s_fl1)\n",
        "i= round(len(ordered)*0.05)\n",
        "lower = ordered[i]\n",
        "i= round(len(ordered)*0.95)\n",
        "upper= ordered[i]\n",
        "\n",
        "print(lower)\n",
        "print(upper)\n"
      ]
    },
    {
      "cell_type": "code",
      "execution_count": null,
      "id": "7040cdbf",
      "metadata": {
        "id": "7040cdbf",
        "outputId": "3fd13bd1-ef3d-4558-b4df-ff15f951c322",
        "colab": {
          "base_uri": "https://localhost:8080/"
        }
      },
      "outputs": [
        {
          "output_type": "stream",
          "name": "stdout",
          "text": [
            "86787.06982079826\n",
            "87125.796875\n",
            "59355.06886842745\n",
            "3523081616.024402\n",
            "887.4000244140625\n",
            "182979.703125\n"
          ]
        }
      ],
      "source": [
        "s = FlowCal.io.FCSData('02-blank-C8-3.fcs')\n",
        "s\n",
        "\n",
        "s_fl1 = s[:, ['FL1-H']]\n",
        "s_fl1\n",
        "\n",
        "s_fl1 = s_fl1.tolist()\n",
        "s_fl1[0][0]\n",
        "\n",
        "proper_s_fl1 = []\n",
        "for i in range(len(s_fl1)):\n",
        "    proper_s_fl1.append(s_fl1[i][0])\n",
        "\n",
        "proper_s_fl1[:100]\n",
        "type(proper_s_fl1[:100])\n",
        "\n",
        "import statistics\n",
        "from statistics import stdev\n",
        "from fractions import Fraction as fr\n",
        "\n",
        "print(np.mean(proper_s_fl1))\n",
        "print(statistics.median(proper_s_fl1))\n",
        "print(np.std(proper_s_fl1))\n",
        "print(statistics.variance(proper_s_fl1))\n",
        "\n",
        "ordered= sorted(proper_s_fl1)\n",
        "i= round(len(ordered)*0.05)\n",
        "lower = ordered[i]\n",
        "i= round(len(ordered)*0.95)\n",
        "upper= ordered[i]\n",
        "\n",
        "print(lower)\n",
        "print(upper)\n"
      ]
    },
    {
      "cell_type": "code",
      "execution_count": null,
      "id": "1cd9d9fd",
      "metadata": {
        "id": "1cd9d9fd",
        "outputId": "7685bd1f-8298-4021-be66-338bbf5069d9",
        "colab": {
          "base_uri": "https://localhost:8080/"
        }
      },
      "outputs": [
        {
          "output_type": "stream",
          "name": "stdout",
          "text": [
            "134398.21612540723\n",
            "123121.1015625\n",
            "107195.1682289492\n",
            "11490821661.696419\n",
            "606.7999877929688\n",
            "321741.8125\n"
          ]
        }
      ],
      "source": [
        "s = FlowCal.io.FCSData('04-blank-C8-3.fcs')\n",
        "s\n",
        "\n",
        "s_fl1 = s[:, ['FL1-H']]\n",
        "s_fl1\n",
        "\n",
        "s_fl1 = s_fl1.tolist()\n",
        "s_fl1[0][0]\n",
        "\n",
        "proper_s_fl1 = []\n",
        "for i in range(len(s_fl1)):\n",
        "    proper_s_fl1.append(s_fl1[i][0])\n",
        "\n",
        "proper_s_fl1[:100]\n",
        "type(proper_s_fl1[:100])\n",
        "\n",
        "import statistics\n",
        "from statistics import stdev\n",
        "from fractions import Fraction as fr\n",
        "\n",
        "print(np.mean(proper_s_fl1))\n",
        "print(statistics.median(proper_s_fl1))\n",
        "print(np.std(proper_s_fl1))\n",
        "print(statistics.variance(proper_s_fl1))\n",
        "\n",
        "ordered= sorted(proper_s_fl1)\n",
        "i= round(len(ordered)*0.05)\n",
        "lower = ordered[i]\n",
        "i= round(len(ordered)*0.95)\n",
        "upper= ordered[i]\n",
        "\n",
        "print(lower)\n",
        "print(upper)\n"
      ]
    },
    {
      "cell_type": "code",
      "execution_count": null,
      "id": "ada32d03",
      "metadata": {
        "id": "ada32d03",
        "outputId": "83e85304-8e8e-4477-f620-c61dbf7276cd",
        "colab": {
          "base_uri": "https://localhost:8080/"
        }
      },
      "outputs": [
        {
          "output_type": "stream",
          "name": "stdout",
          "text": [
            "116281.14356069511\n",
            "115071.15234375\n",
            "70663.46516335664\n",
            "4993383109.368774\n",
            "4481.5\n",
            "229633.0\n"
          ]
        }
      ],
      "source": [
        "s = FlowCal.io.FCSData('02-blank-C8-4.fcs')\n",
        "s\n",
        "\n",
        "s_fl1 = s[:, ['FL1-H']]\n",
        "s_fl1\n",
        "\n",
        "s_fl1 = s_fl1.tolist()\n",
        "s_fl1[0][0]\n",
        "\n",
        "proper_s_fl1 = []\n",
        "for i in range(len(s_fl1)):\n",
        "    proper_s_fl1.append(s_fl1[i][0])\n",
        "\n",
        "proper_s_fl1[:100]\n",
        "type(proper_s_fl1[:100])\n",
        "\n",
        "import statistics\n",
        "from statistics import stdev\n",
        "from fractions import Fraction as fr\n",
        "\n",
        "print(np.mean(proper_s_fl1))\n",
        "print(statistics.median(proper_s_fl1))\n",
        "print(np.std(proper_s_fl1))\n",
        "print(statistics.variance(proper_s_fl1))\n",
        "\n",
        "ordered= sorted(proper_s_fl1)\n",
        "i= round(len(ordered)*0.05)\n",
        "lower = ordered[i]\n",
        "i= round(len(ordered)*0.95)\n",
        "upper= ordered[i]\n",
        "\n",
        "print(lower)\n",
        "print(upper)\n"
      ]
    },
    {
      "cell_type": "code",
      "execution_count": null,
      "id": "07c7dfa0",
      "metadata": {
        "id": "07c7dfa0",
        "outputId": "22d7c61f-80cc-4072-c01a-796a468638a9",
        "colab": {
          "base_uri": "https://localhost:8080/"
        }
      },
      "outputs": [
        {
          "output_type": "stream",
          "name": "stdout",
          "text": [
            "160725.91230150836\n",
            "162068.796875\n",
            "92463.89049152755\n",
            "8549664961.069778\n",
            "4959.2998046875\n",
            "308130.5\n"
          ]
        }
      ],
      "source": [
        "s = FlowCal.io.FCSData('04-blank-C8-4.fcs')\n",
        "s\n",
        "\n",
        "s_fl1 = s[:, ['FL1-H']]\n",
        "s_fl1\n",
        "\n",
        "s_fl1 = s_fl1.tolist()\n",
        "s_fl1[0][0]\n",
        "\n",
        "proper_s_fl1 = []\n",
        "for i in range(len(s_fl1)):\n",
        "    proper_s_fl1.append(s_fl1[i][0])\n",
        "\n",
        "proper_s_fl1[:100]\n",
        "type(proper_s_fl1[:100])\n",
        "\n",
        "import statistics\n",
        "from statistics import stdev\n",
        "from fractions import Fraction as fr\n",
        "\n",
        "print(np.mean(proper_s_fl1))\n",
        "print(statistics.median(proper_s_fl1))\n",
        "print(np.std(proper_s_fl1))\n",
        "print(statistics.variance(proper_s_fl1))\n",
        "\n",
        "ordered= sorted(proper_s_fl1)\n",
        "i= round(len(ordered)*0.05)\n",
        "lower = ordered[i]\n",
        "i= round(len(ordered)*0.95)\n",
        "upper= ordered[i]\n",
        "\n",
        "print(lower)\n",
        "print(upper)\n"
      ]
    },
    {
      "cell_type": "code",
      "execution_count": null,
      "id": "e09244f4",
      "metadata": {
        "id": "e09244f4",
        "outputId": "dc4306d3-61b6-4251-b10d-1749703ca0bf",
        "colab": {
          "base_uri": "https://localhost:8080/"
        }
      },
      "outputs": [
        {
          "output_type": "stream",
          "name": "stdout",
          "text": [
            "72691.13014973259\n",
            "70018.05078125\n",
            "47906.90774573196\n",
            "2295104127.885366\n",
            "1656.5999755859375\n",
            "151434.5\n"
          ]
        }
      ],
      "source": [
        "s = FlowCal.io.FCSData('02-blank-C9-1.fcs')\n",
        "s\n",
        "\n",
        "s_fl1 = s[:, ['FL1-H']]\n",
        "s_fl1\n",
        "\n",
        "s_fl1 = s_fl1.tolist()\n",
        "s_fl1[0][0]\n",
        "\n",
        "proper_s_fl1 = []\n",
        "for i in range(len(s_fl1)):\n",
        "    proper_s_fl1.append(s_fl1[i][0])\n",
        "\n",
        "proper_s_fl1[:100]\n",
        "type(proper_s_fl1[:100])\n",
        "\n",
        "import statistics\n",
        "from statistics import stdev\n",
        "from fractions import Fraction as fr\n",
        "\n",
        "print(np.mean(proper_s_fl1))\n",
        "print(statistics.median(proper_s_fl1))\n",
        "print(np.std(proper_s_fl1))\n",
        "print(statistics.variance(proper_s_fl1))\n",
        "\n",
        "ordered= sorted(proper_s_fl1)\n",
        "i= round(len(ordered)*0.05)\n",
        "lower = ordered[i]\n",
        "i= round(len(ordered)*0.95)\n",
        "upper= ordered[i]\n",
        "\n",
        "print(lower)\n",
        "print(upper)\n"
      ]
    },
    {
      "cell_type": "code",
      "execution_count": null,
      "id": "cd2219b4",
      "metadata": {
        "id": "cd2219b4",
        "outputId": "70040fe7-96b1-4a72-dde9-0851d6f7a548",
        "colab": {
          "base_uri": "https://localhost:8080/"
        }
      },
      "outputs": [
        {
          "output_type": "stream",
          "name": "stdout",
          "text": [
            "86646.24915551998\n",
            "87837.19921875\n",
            "52836.44367372956\n",
            "2791712143.8412323\n",
            "952.7000122070312\n",
            "171704.5\n"
          ]
        }
      ],
      "source": [
        "s = FlowCal.io.FCSData('04-blank-C9-1.fcs')\n",
        "s\n",
        "\n",
        "s_fl1 = s[:, ['FL1-H']]\n",
        "s_fl1\n",
        "\n",
        "s_fl1 = s_fl1.tolist()\n",
        "s_fl1[0][0]\n",
        "\n",
        "proper_s_fl1 = []\n",
        "for i in range(len(s_fl1)):\n",
        "    proper_s_fl1.append(s_fl1[i][0])\n",
        "\n",
        "proper_s_fl1[:100]\n",
        "type(proper_s_fl1[:100])\n",
        "\n",
        "import statistics\n",
        "from statistics import stdev\n",
        "from fractions import Fraction as fr\n",
        "\n",
        "print(np.mean(proper_s_fl1))\n",
        "print(statistics.median(proper_s_fl1))\n",
        "print(np.std(proper_s_fl1))\n",
        "print(statistics.variance(proper_s_fl1))\n",
        "\n",
        "ordered= sorted(proper_s_fl1)\n",
        "i= round(len(ordered)*0.05)\n",
        "lower = ordered[i]\n",
        "i= round(len(ordered)*0.95)\n",
        "upper= ordered[i]\n",
        "\n",
        "print(lower)\n",
        "print(upper)\n"
      ]
    },
    {
      "cell_type": "code",
      "execution_count": null,
      "id": "3399c1ce",
      "metadata": {
        "id": "3399c1ce",
        "outputId": "a95fd992-7c7e-42ec-bd64-bacc438d1293",
        "colab": {
          "base_uri": "https://localhost:8080/"
        }
      },
      "outputs": [
        {
          "output_type": "stream",
          "name": "stdout",
          "text": [
            "289511.96415400365\n",
            "262016.296875\n",
            "203742.0522694014\n",
            "41511274685.33572\n",
            "1881.800048828125\n",
            "667299.8125\n"
          ]
        }
      ],
      "source": [
        "s = FlowCal.io.FCSData('02-blank-C9-2.fcs')\n",
        "s\n",
        "\n",
        "s_fl1 = s[:, ['FL1-H']]\n",
        "s_fl1\n",
        "\n",
        "s_fl1 = s_fl1.tolist()\n",
        "s_fl1[0][0]\n",
        "\n",
        "proper_s_fl1 = []\n",
        "for i in range(len(s_fl1)):\n",
        "    proper_s_fl1.append(s_fl1[i][0])\n",
        "\n",
        "proper_s_fl1[:100]\n",
        "type(proper_s_fl1[:100])\n",
        "\n",
        "import statistics\n",
        "from statistics import stdev\n",
        "from fractions import Fraction as fr\n",
        "\n",
        "print(np.mean(proper_s_fl1))\n",
        "print(statistics.median(proper_s_fl1))\n",
        "print(np.std(proper_s_fl1))\n",
        "print(statistics.variance(proper_s_fl1))\n",
        "\n",
        "ordered= sorted(proper_s_fl1)\n",
        "i= round(len(ordered)*0.05)\n",
        "lower = ordered[i]\n",
        "i= round(len(ordered)*0.95)\n",
        "upper= ordered[i]\n",
        "\n",
        "print(lower)\n",
        "print(upper)\n"
      ]
    },
    {
      "cell_type": "code",
      "execution_count": null,
      "id": "7a1bffe0",
      "metadata": {
        "id": "7a1bffe0",
        "outputId": "6afa419e-02ae-4b1c-e982-3ae2e52ab08c",
        "colab": {
          "base_uri": "https://localhost:8080/"
        }
      },
      "outputs": [
        {
          "output_type": "stream",
          "name": "stdout",
          "text": [
            "312157.1172571564\n",
            "291414.09375\n",
            "219345.78446567073\n",
            "48112875108.19294\n",
            "1805.0\n",
            "723274.875\n"
          ]
        }
      ],
      "source": [
        "s = FlowCal.io.FCSData('04-blank-C9-2.fcs')\n",
        "s\n",
        "\n",
        "s_fl1 = s[:, ['FL1-H']]\n",
        "s_fl1\n",
        "\n",
        "s_fl1 = s_fl1.tolist()\n",
        "s_fl1[0][0]\n",
        "\n",
        "proper_s_fl1 = []\n",
        "for i in range(len(s_fl1)):\n",
        "    proper_s_fl1.append(s_fl1[i][0])\n",
        "\n",
        "proper_s_fl1[:100]\n",
        "type(proper_s_fl1[:100])\n",
        "\n",
        "import statistics\n",
        "from statistics import stdev\n",
        "from fractions import Fraction as fr\n",
        "\n",
        "print(np.mean(proper_s_fl1))\n",
        "print(statistics.median(proper_s_fl1))\n",
        "print(np.std(proper_s_fl1))\n",
        "print(statistics.variance(proper_s_fl1))\n",
        "\n",
        "ordered= sorted(proper_s_fl1)\n",
        "i= round(len(ordered)*0.05)\n",
        "lower = ordered[i]\n",
        "i= round(len(ordered)*0.95)\n",
        "upper= ordered[i]\n",
        "\n",
        "print(lower)\n",
        "print(upper)\n"
      ]
    },
    {
      "cell_type": "code",
      "execution_count": null,
      "id": "9fa7b0d3",
      "metadata": {
        "id": "9fa7b0d3",
        "outputId": "0bee09d2-31ad-415a-98f8-3469a50112ed",
        "colab": {
          "base_uri": "https://localhost:8080/"
        }
      },
      "outputs": [
        {
          "output_type": "stream",
          "name": "stdout",
          "text": [
            "126206.68818098967\n",
            "128612.34765625\n",
            "75684.14337954149\n",
            "5728169859.791153\n",
            "2069.0\n",
            "248026.0\n"
          ]
        }
      ],
      "source": [
        "s = FlowCal.io.FCSData('02-blank-C9-3.fcs')\n",
        "s\n",
        "\n",
        "s_fl1 = s[:, ['FL1-H']]\n",
        "s_fl1\n",
        "\n",
        "s_fl1 = s_fl1.tolist()\n",
        "s_fl1[0][0]\n",
        "\n",
        "proper_s_fl1 = []\n",
        "for i in range(len(s_fl1)):\n",
        "    proper_s_fl1.append(s_fl1[i][0])\n",
        "\n",
        "proper_s_fl1[:100]\n",
        "type(proper_s_fl1[:100])\n",
        "\n",
        "import statistics\n",
        "from statistics import stdev\n",
        "from fractions import Fraction as fr\n",
        "\n",
        "print(np.mean(proper_s_fl1))\n",
        "print(statistics.median(proper_s_fl1))\n",
        "print(np.std(proper_s_fl1))\n",
        "print(statistics.variance(proper_s_fl1))\n",
        "\n",
        "ordered= sorted(proper_s_fl1)\n",
        "i= round(len(ordered)*0.05)\n",
        "lower = ordered[i]\n",
        "i= round(len(ordered)*0.95)\n",
        "upper= ordered[i]\n",
        "\n",
        "print(lower)\n",
        "print(upper)\n"
      ]
    },
    {
      "cell_type": "code",
      "execution_count": null,
      "id": "335d73da",
      "metadata": {
        "id": "335d73da",
        "outputId": "a52ac06e-513a-448f-b2e0-58a5ba781c03",
        "colab": {
          "base_uri": "https://localhost:8080/"
        }
      },
      "outputs": [
        {
          "output_type": "stream",
          "name": "stdout",
          "text": [
            "200747.42613947976\n",
            "192176.296875\n",
            "137903.1866468283\n",
            "19017408437.300854\n",
            "862.5999755859375\n",
            "445207.1875\n"
          ]
        }
      ],
      "source": [
        "s = FlowCal.io.FCSData('04-blank-C9-3.fcs')\n",
        "s\n",
        "\n",
        "s_fl1 = s[:, ['FL1-H']]\n",
        "s_fl1\n",
        "\n",
        "s_fl1 = s_fl1.tolist()\n",
        "s_fl1[0][0]\n",
        "\n",
        "proper_s_fl1 = []\n",
        "for i in range(len(s_fl1)):\n",
        "    proper_s_fl1.append(s_fl1[i][0])\n",
        "\n",
        "proper_s_fl1[:100]\n",
        "type(proper_s_fl1[:100])\n",
        "\n",
        "import statistics\n",
        "from statistics import stdev\n",
        "from fractions import Fraction as fr\n",
        "\n",
        "print(np.mean(proper_s_fl1))\n",
        "print(statistics.median(proper_s_fl1))\n",
        "print(np.std(proper_s_fl1))\n",
        "print(statistics.variance(proper_s_fl1))\n",
        "\n",
        "ordered= sorted(proper_s_fl1)\n",
        "i= round(len(ordered)*0.05)\n",
        "lower = ordered[i]\n",
        "i= round(len(ordered)*0.95)\n",
        "upper= ordered[i]\n",
        "\n",
        "print(lower)\n",
        "print(upper)\n"
      ]
    },
    {
      "cell_type": "code",
      "execution_count": null,
      "id": "8bc73b04",
      "metadata": {
        "id": "8bc73b04",
        "outputId": "c3d10e18-a9a6-4047-bb0d-9319bed994f9",
        "colab": {
          "base_uri": "https://localhost:8080/"
        }
      },
      "outputs": [
        {
          "output_type": "stream",
          "name": "stdout",
          "text": [
            "241058.75921009172\n",
            "244993.203125\n",
            "136043.95203370505\n",
            "18508170674.288254\n",
            "8435.400390625\n",
            "455758.40625\n"
          ]
        }
      ],
      "source": [
        "s = FlowCal.io.FCSData('02-blank-C9-4.fcs')\n",
        "s\n",
        "\n",
        "s_fl1 = s[:, ['FL1-H']]\n",
        "s_fl1\n",
        "\n",
        "s_fl1 = s_fl1.tolist()\n",
        "s_fl1[0][0]\n",
        "\n",
        "proper_s_fl1 = []\n",
        "for i in range(len(s_fl1)):\n",
        "    proper_s_fl1.append(s_fl1[i][0])\n",
        "\n",
        "proper_s_fl1[:100]\n",
        "type(proper_s_fl1[:100])\n",
        "\n",
        "import statistics\n",
        "from statistics import stdev\n",
        "from fractions import Fraction as fr\n",
        "\n",
        "print(np.mean(proper_s_fl1))\n",
        "print(statistics.median(proper_s_fl1))\n",
        "print(np.std(proper_s_fl1))\n",
        "print(statistics.variance(proper_s_fl1))\n",
        "\n",
        "ordered= sorted(proper_s_fl1)\n",
        "i= round(len(ordered)*0.05)\n",
        "lower = ordered[i]\n",
        "i= round(len(ordered)*0.95)\n",
        "upper= ordered[i]\n",
        "\n",
        "print(lower)\n",
        "print(upper)\n"
      ]
    },
    {
      "cell_type": "code",
      "execution_count": null,
      "id": "62d6fcc7",
      "metadata": {
        "id": "62d6fcc7",
        "outputId": "dcba65a2-82fb-4b47-d10f-c18c57e7feef",
        "colab": {
          "base_uri": "https://localhost:8080/"
        }
      },
      "outputs": [
        {
          "output_type": "stream",
          "name": "stdout",
          "text": [
            "300882.7914400464\n",
            "307688.0\n",
            "171446.2945119433\n",
            "29394100773.31112\n",
            "9884.2998046875\n",
            "568450.875\n"
          ]
        }
      ],
      "source": [
        "s = FlowCal.io.FCSData('04-blank-C9-4.fcs')\n",
        "s\n",
        "\n",
        "s_fl1 = s[:, ['FL1-H']]\n",
        "s_fl1\n",
        "\n",
        "s_fl1 = s_fl1.tolist()\n",
        "s_fl1[0][0]\n",
        "\n",
        "proper_s_fl1 = []\n",
        "for i in range(len(s_fl1)):\n",
        "    proper_s_fl1.append(s_fl1[i][0])\n",
        "\n",
        "proper_s_fl1[:100]\n",
        "type(proper_s_fl1[:100])\n",
        "\n",
        "import statistics\n",
        "from statistics import stdev\n",
        "from fractions import Fraction as fr\n",
        "\n",
        "print(np.mean(proper_s_fl1))\n",
        "print(statistics.median(proper_s_fl1))\n",
        "print(np.std(proper_s_fl1))\n",
        "print(statistics.variance(proper_s_fl1))\n",
        "\n",
        "ordered= sorted(proper_s_fl1)\n",
        "i= round(len(ordered)*0.05)\n",
        "lower = ordered[i]\n",
        "i= round(len(ordered)*0.95)\n",
        "upper= ordered[i]\n",
        "\n",
        "print(lower)\n",
        "print(upper)\n"
      ]
    },
    {
      "cell_type": "code",
      "execution_count": null,
      "id": "ca97ed23",
      "metadata": {
        "id": "ca97ed23",
        "outputId": "332ce52c-f11f-4fc6-c349-26ac0e63b7ed",
        "colab": {
          "base_uri": "https://localhost:8080/"
        }
      },
      "outputs": [
        {
          "output_type": "stream",
          "name": "stdout",
          "text": [
            "256415.0583996903\n",
            "217813.5\n",
            "207008.3152884687\n",
            "42852887828.00443\n",
            "905.2999877929688\n",
            "653630.625\n"
          ]
        }
      ],
      "source": [
        "s = FlowCal.io.FCSData('02-blank-C10-1.fcs')\n",
        "s\n",
        "\n",
        "s_fl1 = s[:, ['FL1-H']]\n",
        "s_fl1\n",
        "\n",
        "s_fl1 = s_fl1.tolist()\n",
        "s_fl1[0][0]\n",
        "\n",
        "proper_s_fl1 = []\n",
        "for i in range(len(s_fl1)):\n",
        "    proper_s_fl1.append(s_fl1[i][0])\n",
        "\n",
        "proper_s_fl1[:100]\n",
        "type(proper_s_fl1[:100])\n",
        "\n",
        "import statistics\n",
        "from statistics import stdev\n",
        "from fractions import Fraction as fr\n",
        "\n",
        "print(np.mean(proper_s_fl1))\n",
        "print(statistics.median(proper_s_fl1))\n",
        "print(np.std(proper_s_fl1))\n",
        "print(statistics.variance(proper_s_fl1))\n",
        "\n",
        "ordered= sorted(proper_s_fl1)\n",
        "i= round(len(ordered)*0.05)\n",
        "lower = ordered[i]\n",
        "i= round(len(ordered)*0.95)\n",
        "upper= ordered[i]\n",
        "\n",
        "print(lower)\n",
        "print(upper)\n"
      ]
    },
    {
      "cell_type": "code",
      "execution_count": null,
      "id": "1391d8ac",
      "metadata": {
        "id": "1391d8ac",
        "outputId": "cfaa6980-9659-4bc5-96e6-7c07fc23c4c4",
        "colab": {
          "base_uri": "https://localhost:8080/"
        }
      },
      "outputs": [
        {
          "output_type": "stream",
          "name": "stdout",
          "text": [
            "205635.0898545538\n",
            "211937.09375\n",
            "134097.04039727765\n",
            "17982161637.12405\n",
            "1308.800048828125\n",
            "421124.90625\n"
          ]
        }
      ],
      "source": [
        "s = FlowCal.io.FCSData('04-blank-C10-1.fcs')\n",
        "s\n",
        "\n",
        "s_fl1 = s[:, ['FL1-H']]\n",
        "s_fl1\n",
        "\n",
        "s_fl1 = s_fl1.tolist()\n",
        "s_fl1[0][0]\n",
        "\n",
        "proper_s_fl1 = []\n",
        "for i in range(len(s_fl1)):\n",
        "    proper_s_fl1.append(s_fl1[i][0])\n",
        "\n",
        "proper_s_fl1[:100]\n",
        "type(proper_s_fl1[:100])\n",
        "\n",
        "import statistics\n",
        "from statistics import stdev\n",
        "from fractions import Fraction as fr\n",
        "\n",
        "print(np.mean(proper_s_fl1))\n",
        "print(statistics.median(proper_s_fl1))\n",
        "print(np.std(proper_s_fl1))\n",
        "print(statistics.variance(proper_s_fl1))\n",
        "\n",
        "ordered= sorted(proper_s_fl1)\n",
        "i= round(len(ordered)*0.05)\n",
        "lower = ordered[i]\n",
        "i= round(len(ordered)*0.95)\n",
        "upper= ordered[i]\n",
        "\n",
        "print(lower)\n",
        "print(upper)\n"
      ]
    },
    {
      "cell_type": "code",
      "execution_count": null,
      "id": "1cde9a3d",
      "metadata": {
        "id": "1cde9a3d",
        "outputId": "256b0803-d10e-42fb-bfe1-f9ffb8ebf939",
        "colab": {
          "base_uri": "https://localhost:8080/"
        }
      },
      "outputs": [
        {
          "output_type": "stream",
          "name": "stdout",
          "text": [
            "220701.7510150126\n",
            "208284.3046875\n",
            "140461.68662551083\n",
            "19729692719.683414\n",
            "3647.800048828125\n",
            "466026.5\n"
          ]
        }
      ],
      "source": [
        "s = FlowCal.io.FCSData('02-blank-C10-2.fcs')\n",
        "s\n",
        "\n",
        "s_fl1 = s[:, ['FL1-H']]\n",
        "s_fl1\n",
        "\n",
        "s_fl1 = s_fl1.tolist()\n",
        "s_fl1[0][0]\n",
        "\n",
        "proper_s_fl1 = []\n",
        "for i in range(len(s_fl1)):\n",
        "    proper_s_fl1.append(s_fl1[i][0])\n",
        "\n",
        "proper_s_fl1[:100]\n",
        "type(proper_s_fl1[:100])\n",
        "\n",
        "import statistics\n",
        "from statistics import stdev\n",
        "from fractions import Fraction as fr\n",
        "\n",
        "print(np.mean(proper_s_fl1))\n",
        "print(statistics.median(proper_s_fl1))\n",
        "print(np.std(proper_s_fl1))\n",
        "print(statistics.variance(proper_s_fl1))\n",
        "\n",
        "ordered= sorted(proper_s_fl1)\n",
        "i= round(len(ordered)*0.05)\n",
        "lower = ordered[i]\n",
        "i= round(len(ordered)*0.95)\n",
        "upper= ordered[i]\n",
        "\n",
        "print(lower)\n",
        "print(upper)\n"
      ]
    },
    {
      "cell_type": "code",
      "execution_count": null,
      "id": "ed260ccc",
      "metadata": {
        "id": "ed260ccc",
        "outputId": "4b800209-c374-462b-f5ab-fdee77fddadb",
        "colab": {
          "base_uri": "https://localhost:8080/"
        }
      },
      "outputs": [
        {
          "output_type": "stream",
          "name": "stdout",
          "text": [
            "340434.16763590893\n",
            "305263.90625\n",
            "263831.70792185166\n",
            "69607512242.36298\n",
            "929.5999755859375\n",
            "838173.875\n"
          ]
        }
      ],
      "source": [
        "s = FlowCal.io.FCSData('04-blank-C10-2.fcs')\n",
        "s\n",
        "\n",
        "s_fl1 = s[:, ['FL1-H']]\n",
        "s_fl1\n",
        "\n",
        "s_fl1 = s_fl1.tolist()\n",
        "s_fl1[0][0]\n",
        "\n",
        "proper_s_fl1 = []\n",
        "for i in range(len(s_fl1)):\n",
        "    proper_s_fl1.append(s_fl1[i][0])\n",
        "\n",
        "proper_s_fl1[:100]\n",
        "type(proper_s_fl1[:100])\n",
        "\n",
        "import statistics\n",
        "from statistics import stdev\n",
        "from fractions import Fraction as fr\n",
        "\n",
        "print(np.mean(proper_s_fl1))\n",
        "print(statistics.median(proper_s_fl1))\n",
        "print(np.std(proper_s_fl1))\n",
        "print(statistics.variance(proper_s_fl1))\n",
        "\n",
        "ordered= sorted(proper_s_fl1)\n",
        "i= round(len(ordered)*0.05)\n",
        "lower = ordered[i]\n",
        "i= round(len(ordered)*0.95)\n",
        "upper= ordered[i]\n",
        "\n",
        "print(lower)\n",
        "print(upper)\n"
      ]
    },
    {
      "cell_type": "code",
      "execution_count": null,
      "id": "e83693f3",
      "metadata": {
        "id": "e83693f3",
        "outputId": "d082475e-2952-49ca-c6d5-275da5fb1ade",
        "colab": {
          "base_uri": "https://localhost:8080/"
        }
      },
      "outputs": [
        {
          "output_type": "stream",
          "name": "stdout",
          "text": [
            "340609.777252749\n",
            "330238.15625\n",
            "221936.3592919929\n",
            "49256141165.20145\n",
            "1656.0999755859375\n",
            "727745.3125\n"
          ]
        }
      ],
      "source": [
        "s = FlowCal.io.FCSData('02-blank-C10-3.fcs')\n",
        "s\n",
        "\n",
        "s_fl1 = s[:, ['FL1-H']]\n",
        "s_fl1\n",
        "\n",
        "s_fl1 = s_fl1.tolist()\n",
        "s_fl1[0][0]\n",
        "\n",
        "proper_s_fl1 = []\n",
        "for i in range(len(s_fl1)):\n",
        "    proper_s_fl1.append(s_fl1[i][0])\n",
        "\n",
        "proper_s_fl1[:100]\n",
        "type(proper_s_fl1[:100])\n",
        "\n",
        "import statistics\n",
        "from statistics import stdev\n",
        "from fractions import Fraction as fr\n",
        "\n",
        "print(np.mean(proper_s_fl1))\n",
        "print(statistics.median(proper_s_fl1))\n",
        "print(np.std(proper_s_fl1))\n",
        "print(statistics.variance(proper_s_fl1))\n",
        "\n",
        "ordered= sorted(proper_s_fl1)\n",
        "i= round(len(ordered)*0.05)\n",
        "lower = ordered[i]\n",
        "i= round(len(ordered)*0.95)\n",
        "upper= ordered[i]\n",
        "\n",
        "print(lower)\n",
        "print(upper)\n"
      ]
    },
    {
      "cell_type": "code",
      "execution_count": null,
      "id": "e2268b4a",
      "metadata": {
        "id": "e2268b4a",
        "outputId": "b2890247-fe4b-4eef-f47b-9963d9e3fb8d",
        "colab": {
          "base_uri": "https://localhost:8080/"
        }
      },
      "outputs": [
        {
          "output_type": "stream",
          "name": "stdout",
          "text": [
            "455526.15290187893\n",
            "410886.796875\n",
            "377381.4613574344\n",
            "142417199176.45337\n",
            "707.7000122070312\n",
            "1151544.875\n"
          ]
        }
      ],
      "source": [
        "s = FlowCal.io.FCSData('04-blank-C10-3.fcs')\n",
        "s\n",
        "\n",
        "s_fl1 = s[:, ['FL1-H']]\n",
        "s_fl1\n",
        "\n",
        "s_fl1 = s_fl1.tolist()\n",
        "s_fl1[0][0]\n",
        "\n",
        "proper_s_fl1 = []\n",
        "for i in range(len(s_fl1)):\n",
        "    proper_s_fl1.append(s_fl1[i][0])\n",
        "\n",
        "proper_s_fl1[:100]\n",
        "type(proper_s_fl1[:100])\n",
        "\n",
        "import statistics\n",
        "from statistics import stdev\n",
        "from fractions import Fraction as fr\n",
        "\n",
        "print(np.mean(proper_s_fl1))\n",
        "print(statistics.median(proper_s_fl1))\n",
        "print(np.std(proper_s_fl1))\n",
        "print(statistics.variance(proper_s_fl1))\n",
        "\n",
        "ordered= sorted(proper_s_fl1)\n",
        "i= round(len(ordered)*0.05)\n",
        "lower = ordered[i]\n",
        "i= round(len(ordered)*0.95)\n",
        "upper= ordered[i]\n",
        "\n",
        "print(lower)\n",
        "print(upper)\n"
      ]
    },
    {
      "cell_type": "code",
      "execution_count": null,
      "id": "7d495413",
      "metadata": {
        "id": "7d495413",
        "outputId": "d7c657e7-e66c-478c-9335-c9ca0dcd9790",
        "colab": {
          "base_uri": "https://localhost:8080/"
        }
      },
      "outputs": [
        {
          "output_type": "stream",
          "name": "stdout",
          "text": [
            "277235.2375262204\n",
            "252921.09375\n",
            "181729.52362122107\n",
            "33025747047.46082\n",
            "3004.0\n",
            "611541.3125\n"
          ]
        }
      ],
      "source": [
        "s = FlowCal.io.FCSData('02-blank-C10-4.fcs')\n",
        "s\n",
        "\n",
        "s_fl1 = s[:, ['FL1-H']]\n",
        "s_fl1\n",
        "\n",
        "s_fl1 = s_fl1.tolist()\n",
        "s_fl1[0][0]\n",
        "\n",
        "proper_s_fl1 = []\n",
        "for i in range(len(s_fl1)):\n",
        "    proper_s_fl1.append(s_fl1[i][0])\n",
        "\n",
        "proper_s_fl1[:100]\n",
        "type(proper_s_fl1[:100])\n",
        "\n",
        "import statistics\n",
        "from statistics import stdev\n",
        "from fractions import Fraction as fr\n",
        "\n",
        "print(np.mean(proper_s_fl1))\n",
        "print(statistics.median(proper_s_fl1))\n",
        "print(np.std(proper_s_fl1))\n",
        "print(statistics.variance(proper_s_fl1))\n",
        "\n",
        "ordered= sorted(proper_s_fl1)\n",
        "i= round(len(ordered)*0.05)\n",
        "lower = ordered[i]\n",
        "i= round(len(ordered)*0.95)\n",
        "upper= ordered[i]\n",
        "\n",
        "print(lower)\n",
        "print(upper)\n"
      ]
    },
    {
      "cell_type": "code",
      "execution_count": null,
      "id": "57ccd36d",
      "metadata": {
        "id": "57ccd36d",
        "outputId": "0ccf6552-6640-4040-b182-d2da1121597d",
        "colab": {
          "base_uri": "https://localhost:8080/"
        }
      },
      "outputs": [
        {
          "output_type": "stream",
          "name": "stdout",
          "text": [
            "335063.3499947333\n",
            "343982.90625\n",
            "188042.7469859116\n",
            "35360313965.87216\n",
            "3162.5\n",
            "634848.375\n"
          ]
        }
      ],
      "source": [
        "s = FlowCal.io.FCSData('04-blank-C10-4.fcs')\n",
        "s\n",
        "\n",
        "s_fl1 = s[:, ['FL1-H']]\n",
        "s_fl1\n",
        "\n",
        "s_fl1 = s_fl1.tolist()\n",
        "s_fl1[0][0]\n",
        "\n",
        "proper_s_fl1 = []\n",
        "for i in range(len(s_fl1)):\n",
        "    proper_s_fl1.append(s_fl1[i][0])\n",
        "\n",
        "proper_s_fl1[:100]\n",
        "type(proper_s_fl1[:100])\n",
        "\n",
        "import statistics\n",
        "from statistics import stdev\n",
        "from fractions import Fraction as fr\n",
        "\n",
        "print(np.mean(proper_s_fl1))\n",
        "print(statistics.median(proper_s_fl1))\n",
        "print(np.std(proper_s_fl1))\n",
        "print(statistics.variance(proper_s_fl1))\n",
        "\n",
        "ordered= sorted(proper_s_fl1)\n",
        "i= round(len(ordered)*0.05)\n",
        "lower = ordered[i]\n",
        "i= round(len(ordered)*0.95)\n",
        "upper= ordered[i]\n",
        "\n",
        "print(lower)\n",
        "print(upper)\n"
      ]
    },
    {
      "cell_type": "code",
      "execution_count": null,
      "id": "c723d342",
      "metadata": {
        "id": "c723d342",
        "outputId": "a63c8ca0-715a-42ec-a44a-b78751590769",
        "colab": {
          "base_uri": "https://localhost:8080/"
        }
      },
      "outputs": [
        {
          "output_type": "stream",
          "name": "stdout",
          "text": [
            "120406.22923380516\n",
            "114899.65234375\n",
            "80406.90930256329\n",
            "6465380095.600076\n",
            "1170.4000244140625\n",
            "256451.5\n"
          ]
        }
      ],
      "source": [
        "s = FlowCal.io.FCSData('02-blank-C11-1.fcs')\n",
        "s\n",
        "\n",
        "s_fl1 = s[:, ['FL1-H']]\n",
        "s_fl1\n",
        "\n",
        "s_fl1 = s_fl1.tolist()\n",
        "s_fl1[0][0]\n",
        "\n",
        "proper_s_fl1 = []\n",
        "for i in range(len(s_fl1)):\n",
        "    proper_s_fl1.append(s_fl1[i][0])\n",
        "\n",
        "proper_s_fl1[:100]\n",
        "type(proper_s_fl1[:100])\n",
        "\n",
        "import statistics\n",
        "from statistics import stdev\n",
        "from fractions import Fraction as fr\n",
        "\n",
        "print(np.mean(proper_s_fl1))\n",
        "print(statistics.median(proper_s_fl1))\n",
        "print(np.std(proper_s_fl1))\n",
        "print(statistics.variance(proper_s_fl1))\n",
        "\n",
        "ordered= sorted(proper_s_fl1)\n",
        "i= round(len(ordered)*0.05)\n",
        "lower = ordered[i]\n",
        "i= round(len(ordered)*0.95)\n",
        "upper= ordered[i]\n",
        "\n",
        "print(lower)\n",
        "print(upper)\n"
      ]
    },
    {
      "cell_type": "code",
      "execution_count": null,
      "id": "cab568c0",
      "metadata": {
        "id": "cab568c0",
        "outputId": "d284fe2f-c7dd-493f-ced5-4d0cff1149f3",
        "colab": {
          "base_uri": "https://localhost:8080/"
        }
      },
      "outputs": [
        {
          "output_type": "stream",
          "name": "stdout",
          "text": [
            "143923.86590950942\n",
            "127766.796875\n",
            "106651.52296263578\n",
            "11374603619.777042\n",
            "2619.39990234375\n",
            "349535.6875\n"
          ]
        }
      ],
      "source": [
        "s = FlowCal.io.FCSData('04-blank-C11-1.fcs')\n",
        "s\n",
        "\n",
        "s_fl1 = s[:, ['FL1-H']]\n",
        "s_fl1\n",
        "\n",
        "s_fl1 = s_fl1.tolist()\n",
        "s_fl1[0][0]\n",
        "\n",
        "proper_s_fl1 = []\n",
        "for i in range(len(s_fl1)):\n",
        "    proper_s_fl1.append(s_fl1[i][0])\n",
        "\n",
        "proper_s_fl1[:100]\n",
        "type(proper_s_fl1[:100])\n",
        "\n",
        "import statistics\n",
        "from statistics import stdev\n",
        "from fractions import Fraction as fr\n",
        "\n",
        "print(np.mean(proper_s_fl1))\n",
        "print(statistics.median(proper_s_fl1))\n",
        "print(np.std(proper_s_fl1))\n",
        "print(statistics.variance(proper_s_fl1))\n",
        "\n",
        "ordered= sorted(proper_s_fl1)\n",
        "i= round(len(ordered)*0.05)\n",
        "lower = ordered[i]\n",
        "i= round(len(ordered)*0.95)\n",
        "upper= ordered[i]\n",
        "\n",
        "print(lower)\n",
        "print(upper)\n"
      ]
    },
    {
      "cell_type": "code",
      "execution_count": null,
      "id": "e0bdc212",
      "metadata": {
        "id": "e0bdc212",
        "outputId": "3e2760b3-af3a-45e3-d596-7c2c665a0245",
        "colab": {
          "base_uri": "https://localhost:8080/"
        }
      },
      "outputs": [
        {
          "output_type": "stream",
          "name": "stdout",
          "text": [
            "442692.6334241756\n",
            "398103.0625\n",
            "343322.5718670134\n",
            "117871300500.5088\n",
            "1336.0\n",
            "1060798.25\n"
          ]
        }
      ],
      "source": [
        "s = FlowCal.io.FCSData('02-blank-C11-2.fcs')\n",
        "s\n",
        "\n",
        "s_fl1 = s[:, ['FL1-H']]\n",
        "s_fl1\n",
        "\n",
        "s_fl1 = s_fl1.tolist()\n",
        "s_fl1[0][0]\n",
        "\n",
        "proper_s_fl1 = []\n",
        "for i in range(len(s_fl1)):\n",
        "    proper_s_fl1.append(s_fl1[i][0])\n",
        "\n",
        "proper_s_fl1[:100]\n",
        "type(proper_s_fl1[:100])\n",
        "\n",
        "import statistics\n",
        "from statistics import stdev\n",
        "from fractions import Fraction as fr\n",
        "\n",
        "print(np.mean(proper_s_fl1))\n",
        "print(statistics.median(proper_s_fl1))\n",
        "print(np.std(proper_s_fl1))\n",
        "print(statistics.variance(proper_s_fl1))\n",
        "\n",
        "ordered= sorted(proper_s_fl1)\n",
        "i= round(len(ordered)*0.05)\n",
        "lower = ordered[i]\n",
        "i= round(len(ordered)*0.95)\n",
        "upper= ordered[i]\n",
        "\n",
        "print(lower)\n",
        "print(upper)\n"
      ]
    },
    {
      "cell_type": "code",
      "execution_count": null,
      "id": "85134055",
      "metadata": {
        "id": "85134055",
        "outputId": "361a2b9f-ed5a-4ced-8286-d12fd5eb3449",
        "colab": {
          "base_uri": "https://localhost:8080/"
        }
      },
      "outputs": [
        {
          "output_type": "stream",
          "name": "stdout",
          "text": [
            "352339.5475183345\n",
            "366750.5\n",
            "252178.2626268163\n",
            "63594343111.72671\n",
            "1115.0\n",
            "755561.3125\n"
          ]
        }
      ],
      "source": [
        "s = FlowCal.io.FCSData('04-blank-C11-2.fcs')\n",
        "s\n",
        "\n",
        "s_fl1 = s[:, ['FL1-H']]\n",
        "s_fl1\n",
        "\n",
        "s_fl1 = s_fl1.tolist()\n",
        "s_fl1[0][0]\n",
        "\n",
        "proper_s_fl1 = []\n",
        "for i in range(len(s_fl1)):\n",
        "    proper_s_fl1.append(s_fl1[i][0])\n",
        "\n",
        "proper_s_fl1[:100]\n",
        "type(proper_s_fl1[:100])\n",
        "\n",
        "import statistics\n",
        "from statistics import stdev\n",
        "from fractions import Fraction as fr\n",
        "\n",
        "print(np.mean(proper_s_fl1))\n",
        "print(statistics.median(proper_s_fl1))\n",
        "print(np.std(proper_s_fl1))\n",
        "print(statistics.variance(proper_s_fl1))\n",
        "\n",
        "ordered= sorted(proper_s_fl1)\n",
        "i= round(len(ordered)*0.05)\n",
        "lower = ordered[i]\n",
        "i= round(len(ordered)*0.95)\n",
        "upper= ordered[i]\n",
        "\n",
        "print(lower)\n",
        "print(upper)\n"
      ]
    },
    {
      "cell_type": "code",
      "execution_count": null,
      "id": "a97622ec",
      "metadata": {
        "id": "a97622ec",
        "outputId": "2bc85427-7a65-4959-b704-67508300342d",
        "colab": {
          "base_uri": "https://localhost:8080/"
        }
      },
      "outputs": [
        {
          "output_type": "stream",
          "name": "stdout",
          "text": [
            "208285.6067119875\n",
            "194043.8984375\n",
            "139140.38139830274\n",
            "19360219731.959976\n",
            "1566.5999755859375\n",
            "453148.90625\n"
          ]
        }
      ],
      "source": [
        "s = FlowCal.io.FCSData('02-blank-C11-3.fcs')\n",
        "s\n",
        "\n",
        "s_fl1 = s[:, ['FL1-H']]\n",
        "s_fl1\n",
        "\n",
        "s_fl1 = s_fl1.tolist()\n",
        "s_fl1[0][0]\n",
        "\n",
        "proper_s_fl1 = []\n",
        "for i in range(len(s_fl1)):\n",
        "    proper_s_fl1.append(s_fl1[i][0])\n",
        "\n",
        "proper_s_fl1[:100]\n",
        "type(proper_s_fl1[:100])\n",
        "\n",
        "import statistics\n",
        "from statistics import stdev\n",
        "from fractions import Fraction as fr\n",
        "\n",
        "print(np.mean(proper_s_fl1))\n",
        "print(statistics.median(proper_s_fl1))\n",
        "print(np.std(proper_s_fl1))\n",
        "print(statistics.variance(proper_s_fl1))\n",
        "\n",
        "ordered= sorted(proper_s_fl1)\n",
        "i= round(len(ordered)*0.05)\n",
        "lower = ordered[i]\n",
        "i= round(len(ordered)*0.95)\n",
        "upper= ordered[i]\n",
        "\n",
        "print(lower)\n",
        "print(upper)\n"
      ]
    },
    {
      "cell_type": "code",
      "execution_count": null,
      "id": "33c30beb",
      "metadata": {
        "id": "33c30beb",
        "outputId": "07238c8d-a769-41c0-a3c1-e6d8cec57c17",
        "colab": {
          "base_uri": "https://localhost:8080/"
        }
      },
      "outputs": [
        {
          "output_type": "stream",
          "name": "stdout",
          "text": [
            "234939.3058810173\n",
            "230157.796875\n",
            "141775.20801215642\n",
            "20100297781.56026\n",
            "1208.0\n",
            "475275.5\n"
          ]
        }
      ],
      "source": [
        "s = FlowCal.io.FCSData('04-blank-C11-3.fcs')\n",
        "s\n",
        "\n",
        "s_fl1 = s[:, ['FL1-H']]\n",
        "s_fl1\n",
        "\n",
        "s_fl1 = s_fl1.tolist()\n",
        "s_fl1[0][0]\n",
        "\n",
        "proper_s_fl1 = []\n",
        "for i in range(len(s_fl1)):\n",
        "    proper_s_fl1.append(s_fl1[i][0])\n",
        "\n",
        "proper_s_fl1[:100]\n",
        "type(proper_s_fl1[:100])\n",
        "\n",
        "import statistics\n",
        "from statistics import stdev\n",
        "from fractions import Fraction as fr\n",
        "\n",
        "print(np.mean(proper_s_fl1))\n",
        "print(statistics.median(proper_s_fl1))\n",
        "print(np.std(proper_s_fl1))\n",
        "print(statistics.variance(proper_s_fl1))\n",
        "\n",
        "ordered= sorted(proper_s_fl1)\n",
        "i= round(len(ordered)*0.05)\n",
        "lower = ordered[i]\n",
        "i= round(len(ordered)*0.95)\n",
        "upper= ordered[i]\n",
        "\n",
        "print(lower)\n",
        "print(upper)\n"
      ]
    },
    {
      "cell_type": "code",
      "execution_count": null,
      "id": "1d60fc24",
      "metadata": {
        "id": "1d60fc24",
        "outputId": "2e7d289a-cba2-4023-b4f5-266f9d2391c7",
        "colab": {
          "base_uri": "https://localhost:8080/"
        }
      },
      "outputs": [
        {
          "output_type": "stream",
          "name": "stdout",
          "text": [
            "492872.31958352437\n",
            "451502.34375\n",
            "341581.09656720224\n",
            "116678079415.04712\n",
            "1407.9000244140625\n",
            "1102788.5\n"
          ]
        }
      ],
      "source": [
        "s = FlowCal.io.FCSData('02-blank-C11-4.fcs')\n",
        "s\n",
        "\n",
        "s_fl1 = s[:, ['FL1-H']]\n",
        "s_fl1\n",
        "\n",
        "s_fl1 = s_fl1.tolist()\n",
        "s_fl1[0][0]\n",
        "\n",
        "proper_s_fl1 = []\n",
        "for i in range(len(s_fl1)):\n",
        "    proper_s_fl1.append(s_fl1[i][0])\n",
        "\n",
        "proper_s_fl1[:100]\n",
        "type(proper_s_fl1[:100])\n",
        "\n",
        "import statistics\n",
        "from statistics import stdev\n",
        "from fractions import Fraction as fr\n",
        "\n",
        "print(np.mean(proper_s_fl1))\n",
        "print(statistics.median(proper_s_fl1))\n",
        "print(np.std(proper_s_fl1))\n",
        "print(statistics.variance(proper_s_fl1))\n",
        "\n",
        "ordered= sorted(proper_s_fl1)\n",
        "i= round(len(ordered)*0.05)\n",
        "lower = ordered[i]\n",
        "i= round(len(ordered)*0.95)\n",
        "upper= ordered[i]\n",
        "\n",
        "print(lower)\n",
        "print(upper)\n"
      ]
    },
    {
      "cell_type": "code",
      "execution_count": null,
      "id": "3642a3ad",
      "metadata": {
        "id": "3642a3ad",
        "outputId": "864c7676-4501-45cc-93ac-8c1c20266385",
        "colab": {
          "base_uri": "https://localhost:8080/"
        }
      },
      "outputs": [
        {
          "output_type": "stream",
          "name": "stdout",
          "text": [
            "608669.2402974613\n",
            "599846.375\n",
            "351902.2261701406\n",
            "123835561926.9611\n",
            "2338.60009765625\n",
            "1204535.625\n"
          ]
        }
      ],
      "source": [
        "s = FlowCal.io.FCSData('04-blank-C11-4.fcs')\n",
        "s\n",
        "\n",
        "s_fl1 = s[:, ['FL1-H']]\n",
        "s_fl1\n",
        "\n",
        "s_fl1 = s_fl1.tolist()\n",
        "s_fl1[0][0]\n",
        "\n",
        "proper_s_fl1 = []\n",
        "for i in range(len(s_fl1)):\n",
        "    proper_s_fl1.append(s_fl1[i][0])\n",
        "\n",
        "proper_s_fl1[:100]\n",
        "type(proper_s_fl1[:100])\n",
        "\n",
        "import statistics\n",
        "from statistics import stdev\n",
        "from fractions import Fraction as fr\n",
        "\n",
        "print(np.mean(proper_s_fl1))\n",
        "print(statistics.median(proper_s_fl1))\n",
        "print(np.std(proper_s_fl1))\n",
        "print(statistics.variance(proper_s_fl1))\n",
        "\n",
        "ordered= sorted(proper_s_fl1)\n",
        "i= round(len(ordered)*0.05)\n",
        "lower = ordered[i]\n",
        "i= round(len(ordered)*0.95)\n",
        "upper= ordered[i]\n",
        "\n",
        "print(lower)\n",
        "print(upper)\n"
      ]
    },
    {
      "cell_type": "code",
      "execution_count": null,
      "id": "ebbf72e8",
      "metadata": {
        "id": "ebbf72e8",
        "outputId": "71d5c008-d506-4cfe-d509-c8a724957b30",
        "colab": {
          "base_uri": "https://localhost:8080/"
        }
      },
      "outputs": [
        {
          "output_type": "stream",
          "name": "stdout",
          "text": [
            "12127.216476184361\n",
            "438.29998779296875\n",
            "82087.81248703627\n",
            "6738431948.258804\n",
            "262.6000061035156\n",
            "25188.099609375\n"
          ]
        }
      ],
      "source": [
        "s = FlowCal.io.FCSData('02-blank-E2-1.fcs')\n",
        "s\n",
        "\n",
        "s_fl1 = s[:, ['FL1-H']]\n",
        "s_fl1\n",
        "\n",
        "s_fl1 = s_fl1.tolist()\n",
        "s_fl1[0][0]\n",
        "\n",
        "proper_s_fl1 = []\n",
        "for i in range(len(s_fl1)):\n",
        "    proper_s_fl1.append(s_fl1[i][0])\n",
        "\n",
        "proper_s_fl1[:100]\n",
        "type(proper_s_fl1[:100])\n",
        "\n",
        "import statistics\n",
        "from statistics import stdev\n",
        "from fractions import Fraction as fr\n",
        "\n",
        "print(np.mean(proper_s_fl1))\n",
        "print(statistics.median(proper_s_fl1))\n",
        "print(np.std(proper_s_fl1))\n",
        "print(statistics.variance(proper_s_fl1))\n",
        "\n",
        "ordered= sorted(proper_s_fl1)\n",
        "i= round(len(ordered)*0.05)\n",
        "lower = ordered[i]\n",
        "i= round(len(ordered)*0.95)\n",
        "upper= ordered[i]\n",
        "\n",
        "print(lower)\n",
        "print(upper)\n"
      ]
    },
    {
      "cell_type": "code",
      "execution_count": null,
      "id": "dfac52c4",
      "metadata": {
        "id": "dfac52c4",
        "outputId": "b825f2d6-91c7-438e-d9b7-1d2dc3e06206",
        "colab": {
          "base_uri": "https://localhost:8080/"
        }
      },
      "outputs": [
        {
          "output_type": "stream",
          "name": "stdout",
          "text": [
            "11247.075901294113\n",
            "445.6000061035156\n",
            "82364.64536416727\n",
            "6783962118.250879\n",
            "271.29998779296875\n",
            "21414.400390625\n"
          ]
        }
      ],
      "source": [
        "s = FlowCal.io.FCSData('04-blank-E2-1.fcs')\n",
        "s\n",
        "\n",
        "s_fl1 = s[:, ['FL1-H']]\n",
        "s_fl1\n",
        "\n",
        "s_fl1 = s_fl1.tolist()\n",
        "s_fl1[0][0]\n",
        "\n",
        "proper_s_fl1 = []\n",
        "for i in range(len(s_fl1)):\n",
        "    proper_s_fl1.append(s_fl1[i][0])\n",
        "\n",
        "proper_s_fl1[:100]\n",
        "type(proper_s_fl1[:100])\n",
        "\n",
        "import statistics\n",
        "from statistics import stdev\n",
        "from fractions import Fraction as fr\n",
        "\n",
        "print(np.mean(proper_s_fl1))\n",
        "print(statistics.median(proper_s_fl1))\n",
        "print(np.std(proper_s_fl1))\n",
        "print(statistics.variance(proper_s_fl1))\n",
        "\n",
        "ordered= sorted(proper_s_fl1)\n",
        "i= round(len(ordered)*0.05)\n",
        "lower = ordered[i]\n",
        "i= round(len(ordered)*0.95)\n",
        "upper= ordered[i]\n",
        "\n",
        "print(lower)\n",
        "print(upper)\n"
      ]
    },
    {
      "cell_type": "code",
      "execution_count": null,
      "id": "6b570e1a",
      "metadata": {
        "id": "6b570e1a",
        "outputId": "14b0832a-0a0d-42b7-b4c5-b78f763c88ee",
        "colab": {
          "base_uri": "https://localhost:8080/"
        }
      },
      "outputs": [
        {
          "output_type": "stream",
          "name": "stdout",
          "text": [
            "27844.880857759028\n",
            "449.8999938964844\n",
            "130191.49277789827\n",
            "16949979394.052412\n",
            "269.70001220703125\n",
            "118398.0\n"
          ]
        }
      ],
      "source": [
        "s = FlowCal.io.FCSData('02-blank-E2-2.fcs')\n",
        "s\n",
        "\n",
        "s_fl1 = s[:, ['FL1-H']]\n",
        "s_fl1\n",
        "\n",
        "s_fl1 = s_fl1.tolist()\n",
        "s_fl1[0][0]\n",
        "\n",
        "proper_s_fl1 = []\n",
        "for i in range(len(s_fl1)):\n",
        "    proper_s_fl1.append(s_fl1[i][0])\n",
        "\n",
        "proper_s_fl1[:100]\n",
        "type(proper_s_fl1[:100])\n",
        "\n",
        "import statistics\n",
        "from statistics import stdev\n",
        "from fractions import Fraction as fr\n",
        "\n",
        "print(np.mean(proper_s_fl1))\n",
        "print(statistics.median(proper_s_fl1))\n",
        "print(np.std(proper_s_fl1))\n",
        "print(statistics.variance(proper_s_fl1))\n",
        "\n",
        "ordered= sorted(proper_s_fl1)\n",
        "i= round(len(ordered)*0.05)\n",
        "lower = ordered[i]\n",
        "i= round(len(ordered)*0.95)\n",
        "upper= ordered[i]\n",
        "\n",
        "print(lower)\n",
        "print(upper)\n"
      ]
    },
    {
      "cell_type": "code",
      "execution_count": null,
      "id": "005265ba",
      "metadata": {
        "id": "005265ba",
        "outputId": "a72310ea-e6c8-4380-f9e8-b45bab046038",
        "colab": {
          "base_uri": "https://localhost:8080/"
        }
      },
      "outputs": [
        {
          "output_type": "stream",
          "name": "stdout",
          "text": [
            "16785.154545325033\n",
            "445.20001220703125\n",
            "107680.03963616898\n",
            "11595038331.408901\n",
            "272.6000061035156\n",
            "29902.400390625\n"
          ]
        }
      ],
      "source": [
        "s = FlowCal.io.FCSData('04-blank-E2-2.fcs')\n",
        "s\n",
        "\n",
        "s_fl1 = s[:, ['FL1-H']]\n",
        "s_fl1\n",
        "\n",
        "s_fl1 = s_fl1.tolist()\n",
        "s_fl1[0][0]\n",
        "\n",
        "proper_s_fl1 = []\n",
        "for i in range(len(s_fl1)):\n",
        "    proper_s_fl1.append(s_fl1[i][0])\n",
        "\n",
        "proper_s_fl1[:100]\n",
        "type(proper_s_fl1[:100])\n",
        "\n",
        "import statistics\n",
        "from statistics import stdev\n",
        "from fractions import Fraction as fr\n",
        "\n",
        "print(np.mean(proper_s_fl1))\n",
        "print(statistics.median(proper_s_fl1))\n",
        "print(np.std(proper_s_fl1))\n",
        "print(statistics.variance(proper_s_fl1))\n",
        "\n",
        "ordered= sorted(proper_s_fl1)\n",
        "i= round(len(ordered)*0.05)\n",
        "lower = ordered[i]\n",
        "i= round(len(ordered)*0.95)\n",
        "upper= ordered[i]\n",
        "\n",
        "print(lower)\n",
        "print(upper)\n"
      ]
    },
    {
      "cell_type": "code",
      "execution_count": null,
      "id": "17e194e0",
      "metadata": {
        "id": "17e194e0",
        "outputId": "e45d4546-0728-487e-9375-544a4a0b0123",
        "colab": {
          "base_uri": "https://localhost:8080/"
        }
      },
      "outputs": [
        {
          "output_type": "stream",
          "name": "stdout",
          "text": [
            "329460.57731750427\n",
            "326952.59375\n",
            "216233.89936853832\n",
            "46757401142.19611\n",
            "538.9000244140625\n",
            "691851.8125\n"
          ]
        }
      ],
      "source": [
        "s = FlowCal.io.FCSData('02-blank-E2-3.fcs')\n",
        "s\n",
        "\n",
        "s_fl1 = s[:, ['FL1-H']]\n",
        "s_fl1\n",
        "\n",
        "s_fl1 = s_fl1.tolist()\n",
        "s_fl1[0][0]\n",
        "\n",
        "proper_s_fl1 = []\n",
        "for i in range(len(s_fl1)):\n",
        "    proper_s_fl1.append(s_fl1[i][0])\n",
        "\n",
        "proper_s_fl1[:100]\n",
        "type(proper_s_fl1[:100])\n",
        "\n",
        "import statistics\n",
        "from statistics import stdev\n",
        "from fractions import Fraction as fr\n",
        "\n",
        "print(np.mean(proper_s_fl1))\n",
        "print(statistics.median(proper_s_fl1))\n",
        "print(np.std(proper_s_fl1))\n",
        "print(statistics.variance(proper_s_fl1))\n",
        "\n",
        "ordered= sorted(proper_s_fl1)\n",
        "i= round(len(ordered)*0.05)\n",
        "lower = ordered[i]\n",
        "i= round(len(ordered)*0.95)\n",
        "upper= ordered[i]\n",
        "\n",
        "print(lower)\n",
        "print(upper)\n"
      ]
    },
    {
      "cell_type": "code",
      "execution_count": null,
      "id": "bb4b0197",
      "metadata": {
        "id": "bb4b0197",
        "outputId": "4dc9af71-1f3e-4862-8936-29aef652347e",
        "colab": {
          "base_uri": "https://localhost:8080/"
        }
      },
      "outputs": [
        {
          "output_type": "stream",
          "name": "stdout",
          "text": [
            "319250.74893436045\n",
            "300782.203125\n",
            "221912.99665663153\n",
            "49245506677.57407\n",
            "514.5\n",
            "703408.375\n"
          ]
        }
      ],
      "source": [
        "s = FlowCal.io.FCSData('04-blank-E2-3.fcs')\n",
        "s\n",
        "\n",
        "s_fl1 = s[:, ['FL1-H']]\n",
        "s_fl1\n",
        "\n",
        "s_fl1 = s_fl1.tolist()\n",
        "s_fl1[0][0]\n",
        "\n",
        "proper_s_fl1 = []\n",
        "for i in range(len(s_fl1)):\n",
        "    proper_s_fl1.append(s_fl1[i][0])\n",
        "\n",
        "proper_s_fl1[:100]\n",
        "type(proper_s_fl1[:100])\n",
        "\n",
        "import statistics\n",
        "from statistics import stdev\n",
        "from fractions import Fraction as fr\n",
        "\n",
        "print(np.mean(proper_s_fl1))\n",
        "print(statistics.median(proper_s_fl1))\n",
        "print(np.std(proper_s_fl1))\n",
        "print(statistics.variance(proper_s_fl1))\n",
        "\n",
        "ordered= sorted(proper_s_fl1)\n",
        "i= round(len(ordered)*0.05)\n",
        "lower = ordered[i]\n",
        "i= round(len(ordered)*0.95)\n",
        "upper= ordered[i]\n",
        "\n",
        "print(lower)\n",
        "print(upper)\n"
      ]
    },
    {
      "cell_type": "code",
      "execution_count": null,
      "id": "c083a517",
      "metadata": {
        "id": "c083a517",
        "outputId": "af4d2da9-d022-46a8-ff15-ed240e215c8d",
        "colab": {
          "base_uri": "https://localhost:8080/"
        }
      },
      "outputs": [
        {
          "output_type": "stream",
          "name": "stdout",
          "text": [
            "307115.48694985954\n",
            "297921.546875\n",
            "197183.2397049452\n",
            "38881431462.03217\n",
            "508.8999938964844\n",
            "638942.8125\n"
          ]
        }
      ],
      "source": [
        "s = FlowCal.io.FCSData('02-blank-E2-4.fcs')\n",
        "s\n",
        "\n",
        "s_fl1 = s[:, ['FL1-H']]\n",
        "s_fl1\n",
        "\n",
        "s_fl1 = s_fl1.tolist()\n",
        "s_fl1[0][0]\n",
        "\n",
        "proper_s_fl1 = []\n",
        "for i in range(len(s_fl1)):\n",
        "    proper_s_fl1.append(s_fl1[i][0])\n",
        "\n",
        "proper_s_fl1[:100]\n",
        "type(proper_s_fl1[:100])\n",
        "\n",
        "import statistics\n",
        "from statistics import stdev\n",
        "from fractions import Fraction as fr\n",
        "\n",
        "print(np.mean(proper_s_fl1))\n",
        "print(statistics.median(proper_s_fl1))\n",
        "print(np.std(proper_s_fl1))\n",
        "print(statistics.variance(proper_s_fl1))\n",
        "\n",
        "ordered= sorted(proper_s_fl1)\n",
        "i= round(len(ordered)*0.05)\n",
        "lower = ordered[i]\n",
        "i= round(len(ordered)*0.95)\n",
        "upper= ordered[i]\n",
        "\n",
        "print(lower)\n",
        "print(upper)\n"
      ]
    },
    {
      "cell_type": "code",
      "execution_count": null,
      "id": "2ba09657",
      "metadata": {
        "id": "2ba09657",
        "outputId": "c3e50b53-b615-4e3a-ddff-dd5f20eb0889",
        "colab": {
          "base_uri": "https://localhost:8080/"
        }
      },
      "outputs": [
        {
          "output_type": "stream",
          "name": "stdout",
          "text": [
            "229102.21869982473\n",
            "215050.6015625\n",
            "162053.85835274908\n",
            "26261580871.52589\n",
            "502.1000061035156\n",
            "502731.6875\n"
          ]
        }
      ],
      "source": [
        "s = FlowCal.io.FCSData('04-blank-E2-4.fcs')\n",
        "s\n",
        "\n",
        "s_fl1 = s[:, ['FL1-H']]\n",
        "s_fl1\n",
        "\n",
        "s_fl1 = s_fl1.tolist()\n",
        "s_fl1[0][0]\n",
        "\n",
        "proper_s_fl1 = []\n",
        "for i in range(len(s_fl1)):\n",
        "    proper_s_fl1.append(s_fl1[i][0])\n",
        "\n",
        "proper_s_fl1[:100]\n",
        "type(proper_s_fl1[:100])\n",
        "\n",
        "import statistics\n",
        "from statistics import stdev\n",
        "from fractions import Fraction as fr\n",
        "\n",
        "print(np.mean(proper_s_fl1))\n",
        "print(statistics.median(proper_s_fl1))\n",
        "print(np.std(proper_s_fl1))\n",
        "print(statistics.variance(proper_s_fl1))\n",
        "\n",
        "ordered= sorted(proper_s_fl1)\n",
        "i= round(len(ordered)*0.05)\n",
        "lower = ordered[i]\n",
        "i= round(len(ordered)*0.95)\n",
        "upper= ordered[i]\n",
        "\n",
        "print(lower)\n",
        "print(upper)\n"
      ]
    },
    {
      "cell_type": "code",
      "execution_count": null,
      "id": "a587c9c7",
      "metadata": {
        "id": "a587c9c7",
        "outputId": "d2d2e0fb-1ed9-4aa6-cc5b-53664f20d48f",
        "colab": {
          "base_uri": "https://localhost:8080/"
        }
      },
      "outputs": [
        {
          "output_type": "stream",
          "name": "stdout",
          "text": [
            "30596.1504327214\n",
            "6342.699951171875\n",
            "74213.30239709273\n",
            "5507657657.660323\n",
            "356.6000061035156\n",
            "102661.6015625\n"
          ]
        }
      ],
      "source": [
        "s = FlowCal.io.FCSData('02-blank-E3-1.fcs')\n",
        "s\n",
        "\n",
        "s_fl1 = s[:, ['FL1-H']]\n",
        "s_fl1\n",
        "\n",
        "s_fl1 = s_fl1.tolist()\n",
        "s_fl1[0][0]\n",
        "\n",
        "proper_s_fl1 = []\n",
        "for i in range(len(s_fl1)):\n",
        "    proper_s_fl1.append(s_fl1[i][0])\n",
        "\n",
        "proper_s_fl1[:100]\n",
        "type(proper_s_fl1[:100])\n",
        "\n",
        "import statistics\n",
        "from statistics import stdev\n",
        "from fractions import Fraction as fr\n",
        "\n",
        "print(np.mean(proper_s_fl1))\n",
        "print(statistics.median(proper_s_fl1))\n",
        "print(np.std(proper_s_fl1))\n",
        "print(statistics.variance(proper_s_fl1))\n",
        "\n",
        "ordered= sorted(proper_s_fl1)\n",
        "i= round(len(ordered)*0.05)\n",
        "lower = ordered[i]\n",
        "i= round(len(ordered)*0.95)\n",
        "upper= ordered[i]\n",
        "\n",
        "print(lower)\n",
        "print(upper)\n"
      ]
    },
    {
      "cell_type": "code",
      "execution_count": null,
      "id": "fbf8b645",
      "metadata": {
        "id": "fbf8b645",
        "outputId": "0fedd499-90a2-488f-b76b-1c07480b8fd1",
        "colab": {
          "base_uri": "https://localhost:8080/"
        }
      },
      "outputs": [
        {
          "output_type": "stream",
          "name": "stdout",
          "text": [
            "22560.936718368823\n",
            "4282.10009765625\n",
            "62959.13381297107\n",
            "3963865224.7600102\n",
            "352.79998779296875\n",
            "73168.1015625\n"
          ]
        }
      ],
      "source": [
        "s = FlowCal.io.FCSData('04-blank-E3-1.fcs')\n",
        "s\n",
        "\n",
        "s_fl1 = s[:, ['FL1-H']]\n",
        "s_fl1\n",
        "\n",
        "s_fl1 = s_fl1.tolist()\n",
        "s_fl1[0][0]\n",
        "\n",
        "proper_s_fl1 = []\n",
        "for i in range(len(s_fl1)):\n",
        "    proper_s_fl1.append(s_fl1[i][0])\n",
        "\n",
        "proper_s_fl1[:100]\n",
        "type(proper_s_fl1[:100])\n",
        "\n",
        "import statistics\n",
        "from statistics import stdev\n",
        "from fractions import Fraction as fr\n",
        "\n",
        "print(np.mean(proper_s_fl1))\n",
        "print(statistics.median(proper_s_fl1))\n",
        "print(np.std(proper_s_fl1))\n",
        "print(statistics.variance(proper_s_fl1))\n",
        "\n",
        "ordered= sorted(proper_s_fl1)\n",
        "i= round(len(ordered)*0.05)\n",
        "lower = ordered[i]\n",
        "i= round(len(ordered)*0.95)\n",
        "upper= ordered[i]\n",
        "\n",
        "print(lower)\n",
        "print(upper)\n"
      ]
    },
    {
      "cell_type": "code",
      "execution_count": null,
      "id": "65be4820",
      "metadata": {
        "id": "65be4820",
        "outputId": "19429f2b-ea35-412f-db26-9efbf1a85b52",
        "colab": {
          "base_uri": "https://localhost:8080/"
        }
      },
      "outputs": [
        {
          "output_type": "stream",
          "name": "stdout",
          "text": [
            "33564.739188409694\n",
            "7067.25\n",
            "81725.83686007115\n",
            "6679150469.617567\n",
            "357.70001220703125\n",
            "106927.1015625\n"
          ]
        }
      ],
      "source": [
        "s = FlowCal.io.FCSData('02-blank-E3-2.fcs')\n",
        "s\n",
        "\n",
        "s_fl1 = s[:, ['FL1-H']]\n",
        "s_fl1\n",
        "\n",
        "s_fl1 = s_fl1.tolist()\n",
        "s_fl1[0][0]\n",
        "\n",
        "proper_s_fl1 = []\n",
        "for i in range(len(s_fl1)):\n",
        "    proper_s_fl1.append(s_fl1[i][0])\n",
        "\n",
        "proper_s_fl1[:100]\n",
        "type(proper_s_fl1[:100])\n",
        "\n",
        "import statistics\n",
        "from statistics import stdev\n",
        "from fractions import Fraction as fr\n",
        "\n",
        "print(np.mean(proper_s_fl1))\n",
        "print(statistics.median(proper_s_fl1))\n",
        "print(np.std(proper_s_fl1))\n",
        "print(statistics.variance(proper_s_fl1))\n",
        "\n",
        "ordered= sorted(proper_s_fl1)\n",
        "i= round(len(ordered)*0.05)\n",
        "lower = ordered[i]\n",
        "i= round(len(ordered)*0.95)\n",
        "upper= ordered[i]\n",
        "\n",
        "print(lower)\n",
        "print(upper)\n"
      ]
    },
    {
      "cell_type": "code",
      "execution_count": null,
      "id": "f1442a74",
      "metadata": {
        "id": "f1442a74",
        "outputId": "fa325066-506d-4f2c-8976-88f499370672",
        "colab": {
          "base_uri": "https://localhost:8080/"
        }
      },
      "outputs": [
        {
          "output_type": "stream",
          "name": "stdout",
          "text": [
            "23049.33306400767\n",
            "3319.800048828125\n",
            "78667.00336563382\n",
            "6188518664.691795\n",
            "358.20001220703125\n",
            "69290.6015625\n"
          ]
        }
      ],
      "source": [
        "s = FlowCal.io.FCSData('04-blank-E3-2.fcs')\n",
        "s\n",
        "\n",
        "s_fl1 = s[:, ['FL1-H']]\n",
        "s_fl1\n",
        "\n",
        "s_fl1 = s_fl1.tolist()\n",
        "s_fl1[0][0]\n",
        "\n",
        "proper_s_fl1 = []\n",
        "for i in range(len(s_fl1)):\n",
        "    proper_s_fl1.append(s_fl1[i][0])\n",
        "\n",
        "proper_s_fl1[:100]\n",
        "type(proper_s_fl1[:100])\n",
        "\n",
        "import statistics\n",
        "from statistics import stdev\n",
        "from fractions import Fraction as fr\n",
        "\n",
        "print(np.mean(proper_s_fl1))\n",
        "print(statistics.median(proper_s_fl1))\n",
        "print(np.std(proper_s_fl1))\n",
        "print(statistics.variance(proper_s_fl1))\n",
        "\n",
        "ordered= sorted(proper_s_fl1)\n",
        "i= round(len(ordered)*0.05)\n",
        "lower = ordered[i]\n",
        "i= round(len(ordered)*0.95)\n",
        "upper= ordered[i]\n",
        "\n",
        "print(lower)\n",
        "print(upper)\n"
      ]
    },
    {
      "cell_type": "code",
      "execution_count": null,
      "id": "350a2f79",
      "metadata": {
        "id": "350a2f79",
        "outputId": "af657591-cb49-4219-ffcf-385d1b5c535b",
        "colab": {
          "base_uri": "https://localhost:8080/"
        }
      },
      "outputs": [
        {
          "output_type": "stream",
          "name": "stdout",
          "text": [
            "37744.24247450956\n",
            "5466.7998046875\n",
            "92248.60013545756\n",
            "8509862116.776213\n",
            "413.1000061035156\n",
            "190311.5\n"
          ]
        }
      ],
      "source": [
        "s = FlowCal.io.FCSData('02-blank-E3-3.fcs')\n",
        "s\n",
        "\n",
        "s_fl1 = s[:, ['FL1-H']]\n",
        "s_fl1\n",
        "\n",
        "s_fl1 = s_fl1.tolist()\n",
        "s_fl1[0][0]\n",
        "\n",
        "proper_s_fl1 = []\n",
        "for i in range(len(s_fl1)):\n",
        "    proper_s_fl1.append(s_fl1[i][0])\n",
        "\n",
        "proper_s_fl1[:100]\n",
        "type(proper_s_fl1[:100])\n",
        "\n",
        "import statistics\n",
        "from statistics import stdev\n",
        "from fractions import Fraction as fr\n",
        "\n",
        "print(np.mean(proper_s_fl1))\n",
        "print(statistics.median(proper_s_fl1))\n",
        "print(np.std(proper_s_fl1))\n",
        "print(statistics.variance(proper_s_fl1))\n",
        "\n",
        "ordered= sorted(proper_s_fl1)\n",
        "i= round(len(ordered)*0.05)\n",
        "lower = ordered[i]\n",
        "i= round(len(ordered)*0.95)\n",
        "upper= ordered[i]\n",
        "\n",
        "print(lower)\n",
        "print(upper)\n"
      ]
    },
    {
      "cell_type": "code",
      "execution_count": null,
      "id": "d22c3155",
      "metadata": {
        "id": "d22c3155",
        "outputId": "84139ea0-7493-47b1-e36e-568e370529b1",
        "colab": {
          "base_uri": "https://localhost:8080/"
        }
      },
      "outputs": [
        {
          "output_type": "stream",
          "name": "stdout",
          "text": [
            "27452.0668474975\n",
            "3396.89990234375\n",
            "85894.26867534788\n",
            "7377852314.98982\n",
            "413.3999938964844\n",
            "106630.0\n"
          ]
        }
      ],
      "source": [
        "s = FlowCal.io.FCSData('04-blank-E3-3.fcs')\n",
        "s\n",
        "\n",
        "s_fl1 = s[:, ['FL1-H']]\n",
        "s_fl1\n",
        "\n",
        "s_fl1 = s_fl1.tolist()\n",
        "s_fl1[0][0]\n",
        "\n",
        "proper_s_fl1 = []\n",
        "for i in range(len(s_fl1)):\n",
        "    proper_s_fl1.append(s_fl1[i][0])\n",
        "\n",
        "proper_s_fl1[:100]\n",
        "type(proper_s_fl1[:100])\n",
        "\n",
        "import statistics\n",
        "from statistics import stdev\n",
        "from fractions import Fraction as fr\n",
        "\n",
        "print(np.mean(proper_s_fl1))\n",
        "print(statistics.median(proper_s_fl1))\n",
        "print(np.std(proper_s_fl1))\n",
        "print(statistics.variance(proper_s_fl1))\n",
        "\n",
        "ordered= sorted(proper_s_fl1)\n",
        "i= round(len(ordered)*0.05)\n",
        "lower = ordered[i]\n",
        "i= round(len(ordered)*0.95)\n",
        "upper= ordered[i]\n",
        "\n",
        "print(lower)\n",
        "print(upper)\n"
      ]
    },
    {
      "cell_type": "code",
      "execution_count": null,
      "id": "454a2a7b",
      "metadata": {
        "id": "454a2a7b",
        "outputId": "c659f091-f8df-4526-c235-4fc551eb0526",
        "colab": {
          "base_uri": "https://localhost:8080/"
        }
      },
      "outputs": [
        {
          "output_type": "stream",
          "name": "stdout",
          "text": [
            "39291.79887315162\n",
            "6155.5\n",
            "92488.30752417976\n",
            "8554136297.989738\n",
            "392.29998779296875\n",
            "193741.40625\n"
          ]
        }
      ],
      "source": [
        "s = FlowCal.io.FCSData('02-blank-E3-4.fcs')\n",
        "s\n",
        "\n",
        "s_fl1 = s[:, ['FL1-H']]\n",
        "s_fl1\n",
        "\n",
        "s_fl1 = s_fl1.tolist()\n",
        "s_fl1[0][0]\n",
        "\n",
        "proper_s_fl1 = []\n",
        "for i in range(len(s_fl1)):\n",
        "    proper_s_fl1.append(s_fl1[i][0])\n",
        "\n",
        "proper_s_fl1[:100]\n",
        "type(proper_s_fl1[:100])\n",
        "\n",
        "import statistics\n",
        "from statistics import stdev\n",
        "from fractions import Fraction as fr\n",
        "\n",
        "print(np.mean(proper_s_fl1))\n",
        "print(statistics.median(proper_s_fl1))\n",
        "print(np.std(proper_s_fl1))\n",
        "print(statistics.variance(proper_s_fl1))\n",
        "\n",
        "ordered= sorted(proper_s_fl1)\n",
        "i= round(len(ordered)*0.05)\n",
        "lower = ordered[i]\n",
        "i= round(len(ordered)*0.95)\n",
        "upper= ordered[i]\n",
        "\n",
        "print(lower)\n",
        "print(upper)\n"
      ]
    },
    {
      "cell_type": "code",
      "execution_count": null,
      "id": "34592520",
      "metadata": {
        "id": "34592520",
        "outputId": "cd071f9e-2848-404d-84f6-e769fe8cb974",
        "colab": {
          "base_uri": "https://localhost:8080/"
        }
      },
      "outputs": [
        {
          "output_type": "stream",
          "name": "stdout",
          "text": [
            "30826.249650244616\n",
            "4757.050048828125\n",
            "78316.46292269025\n",
            "6133508819.486635\n",
            "390.1000061035156\n",
            "122153.796875\n"
          ]
        }
      ],
      "source": [
        "s = FlowCal.io.FCSData('04-blank-E3-4.fcs')\n",
        "s\n",
        "\n",
        "s_fl1 = s[:, ['FL1-H']]\n",
        "s_fl1\n",
        "\n",
        "s_fl1 = s_fl1.tolist()\n",
        "s_fl1[0][0]\n",
        "\n",
        "proper_s_fl1 = []\n",
        "for i in range(len(s_fl1)):\n",
        "    proper_s_fl1.append(s_fl1[i][0])\n",
        "\n",
        "proper_s_fl1[:100]\n",
        "type(proper_s_fl1[:100])\n",
        "\n",
        "import statistics\n",
        "from statistics import stdev\n",
        "from fractions import Fraction as fr\n",
        "\n",
        "print(np.mean(proper_s_fl1))\n",
        "print(statistics.median(proper_s_fl1))\n",
        "print(np.std(proper_s_fl1))\n",
        "print(statistics.variance(proper_s_fl1))\n",
        "\n",
        "ordered= sorted(proper_s_fl1)\n",
        "i= round(len(ordered)*0.05)\n",
        "lower = ordered[i]\n",
        "i= round(len(ordered)*0.95)\n",
        "upper= ordered[i]\n",
        "\n",
        "print(lower)\n",
        "print(upper)\n"
      ]
    },
    {
      "cell_type": "code",
      "execution_count": null,
      "id": "b4bb7aec",
      "metadata": {
        "id": "b4bb7aec",
        "outputId": "9ce4b30a-2183-4cff-a6e8-48336ac16dee",
        "colab": {
          "base_uri": "https://localhost:8080/"
        }
      },
      "outputs": [
        {
          "output_type": "stream",
          "name": "stdout",
          "text": [
            "1647.0269631308863\n",
            "437.3999938964844\n",
            "14245.053586782176\n",
            "202923613.3145458\n",
            "267.0\n",
            "782.5999755859375\n"
          ]
        }
      ],
      "source": [
        "s = FlowCal.io.FCSData('02-blank-E4-1.fcs')\n",
        "s\n",
        "\n",
        "s_fl1 = s[:, ['FL1-H']]\n",
        "s_fl1\n",
        "\n",
        "s_fl1 = s_fl1.tolist()\n",
        "s_fl1[0][0]\n",
        "\n",
        "proper_s_fl1 = []\n",
        "for i in range(len(s_fl1)):\n",
        "    proper_s_fl1.append(s_fl1[i][0])\n",
        "\n",
        "proper_s_fl1[:100]\n",
        "type(proper_s_fl1[:100])\n",
        "\n",
        "import statistics\n",
        "from statistics import stdev\n",
        "from fractions import Fraction as fr\n",
        "\n",
        "print(np.mean(proper_s_fl1))\n",
        "print(statistics.median(proper_s_fl1))\n",
        "print(np.std(proper_s_fl1))\n",
        "print(statistics.variance(proper_s_fl1))\n",
        "\n",
        "ordered= sorted(proper_s_fl1)\n",
        "i= round(len(ordered)*0.05)\n",
        "lower = ordered[i]\n",
        "i= round(len(ordered)*0.95)\n",
        "upper= ordered[i]\n",
        "\n",
        "print(lower)\n",
        "print(upper)\n"
      ]
    },
    {
      "cell_type": "code",
      "execution_count": null,
      "id": "cce49311",
      "metadata": {
        "id": "cce49311",
        "outputId": "271dd606-ab0b-4db0-88b5-b5a56761407d",
        "colab": {
          "base_uri": "https://localhost:8080/"
        }
      },
      "outputs": [
        {
          "output_type": "stream",
          "name": "stdout",
          "text": [
            "769.7798753773877\n",
            "441.0\n",
            "9048.460056791639\n",
            "81874928.07234377\n",
            "273.3999938964844\n",
            "675.9000244140625\n"
          ]
        }
      ],
      "source": [
        "s = FlowCal.io.FCSData('04-blank-E4-1.fcs')\n",
        "s\n",
        "\n",
        "s_fl1 = s[:, ['FL1-H']]\n",
        "s_fl1\n",
        "\n",
        "s_fl1 = s_fl1.tolist()\n",
        "s_fl1[0][0]\n",
        "\n",
        "proper_s_fl1 = []\n",
        "for i in range(len(s_fl1)):\n",
        "    proper_s_fl1.append(s_fl1[i][0])\n",
        "\n",
        "proper_s_fl1[:100]\n",
        "type(proper_s_fl1[:100])\n",
        "\n",
        "import statistics\n",
        "from statistics import stdev\n",
        "from fractions import Fraction as fr\n",
        "\n",
        "print(np.mean(proper_s_fl1))\n",
        "print(statistics.median(proper_s_fl1))\n",
        "print(np.std(proper_s_fl1))\n",
        "print(statistics.variance(proper_s_fl1))\n",
        "\n",
        "ordered= sorted(proper_s_fl1)\n",
        "i= round(len(ordered)*0.05)\n",
        "lower = ordered[i]\n",
        "i= round(len(ordered)*0.95)\n",
        "upper= ordered[i]\n",
        "\n",
        "print(lower)\n",
        "print(upper)\n"
      ]
    },
    {
      "cell_type": "code",
      "execution_count": null,
      "id": "a1988571",
      "metadata": {
        "id": "a1988571",
        "outputId": "a1876ca6-8d26-4bdb-c8bb-0dcaee289331",
        "colab": {
          "base_uri": "https://localhost:8080/"
        }
      },
      "outputs": [
        {
          "output_type": "stream",
          "name": "stdout",
          "text": [
            "1094.0609654769753\n",
            "449.5\n",
            "18091.187679511288\n",
            "327292038.49607575\n",
            "273.8999938964844\n",
            "712.0999755859375\n"
          ]
        }
      ],
      "source": [
        "s = FlowCal.io.FCSData('02-blank-E4-2.fcs')\n",
        "s\n",
        "\n",
        "s_fl1 = s[:, ['FL1-H']]\n",
        "s_fl1\n",
        "\n",
        "s_fl1 = s_fl1.tolist()\n",
        "s_fl1[0][0]\n",
        "\n",
        "proper_s_fl1 = []\n",
        "for i in range(len(s_fl1)):\n",
        "    proper_s_fl1.append(s_fl1[i][0])\n",
        "\n",
        "proper_s_fl1[:100]\n",
        "type(proper_s_fl1[:100])\n",
        "\n",
        "import statistics\n",
        "from statistics import stdev\n",
        "from fractions import Fraction as fr\n",
        "\n",
        "print(np.mean(proper_s_fl1))\n",
        "print(statistics.median(proper_s_fl1))\n",
        "print(np.std(proper_s_fl1))\n",
        "print(statistics.variance(proper_s_fl1))\n",
        "\n",
        "ordered= sorted(proper_s_fl1)\n",
        "i= round(len(ordered)*0.05)\n",
        "lower = ordered[i]\n",
        "i= round(len(ordered)*0.95)\n",
        "upper= ordered[i]\n",
        "\n",
        "print(lower)\n",
        "print(upper)\n"
      ]
    },
    {
      "cell_type": "code",
      "execution_count": null,
      "id": "5ecce7a9",
      "metadata": {
        "id": "5ecce7a9",
        "outputId": "f786d1fc-a8d5-48a4-e29e-cf7406dd47bb",
        "colab": {
          "base_uri": "https://localhost:8080/"
        }
      },
      "outputs": [
        {
          "output_type": "stream",
          "name": "stdout",
          "text": [
            "868.4343533180162\n",
            "441.20001220703125\n",
            "14756.2283327894\n",
            "217746845.32055622\n",
            "272.8999938964844\n",
            "676.7000122070312\n"
          ]
        }
      ],
      "source": [
        "s = FlowCal.io.FCSData('04-blank-E4-2.fcs')\n",
        "s\n",
        "\n",
        "s_fl1 = s[:, ['FL1-H']]\n",
        "s_fl1\n",
        "\n",
        "s_fl1 = s_fl1.tolist()\n",
        "s_fl1[0][0]\n",
        "\n",
        "proper_s_fl1 = []\n",
        "for i in range(len(s_fl1)):\n",
        "    proper_s_fl1.append(s_fl1[i][0])\n",
        "\n",
        "proper_s_fl1[:100]\n",
        "type(proper_s_fl1[:100])\n",
        "\n",
        "import statistics\n",
        "from statistics import stdev\n",
        "from fractions import Fraction as fr\n",
        "\n",
        "print(np.mean(proper_s_fl1))\n",
        "print(statistics.median(proper_s_fl1))\n",
        "print(np.std(proper_s_fl1))\n",
        "print(statistics.variance(proper_s_fl1))\n",
        "\n",
        "ordered= sorted(proper_s_fl1)\n",
        "i= round(len(ordered)*0.05)\n",
        "lower = ordered[i]\n",
        "i= round(len(ordered)*0.95)\n",
        "upper= ordered[i]\n",
        "\n",
        "print(lower)\n",
        "print(upper)\n"
      ]
    },
    {
      "cell_type": "code",
      "execution_count": null,
      "id": "88016cc4",
      "metadata": {
        "id": "88016cc4",
        "outputId": "e89b3960-d5f6-429c-a4d2-9ff26311a4f2",
        "colab": {
          "base_uri": "https://localhost:8080/"
        }
      },
      "outputs": [
        {
          "output_type": "stream",
          "name": "stdout",
          "text": [
            "340827.36946669803\n",
            "313772.0\n",
            "172907.46647637174\n",
            "29897151803.485283\n",
            "110272.796875\n",
            "660227.5\n"
          ]
        }
      ],
      "source": [
        "s = FlowCal.io.FCSData('02-blank-E4-3.fcs')\n",
        "s\n",
        "\n",
        "s_fl1 = s[:, ['FL1-H']]\n",
        "s_fl1\n",
        "\n",
        "s_fl1 = s_fl1.tolist()\n",
        "s_fl1[0][0]\n",
        "\n",
        "proper_s_fl1 = []\n",
        "for i in range(len(s_fl1)):\n",
        "    proper_s_fl1.append(s_fl1[i][0])\n",
        "\n",
        "proper_s_fl1[:100]\n",
        "type(proper_s_fl1[:100])\n",
        "\n",
        "import statistics\n",
        "from statistics import stdev\n",
        "from fractions import Fraction as fr\n",
        "\n",
        "print(np.mean(proper_s_fl1))\n",
        "print(statistics.median(proper_s_fl1))\n",
        "print(np.std(proper_s_fl1))\n",
        "print(statistics.variance(proper_s_fl1))\n",
        "\n",
        "ordered= sorted(proper_s_fl1)\n",
        "i= round(len(ordered)*0.05)\n",
        "lower = ordered[i]\n",
        "i= round(len(ordered)*0.95)\n",
        "upper= ordered[i]\n",
        "\n",
        "print(lower)\n",
        "print(upper)\n"
      ]
    },
    {
      "cell_type": "code",
      "execution_count": null,
      "id": "e790132e",
      "metadata": {
        "id": "e790132e",
        "outputId": "6e5a98d0-77bb-4606-af9d-136b26367422",
        "colab": {
          "base_uri": "https://localhost:8080/"
        }
      },
      "outputs": [
        {
          "output_type": "stream",
          "name": "stdout",
          "text": [
            "347590.01638099394\n",
            "313319.90625\n",
            "173582.07335783844\n",
            "30130825629.112118\n",
            "149906.40625\n",
            "670607.0\n"
          ]
        }
      ],
      "source": [
        "s = FlowCal.io.FCSData('04-blank-E4-3.fcs')\n",
        "s\n",
        "\n",
        "s_fl1 = s[:, ['FL1-H']]\n",
        "s_fl1\n",
        "\n",
        "s_fl1 = s_fl1.tolist()\n",
        "s_fl1[0][0]\n",
        "\n",
        "proper_s_fl1 = []\n",
        "for i in range(len(s_fl1)):\n",
        "    proper_s_fl1.append(s_fl1[i][0])\n",
        "\n",
        "proper_s_fl1[:100]\n",
        "type(proper_s_fl1[:100])\n",
        "\n",
        "import statistics\n",
        "from statistics import stdev\n",
        "from fractions import Fraction as fr\n",
        "\n",
        "print(np.mean(proper_s_fl1))\n",
        "print(statistics.median(proper_s_fl1))\n",
        "print(np.std(proper_s_fl1))\n",
        "print(statistics.variance(proper_s_fl1))\n",
        "\n",
        "ordered= sorted(proper_s_fl1)\n",
        "i= round(len(ordered)*0.05)\n",
        "lower = ordered[i]\n",
        "i= round(len(ordered)*0.95)\n",
        "upper= ordered[i]\n",
        "\n",
        "print(lower)\n",
        "print(upper)\n"
      ]
    },
    {
      "cell_type": "code",
      "execution_count": null,
      "id": "42742eb7",
      "metadata": {
        "id": "42742eb7",
        "outputId": "63046e4f-b6ee-41c7-9a12-ea842daa2cb1",
        "colab": {
          "base_uri": "https://localhost:8080/"
        }
      },
      "outputs": [
        {
          "output_type": "stream",
          "name": "stdout",
          "text": [
            "328181.9466760275\n",
            "307295.59375\n",
            "149215.64025953226\n",
            "22265416421.93329\n",
            "141843.703125\n",
            "593847.8125\n"
          ]
        }
      ],
      "source": [
        "s = FlowCal.io.FCSData('02-blank-E4-4.fcs')\n",
        "s\n",
        "\n",
        "s_fl1 = s[:, ['FL1-H']]\n",
        "s_fl1\n",
        "\n",
        "s_fl1 = s_fl1.tolist()\n",
        "s_fl1[0][0]\n",
        "\n",
        "proper_s_fl1 = []\n",
        "for i in range(len(s_fl1)):\n",
        "    proper_s_fl1.append(s_fl1[i][0])\n",
        "\n",
        "proper_s_fl1[:100]\n",
        "type(proper_s_fl1[:100])\n",
        "\n",
        "import statistics\n",
        "from statistics import stdev\n",
        "from fractions import Fraction as fr\n",
        "\n",
        "print(np.mean(proper_s_fl1))\n",
        "print(statistics.median(proper_s_fl1))\n",
        "print(np.std(proper_s_fl1))\n",
        "print(statistics.variance(proper_s_fl1))\n",
        "\n",
        "ordered= sorted(proper_s_fl1)\n",
        "i= round(len(ordered)*0.05)\n",
        "lower = ordered[i]\n",
        "i= round(len(ordered)*0.95)\n",
        "upper= ordered[i]\n",
        "\n",
        "print(lower)\n",
        "print(upper)\n"
      ]
    },
    {
      "cell_type": "code",
      "execution_count": null,
      "id": "9f359452",
      "metadata": {
        "id": "9f359452",
        "outputId": "d78444ba-3704-4d0c-db00-fcfc9a9a3d73",
        "colab": {
          "base_uri": "https://localhost:8080/"
        }
      },
      "outputs": [
        {
          "output_type": "stream",
          "name": "stdout",
          "text": [
            "312792.0203218506\n",
            "289415.84375\n",
            "140635.16057843366\n",
            "19778346161.22722\n",
            "137797.59375\n",
            "568677.125\n"
          ]
        }
      ],
      "source": [
        "s = FlowCal.io.FCSData('04-blank-E4-4.fcs')\n",
        "s\n",
        "\n",
        "s_fl1 = s[:, ['FL1-H']]\n",
        "s_fl1\n",
        "\n",
        "s_fl1 = s_fl1.tolist()\n",
        "s_fl1[0][0]\n",
        "\n",
        "proper_s_fl1 = []\n",
        "for i in range(len(s_fl1)):\n",
        "    proper_s_fl1.append(s_fl1[i][0])\n",
        "\n",
        "proper_s_fl1[:100]\n",
        "type(proper_s_fl1[:100])\n",
        "\n",
        "import statistics\n",
        "from statistics import stdev\n",
        "from fractions import Fraction as fr\n",
        "\n",
        "print(np.mean(proper_s_fl1))\n",
        "print(statistics.median(proper_s_fl1))\n",
        "print(np.std(proper_s_fl1))\n",
        "print(statistics.variance(proper_s_fl1))\n",
        "\n",
        "ordered= sorted(proper_s_fl1)\n",
        "i= round(len(ordered)*0.05)\n",
        "lower = ordered[i]\n",
        "i= round(len(ordered)*0.95)\n",
        "upper= ordered[i]\n",
        "\n",
        "print(lower)\n",
        "print(upper)\n"
      ]
    },
    {
      "cell_type": "code",
      "execution_count": null,
      "id": "d0c8723c",
      "metadata": {
        "id": "d0c8723c",
        "outputId": "8d6679a5-7798-485e-a5d0-118cbfef8da7",
        "colab": {
          "base_uri": "https://localhost:8080/"
        }
      },
      "outputs": [
        {
          "output_type": "stream",
          "name": "stdout",
          "text": [
            "52014.04282727028\n",
            "471.1000061035156\n",
            "199183.96934175477\n",
            "39675001691.337944\n",
            "281.3999938964844\n",
            "558840.0\n"
          ]
        }
      ],
      "source": [
        "s = FlowCal.io.FCSData('02-blank-E5-1.fcs')\n",
        "s\n",
        "\n",
        "s_fl1 = s[:, ['FL1-H']]\n",
        "s_fl1\n",
        "\n",
        "s_fl1 = s_fl1.tolist()\n",
        "s_fl1[0][0]\n",
        "\n",
        "proper_s_fl1 = []\n",
        "for i in range(len(s_fl1)):\n",
        "    proper_s_fl1.append(s_fl1[i][0])\n",
        "\n",
        "proper_s_fl1[:100]\n",
        "type(proper_s_fl1[:100])\n",
        "\n",
        "import statistics\n",
        "from statistics import stdev\n",
        "from fractions import Fraction as fr\n",
        "\n",
        "print(np.mean(proper_s_fl1))\n",
        "print(statistics.median(proper_s_fl1))\n",
        "print(np.std(proper_s_fl1))\n",
        "print(statistics.variance(proper_s_fl1))\n",
        "\n",
        "ordered= sorted(proper_s_fl1)\n",
        "i= round(len(ordered)*0.05)\n",
        "lower = ordered[i]\n",
        "i= round(len(ordered)*0.95)\n",
        "upper= ordered[i]\n",
        "\n",
        "print(lower)\n",
        "print(upper)\n"
      ]
    },
    {
      "cell_type": "code",
      "execution_count": null,
      "id": "c1c44c0f",
      "metadata": {
        "id": "c1c44c0f",
        "outputId": "41685959-a6bf-4792-ac8a-166cd0e9dd1c",
        "colab": {
          "base_uri": "https://localhost:8080/"
        }
      },
      "outputs": [
        {
          "output_type": "stream",
          "name": "stdout",
          "text": [
            "24734.640109164036\n",
            "460.1000061035156\n",
            "146642.52299078662\n",
            "21504156142.435505\n",
            "281.29998779296875\n",
            "14400.7998046875\n"
          ]
        }
      ],
      "source": [
        "s = FlowCal.io.FCSData('04-blank-E5-1.fcs')\n",
        "s\n",
        "\n",
        "s_fl1 = s[:, ['FL1-H']]\n",
        "s_fl1\n",
        "\n",
        "s_fl1 = s_fl1.tolist()\n",
        "s_fl1[0][0]\n",
        "\n",
        "proper_s_fl1 = []\n",
        "for i in range(len(s_fl1)):\n",
        "    proper_s_fl1.append(s_fl1[i][0])\n",
        "\n",
        "proper_s_fl1[:100]\n",
        "type(proper_s_fl1[:100])\n",
        "\n",
        "import statistics\n",
        "from statistics import stdev\n",
        "from fractions import Fraction as fr\n",
        "\n",
        "print(np.mean(proper_s_fl1))\n",
        "print(statistics.median(proper_s_fl1))\n",
        "print(np.std(proper_s_fl1))\n",
        "print(statistics.variance(proper_s_fl1))\n",
        "\n",
        "ordered= sorted(proper_s_fl1)\n",
        "i= round(len(ordered)*0.05)\n",
        "lower = ordered[i]\n",
        "i= round(len(ordered)*0.95)\n",
        "upper= ordered[i]\n",
        "\n",
        "print(lower)\n",
        "print(upper)\n"
      ]
    },
    {
      "cell_type": "code",
      "execution_count": null,
      "id": "15e2f66d",
      "metadata": {
        "id": "15e2f66d",
        "outputId": "9b3bf28f-47ea-4ed3-d0d8-35b393af0d4c",
        "colab": {
          "base_uri": "https://localhost:8080/"
        }
      },
      "outputs": [
        {
          "output_type": "stream",
          "name": "stdout",
          "text": [
            "89220.8178875327\n",
            "470.6000061035156\n",
            "228455.25149366597\n",
            "52192113734.50687\n",
            "269.8999938964844\n",
            "646524.3125\n"
          ]
        }
      ],
      "source": [
        "s = FlowCal.io.FCSData('02-blank-E5-2.fcs')\n",
        "s\n",
        "\n",
        "s_fl1 = s[:, ['FL1-H']]\n",
        "s_fl1\n",
        "\n",
        "s_fl1 = s_fl1.tolist()\n",
        "s_fl1[0][0]\n",
        "\n",
        "proper_s_fl1 = []\n",
        "for i in range(len(s_fl1)):\n",
        "    proper_s_fl1.append(s_fl1[i][0])\n",
        "\n",
        "proper_s_fl1[:100]\n",
        "type(proper_s_fl1[:100])\n",
        "\n",
        "import statistics\n",
        "from statistics import stdev\n",
        "from fractions import Fraction as fr\n",
        "\n",
        "print(np.mean(proper_s_fl1))\n",
        "print(statistics.median(proper_s_fl1))\n",
        "print(np.std(proper_s_fl1))\n",
        "print(statistics.variance(proper_s_fl1))\n",
        "\n",
        "ordered= sorted(proper_s_fl1)\n",
        "i= round(len(ordered)*0.05)\n",
        "lower = ordered[i]\n",
        "i= round(len(ordered)*0.95)\n",
        "upper= ordered[i]\n",
        "\n",
        "print(lower)\n",
        "print(upper)\n"
      ]
    },
    {
      "cell_type": "code",
      "execution_count": null,
      "id": "9b808fba",
      "metadata": {
        "id": "9b808fba",
        "outputId": "84f0a09c-e299-460d-f11f-759e1d436662",
        "colab": {
          "base_uri": "https://localhost:8080/"
        }
      },
      "outputs": [
        {
          "output_type": "stream",
          "name": "stdout",
          "text": [
            "39974.8798332975\n",
            "459.20001220703125\n",
            "178674.98017737948\n",
            "31924812005.151276\n",
            "272.6000061035156\n",
            "279443.5\n"
          ]
        }
      ],
      "source": [
        "s = FlowCal.io.FCSData('04-blank-E5-2.fcs')\n",
        "s\n",
        "\n",
        "s_fl1 = s[:, ['FL1-H']]\n",
        "s_fl1\n",
        "\n",
        "s_fl1 = s_fl1.tolist()\n",
        "s_fl1[0][0]\n",
        "\n",
        "proper_s_fl1 = []\n",
        "for i in range(len(s_fl1)):\n",
        "    proper_s_fl1.append(s_fl1[i][0])\n",
        "\n",
        "proper_s_fl1[:100]\n",
        "type(proper_s_fl1[:100])\n",
        "\n",
        "import statistics\n",
        "from statistics import stdev\n",
        "from fractions import Fraction as fr\n",
        "\n",
        "print(np.mean(proper_s_fl1))\n",
        "print(statistics.median(proper_s_fl1))\n",
        "print(np.std(proper_s_fl1))\n",
        "print(statistics.variance(proper_s_fl1))\n",
        "\n",
        "ordered= sorted(proper_s_fl1)\n",
        "i= round(len(ordered)*0.05)\n",
        "lower = ordered[i]\n",
        "i= round(len(ordered)*0.95)\n",
        "upper= ordered[i]\n",
        "\n",
        "print(lower)\n",
        "print(upper)\n"
      ]
    },
    {
      "cell_type": "code",
      "execution_count": null,
      "id": "710c263c",
      "metadata": {
        "id": "710c263c",
        "outputId": "0abd084b-613b-4b6e-b12f-b95011ddc6be",
        "colab": {
          "base_uri": "https://localhost:8080/"
        }
      },
      "outputs": [
        {
          "output_type": "stream",
          "name": "stdout",
          "text": [
            "364851.05434949725\n",
            "335301.5\n",
            "244239.5513258829\n",
            "59653284696.70939\n",
            "7838.60009765625\n",
            "820736.375\n"
          ]
        }
      ],
      "source": [
        "s = FlowCal.io.FCSData('02-blank-E5-3.fcs')\n",
        "s\n",
        "\n",
        "s_fl1 = s[:, ['FL1-H']]\n",
        "s_fl1\n",
        "\n",
        "s_fl1 = s_fl1.tolist()\n",
        "s_fl1[0][0]\n",
        "\n",
        "proper_s_fl1 = []\n",
        "for i in range(len(s_fl1)):\n",
        "    proper_s_fl1.append(s_fl1[i][0])\n",
        "\n",
        "proper_s_fl1[:100]\n",
        "type(proper_s_fl1[:100])\n",
        "\n",
        "import statistics\n",
        "from statistics import stdev\n",
        "from fractions import Fraction as fr\n",
        "\n",
        "print(np.mean(proper_s_fl1))\n",
        "print(statistics.median(proper_s_fl1))\n",
        "print(np.std(proper_s_fl1))\n",
        "print(statistics.variance(proper_s_fl1))\n",
        "\n",
        "ordered= sorted(proper_s_fl1)\n",
        "i= round(len(ordered)*0.05)\n",
        "lower = ordered[i]\n",
        "i= round(len(ordered)*0.95)\n",
        "upper= ordered[i]\n",
        "\n",
        "print(lower)\n",
        "print(upper)\n"
      ]
    },
    {
      "cell_type": "code",
      "execution_count": null,
      "id": "4200d510",
      "metadata": {
        "id": "4200d510",
        "outputId": "30de175e-ecae-4510-b0cf-df682bf97ecc",
        "colab": {
          "base_uri": "https://localhost:8080/"
        }
      },
      "outputs": [
        {
          "output_type": "stream",
          "name": "stdout",
          "text": [
            "337994.65003042074\n",
            "319979.65625\n",
            "248558.5654492115\n",
            "61781639995.393845\n",
            "5787.60009765625\n",
            "777232.3125\n"
          ]
        }
      ],
      "source": [
        "s = FlowCal.io.FCSData('04-blank-E5-3.fcs')\n",
        "s\n",
        "\n",
        "s_fl1 = s[:, ['FL1-H']]\n",
        "s_fl1\n",
        "\n",
        "s_fl1 = s_fl1.tolist()\n",
        "s_fl1[0][0]\n",
        "\n",
        "proper_s_fl1 = []\n",
        "for i in range(len(s_fl1)):\n",
        "    proper_s_fl1.append(s_fl1[i][0])\n",
        "\n",
        "proper_s_fl1[:100]\n",
        "type(proper_s_fl1[:100])\n",
        "\n",
        "import statistics\n",
        "from statistics import stdev\n",
        "from fractions import Fraction as fr\n",
        "\n",
        "print(np.mean(proper_s_fl1))\n",
        "print(statistics.median(proper_s_fl1))\n",
        "print(np.std(proper_s_fl1))\n",
        "print(statistics.variance(proper_s_fl1))\n",
        "\n",
        "ordered= sorted(proper_s_fl1)\n",
        "i= round(len(ordered)*0.05)\n",
        "lower = ordered[i]\n",
        "i= round(len(ordered)*0.95)\n",
        "upper= ordered[i]\n",
        "\n",
        "print(lower)\n",
        "print(upper)\n"
      ]
    },
    {
      "cell_type": "code",
      "execution_count": null,
      "id": "9cfc8310",
      "metadata": {
        "id": "9cfc8310",
        "outputId": "ffaa4a48-e21d-49dc-fbd3-9356a31410d5",
        "colab": {
          "base_uri": "https://localhost:8080/"
        }
      },
      "outputs": [
        {
          "output_type": "stream",
          "name": "stdout",
          "text": [
            "315189.3709434105\n",
            "300729.5\n",
            "209896.24495664763\n",
            "44056694715.87508\n",
            "10051.5\n",
            "673990.625\n"
          ]
        }
      ],
      "source": [
        "s = FlowCal.io.FCSData('02-blank-E5-4.fcs')\n",
        "s\n",
        "\n",
        "s_fl1 = s[:, ['FL1-H']]\n",
        "s_fl1\n",
        "\n",
        "s_fl1 = s_fl1.tolist()\n",
        "s_fl1[0][0]\n",
        "\n",
        "proper_s_fl1 = []\n",
        "for i in range(len(s_fl1)):\n",
        "    proper_s_fl1.append(s_fl1[i][0])\n",
        "\n",
        "proper_s_fl1[:100]\n",
        "type(proper_s_fl1[:100])\n",
        "\n",
        "import statistics\n",
        "from statistics import stdev\n",
        "from fractions import Fraction as fr\n",
        "\n",
        "print(np.mean(proper_s_fl1))\n",
        "print(statistics.median(proper_s_fl1))\n",
        "print(np.std(proper_s_fl1))\n",
        "print(statistics.variance(proper_s_fl1))\n",
        "\n",
        "ordered= sorted(proper_s_fl1)\n",
        "i= round(len(ordered)*0.05)\n",
        "lower = ordered[i]\n",
        "i= round(len(ordered)*0.95)\n",
        "upper= ordered[i]\n",
        "\n",
        "print(lower)\n",
        "print(upper)\n"
      ]
    },
    {
      "cell_type": "code",
      "execution_count": null,
      "id": "69f6439f",
      "metadata": {
        "id": "69f6439f",
        "outputId": "e8dca913-b58f-4b5f-8c79-df2bcff22c34",
        "colab": {
          "base_uri": "https://localhost:8080/"
        }
      },
      "outputs": [
        {
          "output_type": "stream",
          "name": "stdout",
          "text": [
            "299676.429315961\n",
            "285985.59375\n",
            "208112.9231196235\n",
            "43311185750.34145\n",
            "8805.599609375\n",
            "645819.875\n"
          ]
        }
      ],
      "source": [
        "s = FlowCal.io.FCSData('04-blank-E5-4.fcs')\n",
        "s\n",
        "\n",
        "s_fl1 = s[:, ['FL1-H']]\n",
        "s_fl1\n",
        "\n",
        "s_fl1 = s_fl1.tolist()\n",
        "s_fl1[0][0]\n",
        "\n",
        "proper_s_fl1 = []\n",
        "for i in range(len(s_fl1)):\n",
        "    proper_s_fl1.append(s_fl1[i][0])\n",
        "\n",
        "proper_s_fl1[:100]\n",
        "type(proper_s_fl1[:100])\n",
        "\n",
        "import statistics\n",
        "from statistics import stdev\n",
        "from fractions import Fraction as fr\n",
        "\n",
        "print(np.mean(proper_s_fl1))\n",
        "print(statistics.median(proper_s_fl1))\n",
        "print(np.std(proper_s_fl1))\n",
        "print(statistics.variance(proper_s_fl1))\n",
        "\n",
        "ordered= sorted(proper_s_fl1)\n",
        "i= round(len(ordered)*0.05)\n",
        "lower = ordered[i]\n",
        "i= round(len(ordered)*0.95)\n",
        "upper= ordered[i]\n",
        "\n",
        "print(lower)\n",
        "print(upper)\n"
      ]
    },
    {
      "cell_type": "code",
      "execution_count": null,
      "id": "ee2d9262",
      "metadata": {
        "id": "ee2d9262",
        "outputId": "85d39c04-3cbf-4f5a-d7c3-7ca3786bd6cb",
        "colab": {
          "base_uri": "https://localhost:8080/"
        }
      },
      "outputs": [
        {
          "output_type": "stream",
          "name": "stdout",
          "text": [
            "3312.8222571533174\n",
            "436.70001220703125\n",
            "38925.09394913943\n",
            "1515181739.3630068\n",
            "267.0\n",
            "676.5999755859375\n"
          ]
        }
      ],
      "source": [
        "s = FlowCal.io.FCSData('02-blank-E6-1.fcs')\n",
        "s\n",
        "\n",
        "s_fl1 = s[:, ['FL1-H']]\n",
        "s_fl1\n",
        "\n",
        "s_fl1 = s_fl1.tolist()\n",
        "s_fl1[0][0]\n",
        "\n",
        "proper_s_fl1 = []\n",
        "for i in range(len(s_fl1)):\n",
        "    proper_s_fl1.append(s_fl1[i][0])\n",
        "\n",
        "proper_s_fl1[:100]\n",
        "type(proper_s_fl1[:100])\n",
        "\n",
        "import statistics\n",
        "from statistics import stdev\n",
        "from fractions import Fraction as fr\n",
        "\n",
        "print(np.mean(proper_s_fl1))\n",
        "print(statistics.median(proper_s_fl1))\n",
        "print(np.std(proper_s_fl1))\n",
        "print(statistics.variance(proper_s_fl1))\n",
        "\n",
        "ordered= sorted(proper_s_fl1)\n",
        "i= round(len(ordered)*0.05)\n",
        "lower = ordered[i]\n",
        "i= round(len(ordered)*0.95)\n",
        "upper= ordered[i]\n",
        "\n",
        "print(lower)\n",
        "print(upper)\n"
      ]
    },
    {
      "cell_type": "code",
      "execution_count": null,
      "id": "c2d859f6",
      "metadata": {
        "id": "c2d859f6",
        "outputId": "1bf72563-9be9-4ab5-cf95-8650e1ee55da",
        "colab": {
          "base_uri": "https://localhost:8080/"
        }
      },
      "outputs": [
        {
          "output_type": "stream",
          "name": "stdout",
          "text": [
            "2461.85805074464\n",
            "442.3999938964844\n",
            "31888.437638936815\n",
            "1016880076.9845059\n",
            "276.29998779296875\n",
            "670.0999755859375\n"
          ]
        }
      ],
      "source": [
        "s = FlowCal.io.FCSData('04-blank-E6-1.fcs')\n",
        "s\n",
        "\n",
        "s_fl1 = s[:, ['FL1-H']]\n",
        "s_fl1\n",
        "\n",
        "s_fl1 = s_fl1.tolist()\n",
        "s_fl1[0][0]\n",
        "\n",
        "proper_s_fl1 = []\n",
        "for i in range(len(s_fl1)):\n",
        "    proper_s_fl1.append(s_fl1[i][0])\n",
        "\n",
        "proper_s_fl1[:100]\n",
        "type(proper_s_fl1[:100])\n",
        "\n",
        "import statistics\n",
        "from statistics import stdev\n",
        "from fractions import Fraction as fr\n",
        "\n",
        "print(np.mean(proper_s_fl1))\n",
        "print(statistics.median(proper_s_fl1))\n",
        "print(np.std(proper_s_fl1))\n",
        "print(statistics.variance(proper_s_fl1))\n",
        "\n",
        "ordered= sorted(proper_s_fl1)\n",
        "i= round(len(ordered)*0.05)\n",
        "lower = ordered[i]\n",
        "i= round(len(ordered)*0.95)\n",
        "upper= ordered[i]\n",
        "\n",
        "print(lower)\n",
        "print(upper)\n"
      ]
    },
    {
      "cell_type": "code",
      "execution_count": null,
      "id": "1a4de4a1",
      "metadata": {
        "id": "1a4de4a1",
        "outputId": "df1635ed-7981-42fc-bf07-c64b2692fb3a",
        "colab": {
          "base_uri": "https://localhost:8080/"
        }
      },
      "outputs": [
        {
          "output_type": "stream",
          "name": "stdout",
          "text": [
            "4949.18561267963\n",
            "444.70001220703125\n",
            "68245.14687200978\n",
            "4657424715.996906\n",
            "272.6000061035156\n",
            "688.7999877929688\n"
          ]
        }
      ],
      "source": [
        "s = FlowCal.io.FCSData('02-blank-E6-2.fcs')\n",
        "s\n",
        "\n",
        "s_fl1 = s[:, ['FL1-H']]\n",
        "s_fl1\n",
        "\n",
        "s_fl1 = s_fl1.tolist()\n",
        "s_fl1[0][0]\n",
        "\n",
        "proper_s_fl1 = []\n",
        "for i in range(len(s_fl1)):\n",
        "    proper_s_fl1.append(s_fl1[i][0])\n",
        "\n",
        "proper_s_fl1[:100]\n",
        "type(proper_s_fl1[:100])\n",
        "\n",
        "import statistics\n",
        "from statistics import stdev\n",
        "from fractions import Fraction as fr\n",
        "\n",
        "print(np.mean(proper_s_fl1))\n",
        "print(statistics.median(proper_s_fl1))\n",
        "print(np.std(proper_s_fl1))\n",
        "print(statistics.variance(proper_s_fl1))\n",
        "\n",
        "ordered= sorted(proper_s_fl1)\n",
        "i= round(len(ordered)*0.05)\n",
        "lower = ordered[i]\n",
        "i= round(len(ordered)*0.95)\n",
        "upper= ordered[i]\n",
        "\n",
        "print(lower)\n",
        "print(upper)\n"
      ]
    },
    {
      "cell_type": "code",
      "execution_count": null,
      "id": "cd7771f3",
      "metadata": {
        "id": "cd7771f3",
        "outputId": "d7ced540-9c47-4e3d-f3cd-24d3ea5c376a",
        "colab": {
          "base_uri": "https://localhost:8080/"
        }
      },
      "outputs": [
        {
          "output_type": "stream",
          "name": "stdout",
          "text": [
            "2717.958324989574\n",
            "447.3999938964844\n",
            "48374.59789656528\n",
            "2340107939.987358\n",
            "278.6000061035156\n",
            "679.4000244140625\n"
          ]
        }
      ],
      "source": [
        "s = FlowCal.io.FCSData('04-blank-E6-2.fcs')\n",
        "s\n",
        "\n",
        "s_fl1 = s[:, ['FL1-H']]\n",
        "s_fl1\n",
        "\n",
        "s_fl1 = s_fl1.tolist()\n",
        "s_fl1[0][0]\n",
        "\n",
        "proper_s_fl1 = []\n",
        "for i in range(len(s_fl1)):\n",
        "    proper_s_fl1.append(s_fl1[i][0])\n",
        "\n",
        "proper_s_fl1[:100]\n",
        "type(proper_s_fl1[:100])\n",
        "\n",
        "import statistics\n",
        "from statistics import stdev\n",
        "from fractions import Fraction as fr\n",
        "\n",
        "print(np.mean(proper_s_fl1))\n",
        "print(statistics.median(proper_s_fl1))\n",
        "print(np.std(proper_s_fl1))\n",
        "print(statistics.variance(proper_s_fl1))\n",
        "\n",
        "ordered= sorted(proper_s_fl1)\n",
        "i= round(len(ordered)*0.05)\n",
        "lower = ordered[i]\n",
        "i= round(len(ordered)*0.95)\n",
        "upper= ordered[i]\n",
        "\n",
        "print(lower)\n",
        "print(upper)\n"
      ]
    },
    {
      "cell_type": "code",
      "execution_count": null,
      "id": "241d92a1",
      "metadata": {
        "id": "241d92a1",
        "outputId": "f91dcafa-cf4f-4a13-a7b3-327069cc9fad",
        "colab": {
          "base_uri": "https://localhost:8080/"
        }
      },
      "outputs": [
        {
          "output_type": "stream",
          "name": "stdout",
          "text": [
            "275190.35117439466\n",
            "263824.8125\n",
            "172985.94500260588\n",
            "29924298578.522526\n",
            "553.0999755859375\n",
            "574960.1875\n"
          ]
        }
      ],
      "source": [
        "s = FlowCal.io.FCSData('02-blank-E6-3.fcs')\n",
        "s\n",
        "\n",
        "s_fl1 = s[:, ['FL1-H']]\n",
        "s_fl1\n",
        "\n",
        "s_fl1 = s_fl1.tolist()\n",
        "s_fl1[0][0]\n",
        "\n",
        "proper_s_fl1 = []\n",
        "for i in range(len(s_fl1)):\n",
        "    proper_s_fl1.append(s_fl1[i][0])\n",
        "\n",
        "proper_s_fl1[:100]\n",
        "type(proper_s_fl1[:100])\n",
        "\n",
        "import statistics\n",
        "from statistics import stdev\n",
        "from fractions import Fraction as fr\n",
        "\n",
        "print(np.mean(proper_s_fl1))\n",
        "print(statistics.median(proper_s_fl1))\n",
        "print(np.std(proper_s_fl1))\n",
        "print(statistics.variance(proper_s_fl1))\n",
        "\n",
        "ordered= sorted(proper_s_fl1)\n",
        "i= round(len(ordered)*0.05)\n",
        "lower = ordered[i]\n",
        "i= round(len(ordered)*0.95)\n",
        "upper= ordered[i]\n",
        "\n",
        "print(lower)\n",
        "print(upper)\n"
      ]
    },
    {
      "cell_type": "code",
      "execution_count": null,
      "id": "4b58425f",
      "metadata": {
        "id": "4b58425f",
        "outputId": "6f50e8b9-55dc-4414-c7c5-f2e7a071e2b9",
        "colab": {
          "base_uri": "https://localhost:8080/"
        }
      },
      "outputs": [
        {
          "output_type": "stream",
          "name": "stdout",
          "text": [
            "298960.9798706591\n",
            "302484.359375\n",
            "201454.5383313774\n",
            "40584128534.74241\n",
            "488.70001220703125\n",
            "626222.625\n"
          ]
        }
      ],
      "source": [
        "s = FlowCal.io.FCSData('04-blank-E6-3.fcs')\n",
        "s\n",
        "\n",
        "s_fl1 = s[:, ['FL1-H']]\n",
        "s_fl1\n",
        "\n",
        "s_fl1 = s_fl1.tolist()\n",
        "s_fl1[0][0]\n",
        "\n",
        "proper_s_fl1 = []\n",
        "for i in range(len(s_fl1)):\n",
        "    proper_s_fl1.append(s_fl1[i][0])\n",
        "\n",
        "proper_s_fl1[:100]\n",
        "type(proper_s_fl1[:100])\n",
        "\n",
        "import statistics\n",
        "from statistics import stdev\n",
        "from fractions import Fraction as fr\n",
        "\n",
        "print(np.mean(proper_s_fl1))\n",
        "print(statistics.median(proper_s_fl1))\n",
        "print(np.std(proper_s_fl1))\n",
        "print(statistics.variance(proper_s_fl1))\n",
        "\n",
        "ordered= sorted(proper_s_fl1)\n",
        "i= round(len(ordered)*0.05)\n",
        "lower = ordered[i]\n",
        "i= round(len(ordered)*0.95)\n",
        "upper= ordered[i]\n",
        "\n",
        "print(lower)\n",
        "print(upper)\n"
      ]
    },
    {
      "cell_type": "code",
      "execution_count": null,
      "id": "73d90c27",
      "metadata": {
        "id": "73d90c27",
        "outputId": "e1c5b2e8-627b-48e2-8347-b4791a1a9b65",
        "colab": {
          "base_uri": "https://localhost:8080/"
        }
      },
      "outputs": [
        {
          "output_type": "stream",
          "name": "stdout",
          "text": [
            "276138.22916542477\n",
            "281738.1875\n",
            "173032.82219042644\n",
            "29940552484.46285\n",
            "512.9000244140625\n",
            "547811.625\n"
          ]
        }
      ],
      "source": [
        "s = FlowCal.io.FCSData('02-blank-E6-4.fcs')\n",
        "s\n",
        "\n",
        "s_fl1 = s[:, ['FL1-H']]\n",
        "s_fl1\n",
        "\n",
        "s_fl1 = s_fl1.tolist()\n",
        "s_fl1[0][0]\n",
        "\n",
        "proper_s_fl1 = []\n",
        "for i in range(len(s_fl1)):\n",
        "    proper_s_fl1.append(s_fl1[i][0])\n",
        "\n",
        "proper_s_fl1[:100]\n",
        "type(proper_s_fl1[:100])\n",
        "\n",
        "import statistics\n",
        "from statistics import stdev\n",
        "from fractions import Fraction as fr\n",
        "\n",
        "print(np.mean(proper_s_fl1))\n",
        "print(statistics.median(proper_s_fl1))\n",
        "print(np.std(proper_s_fl1))\n",
        "print(statistics.variance(proper_s_fl1))\n",
        "\n",
        "ordered= sorted(proper_s_fl1)\n",
        "i= round(len(ordered)*0.05)\n",
        "lower = ordered[i]\n",
        "i= round(len(ordered)*0.95)\n",
        "upper= ordered[i]\n",
        "\n",
        "print(lower)\n",
        "print(upper)\n"
      ]
    },
    {
      "cell_type": "code",
      "execution_count": null,
      "id": "7a525cfa",
      "metadata": {
        "id": "7a525cfa",
        "outputId": "f35b463f-a9b6-421d-d806-0510624d1217",
        "colab": {
          "base_uri": "https://localhost:8080/"
        }
      },
      "outputs": [
        {
          "output_type": "stream",
          "name": "stdout",
          "text": [
            "244212.9751210512\n",
            "249628.8515625\n",
            "167605.24388624652\n",
            "28091653777.034256\n",
            "445.0\n",
            "509830.0\n"
          ]
        }
      ],
      "source": [
        "s = FlowCal.io.FCSData('04-blank-E6-4.fcs')\n",
        "s\n",
        "\n",
        "s_fl1 = s[:, ['FL1-H']]\n",
        "s_fl1\n",
        "\n",
        "s_fl1 = s_fl1.tolist()\n",
        "s_fl1[0][0]\n",
        "\n",
        "proper_s_fl1 = []\n",
        "for i in range(len(s_fl1)):\n",
        "    proper_s_fl1.append(s_fl1[i][0])\n",
        "\n",
        "proper_s_fl1[:100]\n",
        "type(proper_s_fl1[:100])\n",
        "\n",
        "import statistics\n",
        "from statistics import stdev\n",
        "from fractions import Fraction as fr\n",
        "\n",
        "print(np.mean(proper_s_fl1))\n",
        "print(statistics.median(proper_s_fl1))\n",
        "print(np.std(proper_s_fl1))\n",
        "print(statistics.variance(proper_s_fl1))\n",
        "\n",
        "ordered= sorted(proper_s_fl1)\n",
        "i= round(len(ordered)*0.05)\n",
        "lower = ordered[i]\n",
        "i= round(len(ordered)*0.95)\n",
        "upper= ordered[i]\n",
        "\n",
        "print(lower)\n",
        "print(upper)\n"
      ]
    },
    {
      "cell_type": "code",
      "execution_count": null,
      "id": "8727ae5f",
      "metadata": {
        "id": "8727ae5f",
        "outputId": "4234a73d-c3a4-49a0-a736-4dcfd2c01535",
        "colab": {
          "base_uri": "https://localhost:8080/"
        }
      },
      "outputs": [
        {
          "output_type": "stream",
          "name": "stdout",
          "text": [
            "31381.199651432595\n",
            "474.1000061035156\n",
            "128052.42995207894\n",
            "16397583397.543455\n",
            "273.6000061035156\n",
            "178594.90625\n"
          ]
        }
      ],
      "source": [
        "s = FlowCal.io.FCSData('02-blank-E7-1.fcs')\n",
        "s\n",
        "\n",
        "s_fl1 = s[:, ['FL1-H']]\n",
        "s_fl1\n",
        "\n",
        "s_fl1 = s_fl1.tolist()\n",
        "s_fl1[0][0]\n",
        "\n",
        "proper_s_fl1 = []\n",
        "for i in range(len(s_fl1)):\n",
        "    proper_s_fl1.append(s_fl1[i][0])\n",
        "\n",
        "proper_s_fl1[:100]\n",
        "type(proper_s_fl1[:100])\n",
        "\n",
        "import statistics\n",
        "from statistics import stdev\n",
        "from fractions import Fraction as fr\n",
        "\n",
        "print(np.mean(proper_s_fl1))\n",
        "print(statistics.median(proper_s_fl1))\n",
        "print(np.std(proper_s_fl1))\n",
        "print(statistics.variance(proper_s_fl1))\n",
        "\n",
        "ordered= sorted(proper_s_fl1)\n",
        "i= round(len(ordered)*0.05)\n",
        "lower = ordered[i]\n",
        "i= round(len(ordered)*0.95)\n",
        "upper= ordered[i]\n",
        "\n",
        "print(lower)\n",
        "print(upper)\n"
      ]
    },
    {
      "cell_type": "code",
      "execution_count": null,
      "id": "d79150b5",
      "metadata": {
        "id": "d79150b5",
        "outputId": "4b5d68b8-abb3-4145-cb55-bc8770a86701",
        "colab": {
          "base_uri": "https://localhost:8080/"
        }
      },
      "outputs": [
        {
          "output_type": "stream",
          "name": "stdout",
          "text": [
            "30445.191459251004\n",
            "490.29998779296875\n",
            "130365.46134812501\n",
            "16995236178.586834\n",
            "288.20001220703125\n",
            "129507.8984375\n"
          ]
        }
      ],
      "source": [
        "s = FlowCal.io.FCSData('04-blank-E7-1.fcs')\n",
        "s\n",
        "\n",
        "s_fl1 = s[:, ['FL1-H']]\n",
        "s_fl1\n",
        "\n",
        "s_fl1 = s_fl1.tolist()\n",
        "s_fl1[0][0]\n",
        "\n",
        "proper_s_fl1 = []\n",
        "for i in range(len(s_fl1)):\n",
        "    proper_s_fl1.append(s_fl1[i][0])\n",
        "\n",
        "proper_s_fl1[:100]\n",
        "type(proper_s_fl1[:100])\n",
        "\n",
        "import statistics\n",
        "from statistics import stdev\n",
        "from fractions import Fraction as fr\n",
        "\n",
        "print(np.mean(proper_s_fl1))\n",
        "print(statistics.median(proper_s_fl1))\n",
        "print(np.std(proper_s_fl1))\n",
        "print(statistics.variance(proper_s_fl1))\n",
        "\n",
        "ordered= sorted(proper_s_fl1)\n",
        "i= round(len(ordered)*0.05)\n",
        "lower = ordered[i]\n",
        "i= round(len(ordered)*0.95)\n",
        "upper= ordered[i]\n",
        "\n",
        "print(lower)\n",
        "print(upper)\n"
      ]
    },
    {
      "cell_type": "code",
      "execution_count": null,
      "id": "f99bdb8d",
      "metadata": {
        "id": "f99bdb8d",
        "outputId": "97e0521f-9ae2-452b-8cdf-b648b0ada797",
        "colab": {
          "base_uri": "https://localhost:8080/"
        }
      },
      "outputs": [
        {
          "output_type": "stream",
          "name": "stdout",
          "text": [
            "78396.8607714504\n",
            "511.0\n",
            "217380.14457561114\n",
            "47254398209.83178\n",
            "280.6000061035156\n",
            "573680.5\n"
          ]
        }
      ],
      "source": [
        "s = FlowCal.io.FCSData('02-blank-E7-2.fcs')\n",
        "s\n",
        "\n",
        "s_fl1 = s[:, ['FL1-H']]\n",
        "s_fl1\n",
        "\n",
        "s_fl1 = s_fl1.tolist()\n",
        "s_fl1[0][0]\n",
        "\n",
        "proper_s_fl1 = []\n",
        "for i in range(len(s_fl1)):\n",
        "    proper_s_fl1.append(s_fl1[i][0])\n",
        "\n",
        "proper_s_fl1[:100]\n",
        "type(proper_s_fl1[:100])\n",
        "\n",
        "import statistics\n",
        "from statistics import stdev\n",
        "from fractions import Fraction as fr\n",
        "\n",
        "print(np.mean(proper_s_fl1))\n",
        "print(statistics.median(proper_s_fl1))\n",
        "print(np.std(proper_s_fl1))\n",
        "print(statistics.variance(proper_s_fl1))\n",
        "\n",
        "ordered= sorted(proper_s_fl1)\n",
        "i= round(len(ordered)*0.05)\n",
        "lower = ordered[i]\n",
        "i= round(len(ordered)*0.95)\n",
        "upper= ordered[i]\n",
        "\n",
        "print(lower)\n",
        "print(upper)\n"
      ]
    },
    {
      "cell_type": "code",
      "execution_count": null,
      "id": "cad7fdcb",
      "metadata": {
        "id": "cad7fdcb",
        "outputId": "c6a6b1f3-872d-49a9-bdab-56476892e36a",
        "colab": {
          "base_uri": "https://localhost:8080/"
        }
      },
      "outputs": [
        {
          "output_type": "stream",
          "name": "stdout",
          "text": [
            "49853.31198212586\n",
            "490.5\n",
            "182651.34131365016\n",
            "33361668024.628986\n",
            "284.29998779296875\n",
            "388109.59375\n"
          ]
        }
      ],
      "source": [
        "s = FlowCal.io.FCSData('04-blank-E7-2.fcs')\n",
        "s\n",
        "\n",
        "s_fl1 = s[:, ['FL1-H']]\n",
        "s_fl1\n",
        "\n",
        "s_fl1 = s_fl1.tolist()\n",
        "s_fl1[0][0]\n",
        "\n",
        "proper_s_fl1 = []\n",
        "for i in range(len(s_fl1)):\n",
        "    proper_s_fl1.append(s_fl1[i][0])\n",
        "\n",
        "proper_s_fl1[:100]\n",
        "type(proper_s_fl1[:100])\n",
        "\n",
        "import statistics\n",
        "from statistics import stdev\n",
        "from fractions import Fraction as fr\n",
        "\n",
        "print(np.mean(proper_s_fl1))\n",
        "print(statistics.median(proper_s_fl1))\n",
        "print(np.std(proper_s_fl1))\n",
        "print(statistics.variance(proper_s_fl1))\n",
        "\n",
        "ordered= sorted(proper_s_fl1)\n",
        "i= round(len(ordered)*0.05)\n",
        "lower = ordered[i]\n",
        "i= round(len(ordered)*0.95)\n",
        "upper= ordered[i]\n",
        "\n",
        "print(lower)\n",
        "print(upper)\n"
      ]
    },
    {
      "cell_type": "code",
      "execution_count": null,
      "id": "74dee28a",
      "metadata": {
        "id": "74dee28a",
        "outputId": "95e19d5d-e79d-485f-c139-c50d840abeea",
        "colab": {
          "base_uri": "https://localhost:8080/"
        }
      },
      "outputs": [
        {
          "output_type": "stream",
          "name": "stdout",
          "text": [
            "197073.76217640168\n",
            "148636.8515625\n",
            "234903.61271864857\n",
            "55179976176.5388\n",
            "386.79998779296875\n",
            "648190.125\n"
          ]
        }
      ],
      "source": [
        "s = FlowCal.io.FCSData('02-blank-E7-3.fcs')\n",
        "s\n",
        "\n",
        "s_fl1 = s[:, ['FL1-H']]\n",
        "s_fl1\n",
        "\n",
        "s_fl1 = s_fl1.tolist()\n",
        "s_fl1[0][0]\n",
        "\n",
        "proper_s_fl1 = []\n",
        "for i in range(len(s_fl1)):\n",
        "    proper_s_fl1.append(s_fl1[i][0])\n",
        "\n",
        "proper_s_fl1[:100]\n",
        "type(proper_s_fl1[:100])\n",
        "\n",
        "import statistics\n",
        "from statistics import stdev\n",
        "from fractions import Fraction as fr\n",
        "\n",
        "print(np.mean(proper_s_fl1))\n",
        "print(statistics.median(proper_s_fl1))\n",
        "print(np.std(proper_s_fl1))\n",
        "print(statistics.variance(proper_s_fl1))\n",
        "\n",
        "ordered= sorted(proper_s_fl1)\n",
        "i= round(len(ordered)*0.05)\n",
        "lower = ordered[i]\n",
        "i= round(len(ordered)*0.95)\n",
        "upper= ordered[i]\n",
        "\n",
        "print(lower)\n",
        "print(upper)\n"
      ]
    },
    {
      "cell_type": "code",
      "execution_count": null,
      "id": "07dc3d31",
      "metadata": {
        "id": "07dc3d31",
        "outputId": "23ae5316-a62a-44d3-b7a2-e70dba15e99a",
        "colab": {
          "base_uri": "https://localhost:8080/"
        }
      },
      "outputs": [
        {
          "output_type": "stream",
          "name": "stdout",
          "text": [
            "176673.66502143187\n",
            "24507.5498046875\n",
            "247845.84251729716\n",
            "61427883710.212456\n",
            "364.0\n",
            "639737.6875\n"
          ]
        }
      ],
      "source": [
        "s = FlowCal.io.FCSData('04-blank-E7-3.fcs')\n",
        "s\n",
        "\n",
        "s_fl1 = s[:, ['FL1-H']]\n",
        "s_fl1\n",
        "\n",
        "s_fl1 = s_fl1.tolist()\n",
        "s_fl1[0][0]\n",
        "\n",
        "proper_s_fl1 = []\n",
        "for i in range(len(s_fl1)):\n",
        "    proper_s_fl1.append(s_fl1[i][0])\n",
        "\n",
        "proper_s_fl1[:100]\n",
        "type(proper_s_fl1[:100])\n",
        "\n",
        "import statistics\n",
        "from statistics import stdev\n",
        "from fractions import Fraction as fr\n",
        "\n",
        "print(np.mean(proper_s_fl1))\n",
        "print(statistics.median(proper_s_fl1))\n",
        "print(np.std(proper_s_fl1))\n",
        "print(statistics.variance(proper_s_fl1))\n",
        "\n",
        "ordered= sorted(proper_s_fl1)\n",
        "i= round(len(ordered)*0.05)\n",
        "lower = ordered[i]\n",
        "i= round(len(ordered)*0.95)\n",
        "upper= ordered[i]\n",
        "\n",
        "print(lower)\n",
        "print(upper)\n"
      ]
    },
    {
      "cell_type": "code",
      "execution_count": null,
      "id": "0a37684f",
      "metadata": {
        "id": "0a37684f",
        "outputId": "fa3e67b3-9258-4119-8e87-237c9c95ca35",
        "colab": {
          "base_uri": "https://localhost:8080/"
        }
      },
      "outputs": [
        {
          "output_type": "stream",
          "name": "stdout",
          "text": [
            "175159.3201889783\n",
            "65760.3984375\n",
            "218926.20681721697\n",
            "47928992044.45938\n",
            "333.6000061035156\n",
            "572233.8125\n"
          ]
        }
      ],
      "source": [
        "s = FlowCal.io.FCSData('02-blank-E7-4.fcs')\n",
        "s\n",
        "\n",
        "s_fl1 = s[:, ['FL1-H']]\n",
        "s_fl1\n",
        "\n",
        "s_fl1 = s_fl1.tolist()\n",
        "s_fl1[0][0]\n",
        "\n",
        "proper_s_fl1 = []\n",
        "for i in range(len(s_fl1)):\n",
        "    proper_s_fl1.append(s_fl1[i][0])\n",
        "\n",
        "proper_s_fl1[:100]\n",
        "type(proper_s_fl1[:100])\n",
        "\n",
        "import statistics\n",
        "from statistics import stdev\n",
        "from fractions import Fraction as fr\n",
        "\n",
        "print(np.mean(proper_s_fl1))\n",
        "print(statistics.median(proper_s_fl1))\n",
        "print(np.std(proper_s_fl1))\n",
        "print(statistics.variance(proper_s_fl1))\n",
        "\n",
        "ordered= sorted(proper_s_fl1)\n",
        "i= round(len(ordered)*0.05)\n",
        "lower = ordered[i]\n",
        "i= round(len(ordered)*0.95)\n",
        "upper= ordered[i]\n",
        "\n",
        "print(lower)\n",
        "print(upper)\n"
      ]
    },
    {
      "cell_type": "code",
      "execution_count": null,
      "id": "f432ee28",
      "metadata": {
        "id": "f432ee28",
        "outputId": "e332a384-323e-47c1-f0be-78c84ea4daa0",
        "colab": {
          "base_uri": "https://localhost:8080/"
        }
      },
      "outputs": [
        {
          "output_type": "stream",
          "name": "stdout",
          "text": [
            "151470.3540457428\n",
            "25550.25\n",
            "213572.78888974694\n",
            "45613567949.249435\n",
            "323.8999938964844\n",
            "549649.0\n"
          ]
        }
      ],
      "source": [
        "s = FlowCal.io.FCSData('04-blank-E7-4.fcs')\n",
        "s\n",
        "\n",
        "s_fl1 = s[:, ['FL1-H']]\n",
        "s_fl1\n",
        "\n",
        "s_fl1 = s_fl1.tolist()\n",
        "s_fl1[0][0]\n",
        "\n",
        "proper_s_fl1 = []\n",
        "for i in range(len(s_fl1)):\n",
        "    proper_s_fl1.append(s_fl1[i][0])\n",
        "\n",
        "proper_s_fl1[:100]\n",
        "type(proper_s_fl1[:100])\n",
        "\n",
        "import statistics\n",
        "from statistics import stdev\n",
        "from fractions import Fraction as fr\n",
        "\n",
        "print(np.mean(proper_s_fl1))\n",
        "print(statistics.median(proper_s_fl1))\n",
        "print(np.std(proper_s_fl1))\n",
        "print(statistics.variance(proper_s_fl1))\n",
        "\n",
        "ordered= sorted(proper_s_fl1)\n",
        "i= round(len(ordered)*0.05)\n",
        "lower = ordered[i]\n",
        "i= round(len(ordered)*0.95)\n",
        "upper= ordered[i]\n",
        "\n",
        "print(lower)\n",
        "print(upper)\n"
      ]
    },
    {
      "cell_type": "code",
      "execution_count": null,
      "id": "db51f14d",
      "metadata": {
        "id": "db51f14d",
        "outputId": "ab2016b4-0ee1-48fc-ca20-9c6b8b62dee0",
        "colab": {
          "base_uri": "https://localhost:8080/"
        }
      },
      "outputs": [
        {
          "output_type": "stream",
          "name": "stdout",
          "text": [
            "1238.0355638342694\n",
            "437.29998779296875\n",
            "20728.00048793731\n",
            "429654759.8868392\n",
            "269.70001220703125\n",
            "655.9000244140625\n"
          ]
        }
      ],
      "source": [
        "s = FlowCal.io.FCSData('02-blank-E8-1.fcs')\n",
        "s\n",
        "\n",
        "s_fl1 = s[:, ['FL1-H']]\n",
        "s_fl1\n",
        "\n",
        "s_fl1 = s_fl1.tolist()\n",
        "s_fl1[0][0]\n",
        "\n",
        "proper_s_fl1 = []\n",
        "for i in range(len(s_fl1)):\n",
        "    proper_s_fl1.append(s_fl1[i][0])\n",
        "\n",
        "proper_s_fl1[:100]\n",
        "type(proper_s_fl1[:100])\n",
        "\n",
        "import statistics\n",
        "from statistics import stdev\n",
        "from fractions import Fraction as fr\n",
        "\n",
        "print(np.mean(proper_s_fl1))\n",
        "print(statistics.median(proper_s_fl1))\n",
        "print(np.std(proper_s_fl1))\n",
        "print(statistics.variance(proper_s_fl1))\n",
        "\n",
        "ordered= sorted(proper_s_fl1)\n",
        "i= round(len(ordered)*0.05)\n",
        "lower = ordered[i]\n",
        "i= round(len(ordered)*0.95)\n",
        "upper= ordered[i]\n",
        "\n",
        "print(lower)\n",
        "print(upper)\n"
      ]
    },
    {
      "cell_type": "code",
      "execution_count": null,
      "id": "31abb410",
      "metadata": {
        "id": "31abb410",
        "outputId": "e5b58573-ccdb-43a7-a742-f1c5d59fc637",
        "colab": {
          "base_uri": "https://localhost:8080/"
        }
      },
      "outputs": [
        {
          "output_type": "stream",
          "name": "stdout",
          "text": [
            "770.4446971441196\n",
            "443.6000061035156\n",
            "18135.349312718754\n",
            "328893249.9882988\n",
            "278.70001220703125\n",
            "653.4000244140625\n"
          ]
        }
      ],
      "source": [
        "s = FlowCal.io.FCSData('04-blank-E8-1.fcs')\n",
        "s\n",
        "\n",
        "s_fl1 = s[:, ['FL1-H']]\n",
        "s_fl1\n",
        "\n",
        "s_fl1 = s_fl1.tolist()\n",
        "s_fl1[0][0]\n",
        "\n",
        "proper_s_fl1 = []\n",
        "for i in range(len(s_fl1)):\n",
        "    proper_s_fl1.append(s_fl1[i][0])\n",
        "\n",
        "proper_s_fl1[:100]\n",
        "type(proper_s_fl1[:100])\n",
        "\n",
        "import statistics\n",
        "from statistics import stdev\n",
        "from fractions import Fraction as fr\n",
        "\n",
        "print(np.mean(proper_s_fl1))\n",
        "print(statistics.median(proper_s_fl1))\n",
        "print(np.std(proper_s_fl1))\n",
        "print(statistics.variance(proper_s_fl1))\n",
        "\n",
        "ordered= sorted(proper_s_fl1)\n",
        "i= round(len(ordered)*0.05)\n",
        "lower = ordered[i]\n",
        "i= round(len(ordered)*0.95)\n",
        "upper= ordered[i]\n",
        "\n",
        "print(lower)\n",
        "print(upper)\n"
      ]
    },
    {
      "cell_type": "code",
      "execution_count": null,
      "id": "3e2f0556",
      "metadata": {
        "id": "3e2f0556",
        "outputId": "86c2c74d-e741-42e6-fd8b-86c073f2eae0",
        "colab": {
          "base_uri": "https://localhost:8080/"
        }
      },
      "outputs": [
        {
          "output_type": "stream",
          "name": "stdout",
          "text": [
            "2150.583927520372\n",
            "443.70001220703125\n",
            "31999.293665188474\n",
            "1023971053.2249393\n",
            "274.5\n",
            "669.0\n"
          ]
        }
      ],
      "source": [
        "s = FlowCal.io.FCSData('02-blank-E8-2.fcs')\n",
        "s\n",
        "\n",
        "s_fl1 = s[:, ['FL1-H']]\n",
        "s_fl1\n",
        "\n",
        "s_fl1 = s_fl1.tolist()\n",
        "s_fl1[0][0]\n",
        "\n",
        "proper_s_fl1 = []\n",
        "for i in range(len(s_fl1)):\n",
        "    proper_s_fl1.append(s_fl1[i][0])\n",
        "\n",
        "proper_s_fl1[:100]\n",
        "type(proper_s_fl1[:100])\n",
        "\n",
        "import statistics\n",
        "from statistics import stdev\n",
        "from fractions import Fraction as fr\n",
        "\n",
        "print(np.mean(proper_s_fl1))\n",
        "print(statistics.median(proper_s_fl1))\n",
        "print(np.std(proper_s_fl1))\n",
        "print(statistics.variance(proper_s_fl1))\n",
        "\n",
        "ordered= sorted(proper_s_fl1)\n",
        "i= round(len(ordered)*0.05)\n",
        "lower = ordered[i]\n",
        "i= round(len(ordered)*0.95)\n",
        "upper= ordered[i]\n",
        "\n",
        "print(lower)\n",
        "print(upper)\n"
      ]
    },
    {
      "cell_type": "code",
      "execution_count": null,
      "id": "a2eb81f2",
      "metadata": {
        "id": "a2eb81f2",
        "outputId": "8c6657c2-fc93-4e5c-8ef5-34f68c5d6182",
        "colab": {
          "base_uri": "https://localhost:8080/"
        }
      },
      "outputs": [
        {
          "output_type": "stream",
          "name": "stdout",
          "text": [
            "1026.982970368021\n",
            "446.0\n",
            "19291.300175380842\n",
            "372156082.76256067\n",
            "278.8999938964844\n",
            "659.5\n"
          ]
        }
      ],
      "source": [
        "s = FlowCal.io.FCSData('04-blank-E8-2.fcs')\n",
        "s\n",
        "\n",
        "s_fl1 = s[:, ['FL1-H']]\n",
        "s_fl1\n",
        "\n",
        "s_fl1 = s_fl1.tolist()\n",
        "s_fl1[0][0]\n",
        "\n",
        "proper_s_fl1 = []\n",
        "for i in range(len(s_fl1)):\n",
        "    proper_s_fl1.append(s_fl1[i][0])\n",
        "\n",
        "proper_s_fl1[:100]\n",
        "type(proper_s_fl1[:100])\n",
        "\n",
        "import statistics\n",
        "from statistics import stdev\n",
        "from fractions import Fraction as fr\n",
        "\n",
        "print(np.mean(proper_s_fl1))\n",
        "print(statistics.median(proper_s_fl1))\n",
        "print(np.std(proper_s_fl1))\n",
        "print(statistics.variance(proper_s_fl1))\n",
        "\n",
        "ordered= sorted(proper_s_fl1)\n",
        "i= round(len(ordered)*0.05)\n",
        "lower = ordered[i]\n",
        "i= round(len(ordered)*0.95)\n",
        "upper= ordered[i]\n",
        "\n",
        "print(lower)\n",
        "print(upper)\n"
      ]
    },
    {
      "cell_type": "code",
      "execution_count": null,
      "id": "0a3939f1",
      "metadata": {
        "id": "0a3939f1",
        "outputId": "1f8c3392-de43-48c5-dd58-40afd24f0630",
        "colab": {
          "base_uri": "https://localhost:8080/"
        }
      },
      "outputs": [
        {
          "output_type": "stream",
          "name": "stdout",
          "text": [
            "264252.0814171739\n",
            "238617.203125\n",
            "137193.90383270304\n",
            "18822234777.172\n",
            "104086.296875\n",
            "515601.40625\n"
          ]
        }
      ],
      "source": [
        "s = Fl.owCal.io.FCSData('02-blank-E8-3.fcs')\n",
        "s\n",
        "\n",
        "s_fl1 = s[:, ['FL1-H']]\n",
        "s_fl1\n",
        "\n",
        "s_fl1 = s_fl1.tolist()\n",
        "s_fl1[0][0]\n",
        "\n",
        "proper_s_fl1 = []\n",
        "for i in range(len(s_fl1)):\n",
        "    proper_s_fl1.append(s_fl1[i][0])\n",
        "\n",
        "proper_s_fl1[:100]\n",
        "type(proper_s_fl1[:100])\n",
        "\n",
        "import statistics\n",
        "from statistics import stdev\n",
        "from fractions import Fraction as fr\n",
        "\n",
        "print(np.mean(proper_s_fl1))\n",
        "print(statistics.median(proper_s_fl1))\n",
        "print(np.std(proper_s_fl1))\n",
        "print(statistics.variance(proper_s_fl1))\n",
        "\n",
        "ordered= sorted(proper_s_fl1)\n",
        "i= round(len(ordered)*0.05)\n",
        "lower = ordered[i]\n",
        "i= round(len(ordered)*0.95)\n",
        "upper= ordered[i]\n",
        "\n",
        "print(lower)\n",
        "print(upper)\n"
      ]
    },
    {
      "cell_type": "code",
      "execution_count": null,
      "id": "ea803846",
      "metadata": {
        "id": "ea803846",
        "outputId": "0b2d118a-3ea3-47b8-c9b2-7554572570ec",
        "colab": {
          "base_uri": "https://localhost:8080/"
        }
      },
      "outputs": [
        {
          "output_type": "stream",
          "name": "stdout",
          "text": [
            "383894.50272777467\n",
            "361019.59375\n",
            "161257.67715013406\n",
            "26004172363.935978\n",
            "183704.796875\n",
            "677013.1875\n"
          ]
        }
      ],
      "source": [
        "s = FlowCal.io.FCSData('04-blank-E8-3.fcs')\n",
        "s\n",
        "\n",
        "s_fl1 = s[:, ['FL1-H']]\n",
        "s_fl1\n",
        "\n",
        "s_fl1 = s_fl1.tolist()\n",
        "s_fl1[0][0]\n",
        "\n",
        "proper_s_fl1 = []\n",
        "for i in range(len(s_fl1)):\n",
        "    proper_s_fl1.append(s_fl1[i][0])\n",
        "\n",
        "proper_s_fl1[:100]\n",
        "type(proper_s_fl1[:100])\n",
        "\n",
        "import statistics\n",
        "from statistics import stdev\n",
        "from fractions import Fraction as fr\n",
        "\n",
        "print(np.mean(proper_s_fl1))\n",
        "print(statistics.median(proper_s_fl1))\n",
        "print(np.std(proper_s_fl1))\n",
        "print(statistics.variance(proper_s_fl1))\n",
        "\n",
        "ordered= sorted(proper_s_fl1)\n",
        "i= round(len(ordered)*0.05)\n",
        "lower = ordered[i]\n",
        "i= round(len(ordered)*0.95)\n",
        "upper= ordered[i]\n",
        "\n",
        "print(lower)\n",
        "print(upper)\n"
      ]
    },
    {
      "cell_type": "code",
      "execution_count": null,
      "id": "8b47bace",
      "metadata": {
        "id": "8b47bace",
        "outputId": "8003ee7a-7056-4b0c-8503-0f0d226fbea9",
        "colab": {
          "base_uri": "https://localhost:8080/"
        }
      },
      "outputs": [
        {
          "output_type": "stream",
          "name": "stdout",
          "text": [
            "318537.68157254346\n",
            "296809.75\n",
            "130044.70847788118\n",
            "16911719482.374125\n",
            "162863.59375\n",
            "553005.3125\n"
          ]
        }
      ],
      "source": [
        "s = FlowCal.io.FCSData('02-blank-E8-4.fcs')\n",
        "s\n",
        "\n",
        "s_fl1 = s[:, ['FL1-H']]\n",
        "s_fl1\n",
        "\n",
        "s_fl1 = s_fl1.tolist()\n",
        "s_fl1[0][0]\n",
        "\n",
        "proper_s_fl1 = []\n",
        "for i in range(len(s_fl1)):\n",
        "    proper_s_fl1.append(s_fl1[i][0])\n",
        "\n",
        "proper_s_fl1[:100]\n",
        "type(proper_s_fl1[:100])\n",
        "\n",
        "import statistics\n",
        "from statistics import stdev\n",
        "from fractions import Fraction as fr\n",
        "\n",
        "print(np.mean(proper_s_fl1))\n",
        "print(statistics.median(proper_s_fl1))\n",
        "print(np.std(proper_s_fl1))\n",
        "print(statistics.variance(proper_s_fl1))\n",
        "\n",
        "ordered= sorted(proper_s_fl1)\n",
        "i= round(len(ordered)*0.05)\n",
        "lower = ordered[i]\n",
        "i= round(len(ordered)*0.95)\n",
        "upper= ordered[i]\n",
        "\n",
        "print(lower)\n",
        "print(upper)\n"
      ]
    },
    {
      "cell_type": "code",
      "execution_count": null,
      "id": "a5b0d1ba",
      "metadata": {
        "id": "a5b0d1ba",
        "outputId": "322e0663-6dd2-4e8e-dec9-7e85dbe93f74",
        "colab": {
          "base_uri": "https://localhost:8080/"
        }
      },
      "outputs": [
        {
          "output_type": "stream",
          "name": "stdout",
          "text": [
            "304226.3111231659\n",
            "282364.09375\n",
            "127788.67381247776\n",
            "16330030363.65343\n",
            "146725.703125\n",
            "537473.6875\n"
          ]
        }
      ],
      "source": [
        "s = FlowCal.io.FCSData('04-blank-E8-4.fcs')\n",
        "s\n",
        "\n",
        "s_fl1 = s[:, ['FL1-H']]\n",
        "s_fl1\n",
        "\n",
        "s_fl1 = s_fl1.tolist()\n",
        "s_fl1[0][0]\n",
        "\n",
        "proper_s_fl1 = []\n",
        "for i in range(len(s_fl1)):\n",
        "    proper_s_fl1.append(s_fl1[i][0])\n",
        "\n",
        "proper_s_fl1[:100]\n",
        "type(proper_s_fl1[:100])\n",
        "\n",
        "import statistics\n",
        "from statistics import stdev\n",
        "from fractions import Fraction as fr\n",
        "\n",
        "print(np.mean(proper_s_fl1))\n",
        "print(statistics.median(proper_s_fl1))\n",
        "print(np.std(proper_s_fl1))\n",
        "print(statistics.variance(proper_s_fl1))\n",
        "\n",
        "ordered= sorted(proper_s_fl1)\n",
        "i= round(len(ordered)*0.05)\n",
        "lower = ordered[i]\n",
        "i= round(len(ordered)*0.95)\n",
        "upper= ordered[i]\n",
        "\n",
        "print(lower)\n",
        "print(upper)\n"
      ]
    },
    {
      "cell_type": "code",
      "execution_count": null,
      "id": "4045c74c",
      "metadata": {
        "id": "4045c74c",
        "outputId": "f7fdcb56-d235-46c5-9a9c-e05fc8715656",
        "colab": {
          "base_uri": "https://localhost:8080/"
        }
      },
      "outputs": [
        {
          "output_type": "stream",
          "name": "stdout",
          "text": [
            "5318.968918109895\n",
            "441.0\n",
            "58540.2890798864\n",
            "3427001615.9661403\n",
            "267.3999938964844\n",
            "7051.2998046875\n"
          ]
        }
      ],
      "source": [
        "s = FlowCal.io.FCSData('02-blank-E9-1.fcs')\n",
        "s\n",
        "\n",
        "s_fl1 = s[:, ['FL1-H']]\n",
        "s_fl1\n",
        "\n",
        "s_fl1 = s_fl1.tolist()\n",
        "s_fl1[0][0]\n",
        "\n",
        "proper_s_fl1 = []\n",
        "for i in range(len(s_fl1)):\n",
        "    proper_s_fl1.append(s_fl1[i][0])\n",
        "\n",
        "proper_s_fl1[:100]\n",
        "type(proper_s_fl1[:100])\n",
        "\n",
        "import statistics\n",
        "from statistics import stdev\n",
        "from fractions import Fraction as fr\n",
        "\n",
        "print(np.mean(proper_s_fl1))\n",
        "print(statistics.median(proper_s_fl1))\n",
        "print(np.std(proper_s_fl1))\n",
        "print(statistics.variance(proper_s_fl1))\n",
        "\n",
        "ordered= sorted(proper_s_fl1)\n",
        "i= round(len(ordered)*0.05)\n",
        "lower = ordered[i]\n",
        "i= round(len(ordered)*0.95)\n",
        "upper= ordered[i]\n",
        "\n",
        "print(lower)\n",
        "print(upper)\n"
      ]
    },
    {
      "cell_type": "code",
      "execution_count": null,
      "id": "d4a1298e",
      "metadata": {
        "id": "d4a1298e",
        "outputId": "e568c80a-d05f-4d4f-8f5e-18277e6077cb",
        "colab": {
          "base_uri": "https://localhost:8080/"
        }
      },
      "outputs": [
        {
          "output_type": "stream",
          "name": "stdout",
          "text": [
            "3972.714004500596\n",
            "454.1000061035156\n",
            "48905.81493951563\n",
            "2391795474.9052534\n",
            "281.20001220703125\n",
            "6589.2001953125\n"
          ]
        }
      ],
      "source": [
        "s = FlowCal.io.FCSData('04-blank-E9-1.fcs')\n",
        "s\n",
        "\n",
        "s_fl1 = s[:, ['FL1-H']]\n",
        "s_fl1\n",
        "\n",
        "s_fl1 = s_fl1.tolist()\n",
        "s_fl1[0][0]\n",
        "\n",
        "proper_s_fl1 = []\n",
        "for i in range(len(s_fl1)):\n",
        "    proper_s_fl1.append(s_fl1[i][0])\n",
        "\n",
        "proper_s_fl1[:100]\n",
        "type(proper_s_fl1[:100])\n",
        "\n",
        "import statistics\n",
        "from statistics import stdev\n",
        "from fractions import Fraction as fr\n",
        "\n",
        "print(np.mean(proper_s_fl1))\n",
        "print(statistics.median(proper_s_fl1))\n",
        "print(np.std(proper_s_fl1))\n",
        "print(statistics.variance(proper_s_fl1))\n",
        "\n",
        "ordered= sorted(proper_s_fl1)\n",
        "i= round(len(ordered)*0.05)\n",
        "lower = ordered[i]\n",
        "i= round(len(ordered)*0.95)\n",
        "upper= ordered[i]\n",
        "\n",
        "print(lower)\n",
        "print(upper)\n"
      ]
    },
    {
      "cell_type": "code",
      "execution_count": null,
      "id": "d1c69006",
      "metadata": {
        "id": "d1c69006",
        "outputId": "0cc2a769-1101-4206-e6ce-630e8dcf5bf9",
        "colab": {
          "base_uri": "https://localhost:8080/"
        }
      },
      "outputs": [
        {
          "output_type": "stream",
          "name": "stdout",
          "text": [
            "6959.139681092831\n",
            "455.0\n",
            "64670.684856766864\n",
            "4182363956.263127\n",
            "279.20001220703125\n",
            "10421.900390625\n"
          ]
        }
      ],
      "source": [
        "s = FlowCal.io.FCSData('02-blank-E9-2.fcs')\n",
        "s\n",
        "\n",
        "s_fl1 = s[:, ['FL1-H']]\n",
        "s_fl1\n",
        "\n",
        "s_fl1 = s_fl1.tolist()\n",
        "s_fl1[0][0]\n",
        "\n",
        "proper_s_fl1 = []\n",
        "for i in range(len(s_fl1)):\n",
        "    proper_s_fl1.append(s_fl1[i][0])\n",
        "\n",
        "proper_s_fl1[:100]\n",
        "type(proper_s_fl1[:100])\n",
        "\n",
        "import statistics\n",
        "from statistics import stdev\n",
        "from fractions import Fraction as fr\n",
        "\n",
        "print(np.mean(proper_s_fl1))\n",
        "print(statistics.median(proper_s_fl1))\n",
        "print(np.std(proper_s_fl1))\n",
        "print(statistics.variance(proper_s_fl1))\n",
        "\n",
        "ordered= sorted(proper_s_fl1)\n",
        "i= round(len(ordered)*0.05)\n",
        "lower = ordered[i]\n",
        "i= round(len(ordered)*0.95)\n",
        "upper= ordered[i]\n",
        "\n",
        "print(lower)\n",
        "print(upper)\n"
      ]
    },
    {
      "cell_type": "code",
      "execution_count": null,
      "id": "599e6687",
      "metadata": {
        "id": "599e6687",
        "outputId": "258f400d-be8e-4ac3-f82b-61d9bb7416a4",
        "colab": {
          "base_uri": "https://localhost:8080/"
        }
      },
      "outputs": [
        {
          "output_type": "stream",
          "name": "stdout",
          "text": [
            "7580.104353857625\n",
            "457.79998779296875\n",
            "75032.77160496275\n",
            "5629944752.260665\n",
            "283.29998779296875\n",
            "9004.7998046875\n"
          ]
        }
      ],
      "source": [
        "s = FlowCal.io.FCSData('04-blank-E9-2.fcs')\n",
        "s\n",
        "\n",
        "s_fl1 = s[:, ['FL1-H']]\n",
        "s_fl1\n",
        "\n",
        "s_fl1 = s_fl1.tolist()\n",
        "s_fl1[0][0]\n",
        "\n",
        "proper_s_fl1 = []\n",
        "for i in range(len(s_fl1)):\n",
        "    proper_s_fl1.append(s_fl1[i][0])\n",
        "\n",
        "proper_s_fl1[:100]\n",
        "type(proper_s_fl1[:100])\n",
        "\n",
        "import statistics\n",
        "from statistics import stdev\n",
        "from fractions import Fraction as fr\n",
        "\n",
        "print(np.mean(proper_s_fl1))\n",
        "print(statistics.median(proper_s_fl1))\n",
        "print(np.std(proper_s_fl1))\n",
        "print(statistics.variance(proper_s_fl1))\n",
        "\n",
        "ordered= sorted(proper_s_fl1)\n",
        "i= round(len(ordered)*0.05)\n",
        "lower = ordered[i]\n",
        "i= round(len(ordered)*0.95)\n",
        "upper= ordered[i]\n",
        "\n",
        "print(lower)\n",
        "print(upper)\n"
      ]
    },
    {
      "cell_type": "code",
      "execution_count": null,
      "id": "a1d4c2d7",
      "metadata": {
        "id": "a1d4c2d7",
        "outputId": "ffbe07f8-9d48-4ea9-9a61-298ba0576f7f",
        "colab": {
          "base_uri": "https://localhost:8080/"
        }
      },
      "outputs": [
        {
          "output_type": "stream",
          "name": "stdout",
          "text": [
            "230753.98789472782\n",
            "211324.203125\n",
            "172965.17347041282\n",
            "29917040720.16054\n",
            "545.7999877929688\n",
            "533268.875\n"
          ]
        }
      ],
      "source": [
        "s = FlowCal.io.FCSData('02-blank-E9-3.fcs')\n",
        "s\n",
        "\n",
        "s_fl1 = s[:, ['FL1-H']]\n",
        "s_fl1\n",
        "\n",
        "s_fl1 = s_fl1.tolist()\n",
        "s_fl1[0][0]\n",
        "\n",
        "proper_s_fl1 = []\n",
        "for i in range(len(s_fl1)):\n",
        "    proper_s_fl1.append(s_fl1[i][0])\n",
        "\n",
        "proper_s_fl1[:100]\n",
        "type(proper_s_fl1[:100])\n",
        "\n",
        "import statistics\n",
        "from statistics import stdev\n",
        "from fractions import Fraction as fr\n",
        "\n",
        "print(np.mean(proper_s_fl1))\n",
        "print(statistics.median(proper_s_fl1))\n",
        "print(np.std(proper_s_fl1))\n",
        "print(statistics.variance(proper_s_fl1))\n",
        "\n",
        "ordered= sorted(proper_s_fl1)\n",
        "i= round(len(ordered)*0.05)\n",
        "lower = ordered[i]\n",
        "i= round(len(ordered)*0.95)\n",
        "upper= ordered[i]\n",
        "\n",
        "print(lower)\n",
        "print(upper)\n"
      ]
    },
    {
      "cell_type": "code",
      "execution_count": null,
      "id": "838bd25f",
      "metadata": {
        "id": "838bd25f",
        "outputId": "45225011-2142-4e3f-df03-2abe09964d7b",
        "colab": {
          "base_uri": "https://localhost:8080/"
        }
      },
      "outputs": [
        {
          "output_type": "stream",
          "name": "stdout",
          "text": [
            "282062.9814526763\n",
            "306003.109375\n",
            "217363.79189830512\n",
            "47247356879.45664\n",
            "504.0\n",
            "623160.6875\n"
          ]
        }
      ],
      "source": [
        "s = FlowCal.io.FCSData('04-blank-E9-3.fcs')\n",
        "s\n",
        "\n",
        "s_fl1 = s[:, ['FL1-H']]\n",
        "s_fl1\n",
        "\n",
        "s_fl1 = s_fl1.tolist()\n",
        "s_fl1[0][0]\n",
        "\n",
        "proper_s_fl1 = []\n",
        "for i in range(len(s_fl1)):\n",
        "    proper_s_fl1.append(s_fl1[i][0])\n",
        "\n",
        "proper_s_fl1[:100]\n",
        "type(proper_s_fl1[:100])\n",
        "\n",
        "import statistics\n",
        "from statistics import stdev\n",
        "from fractions import Fraction as fr\n",
        "\n",
        "print(np.mean(proper_s_fl1))\n",
        "print(statistics.median(proper_s_fl1))\n",
        "print(np.std(proper_s_fl1))\n",
        "print(statistics.variance(proper_s_fl1))\n",
        "\n",
        "ordered= sorted(proper_s_fl1)\n",
        "i= round(len(ordered)*0.05)\n",
        "lower = ordered[i]\n",
        "i= round(len(ordered)*0.95)\n",
        "upper= ordered[i]\n",
        "\n",
        "print(lower)\n",
        "print(upper)\n"
      ]
    },
    {
      "cell_type": "code",
      "execution_count": null,
      "id": "df7eca71",
      "metadata": {
        "id": "df7eca71",
        "outputId": "7f4a685e-74d9-4aba-fde2-d674d11fbaaa",
        "colab": {
          "base_uri": "https://localhost:8080/"
        }
      },
      "outputs": [
        {
          "output_type": "stream",
          "name": "stdout",
          "text": [
            "254729.01983630817\n",
            "261723.1015625\n",
            "186115.9353319113\n",
            "34639373866.61199\n",
            "484.8999938964844\n",
            "557113.875\n"
          ]
        }
      ],
      "source": [
        "s = FlowCal.io.FCSData('02-blank-E9-4.fcs')\n",
        "s\n",
        "\n",
        "s_fl1 = s[:, ['FL1-H']]\n",
        "s_fl1\n",
        "\n",
        "s_fl1 = s_fl1.tolist()\n",
        "s_fl1[0][0]\n",
        "\n",
        "proper_s_fl1 = []\n",
        "for i in range(len(s_fl1)):\n",
        "    proper_s_fl1.append(s_fl1[i][0])\n",
        "\n",
        "proper_s_fl1[:100]\n",
        "type(proper_s_fl1[:100])\n",
        "\n",
        "import statistics\n",
        "from statistics import stdev\n",
        "from fractions import Fraction as fr\n",
        "\n",
        "print(np.mean(proper_s_fl1))\n",
        "print(statistics.median(proper_s_fl1))\n",
        "print(np.std(proper_s_fl1))\n",
        "print(statistics.variance(proper_s_fl1))\n",
        "\n",
        "ordered= sorted(proper_s_fl1)\n",
        "i= round(len(ordered)*0.05)\n",
        "lower = ordered[i]\n",
        "i= round(len(ordered)*0.95)\n",
        "upper= ordered[i]\n",
        "\n",
        "print(lower)\n",
        "print(upper)\n"
      ]
    },
    {
      "cell_type": "code",
      "execution_count": null,
      "id": "0e2acd85",
      "metadata": {
        "id": "0e2acd85",
        "outputId": "98e33389-bd71-40a4-d712-92aefabac53a",
        "colab": {
          "base_uri": "https://localhost:8080/"
        }
      },
      "outputs": [
        {
          "output_type": "stream",
          "name": "stdout",
          "text": [
            "222250.44666661168\n",
            "234032.203125\n",
            "175534.04639652523\n",
            "30812357959.502483\n",
            "444.79998779296875\n",
            "502840.90625\n"
          ]
        }
      ],
      "source": [
        "s = FlowCal.io.FCSData('04-blank-E9-4.fcs')\n",
        "s\n",
        "\n",
        "s_fl1 = s[:, ['FL1-H']]\n",
        "s_fl1\n",
        "\n",
        "s_fl1 = s_fl1.tolist()\n",
        "s_fl1[0][0]\n",
        "\n",
        "proper_s_fl1 = []\n",
        "for i in range(len(s_fl1)):\n",
        "    proper_s_fl1.append(s_fl1[i][0])\n",
        "\n",
        "proper_s_fl1[:100]\n",
        "type(proper_s_fl1[:100])\n",
        "\n",
        "import statistics\n",
        "from statistics import stdev\n",
        "from fractions import Fraction as fr\n",
        "\n",
        "print(np.mean(proper_s_fl1))\n",
        "print(statistics.median(proper_s_fl1))\n",
        "print(np.std(proper_s_fl1))\n",
        "print(statistics.variance(proper_s_fl1))\n",
        "\n",
        "ordered= sorted(proper_s_fl1)\n",
        "i= round(len(ordered)*0.05)\n",
        "lower = ordered[i]\n",
        "i= round(len(ordered)*0.95)\n",
        "upper= ordered[i]\n",
        "\n",
        "print(lower)\n",
        "print(upper)\n"
      ]
    },
    {
      "cell_type": "code",
      "execution_count": 3,
      "id": "5d19a06c",
      "metadata": {
        "id": "5d19a06c",
        "outputId": "d24df70d-b8d7-415f-f645-bc3e2e001476",
        "colab": {
          "base_uri": "https://localhost:8080/"
        }
      },
      "outputs": [
        {
          "output_type": "stream",
          "name": "stdout",
          "text": [
            "3864.185138278877\n",
            "432.70001220703125\n",
            "48644.83357582887\n",
            "2366335890.0735807\n",
            "264.5\n",
            "670.2000122070312\n"
          ]
        }
      ],
      "source": [
        "s = FlowCal.io.FCSData('02-blank-E10-1.fcs')\n",
        "s\n",
        "\n",
        "s_fl1 = s[:, ['FL1-H']]\n",
        "s_fl1\n",
        "\n",
        "s_fl1 = s_fl1.tolist()\n",
        "s_fl1[0][0]\n",
        "\n",
        "proper_s_fl1 = []\n",
        "for i in range(len(s_fl1)):\n",
        "    proper_s_fl1.append(s_fl1[i][0])\n",
        "\n",
        "proper_s_fl1[:100]\n",
        "type(proper_s_fl1[:100])\n",
        "\n",
        "import statistics\n",
        "from statistics import stdev\n",
        "from fractions import Fraction as fr\n",
        "\n",
        "print(np.mean(proper_s_fl1))\n",
        "print(statistics.median(proper_s_fl1))\n",
        "print(np.std(proper_s_fl1))\n",
        "print(statistics.variance(proper_s_fl1))\n",
        "\n",
        "ordered= sorted(proper_s_fl1)\n",
        "i= round(len(ordered)*0.05)\n",
        "lower = ordered[i]\n",
        "i= round(len(ordered)*0.95)\n",
        "upper= ordered[i]\n",
        "\n",
        "print(lower)\n",
        "print(upper)\n"
      ]
    },
    {
      "cell_type": "code",
      "execution_count": 8,
      "id": "6cb7c556",
      "metadata": {
        "id": "6cb7c556",
        "outputId": "c3ea1e7a-d3ea-4d78-f916-7c250ce4eba9",
        "colab": {
          "base_uri": "https://localhost:8080/"
        }
      },
      "outputs": [
        {
          "output_type": "stream",
          "name": "stdout",
          "text": [
            "3119.533703478294\n",
            "439.70001220703125\n",
            "43541.11914806485\n",
            "1895839331.9951432\n",
            "273.6000061035156\n",
            "668.2000122070312\n"
          ]
        }
      ],
      "source": [
        "s = FlowCal.io.FCSData('04-blank-E10-1.fcs')\n",
        "s\n",
        "\n",
        "s_fl1 = s[:, ['FL1-H']]\n",
        "s_fl1\n",
        "\n",
        "s_fl1 = s_fl1.tolist()\n",
        "s_fl1[0][0]\n",
        "\n",
        "proper_s_fl1 = []\n",
        "for i in range(len(s_fl1)):\n",
        "    proper_s_fl1.append(s_fl1[i][0])\n",
        "\n",
        "proper_s_fl1[:100]\n",
        "type(proper_s_fl1[:100])\n",
        "\n",
        "import statistics\n",
        "from statistics import stdev\n",
        "from fractions import Fraction as fr\n",
        "\n",
        "print(np.mean(proper_s_fl1))\n",
        "print(statistics.median(proper_s_fl1))\n",
        "print(np.std(proper_s_fl1))\n",
        "print(statistics.variance(proper_s_fl1))\n",
        "\n",
        "ordered= sorted(proper_s_fl1)\n",
        "i= round(len(ordered)*0.05)\n",
        "lower = ordered[i]\n",
        "i= round(len(ordered)*0.95)\n",
        "upper= ordered[i]\n",
        "\n",
        "print(lower)\n",
        "print(upper)\n"
      ]
    },
    {
      "cell_type": "code",
      "execution_count": 5,
      "id": "001b02ee",
      "metadata": {
        "id": "001b02ee",
        "outputId": "b9f21d96-b944-4b27-db94-dfb756692ceb",
        "colab": {
          "base_uri": "https://localhost:8080/"
        }
      },
      "outputs": [
        {
          "output_type": "stream",
          "name": "stdout",
          "text": [
            "2653.209640778133\n",
            "442.5\n",
            "34369.99557111639\n",
            "1181309083.3656094\n",
            "273.6000061035156\n",
            "688.4000244140625\n"
          ]
        }
      ],
      "source": [
        "s = FlowCal.io.FCSData('02-blank-E10-2.fcs')\n",
        "s\n",
        "\n",
        "s_fl1 = s[:, ['FL1-H']]\n",
        "s_fl1\n",
        "\n",
        "s_fl1 = s_fl1.tolist()\n",
        "s_fl1[0][0]\n",
        "\n",
        "proper_s_fl1 = []\n",
        "for i in range(len(s_fl1)):\n",
        "    proper_s_fl1.append(s_fl1[i][0])\n",
        "\n",
        "proper_s_fl1[:100]\n",
        "type(proper_s_fl1[:100])\n",
        "\n",
        "import statistics\n",
        "from statistics import stdev\n",
        "from fractions import Fraction as fr\n",
        "\n",
        "print(np.mean(proper_s_fl1))\n",
        "print(statistics.median(proper_s_fl1))\n",
        "print(np.std(proper_s_fl1))\n",
        "print(statistics.variance(proper_s_fl1))\n",
        "\n",
        "ordered= sorted(proper_s_fl1)\n",
        "i= round(len(ordered)*0.05)\n",
        "lower = ordered[i]\n",
        "i= round(len(ordered)*0.95)\n",
        "upper= ordered[i]\n",
        "\n",
        "print(lower)\n",
        "print(upper)\n"
      ]
    },
    {
      "cell_type": "code",
      "execution_count": 9,
      "id": "37556e0d",
      "metadata": {
        "id": "37556e0d",
        "outputId": "5a2a3bec-d580-458e-b9be-09126fc85bc2",
        "colab": {
          "base_uri": "https://localhost:8080/"
        }
      },
      "outputs": [
        {
          "output_type": "stream",
          "name": "stdout",
          "text": [
            "4090.549846815856\n",
            "439.5\n",
            "50042.423530425156\n",
            "2504254344.003909\n",
            "272.29998779296875\n",
            "675.0999755859375\n"
          ]
        }
      ],
      "source": [
        "s = FlowCal.io.FCSData('04-blank-E10-2.fcs')\n",
        "s\n",
        "\n",
        "s_fl1 = s[:, ['FL1-H']]\n",
        "s_fl1\n",
        "\n",
        "s_fl1 = s_fl1.tolist()\n",
        "s_fl1[0][0]\n",
        "\n",
        "proper_s_fl1 = []\n",
        "for i in range(len(s_fl1)):\n",
        "    proper_s_fl1.append(s_fl1[i][0])\n",
        "\n",
        "proper_s_fl1[:100]\n",
        "type(proper_s_fl1[:100])\n",
        "\n",
        "import statistics\n",
        "from statistics import stdev\n",
        "from fractions import Fraction as fr\n",
        "\n",
        "print(np.mean(proper_s_fl1))\n",
        "print(statistics.median(proper_s_fl1))\n",
        "print(np.std(proper_s_fl1))\n",
        "print(statistics.variance(proper_s_fl1))\n",
        "\n",
        "ordered= sorted(proper_s_fl1)\n",
        "i= round(len(ordered)*0.05)\n",
        "lower = ordered[i]\n",
        "i= round(len(ordered)*0.95)\n",
        "upper= ordered[i]\n",
        "\n",
        "print(lower)\n",
        "print(upper)\n"
      ]
    },
    {
      "cell_type": "code",
      "execution_count": 6,
      "id": "ed034b93",
      "metadata": {
        "id": "ed034b93",
        "outputId": "e7cf94fd-fc6d-4aa9-9fa2-17bb8eee8498",
        "colab": {
          "base_uri": "https://localhost:8080/"
        }
      },
      "outputs": [
        {
          "output_type": "stream",
          "name": "stdout",
          "text": [
            "347491.28957172635\n",
            "318359.203125\n",
            "178787.76476993578\n",
            "31965220467.801105\n",
            "131370.90625\n",
            "672646.8125\n"
          ]
        }
      ],
      "source": [
        "s = FlowCal.io.FCSData('02-blank-E10-3.fcs')\n",
        "s\n",
        "\n",
        "s_fl1 = s[:, ['FL1-H']]\n",
        "s_fl1\n",
        "\n",
        "s_fl1 = s_fl1.tolist()\n",
        "s_fl1[0][0]\n",
        "\n",
        "proper_s_fl1 = []\n",
        "for i in range(len(s_fl1)):\n",
        "    proper_s_fl1.append(s_fl1[i][0])\n",
        "\n",
        "proper_s_fl1[:100]\n",
        "type(proper_s_fl1[:100])\n",
        "\n",
        "import statistics\n",
        "from statistics import stdev\n",
        "from fractions import Fraction as fr\n",
        "\n",
        "print(np.mean(proper_s_fl1))\n",
        "print(statistics.median(proper_s_fl1))\n",
        "print(np.std(proper_s_fl1))\n",
        "print(statistics.variance(proper_s_fl1))\n",
        "\n",
        "ordered= sorted(proper_s_fl1)\n",
        "i= round(len(ordered)*0.05)\n",
        "lower = ordered[i]\n",
        "i= round(len(ordered)*0.95)\n",
        "upper= ordered[i]\n",
        "\n",
        "print(lower)\n",
        "print(upper)\n"
      ]
    },
    {
      "cell_type": "code",
      "execution_count": 10,
      "id": "7e714dc2",
      "metadata": {
        "id": "7e714dc2",
        "outputId": "5a4cc9c0-2c3d-4800-e110-3774c8d32ddc",
        "colab": {
          "base_uri": "https://localhost:8080/"
        }
      },
      "outputs": [
        {
          "output_type": "stream",
          "name": "stdout",
          "text": [
            "358703.5354802979\n",
            "329614.40625\n",
            "178736.9319926027\n",
            "31946980134.654964\n",
            "144516.796875\n",
            "682500.3125\n"
          ]
        }
      ],
      "source": [
        "s = FlowCal.io.FCSData('04-blank-E10-3.fcs')\n",
        "s\n",
        "\n",
        "s_fl1 = s[:, ['FL1-H']]\n",
        "s_fl1\n",
        "\n",
        "s_fl1 = s_fl1.tolist()\n",
        "s_fl1[0][0]\n",
        "\n",
        "proper_s_fl1 = []\n",
        "for i in range(len(s_fl1)):\n",
        "    proper_s_fl1.append(s_fl1[i][0])\n",
        "\n",
        "proper_s_fl1[:100]\n",
        "type(proper_s_fl1[:100])\n",
        "\n",
        "import statistics\n",
        "from statistics import stdev\n",
        "from fractions import Fraction as fr\n",
        "\n",
        "print(np.mean(proper_s_fl1))\n",
        "print(statistics.median(proper_s_fl1))\n",
        "print(np.std(proper_s_fl1))\n",
        "print(statistics.variance(proper_s_fl1))\n",
        "\n",
        "ordered= sorted(proper_s_fl1)\n",
        "i= round(len(ordered)*0.05)\n",
        "lower = ordered[i]\n",
        "i= round(len(ordered)*0.95)\n",
        "upper= ordered[i]\n",
        "\n",
        "print(lower)\n",
        "print(upper)\n"
      ]
    },
    {
      "cell_type": "code",
      "execution_count": 11,
      "id": "20edb0f9",
      "metadata": {
        "id": "20edb0f9",
        "outputId": "2dabed7d-b219-4761-fcf3-b4297847f057",
        "colab": {
          "base_uri": "https://localhost:8080/"
        }
      },
      "outputs": [
        {
          "output_type": "stream",
          "name": "stdout",
          "text": [
            "286415.00442954566\n",
            "263557.40625\n",
            "143354.16775682956\n",
            "20550472679.486958\n",
            "109767.703125\n",
            "542463.5\n"
          ]
        }
      ],
      "source": [
        "s = FlowCal.io.FCSData('02-blank-E10-4.fcs')\n",
        "s\n",
        "\n",
        "s_fl1 = s[:, ['FL1-H']]\n",
        "s_fl1\n",
        "\n",
        "s_fl1 = s_fl1.tolist()\n",
        "s_fl1[0][0]\n",
        "\n",
        "proper_s_fl1 = []\n",
        "for i in range(len(s_fl1)):\n",
        "    proper_s_fl1.append(s_fl1[i][0])\n",
        "\n",
        "proper_s_fl1[:100]\n",
        "type(proper_s_fl1[:100])\n",
        "\n",
        "import statistics\n",
        "from statistics import stdev\n",
        "from fractions import Fraction as fr\n",
        "\n",
        "print(np.mean(proper_s_fl1))\n",
        "print(statistics.median(proper_s_fl1))\n",
        "print(np.std(proper_s_fl1))\n",
        "print(statistics.variance(proper_s_fl1))\n",
        "\n",
        "ordered= sorted(proper_s_fl1)\n",
        "i= round(len(ordered)*0.05)\n",
        "lower = ordered[i]\n",
        "i= round(len(ordered)*0.95)\n",
        "upper= ordered[i]\n",
        "\n",
        "print(lower)\n",
        "print(upper)\n"
      ]
    },
    {
      "cell_type": "code",
      "execution_count": 12,
      "id": "b624d19f",
      "metadata": {
        "id": "b624d19f",
        "outputId": "7cb0d7cb-5363-4fb9-e899-283876c6304b",
        "colab": {
          "base_uri": "https://localhost:8080/"
        }
      },
      "outputs": [
        {
          "output_type": "stream",
          "name": "stdout",
          "text": [
            "179229.24326300106\n",
            "160599.0\n",
            "102305.26704815462\n",
            "10466392801.40473\n",
            "60429.80078125\n",
            "362090.3125\n"
          ]
        }
      ],
      "source": [
        "s = FlowCal.io.FCSData('04-blank-E10-4.fcs')\n",
        "s\n",
        "\n",
        "s_fl1 = s[:, ['FL1-H']]\n",
        "s_fl1\n",
        "\n",
        "s_fl1 = s_fl1.tolist()\n",
        "s_fl1[0][0]\n",
        "\n",
        "proper_s_fl1 = []\n",
        "for i in range(len(s_fl1)):\n",
        "    proper_s_fl1.append(s_fl1[i][0])\n",
        "\n",
        "proper_s_fl1[:100]\n",
        "type(proper_s_fl1[:100])\n",
        "\n",
        "import statistics\n",
        "from statistics import stdev\n",
        "from fractions import Fraction as fr\n",
        "\n",
        "print(np.mean(proper_s_fl1))\n",
        "print(statistics.median(proper_s_fl1))\n",
        "print(np.std(proper_s_fl1))\n",
        "print(statistics.variance(proper_s_fl1))\n",
        "\n",
        "ordered= sorted(proper_s_fl1)\n",
        "i= round(len(ordered)*0.05)\n",
        "lower = ordered[i]\n",
        "i= round(len(ordered)*0.95)\n",
        "upper= ordered[i]\n",
        "\n",
        "print(lower)\n",
        "print(upper)\n"
      ]
    },
    {
      "cell_type": "code",
      "execution_count": 13,
      "id": "2eda0e62",
      "metadata": {
        "id": "2eda0e62",
        "outputId": "25c49a7d-a38d-4873-ae51-c1d9cf142db4",
        "colab": {
          "base_uri": "https://localhost:8080/"
        }
      },
      "outputs": [
        {
          "output_type": "stream",
          "name": "stdout",
          "text": [
            "13274.912220328644\n",
            "456.20001220703125\n",
            "72106.05217799956\n",
            "5199336081.751485\n",
            "280.20001220703125\n",
            "26969.599609375\n"
          ]
        }
      ],
      "source": [
        "s = FlowCal.io.FCSData('02-blank-E11-1.fcs')\n",
        "s\n",
        "\n",
        "s_fl1 = s[:, ['FL1-H']]\n",
        "s_fl1\n",
        "\n",
        "s_fl1 = s_fl1.tolist()\n",
        "s_fl1[0][0]\n",
        "\n",
        "proper_s_fl1 = []\n",
        "for i in range(len(s_fl1)):\n",
        "    proper_s_fl1.append(s_fl1[i][0])\n",
        "\n",
        "proper_s_fl1[:100]\n",
        "type(proper_s_fl1[:100])\n",
        "\n",
        "import statistics\n",
        "from statistics import stdev\n",
        "from fractions import Fraction as fr\n",
        "\n",
        "print(np.mean(proper_s_fl1))\n",
        "print(statistics.median(proper_s_fl1))\n",
        "print(np.std(proper_s_fl1))\n",
        "print(statistics.variance(proper_s_fl1))\n",
        "\n",
        "ordered= sorted(proper_s_fl1)\n",
        "i= round(len(ordered)*0.05)\n",
        "lower = ordered[i]\n",
        "i= round(len(ordered)*0.95)\n",
        "upper= ordered[i]\n",
        "\n",
        "print(lower)\n",
        "print(upper)\n"
      ]
    },
    {
      "cell_type": "code",
      "execution_count": 14,
      "id": "84f1c774",
      "metadata": {
        "id": "84f1c774",
        "outputId": "ae85b313-3305-4846-992c-dd3ea0243edf",
        "colab": {
          "base_uri": "https://localhost:8080/"
        }
      },
      "outputs": [
        {
          "output_type": "stream",
          "name": "stdout",
          "text": [
            "12488.280665988088\n",
            "457.79998779296875\n",
            "73842.99481776112\n",
            "5452810610.044556\n",
            "282.6000061035156\n",
            "19729.599609375\n"
          ]
        }
      ],
      "source": [
        "s = FlowCal.io.FCSData('04-blank-E11-1.fcs')\n",
        "s\n",
        "\n",
        "s_fl1 = s[:, ['FL1-H']]\n",
        "s_fl1\n",
        "\n",
        "s_fl1 = s_fl1.tolist()\n",
        "s_fl1[0][0]\n",
        "\n",
        "proper_s_fl1 = []\n",
        "for i in range(len(s_fl1)):\n",
        "    proper_s_fl1.append(s_fl1[i][0])\n",
        "\n",
        "proper_s_fl1[:100]\n",
        "type(proper_s_fl1[:100])\n",
        "\n",
        "import statistics\n",
        "from statistics import stdev\n",
        "from fractions import Fraction as fr\n",
        "\n",
        "print(np.mean(proper_s_fl1))\n",
        "print(statistics.median(proper_s_fl1))\n",
        "print(np.std(proper_s_fl1))\n",
        "print(statistics.variance(proper_s_fl1))\n",
        "\n",
        "ordered= sorted(proper_s_fl1)\n",
        "i= round(len(ordered)*0.05)\n",
        "lower = ordered[i]\n",
        "i= round(len(ordered)*0.95)\n",
        "upper= ordered[i]\n",
        "\n",
        "print(lower)\n",
        "print(upper)\n"
      ]
    },
    {
      "cell_type": "code",
      "execution_count": 15,
      "id": "954b4ad8",
      "metadata": {
        "id": "954b4ad8",
        "outputId": "cfbf7a91-c2f1-4208-8633-17aead1af770",
        "colab": {
          "base_uri": "https://localhost:8080/"
        }
      },
      "outputs": [
        {
          "output_type": "stream",
          "name": "stdout",
          "text": [
            "42068.04953136396\n",
            "449.8999938964844\n",
            "190213.72525646197\n",
            "36181502473.09343\n",
            "271.1000061035156\n",
            "209962.703125\n"
          ]
        }
      ],
      "source": [
        "s = FlowCal.io.FCSData('02-blank-E11-2.fcs')\n",
        "s\n",
        "\n",
        "s_fl1 = s[:, ['FL1-H']]\n",
        "s_fl1\n",
        "\n",
        "s_fl1 = s_fl1.tolist()\n",
        "s_fl1[0][0]\n",
        "\n",
        "proper_s_fl1 = []\n",
        "for i in range(len(s_fl1)):\n",
        "    proper_s_fl1.append(s_fl1[i][0])\n",
        "\n",
        "proper_s_fl1[:100]\n",
        "type(proper_s_fl1[:100])\n",
        "\n",
        "import statistics\n",
        "from statistics import stdev\n",
        "from fractions import Fraction as fr\n",
        "\n",
        "print(np.mean(proper_s_fl1))\n",
        "print(statistics.median(proper_s_fl1))\n",
        "print(np.std(proper_s_fl1))\n",
        "print(statistics.variance(proper_s_fl1))\n",
        "\n",
        "ordered= sorted(proper_s_fl1)\n",
        "i= round(len(ordered)*0.05)\n",
        "lower = ordered[i]\n",
        "i= round(len(ordered)*0.95)\n",
        "upper= ordered[i]\n",
        "\n",
        "print(lower)\n",
        "print(upper)\n"
      ]
    },
    {
      "cell_type": "code",
      "execution_count": 19,
      "id": "31651d64",
      "metadata": {
        "id": "31651d64",
        "outputId": "25d114e1-5ed0-4281-f802-1f785b5b39b0",
        "colab": {
          "base_uri": "https://localhost:8080/"
        }
      },
      "outputs": [
        {
          "output_type": "stream",
          "name": "stdout",
          "text": [
            "29184.65417743333\n",
            "453.6000061035156\n",
            "167325.71419357543\n",
            "27997986612.841904\n",
            "278.20001220703125\n",
            "78780.703125\n"
          ]
        }
      ],
      "source": [
        "s = FlowCal.io.FCSData('04-blank-E11-2.fcs')\n",
        "s\n",
        "\n",
        "s_fl1 = s[:, ['FL1-H']]\n",
        "s_fl1\n",
        "\n",
        "s_fl1 = s_fl1.tolist()\n",
        "s_fl1[0][0]\n",
        "\n",
        "proper_s_fl1 = []\n",
        "for i in range(len(s_fl1)):\n",
        "    proper_s_fl1.append(s_fl1[i][0])\n",
        "\n",
        "proper_s_fl1[:100]\n",
        "type(proper_s_fl1[:100])\n",
        "\n",
        "import statistics\n",
        "from statistics import stdev\n",
        "from fractions import Fraction as fr\n",
        "\n",
        "print(np.mean(proper_s_fl1))\n",
        "print(statistics.median(proper_s_fl1))\n",
        "print(np.std(proper_s_fl1))\n",
        "print(statistics.variance(proper_s_fl1))\n",
        "\n",
        "ordered= sorted(proper_s_fl1)\n",
        "i= round(len(ordered)*0.05)\n",
        "lower = ordered[i]\n",
        "i= round(len(ordered)*0.95)\n",
        "upper= ordered[i]\n",
        "\n",
        "print(lower)\n",
        "print(upper)\n"
      ]
    },
    {
      "cell_type": "code",
      "execution_count": 17,
      "id": "7bc5a940",
      "metadata": {
        "id": "7bc5a940",
        "outputId": "fc8d6dca-3e72-4824-d13d-b1c3c2efb7a7",
        "colab": {
          "base_uri": "https://localhost:8080/"
        }
      },
      "outputs": [
        {
          "output_type": "stream",
          "name": "stdout",
          "text": [
            "348934.56761958834\n",
            "322105.1875\n",
            "198399.7310948714\n",
            "39362605799.96354\n",
            "10578.5\n",
            "709554.375\n"
          ]
        }
      ],
      "source": [
        "s = FlowCal.io.FCSData('02-blank-E11-3.fcs')\n",
        "s\n",
        "\n",
        "s_fl1 = s[:, ['FL1-H']]\n",
        "s_fl1\n",
        "\n",
        "s_fl1 = s_fl1.tolist()\n",
        "s_fl1[0][0]\n",
        "\n",
        "proper_s_fl1 = []\n",
        "for i in range(len(s_fl1)):\n",
        "    proper_s_fl1.append(s_fl1[i][0])\n",
        "\n",
        "proper_s_fl1[:100]\n",
        "type(proper_s_fl1[:100])\n",
        "\n",
        "import statistics\n",
        "from statistics import stdev\n",
        "from fractions import Fraction as fr\n",
        "\n",
        "print(np.mean(proper_s_fl1))\n",
        "print(statistics.median(proper_s_fl1))\n",
        "print(np.std(proper_s_fl1))\n",
        "print(statistics.variance(proper_s_fl1))\n",
        "\n",
        "ordered= sorted(proper_s_fl1)\n",
        "i= round(len(ordered)*0.05)\n",
        "lower = ordered[i]\n",
        "i= round(len(ordered)*0.95)\n",
        "upper= ordered[i]\n",
        "\n",
        "print(lower)\n",
        "print(upper)\n"
      ]
    },
    {
      "cell_type": "code",
      "execution_count": 18,
      "id": "3569834d",
      "metadata": {
        "id": "3569834d",
        "outputId": "38273d4b-554b-4c0f-e15c-a5d366d6c3d3",
        "colab": {
          "base_uri": "https://localhost:8080/"
        }
      },
      "outputs": [
        {
          "output_type": "stream",
          "name": "stdout",
          "text": [
            "348721.0662549477\n",
            "328704.296875\n",
            "205044.36314873456\n",
            "42043324851.44953\n",
            "5907.0\n",
            "706736.375\n"
          ]
        }
      ],
      "source": [
        "s = FlowCal.io.FCSData('04-blank-E11-3.fcs')\n",
        "s\n",
        "\n",
        "s_fl1 = s[:, ['FL1-H']]\n",
        "s_fl1\n",
        "\n",
        "s_fl1 = s_fl1.tolist()\n",
        "s_fl1[0][0]\n",
        "\n",
        "proper_s_fl1 = []\n",
        "for i in range(len(s_fl1)):\n",
        "    proper_s_fl1.append(s_fl1[i][0])\n",
        "\n",
        "proper_s_fl1[:100]\n",
        "type(proper_s_fl1[:100])\n",
        "\n",
        "import statistics\n",
        "from statistics import stdev\n",
        "from fractions import Fraction as fr\n",
        "\n",
        "print(np.mean(proper_s_fl1))\n",
        "print(statistics.median(proper_s_fl1))\n",
        "print(np.std(proper_s_fl1))\n",
        "print(statistics.variance(proper_s_fl1))\n",
        "\n",
        "ordered= sorted(proper_s_fl1)\n",
        "i= round(len(ordered)*0.05)\n",
        "lower = ordered[i]\n",
        "i= round(len(ordered)*0.95)\n",
        "upper= ordered[i]\n",
        "\n",
        "print(lower)\n",
        "print(upper)\n"
      ]
    },
    {
      "cell_type": "code",
      "execution_count": 20,
      "id": "85519162",
      "metadata": {
        "id": "85519162",
        "outputId": "db417c4b-7eaa-4bdb-9c67-6166821641f7",
        "colab": {
          "base_uri": "https://localhost:8080/"
        }
      },
      "outputs": [
        {
          "output_type": "stream",
          "name": "stdout",
          "text": [
            "288825.6215863927\n",
            "259542.90625\n",
            "180638.40316059263\n",
            "32630338491.708492\n",
            "63886.30078125\n",
            "597701.625\n"
          ]
        }
      ],
      "source": [
        "s = FlowCal.io.FCSData('02-blank-E11-4.fcs')\n",
        "s\n",
        "\n",
        "s_fl1 = s[:, ['FL1-H']]\n",
        "s_fl1\n",
        "\n",
        "s_fl1 = s_fl1.tolist()\n",
        "s_fl1[0][0]\n",
        "\n",
        "proper_s_fl1 = []\n",
        "for i in range(len(s_fl1)):\n",
        "    proper_s_fl1.append(s_fl1[i][0])\n",
        "\n",
        "proper_s_fl1[:100]\n",
        "type(proper_s_fl1[:100])\n",
        "\n",
        "import statistics\n",
        "from statistics import stdev\n",
        "from fractions import Fraction as fr\n",
        "\n",
        "print(np.mean(proper_s_fl1))\n",
        "print(statistics.median(proper_s_fl1))\n",
        "print(np.std(proper_s_fl1))\n",
        "print(statistics.variance(proper_s_fl1))\n",
        "\n",
        "ordered= sorted(proper_s_fl1)\n",
        "i= round(len(ordered)*0.05)\n",
        "lower = ordered[i]\n",
        "i= round(len(ordered)*0.95)\n",
        "upper= ordered[i]\n",
        "\n",
        "print(lower)\n",
        "print(upper)\n"
      ]
    },
    {
      "cell_type": "code",
      "execution_count": 21,
      "id": "0e7418ed",
      "metadata": {
        "scrolled": true,
        "id": "0e7418ed",
        "outputId": "b6e2cfa4-131d-470b-b415-75fa57763644",
        "colab": {
          "base_uri": "https://localhost:8080/"
        }
      },
      "outputs": [
        {
          "output_type": "stream",
          "name": "stdout",
          "text": [
            "198712.45954486413\n",
            "168109.296875\n",
            "156909.9474960424\n",
            "24620792099.46958\n",
            "31966.900390625\n",
            "438416.0\n"
          ]
        }
      ],
      "source": [
        "s = FlowCal.io.FCSData('04-blank-E11-4.fcs')\n",
        "s\n",
        "\n",
        "s_fl1 = s[:, ['FL1-H']]\n",
        "s_fl1\n",
        "\n",
        "s_fl1 = s_fl1.tolist()\n",
        "s_fl1[0][0]\n",
        "\n",
        "proper_s_fl1 = []\n",
        "for i in range(len(s_fl1)):\n",
        "    proper_s_fl1.append(s_fl1[i][0])\n",
        "\n",
        "proper_s_fl1[:100]\n",
        "type(proper_s_fl1[:100])\n",
        "\n",
        "import statistics\n",
        "from statistics import stdev\n",
        "from fractions import Fraction as fr\n",
        "\n",
        "print(np.mean(proper_s_fl1))\n",
        "print(statistics.median(proper_s_fl1))\n",
        "print(np.std(proper_s_fl1))\n",
        "print(statistics.variance(proper_s_fl1))\n",
        "\n",
        "ordered= sorted(proper_s_fl1)\n",
        "i= round(len(ordered)*0.05)\n",
        "lower = ordered[i]\n",
        "i= round(len(ordered)*0.95)\n",
        "upper= ordered[i]\n",
        "\n",
        "print(lower)\n",
        "print(upper)\n"
      ]
    },
    {
      "cell_type": "code",
      "execution_count": 22,
      "id": "40911f6b",
      "metadata": {
        "id": "40911f6b",
        "outputId": "4e4b8bc5-693c-49d9-c2d1-2c1e60ed78d1",
        "colab": {
          "base_uri": "https://localhost:8080/"
        }
      },
      "outputs": [
        {
          "output_type": "stream",
          "name": "stdout",
          "text": [
            "50237.08336930582\n",
            "463.6000061035156\n",
            "144177.41103524875\n",
            "20787243769.881474\n",
            "272.5\n",
            "365543.59375\n"
          ]
        }
      ],
      "source": [
        "s = FlowCal.io.FCSData('02-blank-G2-1.fcs')\n",
        "s\n",
        "\n",
        "s_fl1 = s[:, ['FL1-H']]\n",
        "s_fl1\n",
        "\n",
        "s_fl1 = s_fl1.tolist()\n",
        "s_fl1[0][0]\n",
        "\n",
        "proper_s_fl1 = []\n",
        "for i in range(len(s_fl1)):\n",
        "    proper_s_fl1.append(s_fl1[i][0])\n",
        "\n",
        "proper_s_fl1[:100]\n",
        "type(proper_s_fl1[:100])\n",
        "\n",
        "import statistics\n",
        "from statistics import stdev\n",
        "from fractions import Fraction as fr\n",
        "\n",
        "print(np.mean(proper_s_fl1))\n",
        "print(statistics.median(proper_s_fl1))\n",
        "print(np.std(proper_s_fl1))\n",
        "print(statistics.variance(proper_s_fl1))\n",
        "\n",
        "ordered= sorted(proper_s_fl1)\n",
        "i= round(len(ordered)*0.05)\n",
        "lower = ordered[i]\n",
        "i= round(len(ordered)*0.95)\n",
        "upper= ordered[i]\n",
        "\n",
        "print(lower)\n",
        "print(upper)\n"
      ]
    },
    {
      "cell_type": "code",
      "execution_count": 26,
      "id": "6119c009",
      "metadata": {
        "id": "6119c009",
        "outputId": "45bbbe8e-d8a0-4c4c-fd47-bee488f5c869",
        "colab": {
          "base_uri": "https://localhost:8080/"
        }
      },
      "outputs": [
        {
          "output_type": "stream",
          "name": "stdout",
          "text": [
            "59546.494608297646\n",
            "472.29998779296875\n",
            "168635.20167201795\n",
            "28437894864.264053\n",
            "277.29998779296875\n",
            "428625.59375\n"
          ]
        }
      ],
      "source": [
        "s = FlowCal.io.FCSData('04-blank-G2-1.fcs')\n",
        "s\n",
        "\n",
        "s_fl1 = s[:, ['FL1-H']]\n",
        "s_fl1\n",
        "\n",
        "s_fl1 = s_fl1.tolist()\n",
        "s_fl1[0][0]\n",
        "\n",
        "proper_s_fl1 = []\n",
        "for i in range(len(s_fl1)):\n",
        "    proper_s_fl1.append(s_fl1[i][0])\n",
        "\n",
        "proper_s_fl1[:100]\n",
        "type(proper_s_fl1[:100])\n",
        "\n",
        "import statistics\n",
        "from statistics import stdev\n",
        "from fractions import Fraction as fr\n",
        "\n",
        "print(np.mean(proper_s_fl1))\n",
        "print(statistics.median(proper_s_fl1))\n",
        "print(np.std(proper_s_fl1))\n",
        "print(statistics.variance(proper_s_fl1))\n",
        "\n",
        "ordered= sorted(proper_s_fl1)\n",
        "i= round(len(ordered)*0.05)\n",
        "lower = ordered[i]\n",
        "i= round(len(ordered)*0.95)\n",
        "upper= ordered[i]\n",
        "\n",
        "print(lower)\n",
        "print(upper)\n"
      ]
    },
    {
      "cell_type": "code",
      "execution_count": 24,
      "id": "7198aba9",
      "metadata": {
        "id": "7198aba9",
        "outputId": "7e751614-ef53-4fed-f598-58c0892089b8",
        "colab": {
          "base_uri": "https://localhost:8080/"
        }
      },
      "outputs": [
        {
          "output_type": "stream",
          "name": "stdout",
          "text": [
            "88957.74151650598\n",
            "461.70001220703125\n",
            "309555.0177833173\n",
            "95825170880.48387\n",
            "275.20001220703125\n",
            "790133.875\n"
          ]
        }
      ],
      "source": [
        "s = FlowCal.io.FCSData('02-blank-G2-2.fcs')\n",
        "s\n",
        "\n",
        "s_fl1 = s[:, ['FL1-H']]\n",
        "s_fl1\n",
        "\n",
        "s_fl1 = s_fl1.tolist()\n",
        "s_fl1[0][0]\n",
        "\n",
        "proper_s_fl1 = []\n",
        "for i in range(len(s_fl1)):\n",
        "    proper_s_fl1.append(s_fl1[i][0])\n",
        "\n",
        "proper_s_fl1[:100]\n",
        "type(proper_s_fl1[:100])\n",
        "\n",
        "import statistics\n",
        "from statistics import stdev\n",
        "from fractions import Fraction as fr\n",
        "\n",
        "print(np.mean(proper_s_fl1))\n",
        "print(statistics.median(proper_s_fl1))\n",
        "print(np.std(proper_s_fl1))\n",
        "print(statistics.variance(proper_s_fl1))\n",
        "\n",
        "ordered= sorted(proper_s_fl1)\n",
        "i= round(len(ordered)*0.05)\n",
        "lower = ordered[i]\n",
        "i= round(len(ordered)*0.95)\n",
        "upper= ordered[i]\n",
        "\n",
        "print(lower)\n",
        "print(upper)\n"
      ]
    },
    {
      "cell_type": "code",
      "execution_count": 25,
      "id": "2e8893e8",
      "metadata": {
        "id": "2e8893e8",
        "outputId": "2717c40b-4b61-4026-bba3-11b4d904e5f8",
        "colab": {
          "base_uri": "https://localhost:8080/"
        }
      },
      "outputs": [
        {
          "output_type": "stream",
          "name": "stdout",
          "text": [
            "85024.43909528654\n",
            "452.5\n",
            "336846.35373509524\n",
            "113465760345.65842\n",
            "273.3999938964844\n",
            "805873.3125\n"
          ]
        }
      ],
      "source": [
        "s = FlowCal.io.FCSData('04-blank-G2-2.fcs')\n",
        "s\n",
        "\n",
        "s_fl1 = s[:, ['FL1-H']]\n",
        "s_fl1\n",
        "\n",
        "s_fl1 = s_fl1.tolist()\n",
        "s_fl1[0][0]\n",
        "\n",
        "proper_s_fl1 = []\n",
        "for i in range(len(s_fl1)):\n",
        "    proper_s_fl1.append(s_fl1[i][0])\n",
        "\n",
        "proper_s_fl1[:100]\n",
        "type(proper_s_fl1[:100])\n",
        "\n",
        "import statistics\n",
        "from statistics import stdev\n",
        "from fractions import Fraction as fr\n",
        "\n",
        "print(np.mean(proper_s_fl1))\n",
        "print(statistics.median(proper_s_fl1))\n",
        "print(np.std(proper_s_fl1))\n",
        "print(statistics.variance(proper_s_fl1))\n",
        "\n",
        "ordered= sorted(proper_s_fl1)\n",
        "i= round(len(ordered)*0.05)\n",
        "lower = ordered[i]\n",
        "i= round(len(ordered)*0.95)\n",
        "upper= ordered[i]\n",
        "\n",
        "print(lower)\n",
        "print(upper)\n"
      ]
    },
    {
      "cell_type": "code",
      "execution_count": 27,
      "id": "9a5f6d3e",
      "metadata": {
        "id": "9a5f6d3e",
        "outputId": "dc7941ad-ca90-4227-a40f-79c55b53eeff",
        "colab": {
          "base_uri": "https://localhost:8080/"
        }
      },
      "outputs": [
        {
          "output_type": "stream",
          "name": "stdout",
          "text": [
            "328856.3268595231\n",
            "301716.5\n",
            "193072.31857254964\n",
            "37277114036.639084\n",
            "5087.10009765625\n",
            "675400.875\n"
          ]
        }
      ],
      "source": [
        "s = FlowCal.io.FCSData('02-blank-G2-3.fcs')\n",
        "s\n",
        "\n",
        "s_fl1 = s[:, ['FL1-H']]\n",
        "s_fl1\n",
        "\n",
        "s_fl1 = s_fl1.tolist()\n",
        "s_fl1[0][0]\n",
        "\n",
        "proper_s_fl1 = []\n",
        "for i in range(len(s_fl1)):\n",
        "    proper_s_fl1.append(s_fl1[i][0])\n",
        "\n",
        "proper_s_fl1[:100]\n",
        "type(proper_s_fl1[:100])\n",
        "\n",
        "import statistics\n",
        "from statistics import stdev\n",
        "from fractions import Fraction as fr\n",
        "\n",
        "print(np.mean(proper_s_fl1))\n",
        "print(statistics.median(proper_s_fl1))\n",
        "print(np.std(proper_s_fl1))\n",
        "print(statistics.variance(proper_s_fl1))\n",
        "\n",
        "ordered= sorted(proper_s_fl1)\n",
        "i= round(len(ordered)*0.05)\n",
        "lower = ordered[i]\n",
        "i= round(len(ordered)*0.95)\n",
        "upper= ordered[i]\n",
        "\n",
        "print(lower)\n",
        "print(upper)\n"
      ]
    },
    {
      "cell_type": "code",
      "execution_count": 32,
      "id": "ee61a6c1",
      "metadata": {
        "id": "ee61a6c1",
        "outputId": "09cb6a9a-468a-4f92-cb50-704a5cba1253",
        "colab": {
          "base_uri": "https://localhost:8080/"
        }
      },
      "outputs": [
        {
          "output_type": "stream",
          "name": "stdout",
          "text": [
            "312845.14368386625\n",
            "288262.203125\n",
            "204418.15243374291\n",
            "41786870324.97859\n",
            "3051.89990234375\n",
            "674452.3125\n"
          ]
        }
      ],
      "source": [
        "s = FlowCal.io.FCSData('04-blank-G2-3.fcs')\n",
        "s\n",
        "\n",
        "s_fl1 = s[:, ['FL1-H']]\n",
        "s_fl1\n",
        "\n",
        "s_fl1 = s_fl1.tolist()\n",
        "s_fl1[0][0]\n",
        "\n",
        "proper_s_fl1 = []\n",
        "for i in range(len(s_fl1)):\n",
        "    proper_s_fl1.append(s_fl1[i][0])\n",
        "\n",
        "proper_s_fl1[:100]\n",
        "type(proper_s_fl1[:100])\n",
        "\n",
        "import statistics\n",
        "from statistics import stdev\n",
        "from fractions import Fraction as fr\n",
        "\n",
        "print(np.mean(proper_s_fl1))\n",
        "print(statistics.median(proper_s_fl1))\n",
        "print(np.std(proper_s_fl1))\n",
        "print(statistics.variance(proper_s_fl1))\n",
        "\n",
        "ordered= sorted(proper_s_fl1)\n",
        "i= round(len(ordered)*0.05)\n",
        "lower = ordered[i]\n",
        "i= round(len(ordered)*0.95)\n",
        "upper= ordered[i]\n",
        "\n",
        "print(lower)\n",
        "print(upper)\n"
      ]
    },
    {
      "cell_type": "code",
      "execution_count": 29,
      "id": "df224f92",
      "metadata": {
        "id": "df224f92",
        "outputId": "aa17a71f-26bd-4697-f16e-e9bef4c4f493",
        "colab": {
          "base_uri": "https://localhost:8080/"
        }
      },
      "outputs": [
        {
          "output_type": "stream",
          "name": "stdout",
          "text": [
            "377082.15737912036\n",
            "317981.09375\n",
            "277926.98914645205\n",
            "77243742312.72202\n",
            "18396.0\n",
            "913331.6875\n"
          ]
        }
      ],
      "source": [
        "s = FlowCal.io.FCSData('02-blank-G2-4.fcs')\n",
        "s\n",
        "\n",
        "s_fl1 = s[:, ['FL1-H']]\n",
        "s_fl1\n",
        "\n",
        "s_fl1 = s_fl1.tolist()\n",
        "s_fl1[0][0]\n",
        "\n",
        "proper_s_fl1 = []\n",
        "for i in range(len(s_fl1)):\n",
        "    proper_s_fl1.append(s_fl1[i][0])\n",
        "\n",
        "proper_s_fl1[:100]\n",
        "type(proper_s_fl1[:100])\n",
        "\n",
        "import statistics\n",
        "from statistics import stdev\n",
        "from fractions import Fraction as fr\n",
        "\n",
        "print(np.mean(proper_s_fl1))\n",
        "print(statistics.median(proper_s_fl1))\n",
        "print(np.std(proper_s_fl1))\n",
        "print(statistics.variance(proper_s_fl1))\n",
        "\n",
        "ordered= sorted(proper_s_fl1)\n",
        "i= round(len(ordered)*0.05)\n",
        "lower = ordered[i]\n",
        "i= round(len(ordered)*0.95)\n",
        "upper= ordered[i]\n",
        "\n",
        "print(lower)\n",
        "print(upper)\n"
      ]
    },
    {
      "cell_type": "code",
      "execution_count": 33,
      "id": "83d980fd",
      "metadata": {
        "id": "83d980fd",
        "outputId": "dbb6183e-435c-45a6-e4d5-334b6db79871",
        "colab": {
          "base_uri": "https://localhost:8080/"
        }
      },
      "outputs": [
        {
          "output_type": "stream",
          "name": "stdout",
          "text": [
            "234140.03662493484\n",
            "183437.0546875\n",
            "215812.34185350293\n",
            "46575061724.11041\n",
            "10799.599609375\n",
            "616298.125\n"
          ]
        }
      ],
      "source": [
        "s = FlowCal.io.FCSData('04-blank-G2-4.fcs')\n",
        "s\n",
        "\n",
        "s_fl1 = s[:, ['FL1-H']]\n",
        "s_fl1\n",
        "\n",
        "s_fl1 = s_fl1.tolist()\n",
        "s_fl1[0][0]\n",
        "\n",
        "proper_s_fl1 = []\n",
        "for i in range(len(s_fl1)):\n",
        "    proper_s_fl1.append(s_fl1[i][0])\n",
        "\n",
        "proper_s_fl1[:100]\n",
        "type(proper_s_fl1[:100])\n",
        "\n",
        "import statistics\n",
        "from statistics import stdev\n",
        "from fractions import Fraction as fr\n",
        "\n",
        "print(np.mean(proper_s_fl1))\n",
        "print(statistics.median(proper_s_fl1))\n",
        "print(np.std(proper_s_fl1))\n",
        "print(statistics.variance(proper_s_fl1))\n",
        "\n",
        "ordered= sorted(proper_s_fl1)\n",
        "i= round(len(ordered)*0.05)\n",
        "lower = ordered[i]\n",
        "i= round(len(ordered)*0.95)\n",
        "upper= ordered[i]\n",
        "\n",
        "print(lower)\n",
        "print(upper)\n"
      ]
    },
    {
      "cell_type": "code",
      "execution_count": 31,
      "id": "36e8e04a",
      "metadata": {
        "id": "36e8e04a",
        "outputId": "d916974a-436c-4b3b-f3bf-0856e8d1ada2",
        "colab": {
          "base_uri": "https://localhost:8080/"
        }
      },
      "outputs": [
        {
          "output_type": "stream",
          "name": "stdout",
          "text": [
            "21059.68937429294\n",
            "448.0\n",
            "122830.54960786822\n",
            "15087421992.24443\n",
            "268.6000061035156\n",
            "46438.69921875\n"
          ]
        }
      ],
      "source": [
        "s = FlowCal.io.FCSData('02-blank-G3-1.fcs')\n",
        "s\n",
        "\n",
        "s_fl1 = s[:, ['FL1-H']]\n",
        "s_fl1\n",
        "\n",
        "s_fl1 = s_fl1.tolist()\n",
        "s_fl1[0][0]\n",
        "\n",
        "proper_s_fl1 = []\n",
        "for i in range(len(s_fl1)):\n",
        "    proper_s_fl1.append(s_fl1[i][0])\n",
        "\n",
        "proper_s_fl1[:100]\n",
        "type(proper_s_fl1[:100])\n",
        "\n",
        "import statistics\n",
        "from statistics import stdev\n",
        "from fractions import Fraction as fr\n",
        "\n",
        "print(np.mean(proper_s_fl1))\n",
        "print(statistics.median(proper_s_fl1))\n",
        "print(np.std(proper_s_fl1))\n",
        "print(statistics.variance(proper_s_fl1))\n",
        "\n",
        "ordered= sorted(proper_s_fl1)\n",
        "i= round(len(ordered)*0.05)\n",
        "lower = ordered[i]\n",
        "i= round(len(ordered)*0.95)\n",
        "upper= ordered[i]\n",
        "\n",
        "print(lower)\n",
        "print(upper)\n"
      ]
    },
    {
      "cell_type": "code",
      "execution_count": 34,
      "id": "139b3089",
      "metadata": {
        "id": "139b3089",
        "outputId": "ffe7f1dd-9d36-401c-c14b-81c48b02f759",
        "colab": {
          "base_uri": "https://localhost:8080/"
        }
      },
      "outputs": [
        {
          "output_type": "stream",
          "name": "stdout",
          "text": [
            "20783.892325377758\n",
            "455.29998779296875\n",
            "123926.3008024422\n",
            "15357795987.531748\n",
            "279.70001220703125\n",
            "38951.5\n"
          ]
        }
      ],
      "source": [
        "s = FlowCal.io.FCSData('04-blank-G3-1.fcs')\n",
        "s\n",
        "\n",
        "s_fl1 = s[:, ['FL1-H']]\n",
        "s_fl1\n",
        "\n",
        "s_fl1 = s_fl1.tolist()\n",
        "s_fl1[0][0]\n",
        "\n",
        "proper_s_fl1 = []\n",
        "for i in range(len(s_fl1)):\n",
        "    proper_s_fl1.append(s_fl1[i][0])\n",
        "\n",
        "proper_s_fl1[:100]\n",
        "type(proper_s_fl1[:100])\n",
        "\n",
        "import statistics\n",
        "from statistics import stdev\n",
        "from fractions import Fraction as fr\n",
        "\n",
        "print(np.mean(proper_s_fl1))\n",
        "print(statistics.median(proper_s_fl1))\n",
        "print(np.std(proper_s_fl1))\n",
        "print(statistics.variance(proper_s_fl1))\n",
        "\n",
        "ordered= sorted(proper_s_fl1)\n",
        "i= round(len(ordered)*0.05)\n",
        "lower = ordered[i]\n",
        "i= round(len(ordered)*0.95)\n",
        "upper= ordered[i]\n",
        "\n",
        "print(lower)\n",
        "print(upper)\n"
      ]
    },
    {
      "cell_type": "code",
      "execution_count": 35,
      "id": "cb73cfc0",
      "metadata": {
        "id": "cb73cfc0",
        "outputId": "572059d4-b761-4025-8e45-7c9f24df7623",
        "colab": {
          "base_uri": "https://localhost:8080/"
        }
      },
      "outputs": [
        {
          "output_type": "stream",
          "name": "stdout",
          "text": [
            "33581.402794437476\n",
            "463.79998779296875\n",
            "153084.14615086498\n",
            "23434998488.997234\n",
            "280.1000061035156\n",
            "150134.0\n"
          ]
        }
      ],
      "source": [
        "s = FlowCal.io.FCSData('02-blank-G3-2.fcs')\n",
        "s\n",
        "\n",
        "s_fl1 = s[:, ['FL1-H']]\n",
        "s_fl1\n",
        "\n",
        "s_fl1 = s_fl1.tolist()\n",
        "s_fl1[0][0]\n",
        "\n",
        "proper_s_fl1 = []\n",
        "for i in range(len(s_fl1)):\n",
        "    proper_s_fl1.append(s_fl1[i][0])\n",
        "\n",
        "proper_s_fl1[:100]\n",
        "type(proper_s_fl1[:100])\n",
        "\n",
        "import statistics\n",
        "from statistics import stdev\n",
        "from fractions import Fraction as fr\n",
        "\n",
        "print(np.mean(proper_s_fl1))\n",
        "print(statistics.median(proper_s_fl1))\n",
        "print(np.std(proper_s_fl1))\n",
        "print(statistics.variance(proper_s_fl1))\n",
        "\n",
        "ordered= sorted(proper_s_fl1)\n",
        "i= round(len(ordered)*0.05)\n",
        "lower = ordered[i]\n",
        "i= round(len(ordered)*0.95)\n",
        "upper= ordered[i]\n",
        "\n",
        "print(lower)\n",
        "print(upper)\n"
      ]
    },
    {
      "cell_type": "code",
      "execution_count": 36,
      "id": "0762d106",
      "metadata": {
        "id": "0762d106",
        "outputId": "32510c41-8385-477d-d77c-d56c17be205a",
        "colab": {
          "base_uri": "https://localhost:8080/"
        }
      },
      "outputs": [
        {
          "output_type": "stream",
          "name": "stdout",
          "text": [
            "31235.803656472763\n",
            "453.70001220703125\n",
            "160545.87901899152\n",
            "25775033978.13132\n",
            "274.29998779296875\n",
            "70963.6015625\n"
          ]
        }
      ],
      "source": [
        "s = FlowCal.io.FCSData('04-blank-G3-2.fcs')\n",
        "s\n",
        "\n",
        "s_fl1 = s[:, ['FL1-H']]\n",
        "s_fl1\n",
        "\n",
        "s_fl1 = s_fl1.tolist()\n",
        "s_fl1[0][0]\n",
        "\n",
        "proper_s_fl1 = []\n",
        "for i in range(len(s_fl1)):\n",
        "    proper_s_fl1.append(s_fl1[i][0])\n",
        "\n",
        "proper_s_fl1[:100]\n",
        "type(proper_s_fl1[:100])\n",
        "\n",
        "import statistics\n",
        "from statistics import stdev\n",
        "from fractions import Fraction as fr\n",
        "\n",
        "print(np.mean(proper_s_fl1))\n",
        "print(statistics.median(proper_s_fl1))\n",
        "print(np.std(proper_s_fl1))\n",
        "print(statistics.variance(proper_s_fl1))\n",
        "\n",
        "ordered= sorted(proper_s_fl1)\n",
        "i= round(len(ordered)*0.05)\n",
        "lower = ordered[i]\n",
        "i= round(len(ordered)*0.95)\n",
        "upper= ordered[i]\n",
        "\n",
        "print(lower)\n",
        "print(upper)\n"
      ]
    },
    {
      "cell_type": "code",
      "execution_count": 37,
      "id": "c93ba2f8",
      "metadata": {
        "id": "c93ba2f8",
        "outputId": "4ab84372-68b0-4b67-de78-75b3a6ed4a4c",
        "colab": {
          "base_uri": "https://localhost:8080/"
        }
      },
      "outputs": [
        {
          "output_type": "stream",
          "name": "stdout",
          "text": [
            "292377.20950228244\n",
            "269584.6875\n",
            "206670.70985606028\n",
            "42712950080.62829\n",
            "1981.300048828125\n",
            "633456.5\n"
          ]
        }
      ],
      "source": [
        "s = FlowCal.io.FCSData('02-blank-G3-3.fcs')\n",
        "s\n",
        "\n",
        "s_fl1 = s[:, ['FL1-H']]\n",
        "s_fl1\n",
        "\n",
        "s_fl1 = s_fl1.tolist()\n",
        "s_fl1[0][0]\n",
        "\n",
        "proper_s_fl1 = []\n",
        "for i in range(len(s_fl1)):\n",
        "    proper_s_fl1.append(s_fl1[i][0])\n",
        "\n",
        "proper_s_fl1[:100]\n",
        "type(proper_s_fl1[:100])\n",
        "\n",
        "import statistics\n",
        "from statistics import stdev\n",
        "from fractions import Fraction as fr\n",
        "\n",
        "print(np.mean(proper_s_fl1))\n",
        "print(statistics.median(proper_s_fl1))\n",
        "print(np.std(proper_s_fl1))\n",
        "print(statistics.variance(proper_s_fl1))\n",
        "\n",
        "ordered= sorted(proper_s_fl1)\n",
        "i= round(len(ordered)*0.05)\n",
        "lower = ordered[i]\n",
        "i= round(len(ordered)*0.95)\n",
        "upper= ordered[i]\n",
        "\n",
        "print(lower)\n",
        "print(upper)\n"
      ]
    },
    {
      "cell_type": "code",
      "execution_count": 38,
      "id": "28e12383",
      "metadata": {
        "id": "28e12383",
        "outputId": "99c0961e-4d57-4b63-beea-eca03f1de6fd",
        "colab": {
          "base_uri": "https://localhost:8080/"
        }
      },
      "outputs": [
        {
          "output_type": "stream",
          "name": "stdout",
          "text": [
            "332339.84506459255\n",
            "310790.0\n",
            "225037.4620714067\n",
            "50641980124.21355\n",
            "3054.699951171875\n",
            "708006.8125\n"
          ]
        }
      ],
      "source": [
        "s = FlowCal.io.FCSData('04-blank-G3-3.fcs')\n",
        "s\n",
        "\n",
        "s_fl1 = s[:, ['FL1-H']]\n",
        "s_fl1\n",
        "\n",
        "s_fl1 = s_fl1.tolist()\n",
        "s_fl1[0][0]\n",
        "\n",
        "proper_s_fl1 = []\n",
        "for i in range(len(s_fl1)):\n",
        "    proper_s_fl1.append(s_fl1[i][0])\n",
        "\n",
        "proper_s_fl1[:100]\n",
        "type(proper_s_fl1[:100])\n",
        "\n",
        "import statistics\n",
        "from statistics import stdev\n",
        "from fractions import Fraction as fr\n",
        "\n",
        "print(np.mean(proper_s_fl1))\n",
        "print(statistics.median(proper_s_fl1))\n",
        "print(np.std(proper_s_fl1))\n",
        "print(statistics.variance(proper_s_fl1))\n",
        "\n",
        "ordered= sorted(proper_s_fl1)\n",
        "i= round(len(ordered)*0.05)\n",
        "lower = ordered[i]\n",
        "i= round(len(ordered)*0.95)\n",
        "upper= ordered[i]\n",
        "\n",
        "print(lower)\n",
        "print(upper)\n"
      ]
    },
    {
      "cell_type": "code",
      "execution_count": 39,
      "id": "497203a5",
      "metadata": {
        "id": "497203a5",
        "outputId": "62361f61-2767-4518-a9c1-c12ba48a511d",
        "colab": {
          "base_uri": "https://localhost:8080/"
        }
      },
      "outputs": [
        {
          "output_type": "stream",
          "name": "stdout",
          "text": [
            "294919.23406895844\n",
            "275841.09375\n",
            "193517.59829951264\n",
            "37449219550.88414\n",
            "3791.300048828125\n",
            "619561.875\n"
          ]
        }
      ],
      "source": [
        "s = FlowCal.io.FCSData('02-blank-G3-4.fcs')\n",
        "s\n",
        "\n",
        "s_fl1 = s[:, ['FL1-H']]\n",
        "s_fl1\n",
        "\n",
        "s_fl1 = s_fl1.tolist()\n",
        "s_fl1[0][0]\n",
        "\n",
        "proper_s_fl1 = []\n",
        "for i in range(len(s_fl1)):\n",
        "    proper_s_fl1.append(s_fl1[i][0])\n",
        "\n",
        "proper_s_fl1[:100]\n",
        "type(proper_s_fl1[:100])\n",
        "\n",
        "import statistics\n",
        "from statistics import stdev\n",
        "from fractions import Fraction as fr\n",
        "\n",
        "print(np.mean(proper_s_fl1))\n",
        "print(statistics.median(proper_s_fl1))\n",
        "print(np.std(proper_s_fl1))\n",
        "print(statistics.variance(proper_s_fl1))\n",
        "\n",
        "ordered= sorted(proper_s_fl1)\n",
        "i= round(len(ordered)*0.05)\n",
        "lower = ordered[i]\n",
        "i= round(len(ordered)*0.95)\n",
        "upper= ordered[i]\n",
        "\n",
        "print(lower)\n",
        "print(upper)\n"
      ]
    },
    {
      "cell_type": "code",
      "execution_count": 41,
      "id": "da897a49",
      "metadata": {
        "id": "da897a49",
        "outputId": "0839d680-d4eb-488f-d6a7-65dae9a74ab8",
        "colab": {
          "base_uri": "https://localhost:8080/"
        }
      },
      "outputs": [
        {
          "output_type": "stream",
          "name": "stdout",
          "text": [
            "253257.36342052394\n",
            "234819.09375\n",
            "176315.7272898011\n",
            "31087310950.190456\n",
            "2974.0\n",
            "541960.8125\n"
          ]
        }
      ],
      "source": [
        "s = FlowCal.io.FCSData('04-blank-G3-4.fcs')\n",
        "s\n",
        "\n",
        "s_fl1 = s[:, ['FL1-H']]\n",
        "s_fl1\n",
        "\n",
        "s_fl1 = s_fl1.tolist()\n",
        "s_fl1[0][0]\n",
        "\n",
        "proper_s_fl1 = []\n",
        "for i in range(len(s_fl1)):\n",
        "    proper_s_fl1.append(s_fl1[i][0])\n",
        "\n",
        "proper_s_fl1[:100]\n",
        "type(proper_s_fl1[:100])\n",
        "\n",
        "import statistics\n",
        "from statistics import stdev\n",
        "from fractions import Fraction as fr\n",
        "\n",
        "print(np.mean(proper_s_fl1))\n",
        "print(statistics.median(proper_s_fl1))\n",
        "print(np.std(proper_s_fl1))\n",
        "print(statistics.variance(proper_s_fl1))\n",
        "\n",
        "ordered= sorted(proper_s_fl1)\n",
        "i= round(len(ordered)*0.05)\n",
        "lower = ordered[i]\n",
        "i= round(len(ordered)*0.95)\n",
        "upper= ordered[i]\n",
        "\n",
        "print(lower)\n",
        "print(upper)\n"
      ]
    },
    {
      "cell_type": "code",
      "execution_count": 43,
      "id": "f80b937b",
      "metadata": {
        "id": "f80b937b",
        "outputId": "55a1d0f8-6190-4994-c2f0-d4994fef6c57",
        "colab": {
          "base_uri": "https://localhost:8080/"
        }
      },
      "outputs": [
        {
          "output_type": "stream",
          "name": "stdout",
          "text": [
            "45203.29465539542\n",
            "454.70001220703125\n",
            "186763.6734123846\n",
            "34880923988.81533\n",
            "275.5\n",
            "391477.3125\n"
          ]
        }
      ],
      "source": [
        "s = FlowCal.io.FCSData('02-blank-G4-1.fcs')\n",
        "s\n",
        "\n",
        "s_fl1 = s[:, ['FL1-H']]\n",
        "s_fl1\n",
        "\n",
        "s_fl1 = s_fl1.tolist()\n",
        "s_fl1[0][0]\n",
        "\n",
        "proper_s_fl1 = []\n",
        "for i in range(len(s_fl1)):\n",
        "    proper_s_fl1.append(s_fl1[i][0])\n",
        "\n",
        "proper_s_fl1[:100]\n",
        "type(proper_s_fl1[:100])\n",
        "\n",
        "import statistics\n",
        "from statistics import stdev\n",
        "from fractions import Fraction as fr\n",
        "\n",
        "print(np.mean(proper_s_fl1))\n",
        "print(statistics.median(proper_s_fl1))\n",
        "print(np.std(proper_s_fl1))\n",
        "print(statistics.variance(proper_s_fl1))\n",
        "\n",
        "ordered= sorted(proper_s_fl1)\n",
        "i= round(len(ordered)*0.05)\n",
        "lower = ordered[i]\n",
        "i= round(len(ordered)*0.95)\n",
        "upper= ordered[i]\n",
        "\n",
        "print(lower)\n",
        "print(upper)\n"
      ]
    },
    {
      "cell_type": "code",
      "source": [
        "import FlowCal\n",
        "import numpy as np"
      ],
      "metadata": {
        "id": "2CJQXWPw1BHg"
      },
      "id": "2CJQXWPw1BHg",
      "execution_count": 2,
      "outputs": []
    },
    {
      "cell_type": "code",
      "execution_count": 3,
      "id": "1147037a",
      "metadata": {
        "id": "1147037a",
        "outputId": "b9e7d516-ed25-4cb2-c5a6-1cdece94f549",
        "colab": {
          "base_uri": "https://localhost:8080/"
        }
      },
      "outputs": [
        {
          "output_type": "stream",
          "name": "stdout",
          "text": [
            "27334.18455294209\n",
            "450.79998779296875\n",
            "141845.68060040465\n",
            "20120294650.368614\n",
            "276.70001220703125\n",
            "38360.5\n"
          ]
        }
      ],
      "source": [
        "s = FlowCal.io.FCSData('04-blank-G4-1.fcs')\n",
        "s\n",
        "\n",
        "s_fl1 = s[:, ['FL1-H']]\n",
        "s_fl1\n",
        "\n",
        "s_fl1 = s_fl1.tolist()\n",
        "s_fl1[0][0]\n",
        "\n",
        "proper_s_fl1 = []\n",
        "for i in range(len(s_fl1)):\n",
        "    proper_s_fl1.append(s_fl1[i][0])\n",
        "\n",
        "proper_s_fl1[:100]\n",
        "type(proper_s_fl1[:100])\n",
        "\n",
        "import statistics\n",
        "from statistics import stdev\n",
        "from fractions import Fraction as fr\n",
        "\n",
        "print(np.mean(proper_s_fl1))\n",
        "print(statistics.median(proper_s_fl1))\n",
        "print(np.std(proper_s_fl1))\n",
        "print(statistics.variance(proper_s_fl1))\n",
        "\n",
        "ordered= sorted(proper_s_fl1)\n",
        "i= round(len(ordered)*0.05)\n",
        "lower = ordered[i]\n",
        "i= round(len(ordered)*0.95)\n",
        "upper= ordered[i]\n",
        "\n",
        "print(lower)\n",
        "print(upper)\n"
      ]
    },
    {
      "cell_type": "code",
      "execution_count": 4,
      "id": "3579bbd4",
      "metadata": {
        "id": "3579bbd4",
        "outputId": "0f053281-0af7-44c1-9940-6924f8f71b04",
        "colab": {
          "base_uri": "https://localhost:8080/"
        }
      },
      "outputs": [
        {
          "output_type": "stream",
          "name": "stdout",
          "text": [
            "68697.06858661192\n",
            "455.70001220703125\n",
            "236201.6547554228\n",
            "55791554467.30226\n",
            "272.29998779296875\n",
            "640749.6875\n"
          ]
        }
      ],
      "source": [
        "s = FlowCal.io.FCSData('02-blank-G4-2.fcs')\n",
        "s\n",
        "\n",
        "s_fl1 = s[:, ['FL1-H']]\n",
        "s_fl1\n",
        "\n",
        "s_fl1 = s_fl1.tolist()\n",
        "s_fl1[0][0]\n",
        "\n",
        "proper_s_fl1 = []\n",
        "for i in range(len(s_fl1)):\n",
        "    proper_s_fl1.append(s_fl1[i][0])\n",
        "\n",
        "proper_s_fl1[:100]\n",
        "type(proper_s_fl1[:100])\n",
        "\n",
        "import statistics\n",
        "from statistics import stdev\n",
        "from fractions import Fraction as fr\n",
        "\n",
        "print(np.mean(proper_s_fl1))\n",
        "print(statistics.median(proper_s_fl1))\n",
        "print(np.std(proper_s_fl1))\n",
        "print(statistics.variance(proper_s_fl1))\n",
        "\n",
        "ordered= sorted(proper_s_fl1)\n",
        "i= round(len(ordered)*0.05)\n",
        "lower = ordered[i]\n",
        "i= round(len(ordered)*0.95)\n",
        "upper= ordered[i]\n",
        "\n",
        "print(lower)\n",
        "print(upper)\n"
      ]
    },
    {
      "cell_type": "code",
      "execution_count": 5,
      "id": "46c4fff8",
      "metadata": {
        "id": "46c4fff8",
        "outputId": "62ec9a99-e708-43fc-ee53-030a055e9a94",
        "colab": {
          "base_uri": "https://localhost:8080/"
        }
      },
      "outputs": [
        {
          "output_type": "stream",
          "name": "stdout",
          "text": [
            "67863.28176956657\n",
            "452.70001220703125\n",
            "239580.49085458808\n",
            "57398950187.697624\n",
            "273.0\n",
            "620531.5\n"
          ]
        }
      ],
      "source": [
        "s = FlowCal.io.FCSData('04-blank-G4-2.fcs')\n",
        "s\n",
        "\n",
        "s_fl1 = s[:, ['FL1-H']]\n",
        "s_fl1\n",
        "\n",
        "s_fl1 = s_fl1.tolist()\n",
        "s_fl1[0][0]\n",
        "\n",
        "proper_s_fl1 = []\n",
        "for i in range(len(s_fl1)):\n",
        "    proper_s_fl1.append(s_fl1[i][0])\n",
        "\n",
        "proper_s_fl1[:100]\n",
        "type(proper_s_fl1[:100])\n",
        "\n",
        "import statistics\n",
        "from statistics import stdev\n",
        "from fractions import Fraction as fr\n",
        "\n",
        "print(np.mean(proper_s_fl1))\n",
        "print(statistics.median(proper_s_fl1))\n",
        "print(np.std(proper_s_fl1))\n",
        "print(statistics.variance(proper_s_fl1))\n",
        "\n",
        "ordered= sorted(proper_s_fl1)\n",
        "i= round(len(ordered)*0.05)\n",
        "lower = ordered[i]\n",
        "i= round(len(ordered)*0.95)\n",
        "upper= ordered[i]\n",
        "\n",
        "print(lower)\n",
        "print(upper)\n"
      ]
    },
    {
      "cell_type": "code",
      "execution_count": 6,
      "id": "88865cb4",
      "metadata": {
        "id": "88865cb4",
        "outputId": "591966a2-4602-4d00-fbfe-25b7000d072a",
        "colab": {
          "base_uri": "https://localhost:8080/"
        }
      },
      "outputs": [
        {
          "output_type": "stream",
          "name": "stdout",
          "text": [
            "401134.36873923714\n",
            "355574.6875\n",
            "266931.4307655292\n",
            "71252768289.82559\n",
            "4864.39990234375\n",
            "872796.3125\n"
          ]
        }
      ],
      "source": [
        "s = FlowCal.io.FCSData('02-blank-G4-3.fcs')\n",
        "s\n",
        "\n",
        "s_fl1 = s[:, ['FL1-H']]\n",
        "s_fl1\n",
        "\n",
        "s_fl1 = s_fl1.tolist()\n",
        "s_fl1[0][0]\n",
        "\n",
        "proper_s_fl1 = []\n",
        "for i in range(len(s_fl1)):\n",
        "    proper_s_fl1.append(s_fl1[i][0])\n",
        "\n",
        "proper_s_fl1[:100]\n",
        "type(proper_s_fl1[:100])\n",
        "\n",
        "import statistics\n",
        "from statistics import stdev\n",
        "from fractions import Fraction as fr\n",
        "\n",
        "print(np.mean(proper_s_fl1))\n",
        "print(statistics.median(proper_s_fl1))\n",
        "print(np.std(proper_s_fl1))\n",
        "print(statistics.variance(proper_s_fl1))\n",
        "\n",
        "ordered= sorted(proper_s_fl1)\n",
        "i= round(len(ordered)*0.05)\n",
        "lower = ordered[i]\n",
        "i= round(len(ordered)*0.95)\n",
        "upper= ordered[i]\n",
        "\n",
        "print(lower)\n",
        "print(upper)\n"
      ]
    },
    {
      "cell_type": "code",
      "execution_count": 7,
      "id": "5f0a51e2",
      "metadata": {
        "id": "5f0a51e2",
        "outputId": "11f5e5dd-eafb-458e-8b19-ef4c9f32cbab",
        "colab": {
          "base_uri": "https://localhost:8080/"
        }
      },
      "outputs": [
        {
          "output_type": "stream",
          "name": "stdout",
          "text": [
            "390217.7466303779\n",
            "357563.859375\n",
            "260138.54820944593\n",
            "67672316430.667305\n",
            "804.0\n",
            "840146.0\n"
          ]
        }
      ],
      "source": [
        "s = FlowCal.io.FCSData('04-blank-G4-3.fcs')\n",
        "s\n",
        "\n",
        "s_fl1 = s[:, ['FL1-H']]\n",
        "s_fl1\n",
        "\n",
        "s_fl1 = s_fl1.tolist()\n",
        "s_fl1[0][0]\n",
        "\n",
        "proper_s_fl1 = []\n",
        "for i in range(len(s_fl1)):\n",
        "    proper_s_fl1.append(s_fl1[i][0])\n",
        "\n",
        "proper_s_fl1[:100]\n",
        "type(proper_s_fl1[:100])\n",
        "\n",
        "import statistics\n",
        "from statistics import stdev\n",
        "from fractions import Fraction as fr\n",
        "\n",
        "print(np.mean(proper_s_fl1))\n",
        "print(statistics.median(proper_s_fl1))\n",
        "print(np.std(proper_s_fl1))\n",
        "print(statistics.variance(proper_s_fl1))\n",
        "\n",
        "ordered= sorted(proper_s_fl1)\n",
        "i= round(len(ordered)*0.05)\n",
        "lower = ordered[i]\n",
        "i= round(len(ordered)*0.95)\n",
        "upper= ordered[i]\n",
        "\n",
        "print(lower)\n",
        "print(upper)\n"
      ]
    },
    {
      "cell_type": "code",
      "execution_count": 8,
      "id": "7e039c07",
      "metadata": {
        "id": "7e039c07",
        "outputId": "6705cd2b-bae9-41a8-eb94-37492c98c8b6",
        "colab": {
          "base_uri": "https://localhost:8080/"
        }
      },
      "outputs": [
        {
          "output_type": "stream",
          "name": "stdout",
          "text": [
            "313731.64853557904\n",
            "287488.5\n",
            "212523.83182989142\n",
            "45166573728.83127\n",
            "959.7999877929688\n",
            "661391.3125\n"
          ]
        }
      ],
      "source": [
        "s = FlowCal.io.FCSData('02-blank-G4-4.fcs')\n",
        "s\n",
        "\n",
        "s_fl1 = s[:, ['FL1-H']]\n",
        "s_fl1\n",
        "\n",
        "s_fl1 = s_fl1.tolist()\n",
        "s_fl1[0][0]\n",
        "\n",
        "proper_s_fl1 = []\n",
        "for i in range(len(s_fl1)):\n",
        "    proper_s_fl1.append(s_fl1[i][0])\n",
        "\n",
        "proper_s_fl1[:100]\n",
        "type(proper_s_fl1[:100])\n",
        "\n",
        "import statistics\n",
        "from statistics import stdev\n",
        "from fractions import Fraction as fr\n",
        "\n",
        "print(np.mean(proper_s_fl1))\n",
        "print(statistics.median(proper_s_fl1))\n",
        "print(np.std(proper_s_fl1))\n",
        "print(statistics.variance(proper_s_fl1))\n",
        "\n",
        "ordered= sorted(proper_s_fl1)\n",
        "i= round(len(ordered)*0.05)\n",
        "lower = ordered[i]\n",
        "i= round(len(ordered)*0.95)\n",
        "upper= ordered[i]\n",
        "\n",
        "print(lower)\n",
        "print(upper)\n"
      ]
    },
    {
      "cell_type": "code",
      "execution_count": 10,
      "id": "0967c5a4",
      "metadata": {
        "id": "0967c5a4",
        "outputId": "3fe33316-8ce9-4641-ca97-7ba37de9106d",
        "colab": {
          "base_uri": "https://localhost:8080/"
        }
      },
      "outputs": [
        {
          "output_type": "stream",
          "name": "stdout",
          "text": [
            "284356.8106297677\n",
            "264243.1875\n",
            "202351.34295010084\n",
            "40946231964.80851\n",
            "672.7000122070312\n",
            "603019.6875\n"
          ]
        }
      ],
      "source": [
        "s = FlowCal.io.FCSData('04-blank-G4-4.fcs')\n",
        "s\n",
        "\n",
        "s_fl1 = s[:, ['FL1-H']]\n",
        "s_fl1\n",
        "\n",
        "s_fl1 = s_fl1.tolist()\n",
        "s_fl1[0][0]\n",
        "\n",
        "proper_s_fl1 = []\n",
        "for i in range(len(s_fl1)):\n",
        "    proper_s_fl1.append(s_fl1[i][0])\n",
        "\n",
        "proper_s_fl1[:100]\n",
        "type(proper_s_fl1[:100])\n",
        "\n",
        "import statistics\n",
        "from statistics import stdev\n",
        "from fractions import Fraction as fr\n",
        "\n",
        "print(np.mean(proper_s_fl1))\n",
        "print(statistics.median(proper_s_fl1))\n",
        "print(np.std(proper_s_fl1))\n",
        "print(statistics.variance(proper_s_fl1))\n",
        "\n",
        "ordered= sorted(proper_s_fl1)\n",
        "i= round(len(ordered)*0.05)\n",
        "lower = ordered[i]\n",
        "i= round(len(ordered)*0.95)\n",
        "upper= ordered[i]\n",
        "\n",
        "print(lower)\n",
        "print(upper)\n"
      ]
    },
    {
      "cell_type": "code",
      "execution_count": 11,
      "id": "a7e4db9b",
      "metadata": {
        "id": "a7e4db9b",
        "outputId": "ff5d29a5-748d-45c8-f126-bd090a38eebd",
        "colab": {
          "base_uri": "https://localhost:8080/"
        }
      },
      "outputs": [
        {
          "output_type": "stream",
          "name": "stdout",
          "text": [
            "19937.55159866088\n",
            "465.0\n",
            "103303.49803618802\n",
            "10671734234.466812\n",
            "276.6000061035156\n",
            "48203.1015625\n"
          ]
        }
      ],
      "source": [
        "s = FlowCal.io.FCSData('02-blank-G5-1.fcs')\n",
        "s\n",
        "\n",
        "s_fl1 = s[:, ['FL1-H']]\n",
        "s_fl1\n",
        "\n",
        "s_fl1 = s_fl1.tolist()\n",
        "s_fl1[0][0]\n",
        "\n",
        "proper_s_fl1 = []\n",
        "for i in range(len(s_fl1)):\n",
        "    proper_s_fl1.append(s_fl1[i][0])\n",
        "\n",
        "proper_s_fl1[:100]\n",
        "type(proper_s_fl1[:100])\n",
        "\n",
        "import statistics\n",
        "from statistics import stdev\n",
        "from fractions import Fraction as fr\n",
        "\n",
        "print(np.mean(proper_s_fl1))\n",
        "print(statistics.median(proper_s_fl1))\n",
        "print(np.std(proper_s_fl1))\n",
        "print(statistics.variance(proper_s_fl1))\n",
        "\n",
        "ordered= sorted(proper_s_fl1)\n",
        "i= round(len(ordered)*0.05)\n",
        "lower = ordered[i]\n",
        "i= round(len(ordered)*0.95)\n",
        "upper= ordered[i]\n",
        "\n",
        "print(lower)\n",
        "print(upper)\n"
      ]
    },
    {
      "cell_type": "code",
      "execution_count": 12,
      "id": "d5f6ac01",
      "metadata": {
        "id": "d5f6ac01",
        "outputId": "2572a643-71b8-4a6b-8fa9-cacdf65518ba",
        "colab": {
          "base_uri": "https://localhost:8080/"
        }
      },
      "outputs": [
        {
          "output_type": "stream",
          "name": "stdout",
          "text": [
            "19517.678338074023\n",
            "475.79998779296875\n",
            "108178.75372112385\n",
            "11702705851.501595\n",
            "286.3999938964844\n",
            "42132.1015625\n"
          ]
        }
      ],
      "source": [
        "s = FlowCal.io.FCSData('04-blank-G5-1.fcs')\n",
        "s\n",
        "\n",
        "s_fl1 = s[:, ['FL1-H']]\n",
        "s_fl1\n",
        "\n",
        "s_fl1 = s_fl1.tolist()\n",
        "s_fl1[0][0]\n",
        "\n",
        "proper_s_fl1 = []\n",
        "for i in range(len(s_fl1)):\n",
        "    proper_s_fl1.append(s_fl1[i][0])\n",
        "\n",
        "proper_s_fl1[:100]\n",
        "type(proper_s_fl1[:100])\n",
        "\n",
        "import statistics\n",
        "from statistics import stdev\n",
        "from fractions import Fraction as fr\n",
        "\n",
        "print(np.mean(proper_s_fl1))\n",
        "print(statistics.median(proper_s_fl1))\n",
        "print(np.std(proper_s_fl1))\n",
        "print(statistics.variance(proper_s_fl1))\n",
        "\n",
        "ordered= sorted(proper_s_fl1)\n",
        "i= round(len(ordered)*0.05)\n",
        "lower = ordered[i]\n",
        "i= round(len(ordered)*0.95)\n",
        "upper= ordered[i]\n",
        "\n",
        "print(lower)\n",
        "print(upper)\n"
      ]
    },
    {
      "cell_type": "code",
      "execution_count": 13,
      "id": "d976bc9b",
      "metadata": {
        "id": "d976bc9b",
        "outputId": "efa4096a-69d4-41ec-a142-028114585f29",
        "colab": {
          "base_uri": "https://localhost:8080/"
        }
      },
      "outputs": [
        {
          "output_type": "stream",
          "name": "stdout",
          "text": [
            "35310.356196567125\n",
            "476.79998779296875\n",
            "148875.1185793491\n",
            "22163969319.24655\n",
            "277.0\n",
            "246675.90625\n"
          ]
        }
      ],
      "source": [
        "s = FlowCal.io.FCSData('02-blank-G5-2.fcs')\n",
        "s\n",
        "\n",
        "s_fl1 = s[:, ['FL1-H']]\n",
        "s_fl1\n",
        "\n",
        "s_fl1 = s_fl1.tolist()\n",
        "s_fl1[0][0]\n",
        "\n",
        "proper_s_fl1 = []\n",
        "for i in range(len(s_fl1)):\n",
        "    proper_s_fl1.append(s_fl1[i][0])\n",
        "\n",
        "proper_s_fl1[:100]\n",
        "type(proper_s_fl1[:100])\n",
        "\n",
        "import statistics\n",
        "from statistics import stdev\n",
        "from fractions import Fraction as fr\n",
        "\n",
        "print(np.mean(proper_s_fl1))\n",
        "print(statistics.median(proper_s_fl1))\n",
        "print(np.std(proper_s_fl1))\n",
        "print(statistics.variance(proper_s_fl1))\n",
        "\n",
        "ordered= sorted(proper_s_fl1)\n",
        "i= round(len(ordered)*0.05)\n",
        "lower = ordered[i]\n",
        "i= round(len(ordered)*0.95)\n",
        "upper= ordered[i]\n",
        "\n",
        "print(lower)\n",
        "print(upper)\n"
      ]
    },
    {
      "cell_type": "code",
      "execution_count": 14,
      "id": "adaed664",
      "metadata": {
        "id": "adaed664",
        "outputId": "c7f3ccc0-7a75-452a-df83-cf2f11d0f0ed",
        "colab": {
          "base_uri": "https://localhost:8080/"
        }
      },
      "outputs": [
        {
          "output_type": "stream",
          "name": "stdout",
          "text": [
            "42361.92316972797\n",
            "475.0\n",
            "174145.01572063682\n",
            "30326582398.614605\n",
            "281.0\n",
            "364216.1875\n"
          ]
        }
      ],
      "source": [
        "s = FlowCal.io.FCSData('04-blank-G5-2.fcs')\n",
        "s\n",
        "\n",
        "s_fl1 = s[:, ['FL1-H']]\n",
        "s_fl1\n",
        "\n",
        "s_fl1 = s_fl1.tolist()\n",
        "s_fl1[0][0]\n",
        "\n",
        "proper_s_fl1 = []\n",
        "for i in range(len(s_fl1)):\n",
        "    proper_s_fl1.append(s_fl1[i][0])\n",
        "\n",
        "proper_s_fl1[:100]\n",
        "type(proper_s_fl1[:100])\n",
        "\n",
        "import statistics\n",
        "from statistics import stdev\n",
        "from fractions import Fraction as fr\n",
        "\n",
        "print(np.mean(proper_s_fl1))\n",
        "print(statistics.median(proper_s_fl1))\n",
        "print(np.std(proper_s_fl1))\n",
        "print(statistics.variance(proper_s_fl1))\n",
        "\n",
        "ordered= sorted(proper_s_fl1)\n",
        "i= round(len(ordered)*0.05)\n",
        "lower = ordered[i]\n",
        "i= round(len(ordered)*0.95)\n",
        "upper= ordered[i]\n",
        "\n",
        "print(lower)\n",
        "print(upper)\n"
      ]
    },
    {
      "cell_type": "code",
      "execution_count": 15,
      "id": "fa1b39d2",
      "metadata": {
        "id": "fa1b39d2",
        "outputId": "429cff83-0fa5-4b4c-e5a4-d3f318e33193",
        "colab": {
          "base_uri": "https://localhost:8080/"
        }
      },
      "outputs": [
        {
          "output_type": "stream",
          "name": "stdout",
          "text": [
            "276295.3463642667\n",
            "274174.0\n",
            "232699.6228071625\n",
            "54149474172.89117\n",
            "550.4000244140625\n",
            "666813.0\n"
          ]
        }
      ],
      "source": [
        "s = FlowCal.io.FCSData('02-blank-G5-3.fcs')\n",
        "s\n",
        "\n",
        "s_fl1 = s[:, ['FL1-H']]\n",
        "s_fl1\n",
        "\n",
        "s_fl1 = s_fl1.tolist()\n",
        "s_fl1[0][0]\n",
        "\n",
        "proper_s_fl1 = []\n",
        "for i in range(len(s_fl1)):\n",
        "    proper_s_fl1.append(s_fl1[i][0])\n",
        "\n",
        "proper_s_fl1[:100]\n",
        "type(proper_s_fl1[:100])\n",
        "\n",
        "import statistics\n",
        "from statistics import stdev\n",
        "from fractions import Fraction as fr\n",
        "\n",
        "print(np.mean(proper_s_fl1))\n",
        "print(statistics.median(proper_s_fl1))\n",
        "print(np.std(proper_s_fl1))\n",
        "print(statistics.variance(proper_s_fl1))\n",
        "\n",
        "ordered= sorted(proper_s_fl1)\n",
        "i= round(len(ordered)*0.05)\n",
        "lower = ordered[i]\n",
        "i= round(len(ordered)*0.95)\n",
        "upper= ordered[i]\n",
        "\n",
        "print(lower)\n",
        "print(upper)\n"
      ]
    },
    {
      "cell_type": "code",
      "execution_count": 16,
      "id": "5f93faba",
      "metadata": {
        "id": "5f93faba",
        "outputId": "9e358277-51a9-4d91-e6f0-5a264d28af90",
        "colab": {
          "base_uri": "https://localhost:8080/"
        }
      },
      "outputs": [
        {
          "output_type": "stream",
          "name": "stdout",
          "text": [
            "286436.7171942806\n",
            "296774.6875\n",
            "242251.1301359203\n",
            "58685922183.066536\n",
            "537.2999877929688\n",
            "685977.8125\n"
          ]
        }
      ],
      "source": [
        "s = FlowCal.io.FCSData('04-blank-G5-3.fcs')\n",
        "s\n",
        "\n",
        "s_fl1 = s[:, ['FL1-H']]\n",
        "s_fl1\n",
        "\n",
        "s_fl1 = s_fl1.tolist()\n",
        "s_fl1[0][0]\n",
        "\n",
        "proper_s_fl1 = []\n",
        "for i in range(len(s_fl1)):\n",
        "    proper_s_fl1.append(s_fl1[i][0])\n",
        "\n",
        "proper_s_fl1[:100]\n",
        "type(proper_s_fl1[:100])\n",
        "\n",
        "import statistics\n",
        "from statistics import stdev\n",
        "from fractions import Fraction as fr\n",
        "\n",
        "print(np.mean(proper_s_fl1))\n",
        "print(statistics.median(proper_s_fl1))\n",
        "print(np.std(proper_s_fl1))\n",
        "print(statistics.variance(proper_s_fl1))\n",
        "\n",
        "ordered= sorted(proper_s_fl1)\n",
        "i= round(len(ordered)*0.05)\n",
        "lower = ordered[i]\n",
        "i= round(len(ordered)*0.95)\n",
        "upper= ordered[i]\n",
        "\n",
        "print(lower)\n",
        "print(upper)\n"
      ]
    },
    {
      "cell_type": "code",
      "execution_count": 17,
      "id": "0e0a797e",
      "metadata": {
        "id": "0e0a797e",
        "outputId": "ff60a212-68e2-48a4-d353-0e698825ff19",
        "colab": {
          "base_uri": "https://localhost:8080/"
        }
      },
      "outputs": [
        {
          "output_type": "stream",
          "name": "stdout",
          "text": [
            "234185.0360761848\n",
            "235626.59375\n",
            "192015.00228510052\n",
            "36869884039.45148\n",
            "571.0\n",
            "555939.625\n"
          ]
        }
      ],
      "source": [
        "s = FlowCal.io.FCSData('02-blank-G5-4.fcs')\n",
        "s\n",
        "\n",
        "s_fl1 = s[:, ['FL1-H']]\n",
        "s_fl1\n",
        "\n",
        "s_fl1 = s_fl1.tolist()\n",
        "s_fl1[0][0]\n",
        "\n",
        "proper_s_fl1 = []\n",
        "for i in range(len(s_fl1)):\n",
        "    proper_s_fl1.append(s_fl1[i][0])\n",
        "\n",
        "proper_s_fl1[:100]\n",
        "type(proper_s_fl1[:100])\n",
        "\n",
        "import statistics\n",
        "from statistics import stdev\n",
        "from fractions import Fraction as fr\n",
        "\n",
        "print(np.mean(proper_s_fl1))\n",
        "print(statistics.median(proper_s_fl1))\n",
        "print(np.std(proper_s_fl1))\n",
        "print(statistics.variance(proper_s_fl1))\n",
        "\n",
        "ordered= sorted(proper_s_fl1)\n",
        "i= round(len(ordered)*0.05)\n",
        "lower = ordered[i]\n",
        "i= round(len(ordered)*0.95)\n",
        "upper= ordered[i]\n",
        "\n",
        "print(lower)\n",
        "print(upper)\n"
      ]
    },
    {
      "cell_type": "code",
      "execution_count": 18,
      "id": "8c10e884",
      "metadata": {
        "id": "8c10e884",
        "outputId": "57878717-3827-469a-8430-3119d63e0831",
        "colab": {
          "base_uri": "https://localhost:8080/"
        }
      },
      "outputs": [
        {
          "output_type": "stream",
          "name": "stdout",
          "text": [
            "218412.65443318358\n",
            "221134.09375\n",
            "197036.02964978517\n",
            "38823381773.32052\n",
            "519.7000122070312\n",
            "544561.125\n"
          ]
        }
      ],
      "source": [
        "s = FlowCal.io.FCSData('04-blank-G5-4.fcs')\n",
        "s\n",
        "\n",
        "s_fl1 = s[:, ['FL1-H']]\n",
        "s_fl1\n",
        "\n",
        "s_fl1 = s_fl1.tolist()\n",
        "s_fl1[0][0]\n",
        "\n",
        "proper_s_fl1 = []\n",
        "for i in range(len(s_fl1)):\n",
        "    proper_s_fl1.append(s_fl1[i][0])\n",
        "\n",
        "proper_s_fl1[:100]\n",
        "type(proper_s_fl1[:100])\n",
        "\n",
        "import statistics\n",
        "from statistics import stdev\n",
        "from fractions import Fraction as fr\n",
        "\n",
        "print(np.mean(proper_s_fl1))\n",
        "print(statistics.median(proper_s_fl1))\n",
        "print(np.std(proper_s_fl1))\n",
        "print(statistics.variance(proper_s_fl1))\n",
        "\n",
        "ordered= sorted(proper_s_fl1)\n",
        "i= round(len(ordered)*0.05)\n",
        "lower = ordered[i]\n",
        "i= round(len(ordered)*0.95)\n",
        "upper= ordered[i]\n",
        "\n",
        "print(lower)\n",
        "print(upper)\n"
      ]
    },
    {
      "cell_type": "code",
      "execution_count": 19,
      "id": "274dd9a1",
      "metadata": {
        "id": "274dd9a1",
        "outputId": "54fb4560-b1e2-41c0-bbdf-8a4bb56d00e5",
        "colab": {
          "base_uri": "https://localhost:8080/"
        }
      },
      "outputs": [
        {
          "output_type": "stream",
          "name": "stdout",
          "text": [
            "17115.874780781945\n",
            "440.20001220703125\n",
            "91304.65281186136\n",
            "8336617017.356051\n",
            "267.20001220703125\n",
            "16396.5\n"
          ]
        }
      ],
      "source": [
        "s = FlowCal.io.FCSData('02-blank-G6-1.fcs')\n",
        "s\n",
        "\n",
        "s_fl1 = s[:, ['FL1-H']]\n",
        "s_fl1\n",
        "\n",
        "s_fl1 = s_fl1.tolist()\n",
        "s_fl1[0][0]\n",
        "\n",
        "proper_s_fl1 = []\n",
        "for i in range(len(s_fl1)):\n",
        "    proper_s_fl1.append(s_fl1[i][0])\n",
        "\n",
        "proper_s_fl1[:100]\n",
        "type(proper_s_fl1[:100])\n",
        "\n",
        "import statistics\n",
        "from statistics import stdev\n",
        "from fractions import Fraction as fr\n",
        "\n",
        "print(np.mean(proper_s_fl1))\n",
        "print(statistics.median(proper_s_fl1))\n",
        "print(np.std(proper_s_fl1))\n",
        "print(statistics.variance(proper_s_fl1))\n",
        "\n",
        "ordered= sorted(proper_s_fl1)\n",
        "i= round(len(ordered)*0.05)\n",
        "lower = ordered[i]\n",
        "i= round(len(ordered)*0.95)\n",
        "upper= ordered[i]\n",
        "\n",
        "print(lower)\n",
        "print(upper)\n"
      ]
    },
    {
      "cell_type": "code",
      "execution_count": 20,
      "id": "ffc8d852",
      "metadata": {
        "id": "ffc8d852",
        "outputId": "43f46d4a-b6a5-4d23-a1d9-1fcf04c722fe",
        "colab": {
          "base_uri": "https://localhost:8080/"
        }
      },
      "outputs": [
        {
          "output_type": "stream",
          "name": "stdout",
          "text": [
            "16547.017272873043\n",
            "454.8999938964844\n",
            "93842.8962678919\n",
            "8806538543.121508\n",
            "283.70001220703125\n",
            "2871.300048828125\n"
          ]
        }
      ],
      "source": [
        "s = FlowCal.io.FCSData('04-blank-G6-1.fcs')\n",
        "s\n",
        "\n",
        "s_fl1 = s[:, ['FL1-H']]\n",
        "s_fl1\n",
        "\n",
        "s_fl1 = s_fl1.tolist()\n",
        "s_fl1[0][0]\n",
        "\n",
        "proper_s_fl1 = []\n",
        "for i in range(len(s_fl1)):\n",
        "    proper_s_fl1.append(s_fl1[i][0])\n",
        "\n",
        "proper_s_fl1[:100]\n",
        "type(proper_s_fl1[:100])\n",
        "\n",
        "import statistics\n",
        "from statistics import stdev\n",
        "from fractions import Fraction as fr\n",
        "\n",
        "print(np.mean(proper_s_fl1))\n",
        "print(statistics.median(proper_s_fl1))\n",
        "print(np.std(proper_s_fl1))\n",
        "print(statistics.variance(proper_s_fl1))\n",
        "\n",
        "ordered= sorted(proper_s_fl1)\n",
        "i= round(len(ordered)*0.05)\n",
        "lower = ordered[i]\n",
        "i= round(len(ordered)*0.95)\n",
        "upper= ordered[i]\n",
        "\n",
        "print(lower)\n",
        "print(upper)\n"
      ]
    },
    {
      "cell_type": "code",
      "execution_count": 21,
      "id": "f1e0e003",
      "metadata": {
        "id": "f1e0e003",
        "outputId": "066f3442-c77b-488d-8bf6-5df870d78ee4",
        "colab": {
          "base_uri": "https://localhost:8080/"
        }
      },
      "outputs": [
        {
          "output_type": "stream",
          "name": "stdout",
          "text": [
            "42773.0234955049\n",
            "446.8999938964844\n",
            "207568.62009920218\n",
            "43084936542.39989\n",
            "270.6000061035156\n",
            "258337.203125\n"
          ]
        }
      ],
      "source": [
        "s = FlowCal.io.FCSData('02-blank-G6-2.fcs')\n",
        "s\n",
        "\n",
        "s_fl1 = s[:, ['FL1-H']]\n",
        "s_fl1\n",
        "\n",
        "s_fl1 = s_fl1.tolist()\n",
        "s_fl1[0][0]\n",
        "\n",
        "proper_s_fl1 = []\n",
        "for i in range(len(s_fl1)):\n",
        "    proper_s_fl1.append(s_fl1[i][0])\n",
        "\n",
        "proper_s_fl1[:100]\n",
        "type(proper_s_fl1[:100])\n",
        "\n",
        "import statistics\n",
        "from statistics import stdev\n",
        "from fractions import Fraction as fr\n",
        "\n",
        "print(np.mean(proper_s_fl1))\n",
        "print(statistics.median(proper_s_fl1))\n",
        "print(np.std(proper_s_fl1))\n",
        "print(statistics.variance(proper_s_fl1))\n",
        "\n",
        "ordered= sorted(proper_s_fl1)\n",
        "i= round(len(ordered)*0.05)\n",
        "lower = ordered[i]\n",
        "i= round(len(ordered)*0.95)\n",
        "upper= ordered[i]\n",
        "\n",
        "print(lower)\n",
        "print(upper)\n"
      ]
    },
    {
      "cell_type": "code",
      "execution_count": 25,
      "id": "39d8f40c",
      "metadata": {
        "id": "39d8f40c",
        "outputId": "df711171-d235-4e4d-c63f-b2f4407eda3e",
        "colab": {
          "base_uri": "https://localhost:8080/"
        }
      },
      "outputs": [
        {
          "output_type": "stream",
          "name": "stdout",
          "text": [
            "34169.90409703545\n",
            "445.8999938964844\n",
            "184313.42554518196\n",
            "33971513306.389145\n",
            "272.79998779296875\n",
            "55600.0\n"
          ]
        }
      ],
      "source": [
        "s = FlowCal.io.FCSData('04-blank-G6-2.fcs')\n",
        "s\n",
        "\n",
        "s_fl1 = s[:, ['FL1-H']]\n",
        "s_fl1\n",
        "\n",
        "s_fl1 = s_fl1.tolist()\n",
        "s_fl1[0][0]\n",
        "\n",
        "proper_s_fl1 = []\n",
        "for i in range(len(s_fl1)):\n",
        "    proper_s_fl1.append(s_fl1[i][0])\n",
        "\n",
        "proper_s_fl1[:100]\n",
        "type(proper_s_fl1[:100])\n",
        "\n",
        "import statistics\n",
        "from statistics import stdev\n",
        "from fractions import Fraction as fr\n",
        "\n",
        "print(np.mean(proper_s_fl1))\n",
        "print(statistics.median(proper_s_fl1))\n",
        "print(np.std(proper_s_fl1))\n",
        "print(statistics.variance(proper_s_fl1))\n",
        "\n",
        "ordered= sorted(proper_s_fl1)\n",
        "i= round(len(ordered)*0.05)\n",
        "lower = ordered[i]\n",
        "i= round(len(ordered)*0.95)\n",
        "upper= ordered[i]\n",
        "\n",
        "print(lower)\n",
        "print(upper)\n"
      ]
    },
    {
      "cell_type": "code",
      "execution_count": 23,
      "id": "ddf9a598",
      "metadata": {
        "id": "ddf9a598",
        "outputId": "0e864ecd-9642-4ec9-ed01-ca346e5d363d",
        "colab": {
          "base_uri": "https://localhost:8080/"
        }
      },
      "outputs": [
        {
          "output_type": "stream",
          "name": "stdout",
          "text": [
            "330001.6898024472\n",
            "308601.046875\n",
            "199864.95597209464\n",
            "39946307739.6486\n",
            "1021.7999877929688\n",
            "683483.5\n"
          ]
        }
      ],
      "source": [
        "s = FlowCal.io.FCSData('02-blank-G6-3.fcs')\n",
        "s\n",
        "\n",
        "s_fl1 = s[:, ['FL1-H']]\n",
        "s_fl1\n",
        "\n",
        "s_fl1 = s_fl1.tolist()\n",
        "s_fl1[0][0]\n",
        "\n",
        "proper_s_fl1 = []\n",
        "for i in range(len(s_fl1)):\n",
        "    proper_s_fl1.append(s_fl1[i][0])\n",
        "\n",
        "proper_s_fl1[:100]\n",
        "type(proper_s_fl1[:100])\n",
        "\n",
        "import statistics\n",
        "from statistics import stdev\n",
        "from fractions import Fraction as fr\n",
        "\n",
        "print(np.mean(proper_s_fl1))\n",
        "print(statistics.median(proper_s_fl1))\n",
        "print(np.std(proper_s_fl1))\n",
        "print(statistics.variance(proper_s_fl1))\n",
        "\n",
        "ordered= sorted(proper_s_fl1)\n",
        "i= round(len(ordered)*0.05)\n",
        "lower = ordered[i]\n",
        "i= round(len(ordered)*0.95)\n",
        "upper= ordered[i]\n",
        "\n",
        "print(lower)\n",
        "print(upper)\n"
      ]
    },
    {
      "cell_type": "code",
      "execution_count": 24,
      "id": "d8aff2d1",
      "metadata": {
        "id": "d8aff2d1",
        "outputId": "850c2f2c-5266-4536-f18d-585e159dd7d1",
        "colab": {
          "base_uri": "https://localhost:8080/"
        }
      },
      "outputs": [
        {
          "output_type": "stream",
          "name": "stdout",
          "text": [
            "371718.2441329081\n",
            "361609.34375\n",
            "197887.95004572193\n",
            "39159967030.2301\n",
            "1759.0\n",
            "703229.375\n"
          ]
        }
      ],
      "source": [
        "s = FlowCal.io.FCSData('04-blank-G6-3.fcs')\n",
        "s\n",
        "\n",
        "s_fl1 = s[:, ['FL1-H']]\n",
        "s_fl1\n",
        "\n",
        "s_fl1 = s_fl1.tolist()\n",
        "s_fl1[0][0]\n",
        "\n",
        "proper_s_fl1 = []\n",
        "for i in range(len(s_fl1)):\n",
        "    proper_s_fl1.append(s_fl1[i][0])\n",
        "\n",
        "proper_s_fl1[:100]\n",
        "type(proper_s_fl1[:100])\n",
        "\n",
        "import statistics\n",
        "from statistics import stdev\n",
        "from fractions import Fraction as fr\n",
        "\n",
        "print(np.mean(proper_s_fl1))\n",
        "print(statistics.median(proper_s_fl1))\n",
        "print(np.std(proper_s_fl1))\n",
        "print(statistics.variance(proper_s_fl1))\n",
        "\n",
        "ordered= sorted(proper_s_fl1)\n",
        "i= round(len(ordered)*0.05)\n",
        "lower = ordered[i]\n",
        "i= round(len(ordered)*0.95)\n",
        "upper= ordered[i]\n",
        "\n",
        "print(lower)\n",
        "print(upper)\n"
      ]
    },
    {
      "cell_type": "code",
      "execution_count": 26,
      "id": "2dd0996d",
      "metadata": {
        "id": "2dd0996d",
        "outputId": "ba1e2d12-09fa-46da-926a-50856aef4179",
        "colab": {
          "base_uri": "https://localhost:8080/"
        }
      },
      "outputs": [
        {
          "output_type": "stream",
          "name": "stdout",
          "text": [
            "313957.6535427635\n",
            "290048.8125\n",
            "170491.08222638347\n",
            "29067326987.74983\n",
            "35307.1015625\n",
            "604238.8125\n"
          ]
        }
      ],
      "source": [
        "s = FlowCal.io.FCSData('02-blank-G6-4.fcs')\n",
        "s\n",
        "\n",
        "s_fl1 = s[:, ['FL1-H']]\n",
        "s_fl1\n",
        "\n",
        "s_fl1 = s_fl1.tolist()\n",
        "s_fl1[0][0]\n",
        "\n",
        "proper_s_fl1 = []\n",
        "for i in range(len(s_fl1)):\n",
        "    proper_s_fl1.append(s_fl1[i][0])\n",
        "\n",
        "proper_s_fl1[:100]\n",
        "type(proper_s_fl1[:100])\n",
        "\n",
        "import statistics\n",
        "from statistics import stdev\n",
        "from fractions import Fraction as fr\n",
        "\n",
        "print(np.mean(proper_s_fl1))\n",
        "print(statistics.median(proper_s_fl1))\n",
        "print(np.std(proper_s_fl1))\n",
        "print(statistics.variance(proper_s_fl1))\n",
        "\n",
        "ordered= sorted(proper_s_fl1)\n",
        "i= round(len(ordered)*0.05)\n",
        "lower = ordered[i]\n",
        "i= round(len(ordered)*0.95)\n",
        "upper= ordered[i]\n",
        "\n",
        "print(lower)\n",
        "print(upper)\n"
      ]
    },
    {
      "cell_type": "code",
      "execution_count": 27,
      "id": "85aabd1f",
      "metadata": {
        "id": "85aabd1f",
        "outputId": "8b15dbd9-efc7-425d-8dbc-30c807b63c35",
        "colab": {
          "base_uri": "https://localhost:8080/"
        }
      },
      "outputs": [
        {
          "output_type": "stream",
          "name": "stdout",
          "text": [
            "299468.6197297496\n",
            "275886.90625\n",
            "178817.6650412249\n",
            "31975898103.242077\n",
            "23921.30078125\n",
            "581654.5\n"
          ]
        }
      ],
      "source": [
        "s = FlowCal.io.FCSData('04-blank-G6-4.fcs')\n",
        "s\n",
        "\n",
        "s_fl1 = s[:, ['FL1-H']]\n",
        "s_fl1\n",
        "\n",
        "s_fl1 = s_fl1.tolist()\n",
        "s_fl1[0][0]\n",
        "\n",
        "proper_s_fl1 = []\n",
        "for i in range(len(s_fl1)):\n",
        "    proper_s_fl1.append(s_fl1[i][0])\n",
        "\n",
        "proper_s_fl1[:100]\n",
        "type(proper_s_fl1[:100])\n",
        "\n",
        "import statistics\n",
        "from statistics import stdev\n",
        "from fractions import Fraction as fr\n",
        "\n",
        "print(np.mean(proper_s_fl1))\n",
        "print(statistics.median(proper_s_fl1))\n",
        "print(np.std(proper_s_fl1))\n",
        "print(statistics.variance(proper_s_fl1))\n",
        "\n",
        "ordered= sorted(proper_s_fl1)\n",
        "i= round(len(ordered)*0.05)\n",
        "lower = ordered[i]\n",
        "i= round(len(ordered)*0.95)\n",
        "upper= ordered[i]\n",
        "\n",
        "print(lower)\n",
        "print(upper)\n"
      ]
    },
    {
      "cell_type": "code",
      "execution_count": 28,
      "id": "ab9ba1dd",
      "metadata": {
        "id": "ab9ba1dd",
        "outputId": "9003ffb2-c520-4e4d-b85c-73c30dc83a61",
        "colab": {
          "base_uri": "https://localhost:8080/"
        }
      },
      "outputs": [
        {
          "output_type": "stream",
          "name": "stdout",
          "text": [
            "14805.81955509153\n",
            "449.6000061035156\n",
            "73580.77466438836\n",
            "5414191661.969649\n",
            "272.8999938964844\n",
            "30230.30078125\n"
          ]
        }
      ],
      "source": [
        "s = FlowCal.io.FCSData('02-blank-G7-1.fcs')\n",
        "s\n",
        "\n",
        "s_fl1 = s[:, ['FL1-H']]\n",
        "s_fl1\n",
        "\n",
        "s_fl1 = s_fl1.tolist()\n",
        "s_fl1[0][0]\n",
        "\n",
        "proper_s_fl1 = []\n",
        "for i in range(len(s_fl1)):\n",
        "    proper_s_fl1.append(s_fl1[i][0])\n",
        "\n",
        "proper_s_fl1[:100]\n",
        "type(proper_s_fl1[:100])\n",
        "\n",
        "import statistics\n",
        "from statistics import stdev\n",
        "from fractions import Fraction as fr\n",
        "\n",
        "print(np.mean(proper_s_fl1))\n",
        "print(statistics.median(proper_s_fl1))\n",
        "print(np.std(proper_s_fl1))\n",
        "print(statistics.variance(proper_s_fl1))\n",
        "\n",
        "ordered= sorted(proper_s_fl1)\n",
        "i= round(len(ordered)*0.05)\n",
        "lower = ordered[i]\n",
        "i= round(len(ordered)*0.95)\n",
        "upper= ordered[i]\n",
        "\n",
        "print(lower)\n",
        "print(upper)\n"
      ]
    },
    {
      "cell_type": "code",
      "execution_count": 29,
      "id": "ec318a2f",
      "metadata": {
        "id": "ec318a2f",
        "outputId": "cf42937b-d80a-420f-865f-ea391173e6d5",
        "colab": {
          "base_uri": "https://localhost:8080/"
        }
      },
      "outputs": [
        {
          "output_type": "stream",
          "name": "stdout",
          "text": [
            "12560.84843887676\n",
            "458.5\n",
            "72523.38096680093\n",
            "5259670217.511526\n",
            "285.5\n",
            "7511.5\n"
          ]
        }
      ],
      "source": [
        "s = FlowCal.io.FCSData('04-blank-G7-1.fcs')\n",
        "s\n",
        "\n",
        "s_fl1 = s[:, ['FL1-H']]\n",
        "s_fl1\n",
        "\n",
        "s_fl1 = s_fl1.tolist()\n",
        "s_fl1[0][0]\n",
        "\n",
        "proper_s_fl1 = []\n",
        "for i in range(len(s_fl1)):\n",
        "    proper_s_fl1.append(s_fl1[i][0])\n",
        "\n",
        "proper_s_fl1[:100]\n",
        "type(proper_s_fl1[:100])\n",
        "\n",
        "import statistics\n",
        "from statistics import stdev\n",
        "from fractions import Fraction as fr\n",
        "\n",
        "print(np.mean(proper_s_fl1))\n",
        "print(statistics.median(proper_s_fl1))\n",
        "print(np.std(proper_s_fl1))\n",
        "print(statistics.variance(proper_s_fl1))\n",
        "\n",
        "ordered= sorted(proper_s_fl1)\n",
        "i= round(len(ordered)*0.05)\n",
        "lower = ordered[i]\n",
        "i= round(len(ordered)*0.95)\n",
        "upper= ordered[i]\n",
        "\n",
        "print(lower)\n",
        "print(upper)\n"
      ]
    },
    {
      "cell_type": "code",
      "execution_count": 30,
      "id": "f98d14bd",
      "metadata": {
        "id": "f98d14bd",
        "outputId": "cc3b1239-db10-4284-b651-29a0e36a4877",
        "colab": {
          "base_uri": "https://localhost:8080/"
        }
      },
      "outputs": [
        {
          "output_type": "stream",
          "name": "stdout",
          "text": [
            "29977.602581933173\n",
            "444.20001220703125\n",
            "170137.89866600934\n",
            "28947078950.883198\n",
            "267.79998779296875\n",
            "24974.599609375\n"
          ]
        }
      ],
      "source": [
        "s = FlowCal.io.FCSData('02-blank-G7-2.fcs')\n",
        "s\n",
        "\n",
        "s_fl1 = s[:, ['FL1-H']]\n",
        "s_fl1\n",
        "\n",
        "s_fl1 = s_fl1.tolist()\n",
        "s_fl1[0][0]\n",
        "\n",
        "proper_s_fl1 = []\n",
        "for i in range(len(s_fl1)):\n",
        "    proper_s_fl1.append(s_fl1[i][0])\n",
        "\n",
        "proper_s_fl1[:100]\n",
        "type(proper_s_fl1[:100])\n",
        "\n",
        "import statistics\n",
        "from statistics import stdev\n",
        "from fractions import Fraction as fr\n",
        "\n",
        "print(np.mean(proper_s_fl1))\n",
        "print(statistics.median(proper_s_fl1))\n",
        "print(np.std(proper_s_fl1))\n",
        "print(statistics.variance(proper_s_fl1))\n",
        "\n",
        "ordered= sorted(proper_s_fl1)\n",
        "i= round(len(ordered)*0.05)\n",
        "lower = ordered[i]\n",
        "i= round(len(ordered)*0.95)\n",
        "upper= ordered[i]\n",
        "\n",
        "print(lower)\n",
        "print(upper)\n"
      ]
    },
    {
      "cell_type": "code",
      "execution_count": 32,
      "id": "f89f2680",
      "metadata": {
        "id": "f89f2680",
        "outputId": "474d4157-953d-4814-bb3e-a658bb8c23c6",
        "colab": {
          "base_uri": "https://localhost:8080/"
        }
      },
      "outputs": [
        {
          "output_type": "stream",
          "name": "stdout",
          "text": [
            "47156.756261061724\n",
            "453.6000061035156\n",
            "213450.07342612484\n",
            "45561042821.95006\n",
            "279.0\n",
            "356651.6875\n"
          ]
        }
      ],
      "source": [
        "s = FlowCal.io.FCSData('04-blank-G7-2.fcs')\n",
        "s\n",
        "\n",
        "s_fl1 = s[:, ['FL1-H']]\n",
        "s_fl1\n",
        "\n",
        "s_fl1 = s_fl1.tolist()\n",
        "s_fl1[0][0]\n",
        "\n",
        "proper_s_fl1 = []\n",
        "for i in range(len(s_fl1)):\n",
        "    proper_s_fl1.append(s_fl1[i][0])\n",
        "\n",
        "proper_s_fl1[:100]\n",
        "type(proper_s_fl1[:100])\n",
        "\n",
        "import statistics\n",
        "from statistics import stdev\n",
        "from fractions import Fraction as fr\n",
        "\n",
        "print(np.mean(proper_s_fl1))\n",
        "print(statistics.median(proper_s_fl1))\n",
        "print(np.std(proper_s_fl1))\n",
        "print(statistics.variance(proper_s_fl1))\n",
        "\n",
        "ordered= sorted(proper_s_fl1)\n",
        "i= round(len(ordered)*0.05)\n",
        "lower = ordered[i]\n",
        "i= round(len(ordered)*0.95)\n",
        "upper= ordered[i]\n",
        "\n",
        "print(lower)\n",
        "print(upper)\n"
      ]
    },
    {
      "cell_type": "code",
      "execution_count": 33,
      "id": "f8a46b73",
      "metadata": {
        "id": "f8a46b73",
        "outputId": "4e77efbb-1f67-4f0f-8c19-6ec26881f3b5",
        "colab": {
          "base_uri": "https://localhost:8080/"
        }
      },
      "outputs": [
        {
          "output_type": "stream",
          "name": "stdout",
          "text": [
            "378183.26819831104\n",
            "362917.0\n",
            "203433.4957451776\n",
            "41385502682.28833\n",
            "2341.699951171875\n",
            "733550.6875\n"
          ]
        }
      ],
      "source": [
        "s = FlowCal.io.FCSData('02-blank-G7-3.fcs')\n",
        "s\n",
        "\n",
        "s_fl1 = s[:, ['FL1-H']]\n",
        "s_fl1\n",
        "\n",
        "s_fl1 = s_fl1.tolist()\n",
        "s_fl1[0][0]\n",
        "\n",
        "proper_s_fl1 = []\n",
        "for i in range(len(s_fl1)):\n",
        "    proper_s_fl1.append(s_fl1[i][0])\n",
        "\n",
        "proper_s_fl1[:100]\n",
        "type(proper_s_fl1[:100])\n",
        "\n",
        "import statistics\n",
        "from statistics import stdev\n",
        "from fractions import Fraction as fr\n",
        "\n",
        "print(np.mean(proper_s_fl1))\n",
        "print(statistics.median(proper_s_fl1))\n",
        "print(np.std(proper_s_fl1))\n",
        "print(statistics.variance(proper_s_fl1))\n",
        "\n",
        "ordered= sorted(proper_s_fl1)\n",
        "i= round(len(ordered)*0.05)\n",
        "lower = ordered[i]\n",
        "i= round(len(ordered)*0.95)\n",
        "upper= ordered[i]\n",
        "\n",
        "print(lower)\n",
        "print(upper)\n"
      ]
    },
    {
      "cell_type": "code",
      "execution_count": 34,
      "id": "a2aecd79",
      "metadata": {
        "id": "a2aecd79",
        "outputId": "15b448eb-2bb8-4b9c-d240-f7a04d201dcf",
        "colab": {
          "base_uri": "https://localhost:8080/"
        }
      },
      "outputs": [
        {
          "output_type": "stream",
          "name": "stdout",
          "text": [
            "361418.9387077422\n",
            "362238.0\n",
            "206672.63888186155\n",
            "42713866282.6216\n",
            "929.4000244140625\n",
            "695630.625\n"
          ]
        }
      ],
      "source": [
        "s = FlowCal.io.FCSData('04-blank-G7-3.fcs')\n",
        "s\n",
        "\n",
        "s_fl1 = s[:, ['FL1-H']]\n",
        "s_fl1\n",
        "\n",
        "s_fl1 = s_fl1.tolist()\n",
        "s_fl1[0][0]\n",
        "\n",
        "proper_s_fl1 = []\n",
        "for i in range(len(s_fl1)):\n",
        "    proper_s_fl1.append(s_fl1[i][0])\n",
        "\n",
        "proper_s_fl1[:100]\n",
        "type(proper_s_fl1[:100])\n",
        "\n",
        "import statistics\n",
        "from statistics import stdev\n",
        "from fractions import Fraction as fr\n",
        "\n",
        "print(np.mean(proper_s_fl1))\n",
        "print(statistics.median(proper_s_fl1))\n",
        "print(np.std(proper_s_fl1))\n",
        "print(statistics.variance(proper_s_fl1))\n",
        "\n",
        "ordered= sorted(proper_s_fl1)\n",
        "i= round(len(ordered)*0.05)\n",
        "lower = ordered[i]\n",
        "i= round(len(ordered)*0.95)\n",
        "upper= ordered[i]\n",
        "\n",
        "print(lower)\n",
        "print(upper)\n"
      ]
    },
    {
      "cell_type": "code",
      "execution_count": 35,
      "id": "3a66f2c0",
      "metadata": {
        "id": "3a66f2c0",
        "outputId": "93732a72-0c34-4506-c847-d050d19eda75",
        "colab": {
          "base_uri": "https://localhost:8080/"
        }
      },
      "outputs": [
        {
          "output_type": "stream",
          "name": "stdout",
          "text": [
            "297635.1122742793\n",
            "275589.5\n",
            "177042.11902637797\n",
            "31343980757.726738\n",
            "2598.300048828125\n",
            "601694.375\n"
          ]
        }
      ],
      "source": [
        "s = FlowCal.io.FCSData('02-blank-G7-4.fcs')\n",
        "s\n",
        "\n",
        "s_fl1 = s[:, ['FL1-H']]\n",
        "s_fl1\n",
        "\n",
        "s_fl1 = s_fl1.tolist()\n",
        "s_fl1[0][0]\n",
        "\n",
        "proper_s_fl1 = []\n",
        "for i in range(len(s_fl1)):\n",
        "    proper_s_fl1.append(s_fl1[i][0])\n",
        "\n",
        "proper_s_fl1[:100]\n",
        "type(proper_s_fl1[:100])\n",
        "\n",
        "import statistics\n",
        "from statistics import stdev\n",
        "from fractions import Fraction as fr\n",
        "\n",
        "print(np.mean(proper_s_fl1))\n",
        "print(statistics.median(proper_s_fl1))\n",
        "print(np.std(proper_s_fl1))\n",
        "print(statistics.variance(proper_s_fl1))\n",
        "\n",
        "ordered= sorted(proper_s_fl1)\n",
        "i= round(len(ordered)*0.05)\n",
        "lower = ordered[i]\n",
        "i= round(len(ordered)*0.95)\n",
        "upper= ordered[i]\n",
        "\n",
        "print(lower)\n",
        "print(upper)\n"
      ]
    },
    {
      "cell_type": "code",
      "execution_count": 36,
      "id": "eb8f8e1e",
      "metadata": {
        "id": "eb8f8e1e",
        "outputId": "4b005c9e-1678-4017-f44f-5dab1f27dea0",
        "colab": {
          "base_uri": "https://localhost:8080/"
        }
      },
      "outputs": [
        {
          "output_type": "stream",
          "name": "stdout",
          "text": [
            "296189.0497182495\n",
            "282405.3125\n",
            "182944.10271537185\n",
            "33468706466.19747\n",
            "2292.800048828125\n",
            "573695.5\n"
          ]
        }
      ],
      "source": [
        "s = FlowCal.io.FCSData('04-blank-G7-4.fcs')\n",
        "s\n",
        "\n",
        "s_fl1 = s[:, ['FL1-H']]\n",
        "s_fl1\n",
        "\n",
        "s_fl1 = s_fl1.tolist()\n",
        "s_fl1[0][0]\n",
        "\n",
        "proper_s_fl1 = []\n",
        "for i in range(len(s_fl1)):\n",
        "    proper_s_fl1.append(s_fl1[i][0])\n",
        "\n",
        "proper_s_fl1[:100]\n",
        "type(proper_s_fl1[:100])\n",
        "\n",
        "import statistics\n",
        "from statistics import stdev\n",
        "from fractions import Fraction as fr\n",
        "\n",
        "print(np.mean(proper_s_fl1))\n",
        "print(statistics.median(proper_s_fl1))\n",
        "print(np.std(proper_s_fl1))\n",
        "print(statistics.variance(proper_s_fl1))\n",
        "\n",
        "ordered= sorted(proper_s_fl1)\n",
        "i= round(len(ordered)*0.05)\n",
        "lower = ordered[i]\n",
        "i= round(len(ordered)*0.95)\n",
        "upper= ordered[i]\n",
        "\n",
        "print(lower)\n",
        "print(upper)\n"
      ]
    },
    {
      "cell_type": "code",
      "execution_count": 37,
      "id": "5d4aff2d",
      "metadata": {
        "id": "5d4aff2d",
        "outputId": "5692aa4c-1f78-42e3-999a-b38e159a63cf",
        "colab": {
          "base_uri": "https://localhost:8080/"
        }
      },
      "outputs": [
        {
          "output_type": "stream",
          "name": "stdout",
          "text": [
            "20055.472783204495\n",
            "446.8999938964844\n",
            "113442.26406606314\n",
            "12869336614.916306\n",
            "272.3999938964844\n",
            "34526.6015625\n"
          ]
        }
      ],
      "source": [
        "s = FlowCal.io.FCSData('02-blank-G8-1.fcs')\n",
        "s\n",
        "\n",
        "s_fl1 = s[:, ['FL1-H']]\n",
        "s_fl1\n",
        "\n",
        "s_fl1 = s_fl1.tolist()\n",
        "s_fl1[0][0]\n",
        "\n",
        "proper_s_fl1 = []\n",
        "for i in range(len(s_fl1)):\n",
        "    proper_s_fl1.append(s_fl1[i][0])\n",
        "\n",
        "proper_s_fl1[:100]\n",
        "type(proper_s_fl1[:100])\n",
        "\n",
        "import statistics\n",
        "from statistics import stdev\n",
        "from fractions import Fraction as fr\n",
        "\n",
        "print(np.mean(proper_s_fl1))\n",
        "print(statistics.median(proper_s_fl1))\n",
        "print(np.std(proper_s_fl1))\n",
        "print(statistics.variance(proper_s_fl1))\n",
        "\n",
        "ordered= sorted(proper_s_fl1)\n",
        "i= round(len(ordered)*0.05)\n",
        "lower = ordered[i]\n",
        "i= round(len(ordered)*0.95)\n",
        "upper= ordered[i]\n",
        "\n",
        "print(lower)\n",
        "print(upper)\n"
      ]
    },
    {
      "cell_type": "code",
      "execution_count": 38,
      "id": "c86ff4e9",
      "metadata": {
        "id": "c86ff4e9",
        "outputId": "4d2d2215-de44-4ff1-e1fc-b95f1151f8ac",
        "colab": {
          "base_uri": "https://localhost:8080/"
        }
      },
      "outputs": [
        {
          "output_type": "stream",
          "name": "stdout",
          "text": [
            "12788.231763968646\n",
            "456.0\n",
            "92714.83500310169\n",
            "8596098193.709354\n",
            "283.3999938964844\n",
            "10282.5\n"
          ]
        }
      ],
      "source": [
        "s = FlowCal.io.FCSData('04-blank-G8-1.fcs')\n",
        "s\n",
        "\n",
        "s_fl1 = s[:, ['FL1-H']]\n",
        "s_fl1\n",
        "\n",
        "s_fl1 = s_fl1.tolist()\n",
        "s_fl1[0][0]\n",
        "\n",
        "proper_s_fl1 = []\n",
        "for i in range(len(s_fl1)):\n",
        "    proper_s_fl1.append(s_fl1[i][0])\n",
        "\n",
        "proper_s_fl1[:100]\n",
        "type(proper_s_fl1[:100])\n",
        "\n",
        "import statistics\n",
        "from statistics import stdev\n",
        "from fractions import Fraction as fr\n",
        "\n",
        "print(np.mean(proper_s_fl1))\n",
        "print(statistics.median(proper_s_fl1))\n",
        "print(np.std(proper_s_fl1))\n",
        "print(statistics.variance(proper_s_fl1))\n",
        "\n",
        "ordered= sorted(proper_s_fl1)\n",
        "i= round(len(ordered)*0.05)\n",
        "lower = ordered[i]\n",
        "i= round(len(ordered)*0.95)\n",
        "upper= ordered[i]\n",
        "\n",
        "print(lower)\n",
        "print(upper)\n"
      ]
    },
    {
      "cell_type": "code",
      "execution_count": 39,
      "id": "c8b6a5f2",
      "metadata": {
        "id": "c8b6a5f2",
        "outputId": "d8131773-17f7-4600-801e-74c1674c0ede",
        "colab": {
          "base_uri": "https://localhost:8080/"
        }
      },
      "outputs": [
        {
          "output_type": "stream",
          "name": "stdout",
          "text": [
            "35138.60358882271\n",
            "461.0\n",
            "163182.08273216907\n",
            "26628628334.510468\n",
            "278.0\n",
            "184403.0\n"
          ]
        }
      ],
      "source": [
        "s = FlowCal.io.FCSData('02-blank-G8-2.fcs')\n",
        "s\n",
        "\n",
        "s_fl1 = s[:, ['FL1-H']]\n",
        "s_fl1\n",
        "\n",
        "s_fl1 = s_fl1.tolist()\n",
        "s_fl1[0][0]\n",
        "\n",
        "proper_s_fl1 = []\n",
        "for i in range(len(s_fl1)):\n",
        "    proper_s_fl1.append(s_fl1[i][0])\n",
        "\n",
        "proper_s_fl1[:100]\n",
        "type(proper_s_fl1[:100])\n",
        "\n",
        "import statistics\n",
        "from statistics import stdev\n",
        "from fractions import Fraction as fr\n",
        "\n",
        "print(np.mean(proper_s_fl1))\n",
        "print(statistics.median(proper_s_fl1))\n",
        "print(np.std(proper_s_fl1))\n",
        "print(statistics.variance(proper_s_fl1))\n",
        "\n",
        "ordered= sorted(proper_s_fl1)\n",
        "i= round(len(ordered)*0.05)\n",
        "lower = ordered[i]\n",
        "i= round(len(ordered)*0.95)\n",
        "upper= ordered[i]\n",
        "\n",
        "print(lower)\n",
        "print(upper)\n"
      ]
    },
    {
      "cell_type": "code",
      "execution_count": 40,
      "id": "91fa0e97",
      "metadata": {
        "id": "91fa0e97",
        "outputId": "22b24e06-db8a-4367-d343-b4f9b3258c88",
        "colab": {
          "base_uri": "https://localhost:8080/"
        }
      },
      "outputs": [
        {
          "output_type": "stream",
          "name": "stdout",
          "text": [
            "29437.953495734833\n",
            "462.70001220703125\n",
            "146890.078753443\n",
            "21576738412.98498\n",
            "282.6000061035156\n",
            "63021.8984375\n"
          ]
        }
      ],
      "source": [
        "s = FlowCal.io.FCSData('04-blank-G8-2.fcs')\n",
        "s\n",
        "\n",
        "s_fl1 = s[:, ['FL1-H']]\n",
        "s_fl1\n",
        "\n",
        "s_fl1 = s_fl1.tolist()\n",
        "s_fl1[0][0]\n",
        "\n",
        "proper_s_fl1 = []\n",
        "for i in range(len(s_fl1)):\n",
        "    proper_s_fl1.append(s_fl1[i][0])\n",
        "\n",
        "proper_s_fl1[:100]\n",
        "type(proper_s_fl1[:100])\n",
        "\n",
        "import statistics\n",
        "from statistics import stdev\n",
        "from fractions import Fraction as fr\n",
        "\n",
        "print(np.mean(proper_s_fl1))\n",
        "print(statistics.median(proper_s_fl1))\n",
        "print(np.std(proper_s_fl1))\n",
        "print(statistics.variance(proper_s_fl1))\n",
        "\n",
        "ordered= sorted(proper_s_fl1)\n",
        "i= round(len(ordered)*0.05)\n",
        "lower = ordered[i]\n",
        "i= round(len(ordered)*0.95)\n",
        "upper= ordered[i]\n",
        "\n",
        "print(lower)\n",
        "print(upper)\n"
      ]
    },
    {
      "cell_type": "code",
      "execution_count": 41,
      "id": "519f687b",
      "metadata": {
        "id": "519f687b",
        "outputId": "85225aeb-61ec-4400-caa2-3c7f11eff2b2",
        "colab": {
          "base_uri": "https://localhost:8080/"
        }
      },
      "outputs": [
        {
          "output_type": "stream",
          "name": "stdout",
          "text": [
            "310895.3329865572\n",
            "300067.296875\n",
            "221548.44201008283\n",
            "49084187991.16828\n",
            "596.5\n",
            "693341.6875\n"
          ]
        }
      ],
      "source": [
        "s = FlowCal.io.FCSData('02-blank-G8-3.fcs')\n",
        "s\n",
        "\n",
        "s_fl1 = s[:, ['FL1-H']]\n",
        "s_fl1\n",
        "\n",
        "s_fl1 = s_fl1.tolist()\n",
        "s_fl1[0][0]\n",
        "\n",
        "proper_s_fl1 = []\n",
        "for i in range(len(s_fl1)):\n",
        "    proper_s_fl1.append(s_fl1[i][0])\n",
        "\n",
        "proper_s_fl1[:100]\n",
        "type(proper_s_fl1[:100])\n",
        "\n",
        "import statistics\n",
        "from statistics import stdev\n",
        "from fractions import Fraction as fr\n",
        "\n",
        "print(np.mean(proper_s_fl1))\n",
        "print(statistics.median(proper_s_fl1))\n",
        "print(np.std(proper_s_fl1))\n",
        "print(statistics.variance(proper_s_fl1))\n",
        "\n",
        "ordered= sorted(proper_s_fl1)\n",
        "i= round(len(ordered)*0.05)\n",
        "lower = ordered[i]\n",
        "i= round(len(ordered)*0.95)\n",
        "upper= ordered[i]\n",
        "\n",
        "print(lower)\n",
        "print(upper)\n"
      ]
    },
    {
      "cell_type": "code",
      "execution_count": 42,
      "id": "6f939b30",
      "metadata": {
        "id": "6f939b30",
        "outputId": "cfb91e06-929c-40f9-9b8b-c6f736ca0fd0",
        "colab": {
          "base_uri": "https://localhost:8080/"
        }
      },
      "outputs": [
        {
          "output_type": "stream",
          "name": "stdout",
          "text": [
            "358448.8557170022\n",
            "362447.59375\n",
            "232149.13013460438\n",
            "53893522667.401245\n",
            "796.4000244140625\n",
            "739137.875\n"
          ]
        }
      ],
      "source": [
        "s = FlowCal.io.FCSData('04-blank-G8-3.fcs')\n",
        "s\n",
        "\n",
        "s_fl1 = s[:, ['FL1-H']]\n",
        "s_fl1\n",
        "\n",
        "s_fl1 = s_fl1.tolist()\n",
        "s_fl1[0][0]\n",
        "\n",
        "proper_s_fl1 = []\n",
        "for i in range(len(s_fl1)):\n",
        "    proper_s_fl1.append(s_fl1[i][0])\n",
        "\n",
        "proper_s_fl1[:100]\n",
        "type(proper_s_fl1[:100])\n",
        "\n",
        "import statistics\n",
        "from statistics import stdev\n",
        "from fractions import Fraction as fr\n",
        "\n",
        "print(np.mean(proper_s_fl1))\n",
        "print(statistics.median(proper_s_fl1))\n",
        "print(np.std(proper_s_fl1))\n",
        "print(statistics.variance(proper_s_fl1))\n",
        "\n",
        "ordered= sorted(proper_s_fl1)\n",
        "i= round(len(ordered)*0.05)\n",
        "lower = ordered[i]\n",
        "i= round(len(ordered)*0.95)\n",
        "upper= ordered[i]\n",
        "\n",
        "print(lower)\n",
        "print(upper)\n"
      ]
    },
    {
      "cell_type": "code",
      "execution_count": 43,
      "id": "f78e1296",
      "metadata": {
        "id": "f78e1296",
        "outputId": "8a56e360-cc1f-41f0-86f4-01ad2ff1b520",
        "colab": {
          "base_uri": "https://localhost:8080/"
        }
      },
      "outputs": [
        {
          "output_type": "stream",
          "name": "stdout",
          "text": [
            "293602.27550830593\n",
            "275841.6875\n",
            "183382.43705611158\n",
            "33629216214.147102\n",
            "4684.10009765625\n",
            "615519.5\n"
          ]
        }
      ],
      "source": [
        "s = FlowCal.io.FCSData('02-blank-G8-4.fcs')\n",
        "s\n",
        "\n",
        "s_fl1 = s[:, ['FL1-H']]\n",
        "s_fl1\n",
        "\n",
        "s_fl1 = s_fl1.tolist()\n",
        "s_fl1[0][0]\n",
        "\n",
        "proper_s_fl1 = []\n",
        "for i in range(len(s_fl1)):\n",
        "    proper_s_fl1.append(s_fl1[i][0])\n",
        "\n",
        "proper_s_fl1[:100]\n",
        "type(proper_s_fl1[:100])\n",
        "\n",
        "import statistics\n",
        "from statistics import stdev\n",
        "from fractions import Fraction as fr\n",
        "\n",
        "print(np.mean(proper_s_fl1))\n",
        "print(statistics.median(proper_s_fl1))\n",
        "print(np.std(proper_s_fl1))\n",
        "print(statistics.variance(proper_s_fl1))\n",
        "\n",
        "ordered= sorted(proper_s_fl1)\n",
        "i= round(len(ordered)*0.05)\n",
        "lower = ordered[i]\n",
        "i= round(len(ordered)*0.95)\n",
        "upper= ordered[i]\n",
        "\n",
        "print(lower)\n",
        "print(upper)\n"
      ]
    },
    {
      "cell_type": "code",
      "execution_count": 44,
      "id": "630678db",
      "metadata": {
        "id": "630678db",
        "outputId": "a5de46ae-acf3-4885-c5a7-dcf7d339125f",
        "colab": {
          "base_uri": "https://localhost:8080/"
        }
      },
      "outputs": [
        {
          "output_type": "stream",
          "name": "stdout",
          "text": [
            "276195.6033157201\n",
            "265591.09375\n",
            "183740.3828301194\n",
            "33760679765.408623\n",
            "1655.0\n",
            "575589.8125\n"
          ]
        }
      ],
      "source": [
        "s = FlowCal.io.FCSData('04-blank-G8-4.fcs')\n",
        "s\n",
        "\n",
        "s_fl1 = s[:, ['FL1-H']]\n",
        "s_fl1\n",
        "\n",
        "s_fl1 = s_fl1.tolist()\n",
        "s_fl1[0][0]\n",
        "\n",
        "proper_s_fl1 = []\n",
        "for i in range(len(s_fl1)):\n",
        "    proper_s_fl1.append(s_fl1[i][0])\n",
        "\n",
        "proper_s_fl1[:100]\n",
        "type(proper_s_fl1[:100])\n",
        "\n",
        "import statistics\n",
        "from statistics import stdev\n",
        "from fractions import Fraction as fr\n",
        "\n",
        "print(np.mean(proper_s_fl1))\n",
        "print(statistics.median(proper_s_fl1))\n",
        "print(np.std(proper_s_fl1))\n",
        "print(statistics.variance(proper_s_fl1))\n",
        "\n",
        "ordered= sorted(proper_s_fl1)\n",
        "i= round(len(ordered)*0.05)\n",
        "lower = ordered[i]\n",
        "i= round(len(ordered)*0.95)\n",
        "upper= ordered[i]\n",
        "\n",
        "print(lower)\n",
        "print(upper)\n"
      ]
    },
    {
      "cell_type": "code",
      "execution_count": 45,
      "id": "c93beb8e",
      "metadata": {
        "id": "c93beb8e",
        "outputId": "94f66767-d922-4fd1-816d-4e7bb8514ff7",
        "colab": {
          "base_uri": "https://localhost:8080/"
        }
      },
      "outputs": [
        {
          "output_type": "stream",
          "name": "stdout",
          "text": [
            "20929.000122073852\n",
            "465.6000061035156\n",
            "93723.75113934105\n",
            "8784247099.908772\n",
            "277.3999938964844\n",
            "97419.796875\n"
          ]
        }
      ],
      "source": [
        "s = FlowCal.io.FCSData('02-blank-G9-1.fcs')\n",
        "s\n",
        "\n",
        "s_fl1 = s[:, ['FL1-H']]\n",
        "s_fl1\n",
        "\n",
        "s_fl1 = s_fl1.tolist()\n",
        "s_fl1[0][0]\n",
        "\n",
        "proper_s_fl1 = []\n",
        "for i in range(len(s_fl1)):\n",
        "    proper_s_fl1.append(s_fl1[i][0])\n",
        "\n",
        "proper_s_fl1[:100]\n",
        "type(proper_s_fl1[:100])\n",
        "\n",
        "import statistics\n",
        "from statistics import stdev\n",
        "from fractions import Fraction as fr\n",
        "\n",
        "print(np.mean(proper_s_fl1))\n",
        "print(statistics.median(proper_s_fl1))\n",
        "print(np.std(proper_s_fl1))\n",
        "print(statistics.variance(proper_s_fl1))\n",
        "\n",
        "ordered= sorted(proper_s_fl1)\n",
        "i= round(len(ordered)*0.05)\n",
        "lower = ordered[i]\n",
        "i= round(len(ordered)*0.95)\n",
        "upper= ordered[i]\n",
        "\n",
        "print(lower)\n",
        "print(upper)\n"
      ]
    },
    {
      "cell_type": "code",
      "execution_count": 46,
      "id": "bc660e7f",
      "metadata": {
        "id": "bc660e7f",
        "outputId": "480d3ecf-a6fe-40f2-c16f-cfbc138b52ec",
        "colab": {
          "base_uri": "https://localhost:8080/"
        }
      },
      "outputs": [
        {
          "output_type": "stream",
          "name": "stdout",
          "text": [
            "21228.806010481338\n",
            "476.29998779296875\n",
            "105299.41552622856\n",
            "11088052265.249949\n",
            "288.6000061035156\n",
            "80844.5\n"
          ]
        }
      ],
      "source": [
        "s = FlowCal.io.FCSData('04-blank-G9-1.fcs')\n",
        "s\n",
        "\n",
        "s_fl1 = s[:, ['FL1-H']]\n",
        "s_fl1\n",
        "\n",
        "s_fl1 = s_fl1.tolist()\n",
        "s_fl1[0][0]\n",
        "\n",
        "proper_s_fl1 = []\n",
        "for i in range(len(s_fl1)):\n",
        "    proper_s_fl1.append(s_fl1[i][0])\n",
        "\n",
        "proper_s_fl1[:100]\n",
        "type(proper_s_fl1[:100])\n",
        "\n",
        "import statistics\n",
        "from statistics import stdev\n",
        "from fractions import Fraction as fr\n",
        "\n",
        "print(np.mean(proper_s_fl1))\n",
        "print(statistics.median(proper_s_fl1))\n",
        "print(np.std(proper_s_fl1))\n",
        "print(statistics.variance(proper_s_fl1))\n",
        "\n",
        "ordered= sorted(proper_s_fl1)\n",
        "i= round(len(ordered)*0.05)\n",
        "lower = ordered[i]\n",
        "i= round(len(ordered)*0.95)\n",
        "upper= ordered[i]\n",
        "\n",
        "print(lower)\n",
        "print(upper)\n"
      ]
    },
    {
      "cell_type": "code",
      "execution_count": 47,
      "id": "a22ad40a",
      "metadata": {
        "id": "a22ad40a",
        "outputId": "95315993-5197-4162-d01a-f1a8f7bb176c",
        "colab": {
          "base_uri": "https://localhost:8080/"
        }
      },
      "outputs": [
        {
          "output_type": "stream",
          "name": "stdout",
          "text": [
            "27878.432648048987\n",
            "467.6000061035156\n",
            "122746.62911500262\n",
            "15066856129.849161\n",
            "275.70001220703125\n",
            "122575.6015625\n"
          ]
        }
      ],
      "source": [
        "s = FlowCal.io.FCSData('02-blank-G9-2.fcs')\n",
        "s\n",
        "\n",
        "s_fl1 = s[:, ['FL1-H']]\n",
        "s_fl1\n",
        "\n",
        "s_fl1 = s_fl1.tolist()\n",
        "s_fl1[0][0]\n",
        "\n",
        "proper_s_fl1 = []\n",
        "for i in range(len(s_fl1)):\n",
        "    proper_s_fl1.append(s_fl1[i][0])\n",
        "\n",
        "proper_s_fl1[:100]\n",
        "type(proper_s_fl1[:100])\n",
        "\n",
        "import statistics\n",
        "from statistics import stdev\n",
        "from fractions import Fraction as fr\n",
        "\n",
        "print(np.mean(proper_s_fl1))\n",
        "print(statistics.median(proper_s_fl1))\n",
        "print(np.std(proper_s_fl1))\n",
        "print(statistics.variance(proper_s_fl1))\n",
        "\n",
        "ordered= sorted(proper_s_fl1)\n",
        "i= round(len(ordered)*0.05)\n",
        "lower = ordered[i]\n",
        "i= round(len(ordered)*0.95)\n",
        "upper= ordered[i]\n",
        "\n",
        "print(lower)\n",
        "print(upper)\n"
      ]
    },
    {
      "cell_type": "code",
      "execution_count": 48,
      "id": "37c9871a",
      "metadata": {
        "id": "37c9871a",
        "outputId": "e9fc354a-5d86-4a12-b342-33a757e95ccb",
        "colab": {
          "base_uri": "https://localhost:8080/"
        }
      },
      "outputs": [
        {
          "output_type": "stream",
          "name": "stdout",
          "text": [
            "38277.2317584252\n",
            "479.20001220703125\n",
            "157634.90672018973\n",
            "24848827978.45562\n",
            "285.3999938964844\n",
            "235719.90625\n"
          ]
        }
      ],
      "source": [
        "s = FlowCal.io.FCSData('04-blank-G9-2.fcs')\n",
        "s\n",
        "\n",
        "s_fl1 = s[:, ['FL1-H']]\n",
        "s_fl1\n",
        "\n",
        "s_fl1 = s_fl1.tolist()\n",
        "s_fl1[0][0]\n",
        "\n",
        "proper_s_fl1 = []\n",
        "for i in range(len(s_fl1)):\n",
        "    proper_s_fl1.append(s_fl1[i][0])\n",
        "\n",
        "proper_s_fl1[:100]\n",
        "type(proper_s_fl1[:100])\n",
        "\n",
        "import statistics\n",
        "from statistics import stdev\n",
        "from fractions import Fraction as fr\n",
        "\n",
        "print(np.mean(proper_s_fl1))\n",
        "print(statistics.median(proper_s_fl1))\n",
        "print(np.std(proper_s_fl1))\n",
        "print(statistics.variance(proper_s_fl1))\n",
        "\n",
        "ordered= sorted(proper_s_fl1)\n",
        "i= round(len(ordered)*0.05)\n",
        "lower = ordered[i]\n",
        "i= round(len(ordered)*0.95)\n",
        "upper= ordered[i]\n",
        "\n",
        "print(lower)\n",
        "print(upper)\n"
      ]
    },
    {
      "cell_type": "code",
      "execution_count": 49,
      "id": "6c105a7b",
      "metadata": {
        "id": "6c105a7b",
        "outputId": "fb1db072-b40c-431d-989a-c6b4bc66f58d",
        "colab": {
          "base_uri": "https://localhost:8080/"
        }
      },
      "outputs": [
        {
          "output_type": "stream",
          "name": "stdout",
          "text": [
            "290600.40530590166\n",
            "281640.8125\n",
            "243203.8357918213\n",
            "59148591551.93838\n",
            "482.29998779296875\n",
            "710757.625\n"
          ]
        }
      ],
      "source": [
        "s = FlowCal.io.FCSData('02-blank-G9-3.fcs')\n",
        "s\n",
        "\n",
        "s_fl1 = s[:, ['FL1-H']]\n",
        "s_fl1\n",
        "\n",
        "s_fl1 = s_fl1.tolist()\n",
        "s_fl1[0][0]\n",
        "\n",
        "proper_s_fl1 = []\n",
        "for i in range(len(s_fl1)):\n",
        "    proper_s_fl1.append(s_fl1[i][0])\n",
        "\n",
        "proper_s_fl1[:100]\n",
        "type(proper_s_fl1[:100])\n",
        "\n",
        "import statistics\n",
        "from statistics import stdev\n",
        "from fractions import Fraction as fr\n",
        "\n",
        "print(np.mean(proper_s_fl1))\n",
        "print(statistics.median(proper_s_fl1))\n",
        "print(np.std(proper_s_fl1))\n",
        "print(statistics.variance(proper_s_fl1))\n",
        "\n",
        "ordered= sorted(proper_s_fl1)\n",
        "i= round(len(ordered)*0.05)\n",
        "lower = ordered[i]\n",
        "i= round(len(ordered)*0.95)\n",
        "upper= ordered[i]\n",
        "\n",
        "print(lower)\n",
        "print(upper)\n"
      ]
    },
    {
      "cell_type": "code",
      "execution_count": 50,
      "id": "7b7a9345",
      "metadata": {
        "id": "7b7a9345",
        "outputId": "11b765fa-1525-46af-b8e6-f9599bde5f57",
        "colab": {
          "base_uri": "https://localhost:8080/"
        }
      },
      "outputs": [
        {
          "output_type": "stream",
          "name": "stdout",
          "text": [
            "301413.9750859142\n",
            "304789.046875\n",
            "245967.06023393068\n",
            "60500116426.57973\n",
            "492.20001220703125\n",
            "707249.1875\n"
          ]
        }
      ],
      "source": [
        "s = FlowCal.io.FCSData('04-blank-G9-3.fcs')\n",
        "s\n",
        "\n",
        "s_fl1 = s[:, ['FL1-H']]\n",
        "s_fl1\n",
        "\n",
        "s_fl1 = s_fl1.tolist()\n",
        "s_fl1[0][0]\n",
        "\n",
        "proper_s_fl1 = []\n",
        "for i in range(len(s_fl1)):\n",
        "    proper_s_fl1.append(s_fl1[i][0])\n",
        "\n",
        "proper_s_fl1[:100]\n",
        "type(proper_s_fl1[:100])\n",
        "\n",
        "import statistics\n",
        "from statistics import stdev\n",
        "from fractions import Fraction as fr\n",
        "\n",
        "print(np.mean(proper_s_fl1))\n",
        "print(statistics.median(proper_s_fl1))\n",
        "print(np.std(proper_s_fl1))\n",
        "print(statistics.variance(proper_s_fl1))\n",
        "\n",
        "ordered= sorted(proper_s_fl1)\n",
        "i= round(len(ordered)*0.05)\n",
        "lower = ordered[i]\n",
        "i= round(len(ordered)*0.95)\n",
        "upper= ordered[i]\n",
        "\n",
        "print(lower)\n",
        "print(upper)\n"
      ]
    },
    {
      "cell_type": "code",
      "execution_count": 51,
      "id": "0aa68245",
      "metadata": {
        "id": "0aa68245",
        "outputId": "34479bec-f114-4380-9458-f2e3385fde64",
        "colab": {
          "base_uri": "https://localhost:8080/"
        }
      },
      "outputs": [
        {
          "output_type": "stream",
          "name": "stdout",
          "text": [
            "231845.40269956426\n",
            "215857.1953125\n",
            "184976.05718942755\n",
            "34216218018.244698\n",
            "513.7999877929688\n",
            "553658.6875\n"
          ]
        }
      ],
      "source": [
        "s = FlowCal.io.FCSData('02-blank-G9-4.fcs')\n",
        "s\n",
        "\n",
        "s_fl1 = s[:, ['FL1-H']]\n",
        "s_fl1\n",
        "\n",
        "s_fl1 = s_fl1.tolist()\n",
        "s_fl1[0][0]\n",
        "\n",
        "proper_s_fl1 = []\n",
        "for i in range(len(s_fl1)):\n",
        "    proper_s_fl1.append(s_fl1[i][0])\n",
        "\n",
        "proper_s_fl1[:100]\n",
        "type(proper_s_fl1[:100])\n",
        "\n",
        "import statistics\n",
        "from statistics import stdev\n",
        "from fractions import Fraction as fr\n",
        "\n",
        "print(np.mean(proper_s_fl1))\n",
        "print(statistics.median(proper_s_fl1))\n",
        "print(np.std(proper_s_fl1))\n",
        "print(statistics.variance(proper_s_fl1))\n",
        "\n",
        "ordered= sorted(proper_s_fl1)\n",
        "i= round(len(ordered)*0.05)\n",
        "lower = ordered[i]\n",
        "i= round(len(ordered)*0.95)\n",
        "upper= ordered[i]\n",
        "\n",
        "print(lower)\n",
        "print(upper)\n"
      ]
    },
    {
      "cell_type": "code",
      "execution_count": 52,
      "id": "8dbe00bc",
      "metadata": {
        "id": "8dbe00bc",
        "outputId": "e053679a-4b0a-44e2-918b-84b511fa4864",
        "colab": {
          "base_uri": "https://localhost:8080/"
        }
      },
      "outputs": [
        {
          "output_type": "stream",
          "name": "stdout",
          "text": [
            "242132.22135566085\n",
            "238180.09375\n",
            "201114.59013605936\n",
            "40447255827.32894\n",
            "463.29998779296875\n",
            "568254.6875\n"
          ]
        }
      ],
      "source": [
        "s = FlowCal.io.FCSData('04-blank-G9-4.fcs')\n",
        "s\n",
        "\n",
        "s_fl1 = s[:, ['FL1-H']]\n",
        "s_fl1\n",
        "\n",
        "s_fl1 = s_fl1.tolist()\n",
        "s_fl1[0][0]\n",
        "\n",
        "proper_s_fl1 = []\n",
        "for i in range(len(s_fl1)):\n",
        "    proper_s_fl1.append(s_fl1[i][0])\n",
        "\n",
        "proper_s_fl1[:100]\n",
        "type(proper_s_fl1[:100])\n",
        "\n",
        "import statistics\n",
        "from statistics import stdev\n",
        "from fractions import Fraction as fr\n",
        "\n",
        "print(np.mean(proper_s_fl1))\n",
        "print(statistics.median(proper_s_fl1))\n",
        "print(np.std(proper_s_fl1))\n",
        "print(statistics.variance(proper_s_fl1))\n",
        "\n",
        "ordered= sorted(proper_s_fl1)\n",
        "i= round(len(ordered)*0.05)\n",
        "lower = ordered[i]\n",
        "i= round(len(ordered)*0.95)\n",
        "upper= ordered[i]\n",
        "\n",
        "print(lower)\n",
        "print(upper)\n"
      ]
    },
    {
      "cell_type": "code",
      "execution_count": 53,
      "id": "be428d8b",
      "metadata": {
        "id": "be428d8b",
        "outputId": "dd71c333-d6bf-4fc7-e5da-08c8a5db7b29",
        "colab": {
          "base_uri": "https://localhost:8080/"
        }
      },
      "outputs": [
        {
          "output_type": "stream",
          "name": "stdout",
          "text": [
            "79887.65427080632\n",
            "524.0999755859375\n",
            "248285.9872026194\n",
            "61646202230.19344\n",
            "280.3999938964844\n",
            "649307.5\n"
          ]
        }
      ],
      "source": [
        "s = FlowCal.io.FCSData('02-blank-G10-1.fcs')\n",
        "s\n",
        "\n",
        "s_fl1 = s[:, ['FL1-H']]\n",
        "s_fl1\n",
        "\n",
        "s_fl1 = s_fl1.tolist()\n",
        "s_fl1[0][0]\n",
        "\n",
        "proper_s_fl1 = []\n",
        "for i in range(len(s_fl1)):\n",
        "    proper_s_fl1.append(s_fl1[i][0])\n",
        "\n",
        "proper_s_fl1[:100]\n",
        "type(proper_s_fl1[:100])\n",
        "\n",
        "import statistics\n",
        "from statistics import stdev\n",
        "from fractions import Fraction as fr\n",
        "\n",
        "print(np.mean(proper_s_fl1))\n",
        "print(statistics.median(proper_s_fl1))\n",
        "print(np.std(proper_s_fl1))\n",
        "print(statistics.variance(proper_s_fl1))\n",
        "\n",
        "ordered= sorted(proper_s_fl1)\n",
        "i= round(len(ordered)*0.05)\n",
        "lower = ordered[i]\n",
        "i= round(len(ordered)*0.95)\n",
        "upper= ordered[i]\n",
        "\n",
        "print(lower)\n",
        "print(upper)\n"
      ]
    },
    {
      "cell_type": "code",
      "execution_count": 54,
      "id": "7d97ed18",
      "metadata": {
        "id": "7d97ed18",
        "outputId": "6daf98ea-5130-4571-d118-8d7361f925c5",
        "colab": {
          "base_uri": "https://localhost:8080/"
        }
      },
      "outputs": [
        {
          "output_type": "stream",
          "name": "stdout",
          "text": [
            "79879.99374110824\n",
            "536.5999755859375\n",
            "250160.77075335622\n",
            "62580719049.918526\n",
            "302.1000061035156\n",
            "699974.1875\n"
          ]
        }
      ],
      "source": [
        "s = FlowCal.io.FCSData('04-blank-G10-1.fcs')\n",
        "s\n",
        "\n",
        "s_fl1 = s[:, ['FL1-H']]\n",
        "s_fl1\n",
        "\n",
        "s_fl1 = s_fl1.tolist()\n",
        "s_fl1[0][0]\n",
        "\n",
        "proper_s_fl1 = []\n",
        "for i in range(len(s_fl1)):\n",
        "    proper_s_fl1.append(s_fl1[i][0])\n",
        "\n",
        "proper_s_fl1[:100]\n",
        "type(proper_s_fl1[:100])\n",
        "\n",
        "import statistics\n",
        "from statistics import stdev\n",
        "from fractions import Fraction as fr\n",
        "\n",
        "print(np.mean(proper_s_fl1))\n",
        "print(statistics.median(proper_s_fl1))\n",
        "print(np.std(proper_s_fl1))\n",
        "print(statistics.variance(proper_s_fl1))\n",
        "\n",
        "ordered= sorted(proper_s_fl1)\n",
        "i= round(len(ordered)*0.05)\n",
        "lower = ordered[i]\n",
        "i= round(len(ordered)*0.95)\n",
        "upper= ordered[i]\n",
        "\n",
        "print(lower)\n",
        "print(upper)\n"
      ]
    },
    {
      "cell_type": "code",
      "execution_count": 55,
      "id": "67d231c1",
      "metadata": {
        "id": "67d231c1",
        "outputId": "abe41628-5ffe-4a4b-e7b4-4775c2990266",
        "colab": {
          "base_uri": "https://localhost:8080/"
        }
      },
      "outputs": [
        {
          "output_type": "stream",
          "name": "stdout",
          "text": [
            "109189.48020518261\n",
            "570.7000122070312\n",
            "263094.5366893531\n",
            "69219026691.68188\n",
            "293.6000061035156\n",
            "743257.375\n"
          ]
        }
      ],
      "source": [
        "s = FlowCal.io.FCSData('02-blank-G10-2.fcs')\n",
        "s\n",
        "\n",
        "s_fl1 = s[:, ['FL1-H']]\n",
        "s_fl1\n",
        "\n",
        "s_fl1 = s_fl1.tolist()\n",
        "s_fl1[0][0]\n",
        "\n",
        "proper_s_fl1 = []\n",
        "for i in range(len(s_fl1)):\n",
        "    proper_s_fl1.append(s_fl1[i][0])\n",
        "\n",
        "proper_s_fl1[:100]\n",
        "type(proper_s_fl1[:100])\n",
        "\n",
        "import statistics\n",
        "from statistics import stdev\n",
        "from fractions import Fraction as fr\n",
        "\n",
        "print(np.mean(proper_s_fl1))\n",
        "print(statistics.median(proper_s_fl1))\n",
        "print(np.std(proper_s_fl1))\n",
        "print(statistics.variance(proper_s_fl1))\n",
        "\n",
        "ordered= sorted(proper_s_fl1)\n",
        "i= round(len(ordered)*0.05)\n",
        "lower = ordered[i]\n",
        "i= round(len(ordered)*0.95)\n",
        "upper= ordered[i]\n",
        "\n",
        "print(lower)\n",
        "print(upper)\n"
      ]
    },
    {
      "cell_type": "code",
      "execution_count": 56,
      "id": "14d9404d",
      "metadata": {
        "id": "14d9404d",
        "outputId": "810d4511-f611-49f0-a81d-d974f9d69e8e",
        "colab": {
          "base_uri": "https://localhost:8080/"
        }
      },
      "outputs": [
        {
          "output_type": "stream",
          "name": "stdout",
          "text": [
            "148187.26246131046\n",
            "604.2000122070312\n",
            "332096.55548880214\n",
            "110288505858.46138\n",
            "304.70001220703125\n",
            "939525.3125\n"
          ]
        }
      ],
      "source": [
        "s = FlowCal.io.FCSData('04-blank-G10-2.fcs')\n",
        "s\n",
        "\n",
        "s_fl1 = s[:, ['FL1-H']]\n",
        "s_fl1\n",
        "\n",
        "s_fl1 = s_fl1.tolist()\n",
        "s_fl1[0][0]\n",
        "\n",
        "proper_s_fl1 = []\n",
        "for i in range(len(s_fl1)):\n",
        "    proper_s_fl1.append(s_fl1[i][0])\n",
        "\n",
        "proper_s_fl1[:100]\n",
        "type(proper_s_fl1[:100])\n",
        "\n",
        "import statistics\n",
        "from statistics import stdev\n",
        "from fractions import Fraction as fr\n",
        "\n",
        "print(np.mean(proper_s_fl1))\n",
        "print(statistics.median(proper_s_fl1))\n",
        "print(np.std(proper_s_fl1))\n",
        "print(statistics.variance(proper_s_fl1))\n",
        "\n",
        "ordered= sorted(proper_s_fl1)\n",
        "i= round(len(ordered)*0.05)\n",
        "lower = ordered[i]\n",
        "i= round(len(ordered)*0.95)\n",
        "upper= ordered[i]\n",
        "\n",
        "print(lower)\n",
        "print(upper)\n"
      ]
    },
    {
      "cell_type": "code",
      "execution_count": 57,
      "id": "d9bf64fc",
      "metadata": {
        "id": "d9bf64fc",
        "outputId": "b41e6521-7068-4e2e-aa74-1b5c71890ff2",
        "colab": {
          "base_uri": "https://localhost:8080/"
        }
      },
      "outputs": [
        {
          "output_type": "stream",
          "name": "stdout",
          "text": [
            "350641.87939063524\n",
            "265775.75\n",
            "402975.1480006901\n",
            "162389400092.7283\n",
            "2061.10009765625\n",
            "1181490.5\n"
          ]
        }
      ],
      "source": [
        "s = FlowCal.io.FCSData('02-blank-G10-3.fcs')\n",
        "s\n",
        "\n",
        "s_fl1 = s[:, ['FL1-H']]\n",
        "s_fl1\n",
        "\n",
        "s_fl1 = s_fl1.tolist()\n",
        "s_fl1[0][0]\n",
        "\n",
        "proper_s_fl1 = []\n",
        "for i in range(len(s_fl1)):\n",
        "    proper_s_fl1.append(s_fl1[i][0])\n",
        "\n",
        "proper_s_fl1[:100]\n",
        "type(proper_s_fl1[:100])\n",
        "\n",
        "import statistics\n",
        "from statistics import stdev\n",
        "from fractions import Fraction as fr\n",
        "\n",
        "print(np.mean(proper_s_fl1))\n",
        "print(statistics.median(proper_s_fl1))\n",
        "print(np.std(proper_s_fl1))\n",
        "print(statistics.variance(proper_s_fl1))\n",
        "\n",
        "ordered= sorted(proper_s_fl1)\n",
        "i= round(len(ordered)*0.05)\n",
        "lower = ordered[i]\n",
        "i= round(len(ordered)*0.95)\n",
        "upper= ordered[i]\n",
        "\n",
        "print(lower)\n",
        "print(upper)\n"
      ]
    },
    {
      "cell_type": "code",
      "execution_count": 58,
      "id": "f2592085",
      "metadata": {
        "id": "f2592085",
        "outputId": "1130b9c5-5838-4462-b99c-9a9577389400",
        "colab": {
          "base_uri": "https://localhost:8080/"
        }
      },
      "outputs": [
        {
          "output_type": "stream",
          "name": "stdout",
          "text": [
            "313181.4739486122\n",
            "227055.40625\n",
            "383115.3392348492\n",
            "146777741385.84357\n",
            "1485.800048828125\n",
            "1112966.875\n"
          ]
        }
      ],
      "source": [
        "s = FlowCal.io.FCSData('04-blank-G10-3.fcs')\n",
        "s\n",
        "\n",
        "s_fl1 = s[:, ['FL1-H']]\n",
        "s_fl1\n",
        "\n",
        "s_fl1 = s_fl1.tolist()\n",
        "s_fl1[0][0]\n",
        "\n",
        "proper_s_fl1 = []\n",
        "for i in range(len(s_fl1)):\n",
        "    proper_s_fl1.append(s_fl1[i][0])\n",
        "\n",
        "proper_s_fl1[:100]\n",
        "type(proper_s_fl1[:100])\n",
        "\n",
        "import statistics\n",
        "from statistics import stdev\n",
        "from fractions import Fraction as fr\n",
        "\n",
        "print(np.mean(proper_s_fl1))\n",
        "print(statistics.median(proper_s_fl1))\n",
        "print(np.std(proper_s_fl1))\n",
        "print(statistics.variance(proper_s_fl1))\n",
        "\n",
        "ordered= sorted(proper_s_fl1)\n",
        "i= round(len(ordered)*0.05)\n",
        "lower = ordered[i]\n",
        "i= round(len(ordered)*0.95)\n",
        "upper= ordered[i]\n",
        "\n",
        "print(lower)\n",
        "print(upper)\n"
      ]
    },
    {
      "cell_type": "code",
      "execution_count": 59,
      "id": "0580ea41",
      "metadata": {
        "id": "0580ea41",
        "outputId": "419b3c4f-e890-4a25-df06-6d32cde23e5f",
        "colab": {
          "base_uri": "https://localhost:8080/"
        }
      },
      "outputs": [
        {
          "output_type": "stream",
          "name": "stdout",
          "text": [
            "229659.90534268896\n",
            "165268.3515625\n",
            "272265.9394668391\n",
            "74129009029.32973\n",
            "1478.699951171875\n",
            "764407.375\n"
          ]
        }
      ],
      "source": [
        "s = FlowCal.io.FCSData('02-blank-G10-4.fcs')\n",
        "s\n",
        "\n",
        "s_fl1 = s[:, ['FL1-H']]\n",
        "s_fl1\n",
        "\n",
        "s_fl1 = s_fl1.tolist()\n",
        "s_fl1[0][0]\n",
        "\n",
        "proper_s_fl1 = []\n",
        "for i in range(len(s_fl1)):\n",
        "    proper_s_fl1.append(s_fl1[i][0])\n",
        "\n",
        "proper_s_fl1[:100]\n",
        "type(proper_s_fl1[:100])\n",
        "\n",
        "import statistics\n",
        "from statistics import stdev\n",
        "from fractions import Fraction as fr\n",
        "\n",
        "print(np.mean(proper_s_fl1))\n",
        "print(statistics.median(proper_s_fl1))\n",
        "print(np.std(proper_s_fl1))\n",
        "print(statistics.variance(proper_s_fl1))\n",
        "\n",
        "ordered= sorted(proper_s_fl1)\n",
        "i= round(len(ordered)*0.05)\n",
        "lower = ordered[i]\n",
        "i= round(len(ordered)*0.95)\n",
        "upper= ordered[i]\n",
        "\n",
        "print(lower)\n",
        "print(upper)\n"
      ]
    },
    {
      "cell_type": "code",
      "execution_count": 60,
      "id": "1aec7af0",
      "metadata": {
        "id": "1aec7af0",
        "outputId": "f07ff275-c660-4773-a967-b676396ab412",
        "colab": {
          "base_uri": "https://localhost:8080/"
        }
      },
      "outputs": [
        {
          "output_type": "stream",
          "name": "stdout",
          "text": [
            "270064.09993688477\n",
            "177650.0\n",
            "353924.8304448082\n",
            "125263320930.16211\n",
            "1348.800048828125\n",
            "1030252.125\n"
          ]
        }
      ],
      "source": [
        "s = FlowCal.io.FCSData('04-blank-G10-4.fcs')\n",
        "s\n",
        "\n",
        "s_fl1 = s[:, ['FL1-H']]\n",
        "s_fl1\n",
        "\n",
        "s_fl1 = s_fl1.tolist()\n",
        "s_fl1[0][0]\n",
        "\n",
        "proper_s_fl1 = []\n",
        "for i in range(len(s_fl1)):\n",
        "    proper_s_fl1.append(s_fl1[i][0])\n",
        "\n",
        "proper_s_fl1[:100]\n",
        "type(proper_s_fl1[:100])\n",
        "\n",
        "import statistics\n",
        "from statistics import stdev\n",
        "from fractions import Fraction as fr\n",
        "\n",
        "print(np.mean(proper_s_fl1))\n",
        "print(statistics.median(proper_s_fl1))\n",
        "print(np.std(proper_s_fl1))\n",
        "print(statistics.variance(proper_s_fl1))\n",
        "\n",
        "ordered= sorted(proper_s_fl1)\n",
        "i= round(len(ordered)*0.05)\n",
        "lower = ordered[i]\n",
        "i= round(len(ordered)*0.95)\n",
        "upper= ordered[i]\n",
        "\n",
        "print(lower)\n",
        "print(upper)\n"
      ]
    },
    {
      "cell_type": "code",
      "execution_count": 61,
      "id": "c4503c4c",
      "metadata": {
        "id": "c4503c4c",
        "outputId": "17d6899f-2498-4442-d4cc-3dab0018d418",
        "colab": {
          "base_uri": "https://localhost:8080/"
        }
      },
      "outputs": [
        {
          "output_type": "stream",
          "name": "stdout",
          "text": [
            "41545.79579971837\n",
            "480.5\n",
            "175160.91124294416\n",
            "30681485078.623425\n",
            "277.0\n",
            "240714.09375\n"
          ]
        }
      ],
      "source": [
        "s = FlowCal.io.FCSData('02-blank-G11-1.fcs')\n",
        "s\n",
        "\n",
        "s_fl1 = s[:, ['FL1-H']]\n",
        "s_fl1\n",
        "\n",
        "s_fl1 = s_fl1.tolist()\n",
        "s_fl1[0][0]\n",
        "\n",
        "proper_s_fl1 = []\n",
        "for i in range(len(s_fl1)):\n",
        "    proper_s_fl1.append(s_fl1[i][0])\n",
        "\n",
        "proper_s_fl1[:100]\n",
        "type(proper_s_fl1[:100])\n",
        "\n",
        "import statistics\n",
        "from statistics import stdev\n",
        "from fractions import Fraction as fr\n",
        "\n",
        "print(np.mean(proper_s_fl1))\n",
        "print(statistics.median(proper_s_fl1))\n",
        "print(np.std(proper_s_fl1))\n",
        "print(statistics.variance(proper_s_fl1))\n",
        "\n",
        "ordered= sorted(proper_s_fl1)\n",
        "i= round(len(ordered)*0.05)\n",
        "lower = ordered[i]\n",
        "i= round(len(ordered)*0.95)\n",
        "upper= ordered[i]\n",
        "\n",
        "print(lower)\n",
        "print(upper)\n"
      ]
    },
    {
      "cell_type": "code",
      "execution_count": 65,
      "id": "3ddf9835",
      "metadata": {
        "id": "3ddf9835",
        "outputId": "f3915701-ee5e-4e55-87f8-f67d2e1ceb28",
        "colab": {
          "base_uri": "https://localhost:8080/"
        }
      },
      "outputs": [
        {
          "output_type": "stream",
          "name": "stdout",
          "text": [
            "39328.223258943966\n",
            "498.79998779296875\n",
            "171677.35588097043\n",
            "29473187610.495075\n",
            "293.0\n",
            "159791.296875\n"
          ]
        }
      ],
      "source": [
        "s = FlowCal.io.FCSData('04-blank-G11-1.fcs')\n",
        "s\n",
        "\n",
        "s_fl1 = s[:, ['FL1-H']]\n",
        "s_fl1\n",
        "\n",
        "s_fl1 = s_fl1.tolist()\n",
        "s_fl1[0][0]\n",
        "\n",
        "proper_s_fl1 = []\n",
        "for i in range(len(s_fl1)):\n",
        "    proper_s_fl1.append(s_fl1[i][0])\n",
        "\n",
        "proper_s_fl1[:100]\n",
        "type(proper_s_fl1[:100])\n",
        "\n",
        "import statistics\n",
        "from statistics import stdev\n",
        "from fractions import Fraction as fr\n",
        "\n",
        "print(np.mean(proper_s_fl1))\n",
        "print(statistics.median(proper_s_fl1))\n",
        "print(np.std(proper_s_fl1))\n",
        "print(statistics.variance(proper_s_fl1))\n",
        "\n",
        "ordered= sorted(proper_s_fl1)\n",
        "i= round(len(ordered)*0.05)\n",
        "lower = ordered[i]\n",
        "i= round(len(ordered)*0.95)\n",
        "upper= ordered[i]\n",
        "\n",
        "print(lower)\n",
        "print(upper)\n"
      ]
    },
    {
      "cell_type": "code",
      "execution_count": 63,
      "id": "c88eab0f",
      "metadata": {
        "id": "c88eab0f",
        "outputId": "3e213fab-9c9f-4f33-d3cc-404b71f17484",
        "colab": {
          "base_uri": "https://localhost:8080/"
        }
      },
      "outputs": [
        {
          "output_type": "stream",
          "name": "stdout",
          "text": [
            "64908.28854694655\n",
            "488.8999938964844\n",
            "215029.17777904877\n",
            "46237687112.26316\n",
            "275.6000061035156\n",
            "541155.5\n"
          ]
        }
      ],
      "source": [
        "s = FlowCal.io.FCSData('02-blank-G11-2.fcs')\n",
        "s\n",
        "\n",
        "s_fl1 = s[:, ['FL1-H']]\n",
        "s_fl1\n",
        "\n",
        "s_fl1 = s_fl1.tolist()\n",
        "s_fl1[0][0]\n",
        "\n",
        "proper_s_fl1 = []\n",
        "for i in range(len(s_fl1)):\n",
        "    proper_s_fl1.append(s_fl1[i][0])\n",
        "\n",
        "proper_s_fl1[:100]\n",
        "type(proper_s_fl1[:100])\n",
        "\n",
        "import statistics\n",
        "from statistics import stdev\n",
        "from fractions import Fraction as fr\n",
        "\n",
        "print(np.mean(proper_s_fl1))\n",
        "print(statistics.median(proper_s_fl1))\n",
        "print(np.std(proper_s_fl1))\n",
        "print(statistics.variance(proper_s_fl1))\n",
        "\n",
        "ordered= sorted(proper_s_fl1)\n",
        "i= round(len(ordered)*0.05)\n",
        "lower = ordered[i]\n",
        "i= round(len(ordered)*0.95)\n",
        "upper= ordered[i]\n",
        "\n",
        "print(lower)\n",
        "print(upper)\n"
      ]
    },
    {
      "cell_type": "code",
      "execution_count": 64,
      "id": "642633ab",
      "metadata": {
        "id": "642633ab",
        "outputId": "f1be0b86-14c3-40a2-b656-e56491e082ec",
        "colab": {
          "base_uri": "https://localhost:8080/"
        }
      },
      "outputs": [
        {
          "output_type": "stream",
          "name": "stdout",
          "text": [
            "70108.12721345003\n",
            "499.29998779296875\n",
            "240882.32050475368\n",
            "58024483094.461044\n",
            "291.20001220703125\n",
            "618763.6875\n"
          ]
        }
      ],
      "source": [
        "s = FlowCal.io.FCSData('04-blank-G11-2.fcs')\n",
        "s\n",
        "\n",
        "s_fl1 = s[:, ['FL1-H']]\n",
        "s_fl1\n",
        "\n",
        "s_fl1 = s_fl1.tolist()\n",
        "s_fl1[0][0]\n",
        "\n",
        "proper_s_fl1 = []\n",
        "for i in range(len(s_fl1)):\n",
        "    proper_s_fl1.append(s_fl1[i][0])\n",
        "\n",
        "proper_s_fl1[:100]\n",
        "type(proper_s_fl1[:100])\n",
        "\n",
        "import statistics\n",
        "from statistics import stdev\n",
        "from fractions import Fraction as fr\n",
        "\n",
        "print(np.mean(proper_s_fl1))\n",
        "print(statistics.median(proper_s_fl1))\n",
        "print(np.std(proper_s_fl1))\n",
        "print(statistics.variance(proper_s_fl1))\n",
        "\n",
        "ordered= sorted(proper_s_fl1)\n",
        "i= round(len(ordered)*0.05)\n",
        "lower = ordered[i]\n",
        "i= round(len(ordered)*0.95)\n",
        "upper= ordered[i]\n",
        "\n",
        "print(lower)\n",
        "print(upper)\n"
      ]
    },
    {
      "cell_type": "code",
      "execution_count": 66,
      "id": "7bcd1968",
      "metadata": {
        "id": "7bcd1968",
        "outputId": "474adf4a-6db4-406b-f782-2fc8864b1d56",
        "colab": {
          "base_uri": "https://localhost:8080/"
        }
      },
      "outputs": [
        {
          "output_type": "stream",
          "name": "stdout",
          "text": [
            "276040.60133958707\n",
            "241354.3984375\n",
            "292181.3154207612\n",
            "85370108117.32272\n",
            "424.70001220703125\n",
            "810345.3125\n"
          ]
        }
      ],
      "source": [
        "s = FlowCal.io.FCSData('02-blank-G11-3.fcs')\n",
        "s\n",
        "\n",
        "s_fl1 = s[:, ['FL1-H']]\n",
        "s_fl1\n",
        "\n",
        "s_fl1 = s_fl1.tolist()\n",
        "s_fl1[0][0]\n",
        "\n",
        "proper_s_fl1 = []\n",
        "for i in range(len(s_fl1)):\n",
        "    proper_s_fl1.append(s_fl1[i][0])\n",
        "\n",
        "proper_s_fl1[:100]\n",
        "type(proper_s_fl1[:100])\n",
        "\n",
        "import statistics\n",
        "from statistics import stdev\n",
        "from fractions import Fraction as fr\n",
        "\n",
        "print(np.mean(proper_s_fl1))\n",
        "print(statistics.median(proper_s_fl1))\n",
        "print(np.std(proper_s_fl1))\n",
        "print(statistics.variance(proper_s_fl1))\n",
        "\n",
        "ordered= sorted(proper_s_fl1)\n",
        "i= round(len(ordered)*0.05)\n",
        "lower = ordered[i]\n",
        "i= round(len(ordered)*0.95)\n",
        "upper= ordered[i]\n",
        "\n",
        "print(lower)\n",
        "print(upper)\n"
      ]
    },
    {
      "cell_type": "code",
      "execution_count": 70,
      "id": "0b6aaa17",
      "metadata": {
        "id": "0b6aaa17",
        "outputId": "535d09ab-233e-40cc-a868-0b4e827d4ebe",
        "colab": {
          "base_uri": "https://localhost:8080/"
        }
      },
      "outputs": [
        {
          "output_type": "stream",
          "name": "stdout",
          "text": [
            "276168.9334171477\n",
            "250785.09375\n",
            "284689.2293723563\n",
            "81048131129.52228\n",
            "477.70001220703125\n",
            "805243.3125\n"
          ]
        }
      ],
      "source": [
        "s = FlowCal.io.FCSData('04-blank-G11-3.fcs')\n",
        "s\n",
        "\n",
        "s_fl1 = s[:, ['FL1-H']]\n",
        "s_fl1\n",
        "\n",
        "s_fl1 = s_fl1.tolist()\n",
        "s_fl1[0][0]\n",
        "\n",
        "proper_s_fl1 = []\n",
        "for i in range(len(s_fl1)):\n",
        "    proper_s_fl1.append(s_fl1[i][0])\n",
        "\n",
        "proper_s_fl1[:100]\n",
        "type(proper_s_fl1[:100])\n",
        "\n",
        "import statistics\n",
        "from statistics import stdev\n",
        "from fractions import Fraction as fr\n",
        "\n",
        "print(np.mean(proper_s_fl1))\n",
        "print(statistics.median(proper_s_fl1))\n",
        "print(np.std(proper_s_fl1))\n",
        "print(statistics.variance(proper_s_fl1))\n",
        "\n",
        "ordered= sorted(proper_s_fl1)\n",
        "i= round(len(ordered)*0.05)\n",
        "lower = ordered[i]\n",
        "i= round(len(ordered)*0.95)\n",
        "upper= ordered[i]\n",
        "\n",
        "print(lower)\n",
        "print(upper)\n"
      ]
    },
    {
      "cell_type": "code",
      "execution_count": 68,
      "id": "edbfb355",
      "metadata": {
        "id": "edbfb355",
        "outputId": "699bd7a2-71cc-46d1-ef38-0bd90090cf5c",
        "colab": {
          "base_uri": "https://localhost:8080/"
        }
      },
      "outputs": [
        {
          "output_type": "stream",
          "name": "stdout",
          "text": [
            "174549.3467418337\n",
            "151161.59375\n",
            "180096.01253814308\n",
            "32434646531.135567\n",
            "429.70001220703125\n",
            "495504.09375\n"
          ]
        }
      ],
      "source": [
        "s = FlowCal.io.FCSData('02-blank-G11-4.fcs')\n",
        "s\n",
        "\n",
        "s_fl1 = s[:, ['FL1-H']]\n",
        "s_fl1\n",
        "\n",
        "s_fl1 = s_fl1.tolist()\n",
        "s_fl1[0][0]\n",
        "\n",
        "proper_s_fl1 = []\n",
        "for i in range(len(s_fl1)):\n",
        "    proper_s_fl1.append(s_fl1[i][0])\n",
        "\n",
        "proper_s_fl1[:100]\n",
        "type(proper_s_fl1[:100])\n",
        "\n",
        "import statistics\n",
        "from statistics import stdev\n",
        "from fractions import Fraction as fr\n",
        "\n",
        "print(np.mean(proper_s_fl1))\n",
        "print(statistics.median(proper_s_fl1))\n",
        "print(np.std(proper_s_fl1))\n",
        "print(statistics.variance(proper_s_fl1))\n",
        "\n",
        "ordered= sorted(proper_s_fl1)\n",
        "i= round(len(ordered)*0.05)\n",
        "lower = ordered[i]\n",
        "i= round(len(ordered)*0.95)\n",
        "upper= ordered[i]\n",
        "\n",
        "print(lower)\n",
        "print(upper)\n"
      ]
    },
    {
      "cell_type": "code",
      "execution_count": 69,
      "id": "b27159bc",
      "metadata": {
        "id": "b27159bc",
        "outputId": "3abf5b50-d39e-46e3-ffd0-befb01dfa169",
        "colab": {
          "base_uri": "https://localhost:8080/"
        }
      },
      "outputs": [
        {
          "output_type": "stream",
          "name": "stdout",
          "text": [
            "235123.2334382803\n",
            "198323.796875\n",
            "263610.2417594159\n",
            "69490606191.82066\n",
            "446.8999938964844\n",
            "733793.875\n"
          ]
        }
      ],
      "source": [
        "s = FlowCal.io.FCSData('04-blank-G11-4.fcs')\n",
        "s\n",
        "\n",
        "s_fl1 = s[:, ['FL1-H']]\n",
        "s_fl1\n",
        "\n",
        "s_fl1 = s_fl1.tolist()\n",
        "s_fl1[0][0]\n",
        "\n",
        "proper_s_fl1 = []\n",
        "for i in range(len(s_fl1)):\n",
        "    proper_s_fl1.append(s_fl1[i][0])\n",
        "\n",
        "proper_s_fl1[:100]\n",
        "type(proper_s_fl1[:100])\n",
        "\n",
        "import statistics\n",
        "from statistics import stdev\n",
        "from fractions import Fraction as fr\n",
        "\n",
        "print(np.mean(proper_s_fl1))\n",
        "print(statistics.median(proper_s_fl1))\n",
        "print(np.std(proper_s_fl1))\n",
        "print(statistics.variance(proper_s_fl1))\n",
        "\n",
        "ordered= sorted(proper_s_fl1)\n",
        "i= round(len(ordered)*0.05)\n",
        "lower = ordered[i]\n",
        "i= round(len(ordered)*0.95)\n",
        "upper= ordered[i]\n",
        "\n",
        "print(lower)\n",
        "print(upper)\n"
      ]
    },
    {
      "cell_type": "code",
      "execution_count": null,
      "id": "e38d3dfd",
      "metadata": {
        "id": "e38d3dfd"
      },
      "outputs": [],
      "source": []
    }
  ],
  "metadata": {
    "kernelspec": {
      "display_name": "Python 3",
      "language": "python",
      "name": "python3"
    },
    "language_info": {
      "codemirror_mode": {
        "name": "ipython",
        "version": 3
      },
      "file_extension": ".py",
      "mimetype": "text/x-python",
      "name": "python",
      "nbconvert_exporter": "python",
      "pygments_lexer": "ipython3",
      "version": "3.8.3"
    },
    "colab": {
      "provenance": []
    }
  },
  "nbformat": 4,
  "nbformat_minor": 5
}